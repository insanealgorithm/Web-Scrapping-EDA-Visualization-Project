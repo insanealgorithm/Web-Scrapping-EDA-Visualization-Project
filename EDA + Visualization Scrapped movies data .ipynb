{
 "cells": [
  {
   "cell_type": "code",
   "execution_count": 87,
   "id": "20cc2896",
   "metadata": {},
   "outputs": [],
   "source": [
    "#importing libraries\n",
    "import pandas as pd\n",
    "import numpy as np\n",
    "import matplotlib.pyplot as plt\n",
    "import seaborn as sns\n",
    "import plotly as pl\n",
    "import plotly.graph_objects as go\n",
    "import plotly.express as px\n",
    "import time"
   ]
  },
  {
   "cell_type": "code",
   "execution_count": 291,
   "id": "d2996158",
   "metadata": {},
   "outputs": [
    {
     "data": {
      "text/html": [
       "<div>\n",
       "<style scoped>\n",
       "    .dataframe tbody tr th:only-of-type {\n",
       "        vertical-align: middle;\n",
       "    }\n",
       "\n",
       "    .dataframe tbody tr th {\n",
       "        vertical-align: top;\n",
       "    }\n",
       "\n",
       "    .dataframe thead th {\n",
       "        text-align: right;\n",
       "    }\n",
       "</style>\n",
       "<table border=\"1\" class=\"dataframe\">\n",
       "  <thead>\n",
       "    <tr style=\"text-align: right;\">\n",
       "      <th></th>\n",
       "      <th>Name</th>\n",
       "      <th>Rating</th>\n",
       "      <th>Genre</th>\n",
       "      <th>Release date</th>\n",
       "      <th>Runtime</th>\n",
       "      <th>Director</th>\n",
       "      <th>Budget ($)</th>\n",
       "      <th>Revenue ($)</th>\n",
       "      <th>Url</th>\n",
       "    </tr>\n",
       "  </thead>\n",
       "  <tbody>\n",
       "    <tr>\n",
       "      <th>0</th>\n",
       "      <td>Shang-Chi and the Legend of the Ten Rings</td>\n",
       "      <td>79.0</td>\n",
       "      <td>Action,Adventure,Fantasy</td>\n",
       "      <td>09/03/2021 (IN)</td>\n",
       "      <td>2h 12m</td>\n",
       "      <td>Destin Daniel Cretton</td>\n",
       "      <td>$150,000,000.00</td>\n",
       "      <td>$430,238,384.00</td>\n",
       "      <td>https://www.themoviedb.org//movie/566525</td>\n",
       "    </tr>\n",
       "    <tr>\n",
       "      <th>1</th>\n",
       "      <td>Snake Eyes: G.I. Joe Origins</td>\n",
       "      <td>68.0</td>\n",
       "      <td>Action,Adventure</td>\n",
       "      <td>07/23/2021 (US)</td>\n",
       "      <td>2h 1m</td>\n",
       "      <td>Evan Spiliotopoulos</td>\n",
       "      <td>$88,000,000.00</td>\n",
       "      <td>$36,964,325.00</td>\n",
       "      <td>https://www.themoviedb.org//movie/568620</td>\n",
       "    </tr>\n",
       "    <tr>\n",
       "      <th>2</th>\n",
       "      <td>Jungle Cruise</td>\n",
       "      <td>77.0</td>\n",
       "      <td>Adventure,Fantasy,Comedy,Action</td>\n",
       "      <td>09/24/2021 (IN)</td>\n",
       "      <td>2h 7m</td>\n",
       "      <td>Jaume Collet-Serra</td>\n",
       "      <td>$200,000,000.00</td>\n",
       "      <td>$213,644,366.00</td>\n",
       "      <td>https://www.themoviedb.org//movie/451048</td>\n",
       "    </tr>\n",
       "    <tr>\n",
       "      <th>3</th>\n",
       "      <td>Separation</td>\n",
       "      <td>59.0</td>\n",
       "      <td>Horror</td>\n",
       "      <td>04/30/2021 (US)</td>\n",
       "      <td>1h 47m</td>\n",
       "      <td>William Brent Bell</td>\n",
       "      <td>-</td>\n",
       "      <td>-</td>\n",
       "      <td>https://www.themoviedb.org//movie/760195</td>\n",
       "    </tr>\n",
       "    <tr>\n",
       "      <th>4</th>\n",
       "      <td>Demonic</td>\n",
       "      <td>49.0</td>\n",
       "      <td>Horror,Thriller</td>\n",
       "      <td>08/20/2021 (US)</td>\n",
       "      <td>1h 44m</td>\n",
       "      <td>Neill Blomkamp</td>\n",
       "      <td>-</td>\n",
       "      <td>-</td>\n",
       "      <td>https://www.themoviedb.org//movie/774021</td>\n",
       "    </tr>\n",
       "    <tr>\n",
       "      <th>...</th>\n",
       "      <td>...</td>\n",
       "      <td>...</td>\n",
       "      <td>...</td>\n",
       "      <td>...</td>\n",
       "      <td>...</td>\n",
       "      <td>...</td>\n",
       "      <td>...</td>\n",
       "      <td>...</td>\n",
       "      <td>...</td>\n",
       "    </tr>\n",
       "    <tr>\n",
       "      <th>145</th>\n",
       "      <td>Superman</td>\n",
       "      <td>71.0</td>\n",
       "      <td>Science Fiction,Action,Adventure</td>\n",
       "      <td>12/14/1978 (US)</td>\n",
       "      <td>2h 23m</td>\n",
       "      <td>Mario Puzo</td>\n",
       "      <td>$55,000,000.00</td>\n",
       "      <td>$300,218,018.00</td>\n",
       "      <td>https://www.themoviedb.org//movie/1924</td>\n",
       "    </tr>\n",
       "    <tr>\n",
       "      <th>146</th>\n",
       "      <td>Step Up Revolution</td>\n",
       "      <td>69.0</td>\n",
       "      <td>Music,Drama,Romance</td>\n",
       "      <td>07/27/2012 (US)</td>\n",
       "      <td>1h 39m</td>\n",
       "      <td>Scott Speer</td>\n",
       "      <td>$33,000,000.00</td>\n",
       "      <td>$140,470,746.00</td>\n",
       "      <td>https://www.themoviedb.org//movie/85446</td>\n",
       "    </tr>\n",
       "    <tr>\n",
       "      <th>147</th>\n",
       "      <td>[REC]³ Genesis</td>\n",
       "      <td>52.0</td>\n",
       "      <td>Horror</td>\n",
       "      <td>09/07/2012 (US)</td>\n",
       "      <td>1h 20m</td>\n",
       "      <td>Paco Plaza</td>\n",
       "      <td>Language</td>\n",
       "      <td>$6,400,000.00</td>\n",
       "      <td>https://www.themoviedb.org//movie/80280</td>\n",
       "    </tr>\n",
       "    <tr>\n",
       "      <th>148</th>\n",
       "      <td>Mad Max Beyond Thunderdome</td>\n",
       "      <td>62.0</td>\n",
       "      <td>Action,Adventure,Science Fiction</td>\n",
       "      <td>07/08/1985 (US)</td>\n",
       "      <td>1h 47m</td>\n",
       "      <td>George Miller</td>\n",
       "      <td>$10,000,000.00</td>\n",
       "      <td>$36,230,219.00</td>\n",
       "      <td>https://www.themoviedb.org//movie/9355</td>\n",
       "    </tr>\n",
       "    <tr>\n",
       "      <th>149</th>\n",
       "      <td>Cats &amp; Dogs: The Revenge of Kitty Galore</td>\n",
       "      <td>52.0</td>\n",
       "      <td>Comedy,Family,Action,Fantasy,Adventure,Mystery</td>\n",
       "      <td>07/30/2010 (US)</td>\n",
       "      <td>1h 22m</td>\n",
       "      <td>Brad Peyton</td>\n",
       "      <td>$85,000,000.00</td>\n",
       "      <td>$112,483,764.00</td>\n",
       "      <td>https://www.themoviedb.org//movie/39691</td>\n",
       "    </tr>\n",
       "  </tbody>\n",
       "</table>\n",
       "<p>150 rows × 9 columns</p>\n",
       "</div>"
      ],
      "text/plain": [
       "                                          Name  Rating  \\\n",
       "0    Shang-Chi and the Legend of the Ten Rings    79.0   \n",
       "1                 Snake Eyes: G.I. Joe Origins    68.0   \n",
       "2                                Jungle Cruise    77.0   \n",
       "3                                   Separation    59.0   \n",
       "4                                      Demonic    49.0   \n",
       "..                                         ...     ...   \n",
       "145                                   Superman    71.0   \n",
       "146                         Step Up Revolution    69.0   \n",
       "147                             [REC]³ Genesis    52.0   \n",
       "148                 Mad Max Beyond Thunderdome    62.0   \n",
       "149   Cats & Dogs: The Revenge of Kitty Galore    52.0   \n",
       "\n",
       "                                              Genre     Release date Runtime  \\\n",
       "0                          Action,Adventure,Fantasy  09/03/2021 (IN)  2h 12m   \n",
       "1                                  Action,Adventure  07/23/2021 (US)   2h 1m   \n",
       "2                   Adventure,Fantasy,Comedy,Action  09/24/2021 (IN)   2h 7m   \n",
       "3                                            Horror  04/30/2021 (US)  1h 47m   \n",
       "4                                   Horror,Thriller  08/20/2021 (US)  1h 44m   \n",
       "..                                              ...              ...     ...   \n",
       "145                Science Fiction,Action,Adventure  12/14/1978 (US)  2h 23m   \n",
       "146                             Music,Drama,Romance  07/27/2012 (US)  1h 39m   \n",
       "147                                          Horror  09/07/2012 (US)  1h 20m   \n",
       "148                Action,Adventure,Science Fiction  07/08/1985 (US)  1h 47m   \n",
       "149  Comedy,Family,Action,Fantasy,Adventure,Mystery  07/30/2010 (US)  1h 22m   \n",
       "\n",
       "                  Director       Budget ($)     Revenue ($)   \\\n",
       "0    Destin Daniel Cretton  $150,000,000.00  $430,238,384.00   \n",
       "1      Evan Spiliotopoulos   $88,000,000.00   $36,964,325.00   \n",
       "2       Jaume Collet-Serra  $200,000,000.00  $213,644,366.00   \n",
       "3       William Brent Bell                -                -   \n",
       "4           Neill Blomkamp                -                -   \n",
       "..                     ...              ...              ...   \n",
       "145             Mario Puzo   $55,000,000.00  $300,218,018.00   \n",
       "146            Scott Speer   $33,000,000.00  $140,470,746.00   \n",
       "147             Paco Plaza         Language    $6,400,000.00   \n",
       "148          George Miller   $10,000,000.00   $36,230,219.00   \n",
       "149            Brad Peyton   $85,000,000.00  $112,483,764.00   \n",
       "\n",
       "                                          Url  \n",
       "0    https://www.themoviedb.org//movie/566525  \n",
       "1    https://www.themoviedb.org//movie/568620  \n",
       "2    https://www.themoviedb.org//movie/451048  \n",
       "3    https://www.themoviedb.org//movie/760195  \n",
       "4    https://www.themoviedb.org//movie/774021  \n",
       "..                                        ...  \n",
       "145    https://www.themoviedb.org//movie/1924  \n",
       "146   https://www.themoviedb.org//movie/85446  \n",
       "147   https://www.themoviedb.org//movie/80280  \n",
       "148    https://www.themoviedb.org//movie/9355  \n",
       "149   https://www.themoviedb.org//movie/39691  \n",
       "\n",
       "[150 rows x 9 columns]"
      ]
     },
     "execution_count": 291,
     "metadata": {},
     "output_type": "execute_result"
    }
   ],
   "source": [
    "#reading scrapped data csv file\n",
    "movies_df = pd.read_csv('Movies scrapped data.csv')\n",
    "movies_df"
   ]
  },
  {
   "cell_type": "code",
   "execution_count": 4,
   "id": "047d181c",
   "metadata": {},
   "outputs": [
    {
     "data": {
      "text/plain": [
       "Index(['Name', 'Rating', 'Genre', 'Release date', 'Runtime', 'Director',\n",
       "       'Budget ($)', 'Revenue ($) ', 'Url'],\n",
       "      dtype='object')"
      ]
     },
     "execution_count": 4,
     "metadata": {},
     "output_type": "execute_result"
    }
   ],
   "source": [
    "#all columns list\n",
    "movies_df.columns"
   ]
  },
  {
   "cell_type": "code",
   "execution_count": 5,
   "id": "a2d17887",
   "metadata": {},
   "outputs": [
    {
     "data": {
      "text/html": [
       "<div>\n",
       "<style scoped>\n",
       "    .dataframe tbody tr th:only-of-type {\n",
       "        vertical-align: middle;\n",
       "    }\n",
       "\n",
       "    .dataframe tbody tr th {\n",
       "        vertical-align: top;\n",
       "    }\n",
       "\n",
       "    .dataframe thead th {\n",
       "        text-align: right;\n",
       "    }\n",
       "</style>\n",
       "<table border=\"1\" class=\"dataframe\">\n",
       "  <thead>\n",
       "    <tr style=\"text-align: right;\">\n",
       "      <th></th>\n",
       "      <th>Name</th>\n",
       "      <th>Rating</th>\n",
       "      <th>Genre</th>\n",
       "      <th>Release date</th>\n",
       "      <th>Runtime</th>\n",
       "      <th>Director</th>\n",
       "      <th>Budget ($)</th>\n",
       "      <th>Revenue ($)</th>\n",
       "      <th>Url</th>\n",
       "    </tr>\n",
       "  </thead>\n",
       "  <tbody>\n",
       "    <tr>\n",
       "      <th>0</th>\n",
       "      <td>Shang-Chi and the Legend of the Ten Rings</td>\n",
       "      <td>79.0</td>\n",
       "      <td>Action,Adventure,Fantasy</td>\n",
       "      <td>09/03/2021 (IN)</td>\n",
       "      <td>2h 12m</td>\n",
       "      <td>Destin Daniel Cretton</td>\n",
       "      <td>$150,000,000.00</td>\n",
       "      <td>$430,238,384.00</td>\n",
       "      <td>https://www.themoviedb.org//movie/566525</td>\n",
       "    </tr>\n",
       "    <tr>\n",
       "      <th>1</th>\n",
       "      <td>Snake Eyes: G.I. Joe Origins</td>\n",
       "      <td>68.0</td>\n",
       "      <td>Action,Adventure</td>\n",
       "      <td>07/23/2021 (US)</td>\n",
       "      <td>2h 1m</td>\n",
       "      <td>Evan Spiliotopoulos</td>\n",
       "      <td>$88,000,000.00</td>\n",
       "      <td>$36,964,325.00</td>\n",
       "      <td>https://www.themoviedb.org//movie/568620</td>\n",
       "    </tr>\n",
       "    <tr>\n",
       "      <th>2</th>\n",
       "      <td>Jungle Cruise</td>\n",
       "      <td>77.0</td>\n",
       "      <td>Adventure,Fantasy,Comedy,Action</td>\n",
       "      <td>09/24/2021 (IN)</td>\n",
       "      <td>2h 7m</td>\n",
       "      <td>Jaume Collet-Serra</td>\n",
       "      <td>$200,000,000.00</td>\n",
       "      <td>$213,644,366.00</td>\n",
       "      <td>https://www.themoviedb.org//movie/451048</td>\n",
       "    </tr>\n",
       "    <tr>\n",
       "      <th>3</th>\n",
       "      <td>Separation</td>\n",
       "      <td>59.0</td>\n",
       "      <td>Horror</td>\n",
       "      <td>04/30/2021 (US)</td>\n",
       "      <td>1h 47m</td>\n",
       "      <td>William Brent Bell</td>\n",
       "      <td>-</td>\n",
       "      <td>-</td>\n",
       "      <td>https://www.themoviedb.org//movie/760195</td>\n",
       "    </tr>\n",
       "    <tr>\n",
       "      <th>4</th>\n",
       "      <td>Demonic</td>\n",
       "      <td>49.0</td>\n",
       "      <td>Horror,Thriller</td>\n",
       "      <td>08/20/2021 (US)</td>\n",
       "      <td>1h 44m</td>\n",
       "      <td>Neill Blomkamp</td>\n",
       "      <td>-</td>\n",
       "      <td>-</td>\n",
       "      <td>https://www.themoviedb.org//movie/774021</td>\n",
       "    </tr>\n",
       "    <tr>\n",
       "      <th>5</th>\n",
       "      <td>Straight Outta Nowhere: Scooby-Doo! Meets Cour...</td>\n",
       "      <td>83.0</td>\n",
       "      <td>Animation,Comedy,Mystery,Family,Fantasy</td>\n",
       "      <td>09/14/2021 (US)</td>\n",
       "      <td>1h 12m</td>\n",
       "      <td>Joseph Barbera</td>\n",
       "      <td>-</td>\n",
       "      <td>-</td>\n",
       "      <td>https://www.themoviedb.org//movie/843906</td>\n",
       "    </tr>\n",
       "    <tr>\n",
       "      <th>6</th>\n",
       "      <td>Harry Potter and the Chamber of Secrets</td>\n",
       "      <td>77.0</td>\n",
       "      <td>Adventure,Fantasy</td>\n",
       "      <td>04/25/2003 (IN)</td>\n",
       "      <td>2h 41m</td>\n",
       "      <td>Chris Columbus</td>\n",
       "      <td>$100,000,000.00</td>\n",
       "      <td>$876,688,482.00</td>\n",
       "      <td>https://www.themoviedb.org//movie/672</td>\n",
       "    </tr>\n",
       "    <tr>\n",
       "      <th>7</th>\n",
       "      <td>After</td>\n",
       "      <td>72.0</td>\n",
       "      <td>Romance,Drama</td>\n",
       "      <td>04/12/2019 (US)</td>\n",
       "      <td>1h 46m</td>\n",
       "      <td>Jenny Gage</td>\n",
       "      <td>$14,000,000.00</td>\n",
       "      <td>$69,497,587.00</td>\n",
       "      <td>https://www.themoviedb.org//movie/537915</td>\n",
       "    </tr>\n",
       "    <tr>\n",
       "      <th>8</th>\n",
       "      <td>My Hero Academia: Two Heroes</td>\n",
       "      <td>80.0</td>\n",
       "      <td>Animation,Action,Adventure,Fantasy</td>\n",
       "      <td>09/25/2018 (US)</td>\n",
       "      <td>1h 36m</td>\n",
       "      <td>Kohei Horikoshi</td>\n",
       "      <td>Language</td>\n",
       "      <td>$12,000,000.00</td>\n",
       "      <td>https://www.themoviedb.org//movie/505262</td>\n",
       "    </tr>\n",
       "    <tr>\n",
       "      <th>9</th>\n",
       "      <td>The Courier</td>\n",
       "      <td>72.0</td>\n",
       "      <td>Thriller,History,Drama</td>\n",
       "      <td>03/19/2021 (US)</td>\n",
       "      <td>1h 52m</td>\n",
       "      <td>Dominic Cooke</td>\n",
       "      <td>-</td>\n",
       "      <td>$24,901,420.00</td>\n",
       "      <td>https://www.themoviedb.org//movie/522241</td>\n",
       "    </tr>\n",
       "  </tbody>\n",
       "</table>\n",
       "</div>"
      ],
      "text/plain": [
       "                                                Name  Rating  \\\n",
       "0          Shang-Chi and the Legend of the Ten Rings    79.0   \n",
       "1                       Snake Eyes: G.I. Joe Origins    68.0   \n",
       "2                                      Jungle Cruise    77.0   \n",
       "3                                         Separation    59.0   \n",
       "4                                            Demonic    49.0   \n",
       "5  Straight Outta Nowhere: Scooby-Doo! Meets Cour...    83.0   \n",
       "6            Harry Potter and the Chamber of Secrets    77.0   \n",
       "7                                              After    72.0   \n",
       "8                       My Hero Academia: Two Heroes    80.0   \n",
       "9                                        The Courier    72.0   \n",
       "\n",
       "                                     Genre     Release date Runtime  \\\n",
       "0                 Action,Adventure,Fantasy  09/03/2021 (IN)  2h 12m   \n",
       "1                         Action,Adventure  07/23/2021 (US)   2h 1m   \n",
       "2          Adventure,Fantasy,Comedy,Action  09/24/2021 (IN)   2h 7m   \n",
       "3                                   Horror  04/30/2021 (US)  1h 47m   \n",
       "4                          Horror,Thriller  08/20/2021 (US)  1h 44m   \n",
       "5  Animation,Comedy,Mystery,Family,Fantasy  09/14/2021 (US)  1h 12m   \n",
       "6                        Adventure,Fantasy  04/25/2003 (IN)  2h 41m   \n",
       "7                            Romance,Drama  04/12/2019 (US)  1h 46m   \n",
       "8       Animation,Action,Adventure,Fantasy  09/25/2018 (US)  1h 36m   \n",
       "9                   Thriller,History,Drama  03/19/2021 (US)  1h 52m   \n",
       "\n",
       "                Director       Budget ($)     Revenue ($)   \\\n",
       "0  Destin Daniel Cretton  $150,000,000.00  $430,238,384.00   \n",
       "1    Evan Spiliotopoulos   $88,000,000.00   $36,964,325.00   \n",
       "2     Jaume Collet-Serra  $200,000,000.00  $213,644,366.00   \n",
       "3     William Brent Bell                -                -   \n",
       "4         Neill Blomkamp                -                -   \n",
       "5         Joseph Barbera                -                -   \n",
       "6         Chris Columbus  $100,000,000.00  $876,688,482.00   \n",
       "7             Jenny Gage   $14,000,000.00   $69,497,587.00   \n",
       "8        Kohei Horikoshi         Language   $12,000,000.00   \n",
       "9          Dominic Cooke                -   $24,901,420.00   \n",
       "\n",
       "                                        Url  \n",
       "0  https://www.themoviedb.org//movie/566525  \n",
       "1  https://www.themoviedb.org//movie/568620  \n",
       "2  https://www.themoviedb.org//movie/451048  \n",
       "3  https://www.themoviedb.org//movie/760195  \n",
       "4  https://www.themoviedb.org//movie/774021  \n",
       "5  https://www.themoviedb.org//movie/843906  \n",
       "6     https://www.themoviedb.org//movie/672  \n",
       "7  https://www.themoviedb.org//movie/537915  \n",
       "8  https://www.themoviedb.org//movie/505262  \n",
       "9  https://www.themoviedb.org//movie/522241  "
      ]
     },
     "execution_count": 5,
     "metadata": {},
     "output_type": "execute_result"
    }
   ],
   "source": [
    "#first 10 movies from list\n",
    "movies_df.head(10)\n"
   ]
  },
  {
   "cell_type": "code",
   "execution_count": 6,
   "id": "8ad5bb37",
   "metadata": {},
   "outputs": [
    {
     "data": {
      "text/plain": [
       "0      $150,000,000.00\n",
       "1       $88,000,000.00\n",
       "2      $200,000,000.00\n",
       "3                    -\n",
       "4                    -\n",
       "            ...       \n",
       "145     $55,000,000.00\n",
       "146     $33,000,000.00\n",
       "147           Language\n",
       "148     $10,000,000.00\n",
       "149     $85,000,000.00\n",
       "Name: Budget ($), Length: 150, dtype: object"
      ]
     },
     "execution_count": 6,
     "metadata": {},
     "output_type": "execute_result"
    }
   ],
   "source": [
    "movies_df['Budget ($)']"
   ]
  },
  {
   "cell_type": "code",
   "execution_count": 7,
   "id": "25b985e4",
   "metadata": {},
   "outputs": [
    {
     "data": {
      "text/plain": [
       "-                  41\n",
       "Language           24\n",
       "$40,000,000.00      5\n",
       "$10,000,000.00      5\n",
       "$80,000,000.00      5\n",
       "$15,000,000.00      4\n",
       "$150,000,000.00     3\n",
       "$30,000,000.00      3\n",
       "$35,000,000.00      3\n",
       "$90,000,000.00      3\n",
       "$110,000,000.00     2\n",
       "$11,000,000.00      2\n",
       "$5,000,000.00       2\n",
       "$88,000,000.00      2\n",
       "$60,000,000.00      2\n",
       "$20,000,000.00      2\n",
       "$55,000,000.00      2\n",
       "$115,000,000.00     1\n",
       "$180,000,000.00     1\n",
       "$52,000,000.00      1\n",
       "$2,200,000.00       1\n",
       "$13,000,000.00      1\n",
       "$54,000,000.00      1\n",
       "$82,343,495.00      1\n",
       "$84,000,000.00      1\n",
       "$170,000,000.00     1\n",
       "$1,488,423.00       1\n",
       "$4,800,000.00       1\n",
       "$33,000,000.00      1\n",
       "$24,000,000.00      1\n",
       "$61,000,000.00      1\n",
       "$225,000,000.00     1\n",
       "$185,000,000.00     1\n",
       "$3,700,000.00       1\n",
       "$75,000,000.00      1\n",
       "$39,000,000.00      1\n",
       "$12,600,000.00      1\n",
       "$95,000,000.00      1\n",
       "$43,000,000.00      1\n",
       "$70,000,000.00      1\n",
       "$21,000,000.00      1\n",
       "$160,000,000.00     1\n",
       "$92,000,000.00      1\n",
       "$12,000,000.00      1\n",
       "$85,000,000.00      1\n",
       "$200,000,000.00     1\n",
       "$100,000,000.00     1\n",
       "$2,600,000.00       1\n",
       "$19,000,000.00      1\n",
       "$900,000.00         1\n",
       "$4,500,000.00       1\n",
       "$42,000,000.00      1\n",
       "$14,000,000.00      1\n",
       "$32,000,000.00      1\n",
       "$175,000,000.00     1\n",
       "$48,000,000.00      1\n",
       "$69,000,000.00      1\n",
       "Name: Budget ($), dtype: int64"
      ]
     },
     "execution_count": 7,
     "metadata": {},
     "output_type": "execute_result"
    }
   ],
   "source": [
    "movies_df['Budget ($)'].value_counts()"
   ]
  },
  {
   "cell_type": "code",
   "execution_count": 8,
   "id": "646a333d",
   "metadata": {},
   "outputs": [],
   "source": [
    "#Replacing unnecessary values from Budget & Revenue column\n",
    "\n",
    "movies_df['Budget ($)'].replace(to_replace = ['Language','-'], value =np.nan, inplace=True)\n"
   ]
  },
  {
   "cell_type": "code",
   "execution_count": 9,
   "id": "62432133",
   "metadata": {},
   "outputs": [
    {
     "data": {
      "text/plain": [
       "$40,000,000.00     5\n",
       "$80,000,000.00     5\n",
       "$10,000,000.00     5\n",
       "$15,000,000.00     4\n",
       "$150,000,000.00    3\n",
       "$30,000,000.00     3\n",
       "$90,000,000.00     3\n",
       "$35,000,000.00     3\n",
       "$11,000,000.00     2\n",
       "$5,000,000.00      2\n",
       "$88,000,000.00     2\n",
       "$60,000,000.00     2\n",
       "$20,000,000.00     2\n",
       "$55,000,000.00     2\n",
       "$110,000,000.00    2\n",
       "$180,000,000.00    1\n",
       "$115,000,000.00    1\n",
       "$185,000,000.00    1\n",
       "$52,000,000.00     1\n",
       "$13,000,000.00     1\n",
       "$175,000,000.00    1\n",
       "$82,343,495.00     1\n",
       "$84,000,000.00     1\n",
       "$170,000,000.00    1\n",
       "$225,000,000.00    1\n",
       "$33,000,000.00     1\n",
       "$24,000,000.00     1\n",
       "$61,000,000.00     1\n",
       "$2,200,000.00      1\n",
       "$54,000,000.00     1\n",
       "$4,800,000.00      1\n",
       "$48,000,000.00     1\n",
       "$1,488,423.00      1\n",
       "$200,000,000.00    1\n",
       "$95,000,000.00     1\n",
       "$43,000,000.00     1\n",
       "$70,000,000.00     1\n",
       "$21,000,000.00     1\n",
       "$160,000,000.00    1\n",
       "$92,000,000.00     1\n",
       "$12,000,000.00     1\n",
       "$85,000,000.00     1\n",
       "$39,000,000.00     1\n",
       "$2,600,000.00      1\n",
       "$75,000,000.00     1\n",
       "$19,000,000.00     1\n",
       "$900,000.00        1\n",
       "$4,500,000.00      1\n",
       "$42,000,000.00     1\n",
       "$14,000,000.00     1\n",
       "$32,000,000.00     1\n",
       "$3,700,000.00      1\n",
       "$12,600,000.00     1\n",
       "$100,000,000.00    1\n",
       "$69,000,000.00     1\n",
       "Name: Budget ($), dtype: int64"
      ]
     },
     "execution_count": 9,
     "metadata": {},
     "output_type": "execute_result"
    }
   ],
   "source": [
    "movies_df['Budget ($)'].value_counts()"
   ]
  },
  {
   "cell_type": "code",
   "execution_count": 10,
   "id": "322277b6",
   "metadata": {},
   "outputs": [
    {
     "data": {
      "text/plain": [
       "-                  54\n",
       "$457,731,198.00     2\n",
       "$97,231,420.00      2\n",
       "$24,901,420.00      2\n",
       "$13,521,829.00      1\n",
       "                   ..\n",
       "$84,300,000.00      1\n",
       "$61,788,393.00      1\n",
       "$221,590.00         1\n",
       "$36,964,325.00      1\n",
       "$26,589,000.00      1\n",
       "Name: Revenue ($) , Length: 94, dtype: int64"
      ]
     },
     "execution_count": 10,
     "metadata": {},
     "output_type": "execute_result"
    }
   ],
   "source": [
    "\n",
    "movies_df['Revenue ($) '].value_counts()"
   ]
  },
  {
   "cell_type": "code",
   "execution_count": 11,
   "id": "e3aa8b65",
   "metadata": {},
   "outputs": [],
   "source": [
    "movies_df['Revenue ($) '].replace(to_replace = ['Language','-'], value =np.nan, inplace=True)"
   ]
  },
  {
   "cell_type": "code",
   "execution_count": 12,
   "id": "55d96433",
   "metadata": {},
   "outputs": [
    {
     "data": {
      "text/plain": [
       "$457,731,198.00    2\n",
       "$24,901,420.00     2\n",
       "$97,231,420.00     2\n",
       "$13,521,829.00     1\n",
       "$6,400,000.00      1\n",
       "                  ..\n",
       "$2,478,806.00      1\n",
       "$84,300,000.00     1\n",
       "$61,788,393.00     1\n",
       "$221,590.00        1\n",
       "$26,589,000.00     1\n",
       "Name: Revenue ($) , Length: 93, dtype: int64"
      ]
     },
     "execution_count": 12,
     "metadata": {},
     "output_type": "execute_result"
    }
   ],
   "source": [
    "movies_df['Revenue ($) '].value_counts()"
   ]
  },
  {
   "cell_type": "markdown",
   "id": "f4bf7f59",
   "metadata": {},
   "source": [
    "# Top #1 Movie with Highest Ratings"
   ]
  },
  {
   "cell_type": "code",
   "execution_count": 13,
   "id": "25e1692c",
   "metadata": {
    "scrolled": true
   },
   "outputs": [
    {
     "data": {
      "text/plain": [
       "84.0"
      ]
     },
     "execution_count": 13,
     "metadata": {},
     "output_type": "execute_result"
    }
   ],
   "source": [
    "movies_df['Rating'].max()"
   ]
  },
  {
   "cell_type": "code",
   "execution_count": 15,
   "id": "f241183f",
   "metadata": {},
   "outputs": [
    {
     "data": {
      "text/plain": [
       "42.0"
      ]
     },
     "execution_count": 15,
     "metadata": {},
     "output_type": "execute_result"
    }
   ],
   "source": [
    "movies_df['Rating'].min()"
   ]
  },
  {
   "cell_type": "code",
   "execution_count": 19,
   "id": "089d236b",
   "metadata": {
    "scrolled": true
   },
   "outputs": [
    {
     "data": {
      "text/html": [
       "<div>\n",
       "<style scoped>\n",
       "    .dataframe tbody tr th:only-of-type {\n",
       "        vertical-align: middle;\n",
       "    }\n",
       "\n",
       "    .dataframe tbody tr th {\n",
       "        vertical-align: top;\n",
       "    }\n",
       "\n",
       "    .dataframe thead th {\n",
       "        text-align: right;\n",
       "    }\n",
       "</style>\n",
       "<table border=\"1\" class=\"dataframe\">\n",
       "  <thead>\n",
       "    <tr style=\"text-align: right;\">\n",
       "      <th></th>\n",
       "      <th>Name</th>\n",
       "      <th>Rating</th>\n",
       "      <th>Genre</th>\n",
       "      <th>Release date</th>\n",
       "      <th>Runtime</th>\n",
       "      <th>Director</th>\n",
       "      <th>Budget ($)</th>\n",
       "      <th>Revenue ($)</th>\n",
       "      <th>Url</th>\n",
       "    </tr>\n",
       "  </thead>\n",
       "  <tbody>\n",
       "    <tr>\n",
       "      <th>67</th>\n",
       "      <td>Justice League Dark: Apokolips War</td>\n",
       "      <td>84.0</td>\n",
       "      <td>Animation,Action,Adventure,Fantasy,Science Fic...</td>\n",
       "      <td>05/05/2020 (US)</td>\n",
       "      <td>1h 30m</td>\n",
       "      <td>Mairghread Scott</td>\n",
       "      <td>NaN</td>\n",
       "      <td>NaN</td>\n",
       "      <td>https://www.themoviedb.org//movie/618344</td>\n",
       "    </tr>\n",
       "  </tbody>\n",
       "</table>\n",
       "</div>"
      ],
      "text/plain": [
       "                                  Name  Rating  \\\n",
       "67  Justice League Dark: Apokolips War    84.0   \n",
       "\n",
       "                                                Genre     Release date  \\\n",
       "67  Animation,Action,Adventure,Fantasy,Science Fic...  05/05/2020 (US)   \n",
       "\n",
       "   Runtime          Director Budget ($) Revenue ($)   \\\n",
       "67  1h 30m  Mairghread Scott        NaN          NaN   \n",
       "\n",
       "                                         Url  \n",
       "67  https://www.themoviedb.org//movie/618344  "
      ]
     },
     "execution_count": 19,
     "metadata": {},
     "output_type": "execute_result"
    }
   ],
   "source": [
    "movies_df[movies_df['Rating']==84]"
   ]
  },
  {
   "cell_type": "markdown",
   "id": "ba2d0820",
   "metadata": {},
   "source": [
    "# Movies with 80+ ratings"
   ]
  },
  {
   "cell_type": "code",
   "execution_count": 20,
   "id": "f0992e00",
   "metadata": {},
   "outputs": [
    {
     "data": {
      "text/plain": [
       "82     42.0\n",
       "56     44.0\n",
       "96     45.0\n",
       "32     45.0\n",
       "13     47.0\n",
       "       ... \n",
       "107    82.0\n",
       "12     82.0\n",
       "132    82.0\n",
       "5      83.0\n",
       "67     84.0\n",
       "Name: Rating, Length: 150, dtype: float64"
      ]
     },
     "execution_count": 20,
     "metadata": {},
     "output_type": "execute_result"
    }
   ],
   "source": [
    "movies_df['Rating'].sort_values()"
   ]
  },
  {
   "cell_type": "code",
   "execution_count": 139,
   "id": "19ef6991",
   "metadata": {},
   "outputs": [
    {
     "data": {
      "text/html": [
       "<div>\n",
       "<style scoped>\n",
       "    .dataframe tbody tr th:only-of-type {\n",
       "        vertical-align: middle;\n",
       "    }\n",
       "\n",
       "    .dataframe tbody tr th {\n",
       "        vertical-align: top;\n",
       "    }\n",
       "\n",
       "    .dataframe thead th {\n",
       "        text-align: right;\n",
       "    }\n",
       "</style>\n",
       "<table border=\"1\" class=\"dataframe\">\n",
       "  <thead>\n",
       "    <tr style=\"text-align: right;\">\n",
       "      <th></th>\n",
       "      <th>Name</th>\n",
       "      <th>Rating</th>\n",
       "      <th>Genre</th>\n",
       "      <th>Release date</th>\n",
       "      <th>Runtime</th>\n",
       "      <th>Director</th>\n",
       "      <th>Budget ($)</th>\n",
       "      <th>Revenue ($)</th>\n",
       "      <th>Url</th>\n",
       "      <th>Release year</th>\n",
       "    </tr>\n",
       "  </thead>\n",
       "  <tbody>\n",
       "    <tr>\n",
       "      <th>5</th>\n",
       "      <td>Straight Outta Nowhere: Scooby-Doo! Meets Cour...</td>\n",
       "      <td>83.0</td>\n",
       "      <td>Animation,Comedy,Mystery,Family,Fantasy</td>\n",
       "      <td>2021-09-14</td>\n",
       "      <td>1h 12m</td>\n",
       "      <td>Joseph Barbera</td>\n",
       "      <td>NaN</td>\n",
       "      <td>NaN</td>\n",
       "      <td>https://www.themoviedb.org//movie/843906</td>\n",
       "      <td>2021</td>\n",
       "    </tr>\n",
       "    <tr>\n",
       "      <th>8</th>\n",
       "      <td>My Hero Academia: Two Heroes</td>\n",
       "      <td>80.0</td>\n",
       "      <td>Animation,Action,Adventure,Fantasy</td>\n",
       "      <td>2018-09-25</td>\n",
       "      <td>1h 36m</td>\n",
       "      <td>Kohei Horikoshi</td>\n",
       "      <td>NaN</td>\n",
       "      <td>$12,000,000.00</td>\n",
       "      <td>https://www.themoviedb.org//movie/505262</td>\n",
       "      <td>2018</td>\n",
       "    </tr>\n",
       "    <tr>\n",
       "      <th>12</th>\n",
       "      <td>Joker</td>\n",
       "      <td>82.0</td>\n",
       "      <td>Crime,Thriller,Drama</td>\n",
       "      <td>2019-10-02</td>\n",
       "      <td>2h 2m</td>\n",
       "      <td>Todd Phillips</td>\n",
       "      <td>$55,000,000.00</td>\n",
       "      <td>$1,074,251,311.00</td>\n",
       "      <td>https://www.themoviedb.org//movie/475557</td>\n",
       "      <td>2019</td>\n",
       "    </tr>\n",
       "    <tr>\n",
       "      <th>45</th>\n",
       "      <td>Bound by Honor</td>\n",
       "      <td>81.0</td>\n",
       "      <td>Action,Crime,Drama,Thriller</td>\n",
       "      <td>1993-02-05</td>\n",
       "      <td>3h 10m</td>\n",
       "      <td>Taylor Hackford</td>\n",
       "      <td>$35,000,000.00</td>\n",
       "      <td>NaN</td>\n",
       "      <td>https://www.themoviedb.org//movie/9702</td>\n",
       "      <td>1993</td>\n",
       "    </tr>\n",
       "    <tr>\n",
       "      <th>67</th>\n",
       "      <td>Justice League Dark: Apokolips War</td>\n",
       "      <td>84.0</td>\n",
       "      <td>Animation,Action,Adventure,Fantasy,Science Fic...</td>\n",
       "      <td>2020-05-05</td>\n",
       "      <td>1h 30m</td>\n",
       "      <td>Mairghread Scott</td>\n",
       "      <td>NaN</td>\n",
       "      <td>NaN</td>\n",
       "      <td>https://www.themoviedb.org//movie/618344</td>\n",
       "      <td>2020</td>\n",
       "    </tr>\n",
       "    <tr>\n",
       "      <th>88</th>\n",
       "      <td>The Thing</td>\n",
       "      <td>80.0</td>\n",
       "      <td>Horror,Mystery,Science Fiction</td>\n",
       "      <td>1982-06-25</td>\n",
       "      <td>1h 49m</td>\n",
       "      <td>John Carpenter</td>\n",
       "      <td>$15,000,000.00</td>\n",
       "      <td>$19,629,760.00</td>\n",
       "      <td>https://www.themoviedb.org//movie/1091</td>\n",
       "      <td>1982</td>\n",
       "    </tr>\n",
       "    <tr>\n",
       "      <th>104</th>\n",
       "      <td>Scooby-Doo! Camp Scare</td>\n",
       "      <td>80.0</td>\n",
       "      <td>Animation,Comedy,Family,Mystery</td>\n",
       "      <td>2010-09-14</td>\n",
       "      <td>1h 12m</td>\n",
       "      <td>Ethan Spaulding</td>\n",
       "      <td>NaN</td>\n",
       "      <td>NaN</td>\n",
       "      <td>https://www.themoviedb.org//movie/45752</td>\n",
       "      <td>2010</td>\n",
       "    </tr>\n",
       "    <tr>\n",
       "      <th>107</th>\n",
       "      <td>A Clockwork Orange</td>\n",
       "      <td>82.0</td>\n",
       "      <td>Science Fiction,Drama</td>\n",
       "      <td>1971-12-19</td>\n",
       "      <td>2h 17m</td>\n",
       "      <td>Stanley Kubrick</td>\n",
       "      <td>$2,200,000.00</td>\n",
       "      <td>$26,589,000.00</td>\n",
       "      <td>https://www.themoviedb.org//movie/185</td>\n",
       "      <td>1971</td>\n",
       "    </tr>\n",
       "    <tr>\n",
       "      <th>132</th>\n",
       "      <td>Paper Lives</td>\n",
       "      <td>82.0</td>\n",
       "      <td>Drama</td>\n",
       "      <td>2021-03-12</td>\n",
       "      <td>1h 36m</td>\n",
       "      <td>Can Ulkay</td>\n",
       "      <td>NaN</td>\n",
       "      <td>NaN</td>\n",
       "      <td>https://www.themoviedb.org//movie/785534</td>\n",
       "      <td>2021</td>\n",
       "    </tr>\n",
       "  </tbody>\n",
       "</table>\n",
       "</div>"
      ],
      "text/plain": [
       "                                                  Name  Rating  \\\n",
       "5    Straight Outta Nowhere: Scooby-Doo! Meets Cour...    83.0   \n",
       "8                         My Hero Academia: Two Heroes    80.0   \n",
       "12                                               Joker    82.0   \n",
       "45                                      Bound by Honor    81.0   \n",
       "67                  Justice League Dark: Apokolips War    84.0   \n",
       "88                                           The Thing    80.0   \n",
       "104                             Scooby-Doo! Camp Scare    80.0   \n",
       "107                                 A Clockwork Orange    82.0   \n",
       "132                                        Paper Lives    82.0   \n",
       "\n",
       "                                                 Genre Release date Runtime  \\\n",
       "5              Animation,Comedy,Mystery,Family,Fantasy   2021-09-14  1h 12m   \n",
       "8                   Animation,Action,Adventure,Fantasy   2018-09-25  1h 36m   \n",
       "12                                Crime,Thriller,Drama   2019-10-02   2h 2m   \n",
       "45                         Action,Crime,Drama,Thriller   1993-02-05  3h 10m   \n",
       "67   Animation,Action,Adventure,Fantasy,Science Fic...   2020-05-05  1h 30m   \n",
       "88                      Horror,Mystery,Science Fiction   1982-06-25  1h 49m   \n",
       "104                    Animation,Comedy,Family,Mystery   2010-09-14  1h 12m   \n",
       "107                              Science Fiction,Drama   1971-12-19  2h 17m   \n",
       "132                                              Drama   2021-03-12  1h 36m   \n",
       "\n",
       "             Director      Budget ($)       Revenue ($)   \\\n",
       "5      Joseph Barbera             NaN                NaN   \n",
       "8     Kohei Horikoshi             NaN     $12,000,000.00   \n",
       "12      Todd Phillips  $55,000,000.00  $1,074,251,311.00   \n",
       "45    Taylor Hackford  $35,000,000.00                NaN   \n",
       "67   Mairghread Scott             NaN                NaN   \n",
       "88     John Carpenter  $15,000,000.00     $19,629,760.00   \n",
       "104   Ethan Spaulding             NaN                NaN   \n",
       "107   Stanley Kubrick   $2,200,000.00     $26,589,000.00   \n",
       "132         Can Ulkay             NaN                NaN   \n",
       "\n",
       "                                          Url  Release year  \n",
       "5    https://www.themoviedb.org//movie/843906          2021  \n",
       "8    https://www.themoviedb.org//movie/505262          2018  \n",
       "12   https://www.themoviedb.org//movie/475557          2019  \n",
       "45     https://www.themoviedb.org//movie/9702          1993  \n",
       "67   https://www.themoviedb.org//movie/618344          2020  \n",
       "88     https://www.themoviedb.org//movie/1091          1982  \n",
       "104   https://www.themoviedb.org//movie/45752          2010  \n",
       "107     https://www.themoviedb.org//movie/185          1971  \n",
       "132  https://www.themoviedb.org//movie/785534          2021  "
      ]
     },
     "execution_count": 139,
     "metadata": {},
     "output_type": "execute_result"
    }
   ],
   "source": [
    "rating_80 = movies_df[movies_df['Rating']>=80]\n",
    "rating_80"
   ]
  },
  {
   "cell_type": "code",
   "execution_count": 110,
   "id": "df8cca2c",
   "metadata": {
    "scrolled": true
   },
   "outputs": [
    {
     "data": {
      "application/vnd.plotly.v1+json": {
       "config": {
        "plotlyServerURL": "https://plot.ly"
       },
       "data": [
        {
         "marker": {
          "color": "green"
         },
         "type": "scatter",
         "x": [
          "Straight Outta Nowhere: Scooby-Doo! Meets Courage the Cowardly Dog",
          "My Hero Academia: Two Heroes",
          "Joker",
          "Bound by Honor",
          "Justice League Dark: Apokolips War",
          "The Thing",
          "Scooby-Doo! Camp Scare",
          "A Clockwork Orange",
          "Paper Lives"
         ],
         "y": [
          83,
          80,
          82,
          81,
          84,
          80,
          80,
          82,
          82
         ]
        }
       ],
       "layout": {
        "template": {
         "data": {
          "bar": [
           {
            "error_x": {
             "color": "#2a3f5f"
            },
            "error_y": {
             "color": "#2a3f5f"
            },
            "marker": {
             "line": {
              "color": "#E5ECF6",
              "width": 0.5
             },
             "pattern": {
              "fillmode": "overlay",
              "size": 10,
              "solidity": 0.2
             }
            },
            "type": "bar"
           }
          ],
          "barpolar": [
           {
            "marker": {
             "line": {
              "color": "#E5ECF6",
              "width": 0.5
             },
             "pattern": {
              "fillmode": "overlay",
              "size": 10,
              "solidity": 0.2
             }
            },
            "type": "barpolar"
           }
          ],
          "carpet": [
           {
            "aaxis": {
             "endlinecolor": "#2a3f5f",
             "gridcolor": "white",
             "linecolor": "white",
             "minorgridcolor": "white",
             "startlinecolor": "#2a3f5f"
            },
            "baxis": {
             "endlinecolor": "#2a3f5f",
             "gridcolor": "white",
             "linecolor": "white",
             "minorgridcolor": "white",
             "startlinecolor": "#2a3f5f"
            },
            "type": "carpet"
           }
          ],
          "choropleth": [
           {
            "colorbar": {
             "outlinewidth": 0,
             "ticks": ""
            },
            "type": "choropleth"
           }
          ],
          "contour": [
           {
            "colorbar": {
             "outlinewidth": 0,
             "ticks": ""
            },
            "colorscale": [
             [
              0,
              "#0d0887"
             ],
             [
              0.1111111111111111,
              "#46039f"
             ],
             [
              0.2222222222222222,
              "#7201a8"
             ],
             [
              0.3333333333333333,
              "#9c179e"
             ],
             [
              0.4444444444444444,
              "#bd3786"
             ],
             [
              0.5555555555555556,
              "#d8576b"
             ],
             [
              0.6666666666666666,
              "#ed7953"
             ],
             [
              0.7777777777777778,
              "#fb9f3a"
             ],
             [
              0.8888888888888888,
              "#fdca26"
             ],
             [
              1,
              "#f0f921"
             ]
            ],
            "type": "contour"
           }
          ],
          "contourcarpet": [
           {
            "colorbar": {
             "outlinewidth": 0,
             "ticks": ""
            },
            "type": "contourcarpet"
           }
          ],
          "heatmap": [
           {
            "colorbar": {
             "outlinewidth": 0,
             "ticks": ""
            },
            "colorscale": [
             [
              0,
              "#0d0887"
             ],
             [
              0.1111111111111111,
              "#46039f"
             ],
             [
              0.2222222222222222,
              "#7201a8"
             ],
             [
              0.3333333333333333,
              "#9c179e"
             ],
             [
              0.4444444444444444,
              "#bd3786"
             ],
             [
              0.5555555555555556,
              "#d8576b"
             ],
             [
              0.6666666666666666,
              "#ed7953"
             ],
             [
              0.7777777777777778,
              "#fb9f3a"
             ],
             [
              0.8888888888888888,
              "#fdca26"
             ],
             [
              1,
              "#f0f921"
             ]
            ],
            "type": "heatmap"
           }
          ],
          "heatmapgl": [
           {
            "colorbar": {
             "outlinewidth": 0,
             "ticks": ""
            },
            "colorscale": [
             [
              0,
              "#0d0887"
             ],
             [
              0.1111111111111111,
              "#46039f"
             ],
             [
              0.2222222222222222,
              "#7201a8"
             ],
             [
              0.3333333333333333,
              "#9c179e"
             ],
             [
              0.4444444444444444,
              "#bd3786"
             ],
             [
              0.5555555555555556,
              "#d8576b"
             ],
             [
              0.6666666666666666,
              "#ed7953"
             ],
             [
              0.7777777777777778,
              "#fb9f3a"
             ],
             [
              0.8888888888888888,
              "#fdca26"
             ],
             [
              1,
              "#f0f921"
             ]
            ],
            "type": "heatmapgl"
           }
          ],
          "histogram": [
           {
            "marker": {
             "pattern": {
              "fillmode": "overlay",
              "size": 10,
              "solidity": 0.2
             }
            },
            "type": "histogram"
           }
          ],
          "histogram2d": [
           {
            "colorbar": {
             "outlinewidth": 0,
             "ticks": ""
            },
            "colorscale": [
             [
              0,
              "#0d0887"
             ],
             [
              0.1111111111111111,
              "#46039f"
             ],
             [
              0.2222222222222222,
              "#7201a8"
             ],
             [
              0.3333333333333333,
              "#9c179e"
             ],
             [
              0.4444444444444444,
              "#bd3786"
             ],
             [
              0.5555555555555556,
              "#d8576b"
             ],
             [
              0.6666666666666666,
              "#ed7953"
             ],
             [
              0.7777777777777778,
              "#fb9f3a"
             ],
             [
              0.8888888888888888,
              "#fdca26"
             ],
             [
              1,
              "#f0f921"
             ]
            ],
            "type": "histogram2d"
           }
          ],
          "histogram2dcontour": [
           {
            "colorbar": {
             "outlinewidth": 0,
             "ticks": ""
            },
            "colorscale": [
             [
              0,
              "#0d0887"
             ],
             [
              0.1111111111111111,
              "#46039f"
             ],
             [
              0.2222222222222222,
              "#7201a8"
             ],
             [
              0.3333333333333333,
              "#9c179e"
             ],
             [
              0.4444444444444444,
              "#bd3786"
             ],
             [
              0.5555555555555556,
              "#d8576b"
             ],
             [
              0.6666666666666666,
              "#ed7953"
             ],
             [
              0.7777777777777778,
              "#fb9f3a"
             ],
             [
              0.8888888888888888,
              "#fdca26"
             ],
             [
              1,
              "#f0f921"
             ]
            ],
            "type": "histogram2dcontour"
           }
          ],
          "mesh3d": [
           {
            "colorbar": {
             "outlinewidth": 0,
             "ticks": ""
            },
            "type": "mesh3d"
           }
          ],
          "parcoords": [
           {
            "line": {
             "colorbar": {
              "outlinewidth": 0,
              "ticks": ""
             }
            },
            "type": "parcoords"
           }
          ],
          "pie": [
           {
            "automargin": true,
            "type": "pie"
           }
          ],
          "scatter": [
           {
            "marker": {
             "colorbar": {
              "outlinewidth": 0,
              "ticks": ""
             }
            },
            "type": "scatter"
           }
          ],
          "scatter3d": [
           {
            "line": {
             "colorbar": {
              "outlinewidth": 0,
              "ticks": ""
             }
            },
            "marker": {
             "colorbar": {
              "outlinewidth": 0,
              "ticks": ""
             }
            },
            "type": "scatter3d"
           }
          ],
          "scattercarpet": [
           {
            "marker": {
             "colorbar": {
              "outlinewidth": 0,
              "ticks": ""
             }
            },
            "type": "scattercarpet"
           }
          ],
          "scattergeo": [
           {
            "marker": {
             "colorbar": {
              "outlinewidth": 0,
              "ticks": ""
             }
            },
            "type": "scattergeo"
           }
          ],
          "scattergl": [
           {
            "marker": {
             "colorbar": {
              "outlinewidth": 0,
              "ticks": ""
             }
            },
            "type": "scattergl"
           }
          ],
          "scattermapbox": [
           {
            "marker": {
             "colorbar": {
              "outlinewidth": 0,
              "ticks": ""
             }
            },
            "type": "scattermapbox"
           }
          ],
          "scatterpolar": [
           {
            "marker": {
             "colorbar": {
              "outlinewidth": 0,
              "ticks": ""
             }
            },
            "type": "scatterpolar"
           }
          ],
          "scatterpolargl": [
           {
            "marker": {
             "colorbar": {
              "outlinewidth": 0,
              "ticks": ""
             }
            },
            "type": "scatterpolargl"
           }
          ],
          "scatterternary": [
           {
            "marker": {
             "colorbar": {
              "outlinewidth": 0,
              "ticks": ""
             }
            },
            "type": "scatterternary"
           }
          ],
          "surface": [
           {
            "colorbar": {
             "outlinewidth": 0,
             "ticks": ""
            },
            "colorscale": [
             [
              0,
              "#0d0887"
             ],
             [
              0.1111111111111111,
              "#46039f"
             ],
             [
              0.2222222222222222,
              "#7201a8"
             ],
             [
              0.3333333333333333,
              "#9c179e"
             ],
             [
              0.4444444444444444,
              "#bd3786"
             ],
             [
              0.5555555555555556,
              "#d8576b"
             ],
             [
              0.6666666666666666,
              "#ed7953"
             ],
             [
              0.7777777777777778,
              "#fb9f3a"
             ],
             [
              0.8888888888888888,
              "#fdca26"
             ],
             [
              1,
              "#f0f921"
             ]
            ],
            "type": "surface"
           }
          ],
          "table": [
           {
            "cells": {
             "fill": {
              "color": "#EBF0F8"
             },
             "line": {
              "color": "white"
             }
            },
            "header": {
             "fill": {
              "color": "#C8D4E3"
             },
             "line": {
              "color": "white"
             }
            },
            "type": "table"
           }
          ]
         },
         "layout": {
          "annotationdefaults": {
           "arrowcolor": "#2a3f5f",
           "arrowhead": 0,
           "arrowwidth": 1
          },
          "autotypenumbers": "strict",
          "coloraxis": {
           "colorbar": {
            "outlinewidth": 0,
            "ticks": ""
           }
          },
          "colorscale": {
           "diverging": [
            [
             0,
             "#8e0152"
            ],
            [
             0.1,
             "#c51b7d"
            ],
            [
             0.2,
             "#de77ae"
            ],
            [
             0.3,
             "#f1b6da"
            ],
            [
             0.4,
             "#fde0ef"
            ],
            [
             0.5,
             "#f7f7f7"
            ],
            [
             0.6,
             "#e6f5d0"
            ],
            [
             0.7,
             "#b8e186"
            ],
            [
             0.8,
             "#7fbc41"
            ],
            [
             0.9,
             "#4d9221"
            ],
            [
             1,
             "#276419"
            ]
           ],
           "sequential": [
            [
             0,
             "#0d0887"
            ],
            [
             0.1111111111111111,
             "#46039f"
            ],
            [
             0.2222222222222222,
             "#7201a8"
            ],
            [
             0.3333333333333333,
             "#9c179e"
            ],
            [
             0.4444444444444444,
             "#bd3786"
            ],
            [
             0.5555555555555556,
             "#d8576b"
            ],
            [
             0.6666666666666666,
             "#ed7953"
            ],
            [
             0.7777777777777778,
             "#fb9f3a"
            ],
            [
             0.8888888888888888,
             "#fdca26"
            ],
            [
             1,
             "#f0f921"
            ]
           ],
           "sequentialminus": [
            [
             0,
             "#0d0887"
            ],
            [
             0.1111111111111111,
             "#46039f"
            ],
            [
             0.2222222222222222,
             "#7201a8"
            ],
            [
             0.3333333333333333,
             "#9c179e"
            ],
            [
             0.4444444444444444,
             "#bd3786"
            ],
            [
             0.5555555555555556,
             "#d8576b"
            ],
            [
             0.6666666666666666,
             "#ed7953"
            ],
            [
             0.7777777777777778,
             "#fb9f3a"
            ],
            [
             0.8888888888888888,
             "#fdca26"
            ],
            [
             1,
             "#f0f921"
            ]
           ]
          },
          "colorway": [
           "#636efa",
           "#EF553B",
           "#00cc96",
           "#ab63fa",
           "#FFA15A",
           "#19d3f3",
           "#FF6692",
           "#B6E880",
           "#FF97FF",
           "#FECB52"
          ],
          "font": {
           "color": "#2a3f5f"
          },
          "geo": {
           "bgcolor": "white",
           "lakecolor": "white",
           "landcolor": "#E5ECF6",
           "showlakes": true,
           "showland": true,
           "subunitcolor": "white"
          },
          "hoverlabel": {
           "align": "left"
          },
          "hovermode": "closest",
          "mapbox": {
           "style": "light"
          },
          "paper_bgcolor": "white",
          "plot_bgcolor": "#E5ECF6",
          "polar": {
           "angularaxis": {
            "gridcolor": "white",
            "linecolor": "white",
            "ticks": ""
           },
           "bgcolor": "#E5ECF6",
           "radialaxis": {
            "gridcolor": "white",
            "linecolor": "white",
            "ticks": ""
           }
          },
          "scene": {
           "xaxis": {
            "backgroundcolor": "#E5ECF6",
            "gridcolor": "white",
            "gridwidth": 2,
            "linecolor": "white",
            "showbackground": true,
            "ticks": "",
            "zerolinecolor": "white"
           },
           "yaxis": {
            "backgroundcolor": "#E5ECF6",
            "gridcolor": "white",
            "gridwidth": 2,
            "linecolor": "white",
            "showbackground": true,
            "ticks": "",
            "zerolinecolor": "white"
           },
           "zaxis": {
            "backgroundcolor": "#E5ECF6",
            "gridcolor": "white",
            "gridwidth": 2,
            "linecolor": "white",
            "showbackground": true,
            "ticks": "",
            "zerolinecolor": "white"
           }
          },
          "shapedefaults": {
           "line": {
            "color": "#2a3f5f"
           }
          },
          "ternary": {
           "aaxis": {
            "gridcolor": "white",
            "linecolor": "white",
            "ticks": ""
           },
           "baxis": {
            "gridcolor": "white",
            "linecolor": "white",
            "ticks": ""
           },
           "bgcolor": "#E5ECF6",
           "caxis": {
            "gridcolor": "white",
            "linecolor": "white",
            "ticks": ""
           }
          },
          "title": {
           "x": 0.05
          },
          "xaxis": {
           "automargin": true,
           "gridcolor": "white",
           "linecolor": "white",
           "ticks": "",
           "title": {
            "standoff": 15
           },
           "zerolinecolor": "white",
           "zerolinewidth": 2
          },
          "yaxis": {
           "automargin": true,
           "gridcolor": "white",
           "linecolor": "white",
           "ticks": "",
           "title": {
            "standoff": 15
           },
           "zerolinecolor": "white",
           "zerolinewidth": 2
          }
         }
        },
        "title": {
         "text": "Movies with 80+ ratings"
        },
        "xaxis": {
         "showticklabels": true,
         "title": {
          "text": "Movies"
         }
        },
        "yaxis": {
         "showticklabels": true,
         "title": {
          "text": "Ratings"
         }
        }
       }
      },
      "text/html": [
       "<div>                            <div id=\"3ee381b4-942f-4c3b-a77a-8dc900151433\" class=\"plotly-graph-div\" style=\"height:525px; width:100%;\"></div>            <script type=\"text/javascript\">                require([\"plotly\"], function(Plotly) {                    window.PLOTLYENV=window.PLOTLYENV || {};                                    if (document.getElementById(\"3ee381b4-942f-4c3b-a77a-8dc900151433\")) {                    Plotly.newPlot(                        \"3ee381b4-942f-4c3b-a77a-8dc900151433\",                        [{\"marker\":{\"color\":\"green\"},\"type\":\"scatter\",\"x\":[\"Straight Outta Nowhere: Scooby-Doo! Meets Courage the Cowardly Dog\",\"My Hero Academia: Two Heroes\",\"Joker\",\"Bound by Honor\",\"Justice League Dark: Apokolips War\",\"The Thing\",\"Scooby-Doo! Camp Scare\",\"A Clockwork Orange\",\"Paper Lives\"],\"y\":[83.0,80.0,82.0,81.0,84.0,80.0,80.0,82.0,82.0]}],                        {\"template\":{\"data\":{\"bar\":[{\"error_x\":{\"color\":\"#2a3f5f\"},\"error_y\":{\"color\":\"#2a3f5f\"},\"marker\":{\"line\":{\"color\":\"#E5ECF6\",\"width\":0.5},\"pattern\":{\"fillmode\":\"overlay\",\"size\":10,\"solidity\":0.2}},\"type\":\"bar\"}],\"barpolar\":[{\"marker\":{\"line\":{\"color\":\"#E5ECF6\",\"width\":0.5},\"pattern\":{\"fillmode\":\"overlay\",\"size\":10,\"solidity\":0.2}},\"type\":\"barpolar\"}],\"carpet\":[{\"aaxis\":{\"endlinecolor\":\"#2a3f5f\",\"gridcolor\":\"white\",\"linecolor\":\"white\",\"minorgridcolor\":\"white\",\"startlinecolor\":\"#2a3f5f\"},\"baxis\":{\"endlinecolor\":\"#2a3f5f\",\"gridcolor\":\"white\",\"linecolor\":\"white\",\"minorgridcolor\":\"white\",\"startlinecolor\":\"#2a3f5f\"},\"type\":\"carpet\"}],\"choropleth\":[{\"colorbar\":{\"outlinewidth\":0,\"ticks\":\"\"},\"type\":\"choropleth\"}],\"contour\":[{\"colorbar\":{\"outlinewidth\":0,\"ticks\":\"\"},\"colorscale\":[[0.0,\"#0d0887\"],[0.1111111111111111,\"#46039f\"],[0.2222222222222222,\"#7201a8\"],[0.3333333333333333,\"#9c179e\"],[0.4444444444444444,\"#bd3786\"],[0.5555555555555556,\"#d8576b\"],[0.6666666666666666,\"#ed7953\"],[0.7777777777777778,\"#fb9f3a\"],[0.8888888888888888,\"#fdca26\"],[1.0,\"#f0f921\"]],\"type\":\"contour\"}],\"contourcarpet\":[{\"colorbar\":{\"outlinewidth\":0,\"ticks\":\"\"},\"type\":\"contourcarpet\"}],\"heatmap\":[{\"colorbar\":{\"outlinewidth\":0,\"ticks\":\"\"},\"colorscale\":[[0.0,\"#0d0887\"],[0.1111111111111111,\"#46039f\"],[0.2222222222222222,\"#7201a8\"],[0.3333333333333333,\"#9c179e\"],[0.4444444444444444,\"#bd3786\"],[0.5555555555555556,\"#d8576b\"],[0.6666666666666666,\"#ed7953\"],[0.7777777777777778,\"#fb9f3a\"],[0.8888888888888888,\"#fdca26\"],[1.0,\"#f0f921\"]],\"type\":\"heatmap\"}],\"heatmapgl\":[{\"colorbar\":{\"outlinewidth\":0,\"ticks\":\"\"},\"colorscale\":[[0.0,\"#0d0887\"],[0.1111111111111111,\"#46039f\"],[0.2222222222222222,\"#7201a8\"],[0.3333333333333333,\"#9c179e\"],[0.4444444444444444,\"#bd3786\"],[0.5555555555555556,\"#d8576b\"],[0.6666666666666666,\"#ed7953\"],[0.7777777777777778,\"#fb9f3a\"],[0.8888888888888888,\"#fdca26\"],[1.0,\"#f0f921\"]],\"type\":\"heatmapgl\"}],\"histogram\":[{\"marker\":{\"pattern\":{\"fillmode\":\"overlay\",\"size\":10,\"solidity\":0.2}},\"type\":\"histogram\"}],\"histogram2d\":[{\"colorbar\":{\"outlinewidth\":0,\"ticks\":\"\"},\"colorscale\":[[0.0,\"#0d0887\"],[0.1111111111111111,\"#46039f\"],[0.2222222222222222,\"#7201a8\"],[0.3333333333333333,\"#9c179e\"],[0.4444444444444444,\"#bd3786\"],[0.5555555555555556,\"#d8576b\"],[0.6666666666666666,\"#ed7953\"],[0.7777777777777778,\"#fb9f3a\"],[0.8888888888888888,\"#fdca26\"],[1.0,\"#f0f921\"]],\"type\":\"histogram2d\"}],\"histogram2dcontour\":[{\"colorbar\":{\"outlinewidth\":0,\"ticks\":\"\"},\"colorscale\":[[0.0,\"#0d0887\"],[0.1111111111111111,\"#46039f\"],[0.2222222222222222,\"#7201a8\"],[0.3333333333333333,\"#9c179e\"],[0.4444444444444444,\"#bd3786\"],[0.5555555555555556,\"#d8576b\"],[0.6666666666666666,\"#ed7953\"],[0.7777777777777778,\"#fb9f3a\"],[0.8888888888888888,\"#fdca26\"],[1.0,\"#f0f921\"]],\"type\":\"histogram2dcontour\"}],\"mesh3d\":[{\"colorbar\":{\"outlinewidth\":0,\"ticks\":\"\"},\"type\":\"mesh3d\"}],\"parcoords\":[{\"line\":{\"colorbar\":{\"outlinewidth\":0,\"ticks\":\"\"}},\"type\":\"parcoords\"}],\"pie\":[{\"automargin\":true,\"type\":\"pie\"}],\"scatter\":[{\"marker\":{\"colorbar\":{\"outlinewidth\":0,\"ticks\":\"\"}},\"type\":\"scatter\"}],\"scatter3d\":[{\"line\":{\"colorbar\":{\"outlinewidth\":0,\"ticks\":\"\"}},\"marker\":{\"colorbar\":{\"outlinewidth\":0,\"ticks\":\"\"}},\"type\":\"scatter3d\"}],\"scattercarpet\":[{\"marker\":{\"colorbar\":{\"outlinewidth\":0,\"ticks\":\"\"}},\"type\":\"scattercarpet\"}],\"scattergeo\":[{\"marker\":{\"colorbar\":{\"outlinewidth\":0,\"ticks\":\"\"}},\"type\":\"scattergeo\"}],\"scattergl\":[{\"marker\":{\"colorbar\":{\"outlinewidth\":0,\"ticks\":\"\"}},\"type\":\"scattergl\"}],\"scattermapbox\":[{\"marker\":{\"colorbar\":{\"outlinewidth\":0,\"ticks\":\"\"}},\"type\":\"scattermapbox\"}],\"scatterpolar\":[{\"marker\":{\"colorbar\":{\"outlinewidth\":0,\"ticks\":\"\"}},\"type\":\"scatterpolar\"}],\"scatterpolargl\":[{\"marker\":{\"colorbar\":{\"outlinewidth\":0,\"ticks\":\"\"}},\"type\":\"scatterpolargl\"}],\"scatterternary\":[{\"marker\":{\"colorbar\":{\"outlinewidth\":0,\"ticks\":\"\"}},\"type\":\"scatterternary\"}],\"surface\":[{\"colorbar\":{\"outlinewidth\":0,\"ticks\":\"\"},\"colorscale\":[[0.0,\"#0d0887\"],[0.1111111111111111,\"#46039f\"],[0.2222222222222222,\"#7201a8\"],[0.3333333333333333,\"#9c179e\"],[0.4444444444444444,\"#bd3786\"],[0.5555555555555556,\"#d8576b\"],[0.6666666666666666,\"#ed7953\"],[0.7777777777777778,\"#fb9f3a\"],[0.8888888888888888,\"#fdca26\"],[1.0,\"#f0f921\"]],\"type\":\"surface\"}],\"table\":[{\"cells\":{\"fill\":{\"color\":\"#EBF0F8\"},\"line\":{\"color\":\"white\"}},\"header\":{\"fill\":{\"color\":\"#C8D4E3\"},\"line\":{\"color\":\"white\"}},\"type\":\"table\"}]},\"layout\":{\"annotationdefaults\":{\"arrowcolor\":\"#2a3f5f\",\"arrowhead\":0,\"arrowwidth\":1},\"autotypenumbers\":\"strict\",\"coloraxis\":{\"colorbar\":{\"outlinewidth\":0,\"ticks\":\"\"}},\"colorscale\":{\"diverging\":[[0,\"#8e0152\"],[0.1,\"#c51b7d\"],[0.2,\"#de77ae\"],[0.3,\"#f1b6da\"],[0.4,\"#fde0ef\"],[0.5,\"#f7f7f7\"],[0.6,\"#e6f5d0\"],[0.7,\"#b8e186\"],[0.8,\"#7fbc41\"],[0.9,\"#4d9221\"],[1,\"#276419\"]],\"sequential\":[[0.0,\"#0d0887\"],[0.1111111111111111,\"#46039f\"],[0.2222222222222222,\"#7201a8\"],[0.3333333333333333,\"#9c179e\"],[0.4444444444444444,\"#bd3786\"],[0.5555555555555556,\"#d8576b\"],[0.6666666666666666,\"#ed7953\"],[0.7777777777777778,\"#fb9f3a\"],[0.8888888888888888,\"#fdca26\"],[1.0,\"#f0f921\"]],\"sequentialminus\":[[0.0,\"#0d0887\"],[0.1111111111111111,\"#46039f\"],[0.2222222222222222,\"#7201a8\"],[0.3333333333333333,\"#9c179e\"],[0.4444444444444444,\"#bd3786\"],[0.5555555555555556,\"#d8576b\"],[0.6666666666666666,\"#ed7953\"],[0.7777777777777778,\"#fb9f3a\"],[0.8888888888888888,\"#fdca26\"],[1.0,\"#f0f921\"]]},\"colorway\":[\"#636efa\",\"#EF553B\",\"#00cc96\",\"#ab63fa\",\"#FFA15A\",\"#19d3f3\",\"#FF6692\",\"#B6E880\",\"#FF97FF\",\"#FECB52\"],\"font\":{\"color\":\"#2a3f5f\"},\"geo\":{\"bgcolor\":\"white\",\"lakecolor\":\"white\",\"landcolor\":\"#E5ECF6\",\"showlakes\":true,\"showland\":true,\"subunitcolor\":\"white\"},\"hoverlabel\":{\"align\":\"left\"},\"hovermode\":\"closest\",\"mapbox\":{\"style\":\"light\"},\"paper_bgcolor\":\"white\",\"plot_bgcolor\":\"#E5ECF6\",\"polar\":{\"angularaxis\":{\"gridcolor\":\"white\",\"linecolor\":\"white\",\"ticks\":\"\"},\"bgcolor\":\"#E5ECF6\",\"radialaxis\":{\"gridcolor\":\"white\",\"linecolor\":\"white\",\"ticks\":\"\"}},\"scene\":{\"xaxis\":{\"backgroundcolor\":\"#E5ECF6\",\"gridcolor\":\"white\",\"gridwidth\":2,\"linecolor\":\"white\",\"showbackground\":true,\"ticks\":\"\",\"zerolinecolor\":\"white\"},\"yaxis\":{\"backgroundcolor\":\"#E5ECF6\",\"gridcolor\":\"white\",\"gridwidth\":2,\"linecolor\":\"white\",\"showbackground\":true,\"ticks\":\"\",\"zerolinecolor\":\"white\"},\"zaxis\":{\"backgroundcolor\":\"#E5ECF6\",\"gridcolor\":\"white\",\"gridwidth\":2,\"linecolor\":\"white\",\"showbackground\":true,\"ticks\":\"\",\"zerolinecolor\":\"white\"}},\"shapedefaults\":{\"line\":{\"color\":\"#2a3f5f\"}},\"ternary\":{\"aaxis\":{\"gridcolor\":\"white\",\"linecolor\":\"white\",\"ticks\":\"\"},\"baxis\":{\"gridcolor\":\"white\",\"linecolor\":\"white\",\"ticks\":\"\"},\"bgcolor\":\"#E5ECF6\",\"caxis\":{\"gridcolor\":\"white\",\"linecolor\":\"white\",\"ticks\":\"\"}},\"title\":{\"x\":0.05},\"xaxis\":{\"automargin\":true,\"gridcolor\":\"white\",\"linecolor\":\"white\",\"ticks\":\"\",\"title\":{\"standoff\":15},\"zerolinecolor\":\"white\",\"zerolinewidth\":2},\"yaxis\":{\"automargin\":true,\"gridcolor\":\"white\",\"linecolor\":\"white\",\"ticks\":\"\",\"title\":{\"standoff\":15},\"zerolinecolor\":\"white\",\"zerolinewidth\":2}}},\"title\":{\"text\":\"Movies with 80+ ratings\"},\"xaxis\":{\"showticklabels\":true,\"title\":{\"text\":\"Movies\"}},\"yaxis\":{\"showticklabels\":true,\"title\":{\"text\":\"Ratings\"}}},                        {\"responsive\": true}                    ).then(function(){\n",
       "                            \n",
       "var gd = document.getElementById('3ee381b4-942f-4c3b-a77a-8dc900151433');\n",
       "var x = new MutationObserver(function (mutations, observer) {{\n",
       "        var display = window.getComputedStyle(gd).display;\n",
       "        if (!display || display === 'none') {{\n",
       "            console.log([gd, 'removed!']);\n",
       "            Plotly.purge(gd);\n",
       "            observer.disconnect();\n",
       "        }}\n",
       "}});\n",
       "\n",
       "// Listen for the removal of the full notebook cells\n",
       "var notebookContainer = gd.closest('#notebook-container');\n",
       "if (notebookContainer) {{\n",
       "    x.observe(notebookContainer, {childList: true});\n",
       "}}\n",
       "\n",
       "// Listen for the clearing of the current output cell\n",
       "var outputEl = gd.closest('.output');\n",
       "if (outputEl) {{\n",
       "    x.observe(outputEl, {childList: true});\n",
       "}}\n",
       "\n",
       "                        })                };                });            </script>        </div>"
      ]
     },
     "metadata": {},
     "output_type": "display_data"
    }
   ],
   "source": [
    "fig = go.Scatter(x=rating_80.Name,y=rating_80.Rating,marker=dict(color='green'))\n",
    "layout = dict ( title = 'Movies with 80+ ratings' \n",
    "               , xaxis = dict ( title = \"Movies\" , showticklabels = True ), \n",
    "               yaxis = dict ( title = \"Ratings\" , showticklabels = True ), )\n",
    "\n",
    "go.Figure(fig,layout=layout)"
   ]
  },
  {
   "cell_type": "markdown",
   "id": "1798a6d7",
   "metadata": {},
   "source": [
    "# Average rating movies"
   ]
  },
  {
   "cell_type": "code",
   "execution_count": 96,
   "id": "d7637706",
   "metadata": {},
   "outputs": [
    {
     "data": {
      "text/plain": [
       "66.40666666666667"
      ]
     },
     "execution_count": 96,
     "metadata": {},
     "output_type": "execute_result"
    }
   ],
   "source": [
    "movies_df['Rating'].mean()"
   ]
  },
  {
   "cell_type": "code",
   "execution_count": 105,
   "id": "d13a3944",
   "metadata": {},
   "outputs": [],
   "source": [
    "avg_rating = movies_df[(movies_df['Rating']>=64) & (movies_df['Rating']<=67)]"
   ]
  },
  {
   "cell_type": "code",
   "execution_count": 106,
   "id": "7f1e7439",
   "metadata": {},
   "outputs": [
    {
     "data": {
      "text/html": [
       "<div>\n",
       "<style scoped>\n",
       "    .dataframe tbody tr th:only-of-type {\n",
       "        vertical-align: middle;\n",
       "    }\n",
       "\n",
       "    .dataframe tbody tr th {\n",
       "        vertical-align: top;\n",
       "    }\n",
       "\n",
       "    .dataframe thead th {\n",
       "        text-align: right;\n",
       "    }\n",
       "</style>\n",
       "<table border=\"1\" class=\"dataframe\">\n",
       "  <thead>\n",
       "    <tr style=\"text-align: right;\">\n",
       "      <th></th>\n",
       "      <th>Name</th>\n",
       "      <th>Rating</th>\n",
       "      <th>Genre</th>\n",
       "      <th>Release date</th>\n",
       "      <th>Runtime</th>\n",
       "      <th>Director</th>\n",
       "      <th>Budget ($)</th>\n",
       "      <th>Revenue ($)</th>\n",
       "      <th>Url</th>\n",
       "    </tr>\n",
       "  </thead>\n",
       "  <tbody>\n",
       "    <tr>\n",
       "      <th>20</th>\n",
       "      <td>The Craft: Legacy</td>\n",
       "      <td>64.0</td>\n",
       "      <td>Horror,Drama,Fantasy</td>\n",
       "      <td>10/28/2020 (GB)</td>\n",
       "      <td>1h 34m</td>\n",
       "      <td>Zoe Lister-Jones</td>\n",
       "      <td>NaN</td>\n",
       "      <td>NaN</td>\n",
       "      <td>https://www.themoviedb.org//movie/590995</td>\n",
       "    </tr>\n",
       "    <tr>\n",
       "      <th>21</th>\n",
       "      <td>Thor: The Dark World</td>\n",
       "      <td>66.0</td>\n",
       "      <td>Action,Adventure,Fantasy</td>\n",
       "      <td>11/15/2013 (IN)</td>\n",
       "      <td>1h 52m</td>\n",
       "      <td>Walt Simonson</td>\n",
       "      <td>$170,000,000.00</td>\n",
       "      <td>$644,571,402.00</td>\n",
       "      <td>https://www.themoviedb.org//movie/76338</td>\n",
       "    </tr>\n",
       "    <tr>\n",
       "      <th>35</th>\n",
       "      <td>Just Say Yes</td>\n",
       "      <td>67.0</td>\n",
       "      <td>Comedy,Romance</td>\n",
       "      <td>04/02/2021 (US)</td>\n",
       "      <td>1h 37m</td>\n",
       "      <td>Appie Boudellah</td>\n",
       "      <td>NaN</td>\n",
       "      <td>NaN</td>\n",
       "      <td>https://www.themoviedb.org//movie/802504</td>\n",
       "    </tr>\n",
       "    <tr>\n",
       "      <th>38</th>\n",
       "      <td>The Lion Guard: Return of the Roar</td>\n",
       "      <td>65.0</td>\n",
       "      <td>Family,TV Movie,Animation</td>\n",
       "      <td>11/22/2015 (US)</td>\n",
       "      <td>44m</td>\n",
       "      <td>Howy Parkins</td>\n",
       "      <td>NaN</td>\n",
       "      <td>NaN</td>\n",
       "      <td>https://www.themoviedb.org//movie/359983</td>\n",
       "    </tr>\n",
       "    <tr>\n",
       "      <th>39</th>\n",
       "      <td>The A-Team</td>\n",
       "      <td>64.0</td>\n",
       "      <td>Thriller,Action,Adventure,Comedy,Crime</td>\n",
       "      <td>06/11/2010 (US)</td>\n",
       "      <td>1h 57m</td>\n",
       "      <td>Joe Carnahan</td>\n",
       "      <td>$110,000,000.00</td>\n",
       "      <td>$177,238,796.00</td>\n",
       "      <td>https://www.themoviedb.org//movie/34544</td>\n",
       "    </tr>\n",
       "    <tr>\n",
       "      <th>40</th>\n",
       "      <td>Saint Seiya: Legend of Sanctuary</td>\n",
       "      <td>64.0</td>\n",
       "      <td>Action,Animation,Fantasy</td>\n",
       "      <td>03/06/2015 (US)</td>\n",
       "      <td>1h 33m</td>\n",
       "      <td>Keiichi Sato</td>\n",
       "      <td>NaN</td>\n",
       "      <td>$23,000,000.00</td>\n",
       "      <td>https://www.themoviedb.org//movie/287590</td>\n",
       "    </tr>\n",
       "    <tr>\n",
       "      <th>44</th>\n",
       "      <td>Aftermath</td>\n",
       "      <td>66.0</td>\n",
       "      <td>Horror,Crime,Drama,Thriller</td>\n",
       "      <td>08/04/2021 (PL)</td>\n",
       "      <td>1h 54m</td>\n",
       "      <td>Peter Winther</td>\n",
       "      <td>NaN</td>\n",
       "      <td>NaN</td>\n",
       "      <td>https://www.themoviedb.org//movie/763149</td>\n",
       "    </tr>\n",
       "    <tr>\n",
       "      <th>46</th>\n",
       "      <td>The Chronicles of Narnia: Prince Caspian</td>\n",
       "      <td>66.0</td>\n",
       "      <td>Adventure,Family,Fantasy</td>\n",
       "      <td>05/16/2008 (US)</td>\n",
       "      <td>2h 30m</td>\n",
       "      <td>Andrew Adamson</td>\n",
       "      <td>$225,000,000.00</td>\n",
       "      <td>$419,665,568.00</td>\n",
       "      <td>https://www.themoviedb.org//movie/2454</td>\n",
       "    </tr>\n",
       "    <tr>\n",
       "      <th>51</th>\n",
       "      <td>Tropic Thunder</td>\n",
       "      <td>66.0</td>\n",
       "      <td>Action,Comedy,Adventure,War</td>\n",
       "      <td>08/13/2008 (US)</td>\n",
       "      <td>1h 47m</td>\n",
       "      <td>Ben Stiller</td>\n",
       "      <td>$92,000,000.00</td>\n",
       "      <td>$195,702,811.00</td>\n",
       "      <td>https://www.themoviedb.org//movie/7446</td>\n",
       "    </tr>\n",
       "    <tr>\n",
       "      <th>53</th>\n",
       "      <td>Annabelle: Creation</td>\n",
       "      <td>66.0</td>\n",
       "      <td>Horror,Mystery,Thriller</td>\n",
       "      <td>08/15/2017 (IN)</td>\n",
       "      <td>1h 49m</td>\n",
       "      <td>Gary Dauberman</td>\n",
       "      <td>$15,000,000.00</td>\n",
       "      <td>$306,515,884.00</td>\n",
       "      <td>https://www.themoviedb.org//movie/396422</td>\n",
       "    </tr>\n",
       "    <tr>\n",
       "      <th>54</th>\n",
       "      <td>Terminator: Dark Fate</td>\n",
       "      <td>65.0</td>\n",
       "      <td>Action,Adventure,Science Fiction,Thriller</td>\n",
       "      <td>11/01/2019 (US)</td>\n",
       "      <td>2h 8m</td>\n",
       "      <td>James Cameron</td>\n",
       "      <td>$185,000,000.00</td>\n",
       "      <td>$261,119,292.00</td>\n",
       "      <td>https://www.themoviedb.org//movie/290859</td>\n",
       "    </tr>\n",
       "    <tr>\n",
       "      <th>55</th>\n",
       "      <td>The Heat</td>\n",
       "      <td>66.0</td>\n",
       "      <td>Action,Comedy,Crime</td>\n",
       "      <td>06/28/2013 (IN)</td>\n",
       "      <td>1h 57m</td>\n",
       "      <td>Paul Feig</td>\n",
       "      <td>$43,000,000.00</td>\n",
       "      <td>$158,674,180.00</td>\n",
       "      <td>https://www.themoviedb.org//movie/136795</td>\n",
       "    </tr>\n",
       "    <tr>\n",
       "      <th>58</th>\n",
       "      <td>Elysium</td>\n",
       "      <td>65.0</td>\n",
       "      <td>Science Fiction,Action,Drama,Thriller</td>\n",
       "      <td>08/16/2013 (IN)</td>\n",
       "      <td>1h 49m</td>\n",
       "      <td>Neill Blomkamp</td>\n",
       "      <td>$115,000,000.00</td>\n",
       "      <td>$286,140,700.00</td>\n",
       "      <td>https://www.themoviedb.org//movie/68724</td>\n",
       "    </tr>\n",
       "    <tr>\n",
       "      <th>68</th>\n",
       "      <td>RED 2</td>\n",
       "      <td>65.0</td>\n",
       "      <td>Action,Comedy,Crime,Thriller</td>\n",
       "      <td>07/18/2013 (IN)</td>\n",
       "      <td>1h 56m</td>\n",
       "      <td>Dean Parisot</td>\n",
       "      <td>$84,000,000.00</td>\n",
       "      <td>$148,100,000.00</td>\n",
       "      <td>https://www.themoviedb.org//movie/146216</td>\n",
       "    </tr>\n",
       "    <tr>\n",
       "      <th>69</th>\n",
       "      <td>Bankrolled</td>\n",
       "      <td>65.0</td>\n",
       "      <td>Comedy</td>\n",
       "      <td>07/23/2021 (CA)</td>\n",
       "      <td>1h 37m</td>\n",
       "      <td>Marcos Bucay</td>\n",
       "      <td>NaN</td>\n",
       "      <td>NaN</td>\n",
       "      <td>https://www.themoviedb.org//movie/845422</td>\n",
       "    </tr>\n",
       "    <tr>\n",
       "      <th>70</th>\n",
       "      <td>Mermaid Down</td>\n",
       "      <td>67.0</td>\n",
       "      <td>Horror,Fantasy,Mystery,Thriller</td>\n",
       "      <td>10/15/2019 (US)</td>\n",
       "      <td>1h 31m</td>\n",
       "      <td>Jeffrey Grellman</td>\n",
       "      <td>NaN</td>\n",
       "      <td>NaN</td>\n",
       "      <td>https://www.themoviedb.org//movie/504631</td>\n",
       "    </tr>\n",
       "    <tr>\n",
       "      <th>75</th>\n",
       "      <td>Joseph: King of Dreams</td>\n",
       "      <td>66.0</td>\n",
       "      <td>Family,Animation</td>\n",
       "      <td>11/07/2000 (US)</td>\n",
       "      <td>1h 15m</td>\n",
       "      <td>Robert C. Ramirez</td>\n",
       "      <td>NaN</td>\n",
       "      <td>NaN</td>\n",
       "      <td>https://www.themoviedb.org//movie/16366</td>\n",
       "    </tr>\n",
       "    <tr>\n",
       "      <th>80</th>\n",
       "      <td>Books of Blood</td>\n",
       "      <td>67.0</td>\n",
       "      <td>Horror,Science Fiction</td>\n",
       "      <td>10/07/2020 (US)</td>\n",
       "      <td>1h 47m</td>\n",
       "      <td>Brannon Braga</td>\n",
       "      <td>NaN</td>\n",
       "      <td>NaN</td>\n",
       "      <td>https://www.themoviedb.org//movie/715123</td>\n",
       "    </tr>\n",
       "    <tr>\n",
       "      <th>86</th>\n",
       "      <td>Trolls Holiday</td>\n",
       "      <td>67.0</td>\n",
       "      <td>Adventure,Animation,Comedy,Family,TV Movie,Fan...</td>\n",
       "      <td>12/02/2017 (DE)</td>\n",
       "      <td>26m</td>\n",
       "      <td>Joel Crawford</td>\n",
       "      <td>NaN</td>\n",
       "      <td>NaN</td>\n",
       "      <td>https://www.themoviedb.org//movie/484510</td>\n",
       "    </tr>\n",
       "    <tr>\n",
       "      <th>92</th>\n",
       "      <td>Be Careful What You Wish For</td>\n",
       "      <td>67.0</td>\n",
       "      <td>Horror</td>\n",
       "      <td>04/24/2020 (MX)</td>\n",
       "      <td>1h 31m</td>\n",
       "      <td>Agustín Oso Tapia</td>\n",
       "      <td>NaN</td>\n",
       "      <td>NaN</td>\n",
       "      <td>https://www.themoviedb.org//movie/681429</td>\n",
       "    </tr>\n",
       "    <tr>\n",
       "      <th>95</th>\n",
       "      <td>Marvel One-Shot: Item 47</td>\n",
       "      <td>65.0</td>\n",
       "      <td>Science Fiction,Action,Fantasy</td>\n",
       "      <td>09/13/2012 (DE)</td>\n",
       "      <td>12m</td>\n",
       "      <td>Louis D'Esposito</td>\n",
       "      <td>NaN</td>\n",
       "      <td>NaN</td>\n",
       "      <td>https://www.themoviedb.org//movie/119569</td>\n",
       "    </tr>\n",
       "    <tr>\n",
       "      <th>98</th>\n",
       "      <td>Wizards of Waverly Place: The Movie</td>\n",
       "      <td>66.0</td>\n",
       "      <td>Family,TV Movie,Adventure,Comedy,Drama,Fantasy</td>\n",
       "      <td>08/28/2009 (US)</td>\n",
       "      <td>1h 34m</td>\n",
       "      <td>Lev L. Spiro</td>\n",
       "      <td>NaN</td>\n",
       "      <td>NaN</td>\n",
       "      <td>https://www.themoviedb.org//movie/26736</td>\n",
       "    </tr>\n",
       "    <tr>\n",
       "      <th>99</th>\n",
       "      <td>The Transporter</td>\n",
       "      <td>67.0</td>\n",
       "      <td>Action,Crime,Thriller</td>\n",
       "      <td>10/02/2002 (US)</td>\n",
       "      <td>1h 32m</td>\n",
       "      <td>Corey Yuen</td>\n",
       "      <td>$21,000,000.00</td>\n",
       "      <td>$43,928,932.00</td>\n",
       "      <td>https://www.themoviedb.org//movie/4108</td>\n",
       "    </tr>\n",
       "    <tr>\n",
       "      <th>114</th>\n",
       "      <td>Happy Death Day</td>\n",
       "      <td>66.0</td>\n",
       "      <td>Horror,Mystery,Comedy</td>\n",
       "      <td>10/13/2017 (IN)</td>\n",
       "      <td>1h 37m</td>\n",
       "      <td>Christopher Landon</td>\n",
       "      <td>$4,800,000.00</td>\n",
       "      <td>$122,637,878.00</td>\n",
       "      <td>https://www.themoviedb.org//movie/440021</td>\n",
       "    </tr>\n",
       "    <tr>\n",
       "      <th>121</th>\n",
       "      <td>The Autopsy of Jane Doe</td>\n",
       "      <td>67.0</td>\n",
       "      <td>Horror,Mystery</td>\n",
       "      <td>01/13/2017 (PL)</td>\n",
       "      <td>1h 26m</td>\n",
       "      <td>André Øvredal</td>\n",
       "      <td>NaN</td>\n",
       "      <td>$5,972,942.00</td>\n",
       "      <td>https://www.themoviedb.org//movie/397243</td>\n",
       "    </tr>\n",
       "    <tr>\n",
       "      <th>127</th>\n",
       "      <td>Blade II</td>\n",
       "      <td>65.0</td>\n",
       "      <td>Fantasy,Horror,Action,Thriller</td>\n",
       "      <td>03/22/2002 (US)</td>\n",
       "      <td>1h 57m</td>\n",
       "      <td>Gene Colan</td>\n",
       "      <td>$54,000,000.00</td>\n",
       "      <td>$155,010,032.00</td>\n",
       "      <td>https://www.themoviedb.org//movie/36586</td>\n",
       "    </tr>\n",
       "    <tr>\n",
       "      <th>135</th>\n",
       "      <td>Nussa</td>\n",
       "      <td>67.0</td>\n",
       "      <td>Animation,Family</td>\n",
       "      <td>10/14/2021 (ID)</td>\n",
       "      <td>1h 47m</td>\n",
       "      <td>Bony Wirasmono</td>\n",
       "      <td>NaN</td>\n",
       "      <td>NaN</td>\n",
       "      <td>https://www.themoviedb.org//movie/681783</td>\n",
       "    </tr>\n",
       "    <tr>\n",
       "      <th>139</th>\n",
       "      <td>High School Musical 3: Senior Year</td>\n",
       "      <td>66.0</td>\n",
       "      <td>Romance,Comedy,Drama,Family,Music</td>\n",
       "      <td>10/22/2008 (US)</td>\n",
       "      <td>1h 57m</td>\n",
       "      <td>Kenny Ortega</td>\n",
       "      <td>$11,000,000.00</td>\n",
       "      <td>$252,909,177.00</td>\n",
       "      <td>https://www.themoviedb.org//movie/11887</td>\n",
       "    </tr>\n",
       "    <tr>\n",
       "      <th>140</th>\n",
       "      <td>The Village</td>\n",
       "      <td>64.0</td>\n",
       "      <td>Drama,Mystery,Thriller</td>\n",
       "      <td>09/17/2004 (IN)</td>\n",
       "      <td>1h 48m</td>\n",
       "      <td>M. Night Shyamalan</td>\n",
       "      <td>$60,000,000.00</td>\n",
       "      <td>$256,697,520.00</td>\n",
       "      <td>https://www.themoviedb.org//movie/6947</td>\n",
       "    </tr>\n",
       "  </tbody>\n",
       "</table>\n",
       "</div>"
      ],
      "text/plain": [
       "                                         Name  Rating  \\\n",
       "20                          The Craft: Legacy    64.0   \n",
       "21                       Thor: The Dark World    66.0   \n",
       "35                               Just Say Yes    67.0   \n",
       "38         The Lion Guard: Return of the Roar    65.0   \n",
       "39                                 The A-Team    64.0   \n",
       "40           Saint Seiya: Legend of Sanctuary    64.0   \n",
       "44                                  Aftermath    66.0   \n",
       "46   The Chronicles of Narnia: Prince Caspian    66.0   \n",
       "51                             Tropic Thunder    66.0   \n",
       "53                        Annabelle: Creation    66.0   \n",
       "54                      Terminator: Dark Fate    65.0   \n",
       "55                                   The Heat    66.0   \n",
       "58                                    Elysium    65.0   \n",
       "68                                      RED 2    65.0   \n",
       "69                                 Bankrolled    65.0   \n",
       "70                               Mermaid Down    67.0   \n",
       "75                     Joseph: King of Dreams    66.0   \n",
       "80                             Books of Blood    67.0   \n",
       "86                             Trolls Holiday    67.0   \n",
       "92               Be Careful What You Wish For    67.0   \n",
       "95                   Marvel One-Shot: Item 47    65.0   \n",
       "98        Wizards of Waverly Place: The Movie    66.0   \n",
       "99                            The Transporter    67.0   \n",
       "114                           Happy Death Day    66.0   \n",
       "121                   The Autopsy of Jane Doe    67.0   \n",
       "127                                  Blade II    65.0   \n",
       "135                                     Nussa    67.0   \n",
       "139        High School Musical 3: Senior Year    66.0   \n",
       "140                               The Village    64.0   \n",
       "\n",
       "                                                 Genre     Release date  \\\n",
       "20                                Horror,Drama,Fantasy  10/28/2020 (GB)   \n",
       "21                            Action,Adventure,Fantasy  11/15/2013 (IN)   \n",
       "35                                      Comedy,Romance  04/02/2021 (US)   \n",
       "38                           Family,TV Movie,Animation  11/22/2015 (US)   \n",
       "39              Thriller,Action,Adventure,Comedy,Crime  06/11/2010 (US)   \n",
       "40                            Action,Animation,Fantasy  03/06/2015 (US)   \n",
       "44                         Horror,Crime,Drama,Thriller  08/04/2021 (PL)   \n",
       "46                            Adventure,Family,Fantasy  05/16/2008 (US)   \n",
       "51                         Action,Comedy,Adventure,War  08/13/2008 (US)   \n",
       "53                             Horror,Mystery,Thriller  08/15/2017 (IN)   \n",
       "54           Action,Adventure,Science Fiction,Thriller  11/01/2019 (US)   \n",
       "55                                 Action,Comedy,Crime  06/28/2013 (IN)   \n",
       "58               Science Fiction,Action,Drama,Thriller  08/16/2013 (IN)   \n",
       "68                        Action,Comedy,Crime,Thriller  07/18/2013 (IN)   \n",
       "69                                              Comedy  07/23/2021 (CA)   \n",
       "70                     Horror,Fantasy,Mystery,Thriller  10/15/2019 (US)   \n",
       "75                                    Family,Animation  11/07/2000 (US)   \n",
       "80                              Horror,Science Fiction  10/07/2020 (US)   \n",
       "86   Adventure,Animation,Comedy,Family,TV Movie,Fan...  12/02/2017 (DE)   \n",
       "92                                              Horror  04/24/2020 (MX)   \n",
       "95                      Science Fiction,Action,Fantasy  09/13/2012 (DE)   \n",
       "98      Family,TV Movie,Adventure,Comedy,Drama,Fantasy  08/28/2009 (US)   \n",
       "99                               Action,Crime,Thriller  10/02/2002 (US)   \n",
       "114                              Horror,Mystery,Comedy  10/13/2017 (IN)   \n",
       "121                                     Horror,Mystery  01/13/2017 (PL)   \n",
       "127                     Fantasy,Horror,Action,Thriller  03/22/2002 (US)   \n",
       "135                                   Animation,Family  10/14/2021 (ID)   \n",
       "139                  Romance,Comedy,Drama,Family,Music  10/22/2008 (US)   \n",
       "140                             Drama,Mystery,Thriller  09/17/2004 (IN)   \n",
       "\n",
       "    Runtime            Director       Budget ($)     Revenue ($)   \\\n",
       "20   1h 34m    Zoe Lister-Jones              NaN              NaN   \n",
       "21   1h 52m       Walt Simonson  $170,000,000.00  $644,571,402.00   \n",
       "35   1h 37m     Appie Boudellah              NaN              NaN   \n",
       "38      44m        Howy Parkins              NaN              NaN   \n",
       "39   1h 57m        Joe Carnahan  $110,000,000.00  $177,238,796.00   \n",
       "40   1h 33m        Keiichi Sato              NaN   $23,000,000.00   \n",
       "44   1h 54m       Peter Winther              NaN              NaN   \n",
       "46   2h 30m      Andrew Adamson  $225,000,000.00  $419,665,568.00   \n",
       "51   1h 47m         Ben Stiller   $92,000,000.00  $195,702,811.00   \n",
       "53   1h 49m      Gary Dauberman   $15,000,000.00  $306,515,884.00   \n",
       "54    2h 8m       James Cameron  $185,000,000.00  $261,119,292.00   \n",
       "55   1h 57m           Paul Feig   $43,000,000.00  $158,674,180.00   \n",
       "58   1h 49m      Neill Blomkamp  $115,000,000.00  $286,140,700.00   \n",
       "68   1h 56m        Dean Parisot   $84,000,000.00  $148,100,000.00   \n",
       "69   1h 37m        Marcos Bucay              NaN              NaN   \n",
       "70   1h 31m    Jeffrey Grellman              NaN              NaN   \n",
       "75   1h 15m   Robert C. Ramirez              NaN              NaN   \n",
       "80   1h 47m       Brannon Braga              NaN              NaN   \n",
       "86      26m       Joel Crawford              NaN              NaN   \n",
       "92   1h 31m   Agustín Oso Tapia              NaN              NaN   \n",
       "95      12m    Louis D'Esposito              NaN              NaN   \n",
       "98   1h 34m        Lev L. Spiro              NaN              NaN   \n",
       "99   1h 32m          Corey Yuen   $21,000,000.00   $43,928,932.00   \n",
       "114  1h 37m  Christopher Landon    $4,800,000.00  $122,637,878.00   \n",
       "121  1h 26m       André Øvredal              NaN    $5,972,942.00   \n",
       "127  1h 57m          Gene Colan   $54,000,000.00  $155,010,032.00   \n",
       "135  1h 47m      Bony Wirasmono              NaN              NaN   \n",
       "139  1h 57m        Kenny Ortega   $11,000,000.00  $252,909,177.00   \n",
       "140  1h 48m  M. Night Shyamalan   $60,000,000.00  $256,697,520.00   \n",
       "\n",
       "                                          Url  \n",
       "20   https://www.themoviedb.org//movie/590995  \n",
       "21    https://www.themoviedb.org//movie/76338  \n",
       "35   https://www.themoviedb.org//movie/802504  \n",
       "38   https://www.themoviedb.org//movie/359983  \n",
       "39    https://www.themoviedb.org//movie/34544  \n",
       "40   https://www.themoviedb.org//movie/287590  \n",
       "44   https://www.themoviedb.org//movie/763149  \n",
       "46     https://www.themoviedb.org//movie/2454  \n",
       "51     https://www.themoviedb.org//movie/7446  \n",
       "53   https://www.themoviedb.org//movie/396422  \n",
       "54   https://www.themoviedb.org//movie/290859  \n",
       "55   https://www.themoviedb.org//movie/136795  \n",
       "58    https://www.themoviedb.org//movie/68724  \n",
       "68   https://www.themoviedb.org//movie/146216  \n",
       "69   https://www.themoviedb.org//movie/845422  \n",
       "70   https://www.themoviedb.org//movie/504631  \n",
       "75    https://www.themoviedb.org//movie/16366  \n",
       "80   https://www.themoviedb.org//movie/715123  \n",
       "86   https://www.themoviedb.org//movie/484510  \n",
       "92   https://www.themoviedb.org//movie/681429  \n",
       "95   https://www.themoviedb.org//movie/119569  \n",
       "98    https://www.themoviedb.org//movie/26736  \n",
       "99     https://www.themoviedb.org//movie/4108  \n",
       "114  https://www.themoviedb.org//movie/440021  \n",
       "121  https://www.themoviedb.org//movie/397243  \n",
       "127   https://www.themoviedb.org//movie/36586  \n",
       "135  https://www.themoviedb.org//movie/681783  \n",
       "139   https://www.themoviedb.org//movie/11887  \n",
       "140    https://www.themoviedb.org//movie/6947  "
      ]
     },
     "execution_count": 106,
     "metadata": {},
     "output_type": "execute_result"
    }
   ],
   "source": [
    "avg_rating"
   ]
  },
  {
   "cell_type": "code",
   "execution_count": 111,
   "id": "9ecf3ba6",
   "metadata": {},
   "outputs": [
    {
     "data": {
      "application/vnd.plotly.v1+json": {
       "config": {
        "plotlyServerURL": "https://plot.ly"
       },
       "data": [
        {
         "marker": {
          "color": "blue"
         },
         "type": "scatter",
         "x": [
          "The Craft: Legacy",
          "Thor: The Dark World",
          "Just Say Yes",
          "The Lion Guard: Return of the Roar",
          "The A-Team",
          "Saint Seiya: Legend of Sanctuary",
          "Aftermath",
          "The Chronicles of Narnia: Prince Caspian",
          "Tropic Thunder",
          "Annabelle: Creation",
          "Terminator: Dark Fate",
          "The Heat",
          "Elysium",
          "RED 2",
          "Bankrolled",
          "Mermaid Down",
          "Joseph: King of Dreams",
          "Books of Blood",
          "Trolls Holiday",
          "Be Careful What You Wish For",
          "Marvel One-Shot: Item 47",
          "Wizards of Waverly Place: The Movie",
          "The Transporter",
          "Happy Death Day",
          "The Autopsy of Jane Doe",
          "Blade II",
          "Nussa",
          "High School Musical 3: Senior Year",
          "The Village"
         ],
         "y": [
          64,
          66,
          67,
          65,
          64,
          64,
          66,
          66,
          66,
          66,
          65,
          66,
          65,
          65,
          65,
          67,
          66,
          67,
          67,
          67,
          65,
          66,
          67,
          66,
          67,
          65,
          67,
          66,
          64
         ]
        }
       ],
       "layout": {
        "template": {
         "data": {
          "bar": [
           {
            "error_x": {
             "color": "#2a3f5f"
            },
            "error_y": {
             "color": "#2a3f5f"
            },
            "marker": {
             "line": {
              "color": "#E5ECF6",
              "width": 0.5
             },
             "pattern": {
              "fillmode": "overlay",
              "size": 10,
              "solidity": 0.2
             }
            },
            "type": "bar"
           }
          ],
          "barpolar": [
           {
            "marker": {
             "line": {
              "color": "#E5ECF6",
              "width": 0.5
             },
             "pattern": {
              "fillmode": "overlay",
              "size": 10,
              "solidity": 0.2
             }
            },
            "type": "barpolar"
           }
          ],
          "carpet": [
           {
            "aaxis": {
             "endlinecolor": "#2a3f5f",
             "gridcolor": "white",
             "linecolor": "white",
             "minorgridcolor": "white",
             "startlinecolor": "#2a3f5f"
            },
            "baxis": {
             "endlinecolor": "#2a3f5f",
             "gridcolor": "white",
             "linecolor": "white",
             "minorgridcolor": "white",
             "startlinecolor": "#2a3f5f"
            },
            "type": "carpet"
           }
          ],
          "choropleth": [
           {
            "colorbar": {
             "outlinewidth": 0,
             "ticks": ""
            },
            "type": "choropleth"
           }
          ],
          "contour": [
           {
            "colorbar": {
             "outlinewidth": 0,
             "ticks": ""
            },
            "colorscale": [
             [
              0,
              "#0d0887"
             ],
             [
              0.1111111111111111,
              "#46039f"
             ],
             [
              0.2222222222222222,
              "#7201a8"
             ],
             [
              0.3333333333333333,
              "#9c179e"
             ],
             [
              0.4444444444444444,
              "#bd3786"
             ],
             [
              0.5555555555555556,
              "#d8576b"
             ],
             [
              0.6666666666666666,
              "#ed7953"
             ],
             [
              0.7777777777777778,
              "#fb9f3a"
             ],
             [
              0.8888888888888888,
              "#fdca26"
             ],
             [
              1,
              "#f0f921"
             ]
            ],
            "type": "contour"
           }
          ],
          "contourcarpet": [
           {
            "colorbar": {
             "outlinewidth": 0,
             "ticks": ""
            },
            "type": "contourcarpet"
           }
          ],
          "heatmap": [
           {
            "colorbar": {
             "outlinewidth": 0,
             "ticks": ""
            },
            "colorscale": [
             [
              0,
              "#0d0887"
             ],
             [
              0.1111111111111111,
              "#46039f"
             ],
             [
              0.2222222222222222,
              "#7201a8"
             ],
             [
              0.3333333333333333,
              "#9c179e"
             ],
             [
              0.4444444444444444,
              "#bd3786"
             ],
             [
              0.5555555555555556,
              "#d8576b"
             ],
             [
              0.6666666666666666,
              "#ed7953"
             ],
             [
              0.7777777777777778,
              "#fb9f3a"
             ],
             [
              0.8888888888888888,
              "#fdca26"
             ],
             [
              1,
              "#f0f921"
             ]
            ],
            "type": "heatmap"
           }
          ],
          "heatmapgl": [
           {
            "colorbar": {
             "outlinewidth": 0,
             "ticks": ""
            },
            "colorscale": [
             [
              0,
              "#0d0887"
             ],
             [
              0.1111111111111111,
              "#46039f"
             ],
             [
              0.2222222222222222,
              "#7201a8"
             ],
             [
              0.3333333333333333,
              "#9c179e"
             ],
             [
              0.4444444444444444,
              "#bd3786"
             ],
             [
              0.5555555555555556,
              "#d8576b"
             ],
             [
              0.6666666666666666,
              "#ed7953"
             ],
             [
              0.7777777777777778,
              "#fb9f3a"
             ],
             [
              0.8888888888888888,
              "#fdca26"
             ],
             [
              1,
              "#f0f921"
             ]
            ],
            "type": "heatmapgl"
           }
          ],
          "histogram": [
           {
            "marker": {
             "pattern": {
              "fillmode": "overlay",
              "size": 10,
              "solidity": 0.2
             }
            },
            "type": "histogram"
           }
          ],
          "histogram2d": [
           {
            "colorbar": {
             "outlinewidth": 0,
             "ticks": ""
            },
            "colorscale": [
             [
              0,
              "#0d0887"
             ],
             [
              0.1111111111111111,
              "#46039f"
             ],
             [
              0.2222222222222222,
              "#7201a8"
             ],
             [
              0.3333333333333333,
              "#9c179e"
             ],
             [
              0.4444444444444444,
              "#bd3786"
             ],
             [
              0.5555555555555556,
              "#d8576b"
             ],
             [
              0.6666666666666666,
              "#ed7953"
             ],
             [
              0.7777777777777778,
              "#fb9f3a"
             ],
             [
              0.8888888888888888,
              "#fdca26"
             ],
             [
              1,
              "#f0f921"
             ]
            ],
            "type": "histogram2d"
           }
          ],
          "histogram2dcontour": [
           {
            "colorbar": {
             "outlinewidth": 0,
             "ticks": ""
            },
            "colorscale": [
             [
              0,
              "#0d0887"
             ],
             [
              0.1111111111111111,
              "#46039f"
             ],
             [
              0.2222222222222222,
              "#7201a8"
             ],
             [
              0.3333333333333333,
              "#9c179e"
             ],
             [
              0.4444444444444444,
              "#bd3786"
             ],
             [
              0.5555555555555556,
              "#d8576b"
             ],
             [
              0.6666666666666666,
              "#ed7953"
             ],
             [
              0.7777777777777778,
              "#fb9f3a"
             ],
             [
              0.8888888888888888,
              "#fdca26"
             ],
             [
              1,
              "#f0f921"
             ]
            ],
            "type": "histogram2dcontour"
           }
          ],
          "mesh3d": [
           {
            "colorbar": {
             "outlinewidth": 0,
             "ticks": ""
            },
            "type": "mesh3d"
           }
          ],
          "parcoords": [
           {
            "line": {
             "colorbar": {
              "outlinewidth": 0,
              "ticks": ""
             }
            },
            "type": "parcoords"
           }
          ],
          "pie": [
           {
            "automargin": true,
            "type": "pie"
           }
          ],
          "scatter": [
           {
            "marker": {
             "colorbar": {
              "outlinewidth": 0,
              "ticks": ""
             }
            },
            "type": "scatter"
           }
          ],
          "scatter3d": [
           {
            "line": {
             "colorbar": {
              "outlinewidth": 0,
              "ticks": ""
             }
            },
            "marker": {
             "colorbar": {
              "outlinewidth": 0,
              "ticks": ""
             }
            },
            "type": "scatter3d"
           }
          ],
          "scattercarpet": [
           {
            "marker": {
             "colorbar": {
              "outlinewidth": 0,
              "ticks": ""
             }
            },
            "type": "scattercarpet"
           }
          ],
          "scattergeo": [
           {
            "marker": {
             "colorbar": {
              "outlinewidth": 0,
              "ticks": ""
             }
            },
            "type": "scattergeo"
           }
          ],
          "scattergl": [
           {
            "marker": {
             "colorbar": {
              "outlinewidth": 0,
              "ticks": ""
             }
            },
            "type": "scattergl"
           }
          ],
          "scattermapbox": [
           {
            "marker": {
             "colorbar": {
              "outlinewidth": 0,
              "ticks": ""
             }
            },
            "type": "scattermapbox"
           }
          ],
          "scatterpolar": [
           {
            "marker": {
             "colorbar": {
              "outlinewidth": 0,
              "ticks": ""
             }
            },
            "type": "scatterpolar"
           }
          ],
          "scatterpolargl": [
           {
            "marker": {
             "colorbar": {
              "outlinewidth": 0,
              "ticks": ""
             }
            },
            "type": "scatterpolargl"
           }
          ],
          "scatterternary": [
           {
            "marker": {
             "colorbar": {
              "outlinewidth": 0,
              "ticks": ""
             }
            },
            "type": "scatterternary"
           }
          ],
          "surface": [
           {
            "colorbar": {
             "outlinewidth": 0,
             "ticks": ""
            },
            "colorscale": [
             [
              0,
              "#0d0887"
             ],
             [
              0.1111111111111111,
              "#46039f"
             ],
             [
              0.2222222222222222,
              "#7201a8"
             ],
             [
              0.3333333333333333,
              "#9c179e"
             ],
             [
              0.4444444444444444,
              "#bd3786"
             ],
             [
              0.5555555555555556,
              "#d8576b"
             ],
             [
              0.6666666666666666,
              "#ed7953"
             ],
             [
              0.7777777777777778,
              "#fb9f3a"
             ],
             [
              0.8888888888888888,
              "#fdca26"
             ],
             [
              1,
              "#f0f921"
             ]
            ],
            "type": "surface"
           }
          ],
          "table": [
           {
            "cells": {
             "fill": {
              "color": "#EBF0F8"
             },
             "line": {
              "color": "white"
             }
            },
            "header": {
             "fill": {
              "color": "#C8D4E3"
             },
             "line": {
              "color": "white"
             }
            },
            "type": "table"
           }
          ]
         },
         "layout": {
          "annotationdefaults": {
           "arrowcolor": "#2a3f5f",
           "arrowhead": 0,
           "arrowwidth": 1
          },
          "autotypenumbers": "strict",
          "coloraxis": {
           "colorbar": {
            "outlinewidth": 0,
            "ticks": ""
           }
          },
          "colorscale": {
           "diverging": [
            [
             0,
             "#8e0152"
            ],
            [
             0.1,
             "#c51b7d"
            ],
            [
             0.2,
             "#de77ae"
            ],
            [
             0.3,
             "#f1b6da"
            ],
            [
             0.4,
             "#fde0ef"
            ],
            [
             0.5,
             "#f7f7f7"
            ],
            [
             0.6,
             "#e6f5d0"
            ],
            [
             0.7,
             "#b8e186"
            ],
            [
             0.8,
             "#7fbc41"
            ],
            [
             0.9,
             "#4d9221"
            ],
            [
             1,
             "#276419"
            ]
           ],
           "sequential": [
            [
             0,
             "#0d0887"
            ],
            [
             0.1111111111111111,
             "#46039f"
            ],
            [
             0.2222222222222222,
             "#7201a8"
            ],
            [
             0.3333333333333333,
             "#9c179e"
            ],
            [
             0.4444444444444444,
             "#bd3786"
            ],
            [
             0.5555555555555556,
             "#d8576b"
            ],
            [
             0.6666666666666666,
             "#ed7953"
            ],
            [
             0.7777777777777778,
             "#fb9f3a"
            ],
            [
             0.8888888888888888,
             "#fdca26"
            ],
            [
             1,
             "#f0f921"
            ]
           ],
           "sequentialminus": [
            [
             0,
             "#0d0887"
            ],
            [
             0.1111111111111111,
             "#46039f"
            ],
            [
             0.2222222222222222,
             "#7201a8"
            ],
            [
             0.3333333333333333,
             "#9c179e"
            ],
            [
             0.4444444444444444,
             "#bd3786"
            ],
            [
             0.5555555555555556,
             "#d8576b"
            ],
            [
             0.6666666666666666,
             "#ed7953"
            ],
            [
             0.7777777777777778,
             "#fb9f3a"
            ],
            [
             0.8888888888888888,
             "#fdca26"
            ],
            [
             1,
             "#f0f921"
            ]
           ]
          },
          "colorway": [
           "#636efa",
           "#EF553B",
           "#00cc96",
           "#ab63fa",
           "#FFA15A",
           "#19d3f3",
           "#FF6692",
           "#B6E880",
           "#FF97FF",
           "#FECB52"
          ],
          "font": {
           "color": "#2a3f5f"
          },
          "geo": {
           "bgcolor": "white",
           "lakecolor": "white",
           "landcolor": "#E5ECF6",
           "showlakes": true,
           "showland": true,
           "subunitcolor": "white"
          },
          "hoverlabel": {
           "align": "left"
          },
          "hovermode": "closest",
          "mapbox": {
           "style": "light"
          },
          "paper_bgcolor": "white",
          "plot_bgcolor": "#E5ECF6",
          "polar": {
           "angularaxis": {
            "gridcolor": "white",
            "linecolor": "white",
            "ticks": ""
           },
           "bgcolor": "#E5ECF6",
           "radialaxis": {
            "gridcolor": "white",
            "linecolor": "white",
            "ticks": ""
           }
          },
          "scene": {
           "xaxis": {
            "backgroundcolor": "#E5ECF6",
            "gridcolor": "white",
            "gridwidth": 2,
            "linecolor": "white",
            "showbackground": true,
            "ticks": "",
            "zerolinecolor": "white"
           },
           "yaxis": {
            "backgroundcolor": "#E5ECF6",
            "gridcolor": "white",
            "gridwidth": 2,
            "linecolor": "white",
            "showbackground": true,
            "ticks": "",
            "zerolinecolor": "white"
           },
           "zaxis": {
            "backgroundcolor": "#E5ECF6",
            "gridcolor": "white",
            "gridwidth": 2,
            "linecolor": "white",
            "showbackground": true,
            "ticks": "",
            "zerolinecolor": "white"
           }
          },
          "shapedefaults": {
           "line": {
            "color": "#2a3f5f"
           }
          },
          "ternary": {
           "aaxis": {
            "gridcolor": "white",
            "linecolor": "white",
            "ticks": ""
           },
           "baxis": {
            "gridcolor": "white",
            "linecolor": "white",
            "ticks": ""
           },
           "bgcolor": "#E5ECF6",
           "caxis": {
            "gridcolor": "white",
            "linecolor": "white",
            "ticks": ""
           }
          },
          "title": {
           "x": 0.05
          },
          "xaxis": {
           "automargin": true,
           "gridcolor": "white",
           "linecolor": "white",
           "ticks": "",
           "title": {
            "standoff": 15
           },
           "zerolinecolor": "white",
           "zerolinewidth": 2
          },
          "yaxis": {
           "automargin": true,
           "gridcolor": "white",
           "linecolor": "white",
           "ticks": "",
           "title": {
            "standoff": 15
           },
           "zerolinecolor": "white",
           "zerolinewidth": 2
          }
         }
        },
        "title": {
         "text": "Average rating movies"
        },
        "xaxis": {
         "showticklabels": true,
         "title": {
          "text": "Movies"
         }
        },
        "yaxis": {
         "showticklabels": true,
         "title": {
          "text": "Ratings"
         }
        }
       }
      },
      "text/html": [
       "<div>                            <div id=\"f4cb3fd8-3083-4825-8b07-75c712010b2c\" class=\"plotly-graph-div\" style=\"height:525px; width:100%;\"></div>            <script type=\"text/javascript\">                require([\"plotly\"], function(Plotly) {                    window.PLOTLYENV=window.PLOTLYENV || {};                                    if (document.getElementById(\"f4cb3fd8-3083-4825-8b07-75c712010b2c\")) {                    Plotly.newPlot(                        \"f4cb3fd8-3083-4825-8b07-75c712010b2c\",                        [{\"marker\":{\"color\":\"blue\"},\"type\":\"scatter\",\"x\":[\"The Craft: Legacy\",\"Thor: The Dark World\",\"Just Say Yes\",\"The Lion Guard: Return of the Roar\",\"The A-Team\",\"Saint Seiya: Legend of Sanctuary\",\"Aftermath\",\"The Chronicles of Narnia: Prince Caspian\",\"Tropic Thunder\",\"Annabelle: Creation\",\"Terminator: Dark Fate\",\"The Heat\",\"Elysium\",\"RED 2\",\"Bankrolled\",\"Mermaid Down\",\"Joseph: King of Dreams\",\"Books of Blood\",\"Trolls Holiday\",\"Be Careful What You Wish For\",\"Marvel One-Shot: Item 47\",\"Wizards of Waverly Place: The Movie\",\"The Transporter\",\"Happy Death Day\",\"The Autopsy of Jane Doe\",\"Blade II\",\"Nussa\",\"High School Musical 3: Senior Year\",\"The Village\"],\"y\":[64.0,66.0,67.0,65.0,64.0,64.0,66.0,66.0,66.0,66.0,65.0,66.0,65.0,65.0,65.0,67.0,66.0,67.0,67.0,67.0,65.0,66.0,67.0,66.0,67.0,65.0,67.0,66.0,64.0]}],                        {\"template\":{\"data\":{\"bar\":[{\"error_x\":{\"color\":\"#2a3f5f\"},\"error_y\":{\"color\":\"#2a3f5f\"},\"marker\":{\"line\":{\"color\":\"#E5ECF6\",\"width\":0.5},\"pattern\":{\"fillmode\":\"overlay\",\"size\":10,\"solidity\":0.2}},\"type\":\"bar\"}],\"barpolar\":[{\"marker\":{\"line\":{\"color\":\"#E5ECF6\",\"width\":0.5},\"pattern\":{\"fillmode\":\"overlay\",\"size\":10,\"solidity\":0.2}},\"type\":\"barpolar\"}],\"carpet\":[{\"aaxis\":{\"endlinecolor\":\"#2a3f5f\",\"gridcolor\":\"white\",\"linecolor\":\"white\",\"minorgridcolor\":\"white\",\"startlinecolor\":\"#2a3f5f\"},\"baxis\":{\"endlinecolor\":\"#2a3f5f\",\"gridcolor\":\"white\",\"linecolor\":\"white\",\"minorgridcolor\":\"white\",\"startlinecolor\":\"#2a3f5f\"},\"type\":\"carpet\"}],\"choropleth\":[{\"colorbar\":{\"outlinewidth\":0,\"ticks\":\"\"},\"type\":\"choropleth\"}],\"contour\":[{\"colorbar\":{\"outlinewidth\":0,\"ticks\":\"\"},\"colorscale\":[[0.0,\"#0d0887\"],[0.1111111111111111,\"#46039f\"],[0.2222222222222222,\"#7201a8\"],[0.3333333333333333,\"#9c179e\"],[0.4444444444444444,\"#bd3786\"],[0.5555555555555556,\"#d8576b\"],[0.6666666666666666,\"#ed7953\"],[0.7777777777777778,\"#fb9f3a\"],[0.8888888888888888,\"#fdca26\"],[1.0,\"#f0f921\"]],\"type\":\"contour\"}],\"contourcarpet\":[{\"colorbar\":{\"outlinewidth\":0,\"ticks\":\"\"},\"type\":\"contourcarpet\"}],\"heatmap\":[{\"colorbar\":{\"outlinewidth\":0,\"ticks\":\"\"},\"colorscale\":[[0.0,\"#0d0887\"],[0.1111111111111111,\"#46039f\"],[0.2222222222222222,\"#7201a8\"],[0.3333333333333333,\"#9c179e\"],[0.4444444444444444,\"#bd3786\"],[0.5555555555555556,\"#d8576b\"],[0.6666666666666666,\"#ed7953\"],[0.7777777777777778,\"#fb9f3a\"],[0.8888888888888888,\"#fdca26\"],[1.0,\"#f0f921\"]],\"type\":\"heatmap\"}],\"heatmapgl\":[{\"colorbar\":{\"outlinewidth\":0,\"ticks\":\"\"},\"colorscale\":[[0.0,\"#0d0887\"],[0.1111111111111111,\"#46039f\"],[0.2222222222222222,\"#7201a8\"],[0.3333333333333333,\"#9c179e\"],[0.4444444444444444,\"#bd3786\"],[0.5555555555555556,\"#d8576b\"],[0.6666666666666666,\"#ed7953\"],[0.7777777777777778,\"#fb9f3a\"],[0.8888888888888888,\"#fdca26\"],[1.0,\"#f0f921\"]],\"type\":\"heatmapgl\"}],\"histogram\":[{\"marker\":{\"pattern\":{\"fillmode\":\"overlay\",\"size\":10,\"solidity\":0.2}},\"type\":\"histogram\"}],\"histogram2d\":[{\"colorbar\":{\"outlinewidth\":0,\"ticks\":\"\"},\"colorscale\":[[0.0,\"#0d0887\"],[0.1111111111111111,\"#46039f\"],[0.2222222222222222,\"#7201a8\"],[0.3333333333333333,\"#9c179e\"],[0.4444444444444444,\"#bd3786\"],[0.5555555555555556,\"#d8576b\"],[0.6666666666666666,\"#ed7953\"],[0.7777777777777778,\"#fb9f3a\"],[0.8888888888888888,\"#fdca26\"],[1.0,\"#f0f921\"]],\"type\":\"histogram2d\"}],\"histogram2dcontour\":[{\"colorbar\":{\"outlinewidth\":0,\"ticks\":\"\"},\"colorscale\":[[0.0,\"#0d0887\"],[0.1111111111111111,\"#46039f\"],[0.2222222222222222,\"#7201a8\"],[0.3333333333333333,\"#9c179e\"],[0.4444444444444444,\"#bd3786\"],[0.5555555555555556,\"#d8576b\"],[0.6666666666666666,\"#ed7953\"],[0.7777777777777778,\"#fb9f3a\"],[0.8888888888888888,\"#fdca26\"],[1.0,\"#f0f921\"]],\"type\":\"histogram2dcontour\"}],\"mesh3d\":[{\"colorbar\":{\"outlinewidth\":0,\"ticks\":\"\"},\"type\":\"mesh3d\"}],\"parcoords\":[{\"line\":{\"colorbar\":{\"outlinewidth\":0,\"ticks\":\"\"}},\"type\":\"parcoords\"}],\"pie\":[{\"automargin\":true,\"type\":\"pie\"}],\"scatter\":[{\"marker\":{\"colorbar\":{\"outlinewidth\":0,\"ticks\":\"\"}},\"type\":\"scatter\"}],\"scatter3d\":[{\"line\":{\"colorbar\":{\"outlinewidth\":0,\"ticks\":\"\"}},\"marker\":{\"colorbar\":{\"outlinewidth\":0,\"ticks\":\"\"}},\"type\":\"scatter3d\"}],\"scattercarpet\":[{\"marker\":{\"colorbar\":{\"outlinewidth\":0,\"ticks\":\"\"}},\"type\":\"scattercarpet\"}],\"scattergeo\":[{\"marker\":{\"colorbar\":{\"outlinewidth\":0,\"ticks\":\"\"}},\"type\":\"scattergeo\"}],\"scattergl\":[{\"marker\":{\"colorbar\":{\"outlinewidth\":0,\"ticks\":\"\"}},\"type\":\"scattergl\"}],\"scattermapbox\":[{\"marker\":{\"colorbar\":{\"outlinewidth\":0,\"ticks\":\"\"}},\"type\":\"scattermapbox\"}],\"scatterpolar\":[{\"marker\":{\"colorbar\":{\"outlinewidth\":0,\"ticks\":\"\"}},\"type\":\"scatterpolar\"}],\"scatterpolargl\":[{\"marker\":{\"colorbar\":{\"outlinewidth\":0,\"ticks\":\"\"}},\"type\":\"scatterpolargl\"}],\"scatterternary\":[{\"marker\":{\"colorbar\":{\"outlinewidth\":0,\"ticks\":\"\"}},\"type\":\"scatterternary\"}],\"surface\":[{\"colorbar\":{\"outlinewidth\":0,\"ticks\":\"\"},\"colorscale\":[[0.0,\"#0d0887\"],[0.1111111111111111,\"#46039f\"],[0.2222222222222222,\"#7201a8\"],[0.3333333333333333,\"#9c179e\"],[0.4444444444444444,\"#bd3786\"],[0.5555555555555556,\"#d8576b\"],[0.6666666666666666,\"#ed7953\"],[0.7777777777777778,\"#fb9f3a\"],[0.8888888888888888,\"#fdca26\"],[1.0,\"#f0f921\"]],\"type\":\"surface\"}],\"table\":[{\"cells\":{\"fill\":{\"color\":\"#EBF0F8\"},\"line\":{\"color\":\"white\"}},\"header\":{\"fill\":{\"color\":\"#C8D4E3\"},\"line\":{\"color\":\"white\"}},\"type\":\"table\"}]},\"layout\":{\"annotationdefaults\":{\"arrowcolor\":\"#2a3f5f\",\"arrowhead\":0,\"arrowwidth\":1},\"autotypenumbers\":\"strict\",\"coloraxis\":{\"colorbar\":{\"outlinewidth\":0,\"ticks\":\"\"}},\"colorscale\":{\"diverging\":[[0,\"#8e0152\"],[0.1,\"#c51b7d\"],[0.2,\"#de77ae\"],[0.3,\"#f1b6da\"],[0.4,\"#fde0ef\"],[0.5,\"#f7f7f7\"],[0.6,\"#e6f5d0\"],[0.7,\"#b8e186\"],[0.8,\"#7fbc41\"],[0.9,\"#4d9221\"],[1,\"#276419\"]],\"sequential\":[[0.0,\"#0d0887\"],[0.1111111111111111,\"#46039f\"],[0.2222222222222222,\"#7201a8\"],[0.3333333333333333,\"#9c179e\"],[0.4444444444444444,\"#bd3786\"],[0.5555555555555556,\"#d8576b\"],[0.6666666666666666,\"#ed7953\"],[0.7777777777777778,\"#fb9f3a\"],[0.8888888888888888,\"#fdca26\"],[1.0,\"#f0f921\"]],\"sequentialminus\":[[0.0,\"#0d0887\"],[0.1111111111111111,\"#46039f\"],[0.2222222222222222,\"#7201a8\"],[0.3333333333333333,\"#9c179e\"],[0.4444444444444444,\"#bd3786\"],[0.5555555555555556,\"#d8576b\"],[0.6666666666666666,\"#ed7953\"],[0.7777777777777778,\"#fb9f3a\"],[0.8888888888888888,\"#fdca26\"],[1.0,\"#f0f921\"]]},\"colorway\":[\"#636efa\",\"#EF553B\",\"#00cc96\",\"#ab63fa\",\"#FFA15A\",\"#19d3f3\",\"#FF6692\",\"#B6E880\",\"#FF97FF\",\"#FECB52\"],\"font\":{\"color\":\"#2a3f5f\"},\"geo\":{\"bgcolor\":\"white\",\"lakecolor\":\"white\",\"landcolor\":\"#E5ECF6\",\"showlakes\":true,\"showland\":true,\"subunitcolor\":\"white\"},\"hoverlabel\":{\"align\":\"left\"},\"hovermode\":\"closest\",\"mapbox\":{\"style\":\"light\"},\"paper_bgcolor\":\"white\",\"plot_bgcolor\":\"#E5ECF6\",\"polar\":{\"angularaxis\":{\"gridcolor\":\"white\",\"linecolor\":\"white\",\"ticks\":\"\"},\"bgcolor\":\"#E5ECF6\",\"radialaxis\":{\"gridcolor\":\"white\",\"linecolor\":\"white\",\"ticks\":\"\"}},\"scene\":{\"xaxis\":{\"backgroundcolor\":\"#E5ECF6\",\"gridcolor\":\"white\",\"gridwidth\":2,\"linecolor\":\"white\",\"showbackground\":true,\"ticks\":\"\",\"zerolinecolor\":\"white\"},\"yaxis\":{\"backgroundcolor\":\"#E5ECF6\",\"gridcolor\":\"white\",\"gridwidth\":2,\"linecolor\":\"white\",\"showbackground\":true,\"ticks\":\"\",\"zerolinecolor\":\"white\"},\"zaxis\":{\"backgroundcolor\":\"#E5ECF6\",\"gridcolor\":\"white\",\"gridwidth\":2,\"linecolor\":\"white\",\"showbackground\":true,\"ticks\":\"\",\"zerolinecolor\":\"white\"}},\"shapedefaults\":{\"line\":{\"color\":\"#2a3f5f\"}},\"ternary\":{\"aaxis\":{\"gridcolor\":\"white\",\"linecolor\":\"white\",\"ticks\":\"\"},\"baxis\":{\"gridcolor\":\"white\",\"linecolor\":\"white\",\"ticks\":\"\"},\"bgcolor\":\"#E5ECF6\",\"caxis\":{\"gridcolor\":\"white\",\"linecolor\":\"white\",\"ticks\":\"\"}},\"title\":{\"x\":0.05},\"xaxis\":{\"automargin\":true,\"gridcolor\":\"white\",\"linecolor\":\"white\",\"ticks\":\"\",\"title\":{\"standoff\":15},\"zerolinecolor\":\"white\",\"zerolinewidth\":2},\"yaxis\":{\"automargin\":true,\"gridcolor\":\"white\",\"linecolor\":\"white\",\"ticks\":\"\",\"title\":{\"standoff\":15},\"zerolinecolor\":\"white\",\"zerolinewidth\":2}}},\"title\":{\"text\":\"Average rating movies\"},\"xaxis\":{\"showticklabels\":true,\"title\":{\"text\":\"Movies\"}},\"yaxis\":{\"showticklabels\":true,\"title\":{\"text\":\"Ratings\"}}},                        {\"responsive\": true}                    ).then(function(){\n",
       "                            \n",
       "var gd = document.getElementById('f4cb3fd8-3083-4825-8b07-75c712010b2c');\n",
       "var x = new MutationObserver(function (mutations, observer) {{\n",
       "        var display = window.getComputedStyle(gd).display;\n",
       "        if (!display || display === 'none') {{\n",
       "            console.log([gd, 'removed!']);\n",
       "            Plotly.purge(gd);\n",
       "            observer.disconnect();\n",
       "        }}\n",
       "}});\n",
       "\n",
       "// Listen for the removal of the full notebook cells\n",
       "var notebookContainer = gd.closest('#notebook-container');\n",
       "if (notebookContainer) {{\n",
       "    x.observe(notebookContainer, {childList: true});\n",
       "}}\n",
       "\n",
       "// Listen for the clearing of the current output cell\n",
       "var outputEl = gd.closest('.output');\n",
       "if (outputEl) {{\n",
       "    x.observe(outputEl, {childList: true});\n",
       "}}\n",
       "\n",
       "                        })                };                });            </script>        </div>"
      ]
     },
     "metadata": {},
     "output_type": "display_data"
    }
   ],
   "source": [
    "fig = go.Scatter(x=avg_rating.Name,y=avg_rating.Rating,marker=dict(color='blue'))\n",
    "layout = dict ( title = 'Average rating movies' \n",
    "               , xaxis = dict ( title = \"Movies\" , showticklabels = True ), \n",
    "               yaxis = dict ( title = \"Ratings\" , showticklabels = True ), )\n",
    "\n",
    "go.Figure(fig,layout=layout)"
   ]
  },
  {
   "cell_type": "markdown",
   "id": "e5ffa928",
   "metadata": {},
   "source": [
    "# Movies with below 50 ratings"
   ]
  },
  {
   "cell_type": "code",
   "execution_count": 122,
   "id": "7ba18a88",
   "metadata": {},
   "outputs": [
    {
     "data": {
      "text/html": [
       "<div>\n",
       "<style scoped>\n",
       "    .dataframe tbody tr th:only-of-type {\n",
       "        vertical-align: middle;\n",
       "    }\n",
       "\n",
       "    .dataframe tbody tr th {\n",
       "        vertical-align: top;\n",
       "    }\n",
       "\n",
       "    .dataframe thead th {\n",
       "        text-align: right;\n",
       "    }\n",
       "</style>\n",
       "<table border=\"1\" class=\"dataframe\">\n",
       "  <thead>\n",
       "    <tr style=\"text-align: right;\">\n",
       "      <th></th>\n",
       "      <th>Name</th>\n",
       "      <th>Rating</th>\n",
       "      <th>Genre</th>\n",
       "      <th>Release date</th>\n",
       "      <th>Runtime</th>\n",
       "      <th>Director</th>\n",
       "      <th>Budget ($)</th>\n",
       "      <th>Revenue ($)</th>\n",
       "      <th>Url</th>\n",
       "    </tr>\n",
       "  </thead>\n",
       "  <tbody>\n",
       "    <tr>\n",
       "      <th>4</th>\n",
       "      <td>Demonic</td>\n",
       "      <td>49.0</td>\n",
       "      <td>Horror,Thriller</td>\n",
       "      <td>08/20/2021 (US)</td>\n",
       "      <td>1h 44m</td>\n",
       "      <td>Neill Blomkamp</td>\n",
       "      <td>NaN</td>\n",
       "      <td>NaN</td>\n",
       "      <td>https://www.themoviedb.org//movie/774021</td>\n",
       "    </tr>\n",
       "    <tr>\n",
       "      <th>13</th>\n",
       "      <td>The Last Airbender</td>\n",
       "      <td>47.0</td>\n",
       "      <td>Action,Adventure,Fantasy</td>\n",
       "      <td>07/01/2010 (US)</td>\n",
       "      <td>1h 43m</td>\n",
       "      <td>M. Night Shyamalan</td>\n",
       "      <td>$150,000,000.00</td>\n",
       "      <td>$319,713,881.00</td>\n",
       "      <td>https://www.themoviedb.org//movie/10196</td>\n",
       "    </tr>\n",
       "    <tr>\n",
       "      <th>32</th>\n",
       "      <td>Porno</td>\n",
       "      <td>45.0</td>\n",
       "      <td>Drama</td>\n",
       "      <td>01/01/1981 (BR)</td>\n",
       "      <td>1h 23m</td>\n",
       "      <td>David Cardoso</td>\n",
       "      <td>NaN</td>\n",
       "      <td>NaN</td>\n",
       "      <td>https://www.themoviedb.org//movie/197158</td>\n",
       "    </tr>\n",
       "    <tr>\n",
       "      <th>56</th>\n",
       "      <td>Viking Quest</td>\n",
       "      <td>44.0</td>\n",
       "      <td>Action,Adventure,Fantasy,TV Movie</td>\n",
       "      <td>10/07/2014 (CA)</td>\n",
       "      <td>1h 28m</td>\n",
       "      <td>Todor Chapkanov</td>\n",
       "      <td>NaN</td>\n",
       "      <td>NaN</td>\n",
       "      <td>https://www.themoviedb.org//movie/317960</td>\n",
       "    </tr>\n",
       "    <tr>\n",
       "      <th>73</th>\n",
       "      <td>Guardians</td>\n",
       "      <td>48.0</td>\n",
       "      <td>Action,Fantasy,Science Fiction</td>\n",
       "      <td>02/24/2017 (IN)</td>\n",
       "      <td>1h 40m</td>\n",
       "      <td>Sarik Andreasyan</td>\n",
       "      <td>NaN</td>\n",
       "      <td>$5,400,000.00</td>\n",
       "      <td>https://www.themoviedb.org//movie/354556</td>\n",
       "    </tr>\n",
       "    <tr>\n",
       "      <th>82</th>\n",
       "      <td>Death Note</td>\n",
       "      <td>42.0</td>\n",
       "      <td>Fantasy,Thriller,Crime,Drama,Horror</td>\n",
       "      <td>08/25/2017 (US)</td>\n",
       "      <td>1h 41m</td>\n",
       "      <td>Adam Wingard</td>\n",
       "      <td>$40,000,000.00</td>\n",
       "      <td>NaN</td>\n",
       "      <td>https://www.themoviedb.org//movie/351460</td>\n",
       "    </tr>\n",
       "    <tr>\n",
       "      <th>96</th>\n",
       "      <td>The Scorpion King 3: Battle for Redemption</td>\n",
       "      <td>45.0</td>\n",
       "      <td>Action,Adventure,Fantasy,Drama</td>\n",
       "      <td>01/17/2012 (US)</td>\n",
       "      <td>1h 46m</td>\n",
       "      <td>Roel Reiné</td>\n",
       "      <td>$5,000,000.00</td>\n",
       "      <td>NaN</td>\n",
       "      <td>https://www.themoviedb.org//movie/78049</td>\n",
       "    </tr>\n",
       "  </tbody>\n",
       "</table>\n",
       "</div>"
      ],
      "text/plain": [
       "                                          Name  Rating  \\\n",
       "4                                      Demonic    49.0   \n",
       "13                          The Last Airbender    47.0   \n",
       "32                                       Porno    45.0   \n",
       "56                                Viking Quest    44.0   \n",
       "73                                   Guardians    48.0   \n",
       "82                                  Death Note    42.0   \n",
       "96  The Scorpion King 3: Battle for Redemption    45.0   \n",
       "\n",
       "                                  Genre     Release date Runtime  \\\n",
       "4                       Horror,Thriller  08/20/2021 (US)  1h 44m   \n",
       "13             Action,Adventure,Fantasy  07/01/2010 (US)  1h 43m   \n",
       "32                                Drama  01/01/1981 (BR)  1h 23m   \n",
       "56    Action,Adventure,Fantasy,TV Movie  10/07/2014 (CA)  1h 28m   \n",
       "73       Action,Fantasy,Science Fiction  02/24/2017 (IN)  1h 40m   \n",
       "82  Fantasy,Thriller,Crime,Drama,Horror  08/25/2017 (US)  1h 41m   \n",
       "96       Action,Adventure,Fantasy,Drama  01/17/2012 (US)  1h 46m   \n",
       "\n",
       "              Director       Budget ($)     Revenue ($)   \\\n",
       "4       Neill Blomkamp              NaN              NaN   \n",
       "13  M. Night Shyamalan  $150,000,000.00  $319,713,881.00   \n",
       "32       David Cardoso              NaN              NaN   \n",
       "56     Todor Chapkanov              NaN              NaN   \n",
       "73    Sarik Andreasyan              NaN    $5,400,000.00   \n",
       "82        Adam Wingard   $40,000,000.00              NaN   \n",
       "96          Roel Reiné    $5,000,000.00              NaN   \n",
       "\n",
       "                                         Url  \n",
       "4   https://www.themoviedb.org//movie/774021  \n",
       "13   https://www.themoviedb.org//movie/10196  \n",
       "32  https://www.themoviedb.org//movie/197158  \n",
       "56  https://www.themoviedb.org//movie/317960  \n",
       "73  https://www.themoviedb.org//movie/354556  \n",
       "82  https://www.themoviedb.org//movie/351460  \n",
       "96   https://www.themoviedb.org//movie/78049  "
      ]
     },
     "execution_count": 122,
     "metadata": {},
     "output_type": "execute_result"
    }
   ],
   "source": [
    "rating_50 = movies_df[movies_df['Rating']<=50]\n",
    "rating_50"
   ]
  },
  {
   "cell_type": "code",
   "execution_count": 123,
   "id": "e3efd950",
   "metadata": {},
   "outputs": [
    {
     "data": {
      "application/vnd.plotly.v1+json": {
       "config": {
        "plotlyServerURL": "https://plot.ly"
       },
       "data": [
        {
         "marker": {
          "color": "red"
         },
         "type": "scatter",
         "x": [
          "Demonic",
          "The Last Airbender",
          "Porno",
          "Viking Quest",
          "Guardians",
          "Death Note",
          "The Scorpion King 3: Battle for Redemption"
         ],
         "y": [
          49,
          47,
          45,
          44,
          48,
          42,
          45
         ]
        }
       ],
       "layout": {
        "template": {
         "data": {
          "bar": [
           {
            "error_x": {
             "color": "#2a3f5f"
            },
            "error_y": {
             "color": "#2a3f5f"
            },
            "marker": {
             "line": {
              "color": "#E5ECF6",
              "width": 0.5
             },
             "pattern": {
              "fillmode": "overlay",
              "size": 10,
              "solidity": 0.2
             }
            },
            "type": "bar"
           }
          ],
          "barpolar": [
           {
            "marker": {
             "line": {
              "color": "#E5ECF6",
              "width": 0.5
             },
             "pattern": {
              "fillmode": "overlay",
              "size": 10,
              "solidity": 0.2
             }
            },
            "type": "barpolar"
           }
          ],
          "carpet": [
           {
            "aaxis": {
             "endlinecolor": "#2a3f5f",
             "gridcolor": "white",
             "linecolor": "white",
             "minorgridcolor": "white",
             "startlinecolor": "#2a3f5f"
            },
            "baxis": {
             "endlinecolor": "#2a3f5f",
             "gridcolor": "white",
             "linecolor": "white",
             "minorgridcolor": "white",
             "startlinecolor": "#2a3f5f"
            },
            "type": "carpet"
           }
          ],
          "choropleth": [
           {
            "colorbar": {
             "outlinewidth": 0,
             "ticks": ""
            },
            "type": "choropleth"
           }
          ],
          "contour": [
           {
            "colorbar": {
             "outlinewidth": 0,
             "ticks": ""
            },
            "colorscale": [
             [
              0,
              "#0d0887"
             ],
             [
              0.1111111111111111,
              "#46039f"
             ],
             [
              0.2222222222222222,
              "#7201a8"
             ],
             [
              0.3333333333333333,
              "#9c179e"
             ],
             [
              0.4444444444444444,
              "#bd3786"
             ],
             [
              0.5555555555555556,
              "#d8576b"
             ],
             [
              0.6666666666666666,
              "#ed7953"
             ],
             [
              0.7777777777777778,
              "#fb9f3a"
             ],
             [
              0.8888888888888888,
              "#fdca26"
             ],
             [
              1,
              "#f0f921"
             ]
            ],
            "type": "contour"
           }
          ],
          "contourcarpet": [
           {
            "colorbar": {
             "outlinewidth": 0,
             "ticks": ""
            },
            "type": "contourcarpet"
           }
          ],
          "heatmap": [
           {
            "colorbar": {
             "outlinewidth": 0,
             "ticks": ""
            },
            "colorscale": [
             [
              0,
              "#0d0887"
             ],
             [
              0.1111111111111111,
              "#46039f"
             ],
             [
              0.2222222222222222,
              "#7201a8"
             ],
             [
              0.3333333333333333,
              "#9c179e"
             ],
             [
              0.4444444444444444,
              "#bd3786"
             ],
             [
              0.5555555555555556,
              "#d8576b"
             ],
             [
              0.6666666666666666,
              "#ed7953"
             ],
             [
              0.7777777777777778,
              "#fb9f3a"
             ],
             [
              0.8888888888888888,
              "#fdca26"
             ],
             [
              1,
              "#f0f921"
             ]
            ],
            "type": "heatmap"
           }
          ],
          "heatmapgl": [
           {
            "colorbar": {
             "outlinewidth": 0,
             "ticks": ""
            },
            "colorscale": [
             [
              0,
              "#0d0887"
             ],
             [
              0.1111111111111111,
              "#46039f"
             ],
             [
              0.2222222222222222,
              "#7201a8"
             ],
             [
              0.3333333333333333,
              "#9c179e"
             ],
             [
              0.4444444444444444,
              "#bd3786"
             ],
             [
              0.5555555555555556,
              "#d8576b"
             ],
             [
              0.6666666666666666,
              "#ed7953"
             ],
             [
              0.7777777777777778,
              "#fb9f3a"
             ],
             [
              0.8888888888888888,
              "#fdca26"
             ],
             [
              1,
              "#f0f921"
             ]
            ],
            "type": "heatmapgl"
           }
          ],
          "histogram": [
           {
            "marker": {
             "pattern": {
              "fillmode": "overlay",
              "size": 10,
              "solidity": 0.2
             }
            },
            "type": "histogram"
           }
          ],
          "histogram2d": [
           {
            "colorbar": {
             "outlinewidth": 0,
             "ticks": ""
            },
            "colorscale": [
             [
              0,
              "#0d0887"
             ],
             [
              0.1111111111111111,
              "#46039f"
             ],
             [
              0.2222222222222222,
              "#7201a8"
             ],
             [
              0.3333333333333333,
              "#9c179e"
             ],
             [
              0.4444444444444444,
              "#bd3786"
             ],
             [
              0.5555555555555556,
              "#d8576b"
             ],
             [
              0.6666666666666666,
              "#ed7953"
             ],
             [
              0.7777777777777778,
              "#fb9f3a"
             ],
             [
              0.8888888888888888,
              "#fdca26"
             ],
             [
              1,
              "#f0f921"
             ]
            ],
            "type": "histogram2d"
           }
          ],
          "histogram2dcontour": [
           {
            "colorbar": {
             "outlinewidth": 0,
             "ticks": ""
            },
            "colorscale": [
             [
              0,
              "#0d0887"
             ],
             [
              0.1111111111111111,
              "#46039f"
             ],
             [
              0.2222222222222222,
              "#7201a8"
             ],
             [
              0.3333333333333333,
              "#9c179e"
             ],
             [
              0.4444444444444444,
              "#bd3786"
             ],
             [
              0.5555555555555556,
              "#d8576b"
             ],
             [
              0.6666666666666666,
              "#ed7953"
             ],
             [
              0.7777777777777778,
              "#fb9f3a"
             ],
             [
              0.8888888888888888,
              "#fdca26"
             ],
             [
              1,
              "#f0f921"
             ]
            ],
            "type": "histogram2dcontour"
           }
          ],
          "mesh3d": [
           {
            "colorbar": {
             "outlinewidth": 0,
             "ticks": ""
            },
            "type": "mesh3d"
           }
          ],
          "parcoords": [
           {
            "line": {
             "colorbar": {
              "outlinewidth": 0,
              "ticks": ""
             }
            },
            "type": "parcoords"
           }
          ],
          "pie": [
           {
            "automargin": true,
            "type": "pie"
           }
          ],
          "scatter": [
           {
            "marker": {
             "colorbar": {
              "outlinewidth": 0,
              "ticks": ""
             }
            },
            "type": "scatter"
           }
          ],
          "scatter3d": [
           {
            "line": {
             "colorbar": {
              "outlinewidth": 0,
              "ticks": ""
             }
            },
            "marker": {
             "colorbar": {
              "outlinewidth": 0,
              "ticks": ""
             }
            },
            "type": "scatter3d"
           }
          ],
          "scattercarpet": [
           {
            "marker": {
             "colorbar": {
              "outlinewidth": 0,
              "ticks": ""
             }
            },
            "type": "scattercarpet"
           }
          ],
          "scattergeo": [
           {
            "marker": {
             "colorbar": {
              "outlinewidth": 0,
              "ticks": ""
             }
            },
            "type": "scattergeo"
           }
          ],
          "scattergl": [
           {
            "marker": {
             "colorbar": {
              "outlinewidth": 0,
              "ticks": ""
             }
            },
            "type": "scattergl"
           }
          ],
          "scattermapbox": [
           {
            "marker": {
             "colorbar": {
              "outlinewidth": 0,
              "ticks": ""
             }
            },
            "type": "scattermapbox"
           }
          ],
          "scatterpolar": [
           {
            "marker": {
             "colorbar": {
              "outlinewidth": 0,
              "ticks": ""
             }
            },
            "type": "scatterpolar"
           }
          ],
          "scatterpolargl": [
           {
            "marker": {
             "colorbar": {
              "outlinewidth": 0,
              "ticks": ""
             }
            },
            "type": "scatterpolargl"
           }
          ],
          "scatterternary": [
           {
            "marker": {
             "colorbar": {
              "outlinewidth": 0,
              "ticks": ""
             }
            },
            "type": "scatterternary"
           }
          ],
          "surface": [
           {
            "colorbar": {
             "outlinewidth": 0,
             "ticks": ""
            },
            "colorscale": [
             [
              0,
              "#0d0887"
             ],
             [
              0.1111111111111111,
              "#46039f"
             ],
             [
              0.2222222222222222,
              "#7201a8"
             ],
             [
              0.3333333333333333,
              "#9c179e"
             ],
             [
              0.4444444444444444,
              "#bd3786"
             ],
             [
              0.5555555555555556,
              "#d8576b"
             ],
             [
              0.6666666666666666,
              "#ed7953"
             ],
             [
              0.7777777777777778,
              "#fb9f3a"
             ],
             [
              0.8888888888888888,
              "#fdca26"
             ],
             [
              1,
              "#f0f921"
             ]
            ],
            "type": "surface"
           }
          ],
          "table": [
           {
            "cells": {
             "fill": {
              "color": "#EBF0F8"
             },
             "line": {
              "color": "white"
             }
            },
            "header": {
             "fill": {
              "color": "#C8D4E3"
             },
             "line": {
              "color": "white"
             }
            },
            "type": "table"
           }
          ]
         },
         "layout": {
          "annotationdefaults": {
           "arrowcolor": "#2a3f5f",
           "arrowhead": 0,
           "arrowwidth": 1
          },
          "autotypenumbers": "strict",
          "coloraxis": {
           "colorbar": {
            "outlinewidth": 0,
            "ticks": ""
           }
          },
          "colorscale": {
           "diverging": [
            [
             0,
             "#8e0152"
            ],
            [
             0.1,
             "#c51b7d"
            ],
            [
             0.2,
             "#de77ae"
            ],
            [
             0.3,
             "#f1b6da"
            ],
            [
             0.4,
             "#fde0ef"
            ],
            [
             0.5,
             "#f7f7f7"
            ],
            [
             0.6,
             "#e6f5d0"
            ],
            [
             0.7,
             "#b8e186"
            ],
            [
             0.8,
             "#7fbc41"
            ],
            [
             0.9,
             "#4d9221"
            ],
            [
             1,
             "#276419"
            ]
           ],
           "sequential": [
            [
             0,
             "#0d0887"
            ],
            [
             0.1111111111111111,
             "#46039f"
            ],
            [
             0.2222222222222222,
             "#7201a8"
            ],
            [
             0.3333333333333333,
             "#9c179e"
            ],
            [
             0.4444444444444444,
             "#bd3786"
            ],
            [
             0.5555555555555556,
             "#d8576b"
            ],
            [
             0.6666666666666666,
             "#ed7953"
            ],
            [
             0.7777777777777778,
             "#fb9f3a"
            ],
            [
             0.8888888888888888,
             "#fdca26"
            ],
            [
             1,
             "#f0f921"
            ]
           ],
           "sequentialminus": [
            [
             0,
             "#0d0887"
            ],
            [
             0.1111111111111111,
             "#46039f"
            ],
            [
             0.2222222222222222,
             "#7201a8"
            ],
            [
             0.3333333333333333,
             "#9c179e"
            ],
            [
             0.4444444444444444,
             "#bd3786"
            ],
            [
             0.5555555555555556,
             "#d8576b"
            ],
            [
             0.6666666666666666,
             "#ed7953"
            ],
            [
             0.7777777777777778,
             "#fb9f3a"
            ],
            [
             0.8888888888888888,
             "#fdca26"
            ],
            [
             1,
             "#f0f921"
            ]
           ]
          },
          "colorway": [
           "#636efa",
           "#EF553B",
           "#00cc96",
           "#ab63fa",
           "#FFA15A",
           "#19d3f3",
           "#FF6692",
           "#B6E880",
           "#FF97FF",
           "#FECB52"
          ],
          "font": {
           "color": "#2a3f5f"
          },
          "geo": {
           "bgcolor": "white",
           "lakecolor": "white",
           "landcolor": "#E5ECF6",
           "showlakes": true,
           "showland": true,
           "subunitcolor": "white"
          },
          "hoverlabel": {
           "align": "left"
          },
          "hovermode": "closest",
          "mapbox": {
           "style": "light"
          },
          "paper_bgcolor": "white",
          "plot_bgcolor": "#E5ECF6",
          "polar": {
           "angularaxis": {
            "gridcolor": "white",
            "linecolor": "white",
            "ticks": ""
           },
           "bgcolor": "#E5ECF6",
           "radialaxis": {
            "gridcolor": "white",
            "linecolor": "white",
            "ticks": ""
           }
          },
          "scene": {
           "xaxis": {
            "backgroundcolor": "#E5ECF6",
            "gridcolor": "white",
            "gridwidth": 2,
            "linecolor": "white",
            "showbackground": true,
            "ticks": "",
            "zerolinecolor": "white"
           },
           "yaxis": {
            "backgroundcolor": "#E5ECF6",
            "gridcolor": "white",
            "gridwidth": 2,
            "linecolor": "white",
            "showbackground": true,
            "ticks": "",
            "zerolinecolor": "white"
           },
           "zaxis": {
            "backgroundcolor": "#E5ECF6",
            "gridcolor": "white",
            "gridwidth": 2,
            "linecolor": "white",
            "showbackground": true,
            "ticks": "",
            "zerolinecolor": "white"
           }
          },
          "shapedefaults": {
           "line": {
            "color": "#2a3f5f"
           }
          },
          "ternary": {
           "aaxis": {
            "gridcolor": "white",
            "linecolor": "white",
            "ticks": ""
           },
           "baxis": {
            "gridcolor": "white",
            "linecolor": "white",
            "ticks": ""
           },
           "bgcolor": "#E5ECF6",
           "caxis": {
            "gridcolor": "white",
            "linecolor": "white",
            "ticks": ""
           }
          },
          "title": {
           "x": 0.05
          },
          "xaxis": {
           "automargin": true,
           "gridcolor": "white",
           "linecolor": "white",
           "ticks": "",
           "title": {
            "standoff": 15
           },
           "zerolinecolor": "white",
           "zerolinewidth": 2
          },
          "yaxis": {
           "automargin": true,
           "gridcolor": "white",
           "linecolor": "white",
           "ticks": "",
           "title": {
            "standoff": 15
           },
           "zerolinecolor": "white",
           "zerolinewidth": 2
          }
         }
        },
        "title": {
         "text": "Movies with below 50 ratings"
        },
        "xaxis": {
         "showticklabels": true,
         "title": {
          "text": "Movies"
         }
        },
        "yaxis": {
         "showticklabels": true,
         "title": {
          "text": "Ratings"
         }
        }
       }
      },
      "text/html": [
       "<div>                            <div id=\"d5739603-eb3c-49f3-bd7f-44e6deb1ef0a\" class=\"plotly-graph-div\" style=\"height:525px; width:100%;\"></div>            <script type=\"text/javascript\">                require([\"plotly\"], function(Plotly) {                    window.PLOTLYENV=window.PLOTLYENV || {};                                    if (document.getElementById(\"d5739603-eb3c-49f3-bd7f-44e6deb1ef0a\")) {                    Plotly.newPlot(                        \"d5739603-eb3c-49f3-bd7f-44e6deb1ef0a\",                        [{\"marker\":{\"color\":\"red\"},\"type\":\"scatter\",\"x\":[\"Demonic\",\"The Last Airbender\",\"Porno\",\"Viking Quest\",\"Guardians\",\"Death Note\",\"The Scorpion King 3: Battle for Redemption\"],\"y\":[49.0,47.0,45.0,44.0,48.0,42.0,45.0]}],                        {\"template\":{\"data\":{\"bar\":[{\"error_x\":{\"color\":\"#2a3f5f\"},\"error_y\":{\"color\":\"#2a3f5f\"},\"marker\":{\"line\":{\"color\":\"#E5ECF6\",\"width\":0.5},\"pattern\":{\"fillmode\":\"overlay\",\"size\":10,\"solidity\":0.2}},\"type\":\"bar\"}],\"barpolar\":[{\"marker\":{\"line\":{\"color\":\"#E5ECF6\",\"width\":0.5},\"pattern\":{\"fillmode\":\"overlay\",\"size\":10,\"solidity\":0.2}},\"type\":\"barpolar\"}],\"carpet\":[{\"aaxis\":{\"endlinecolor\":\"#2a3f5f\",\"gridcolor\":\"white\",\"linecolor\":\"white\",\"minorgridcolor\":\"white\",\"startlinecolor\":\"#2a3f5f\"},\"baxis\":{\"endlinecolor\":\"#2a3f5f\",\"gridcolor\":\"white\",\"linecolor\":\"white\",\"minorgridcolor\":\"white\",\"startlinecolor\":\"#2a3f5f\"},\"type\":\"carpet\"}],\"choropleth\":[{\"colorbar\":{\"outlinewidth\":0,\"ticks\":\"\"},\"type\":\"choropleth\"}],\"contour\":[{\"colorbar\":{\"outlinewidth\":0,\"ticks\":\"\"},\"colorscale\":[[0.0,\"#0d0887\"],[0.1111111111111111,\"#46039f\"],[0.2222222222222222,\"#7201a8\"],[0.3333333333333333,\"#9c179e\"],[0.4444444444444444,\"#bd3786\"],[0.5555555555555556,\"#d8576b\"],[0.6666666666666666,\"#ed7953\"],[0.7777777777777778,\"#fb9f3a\"],[0.8888888888888888,\"#fdca26\"],[1.0,\"#f0f921\"]],\"type\":\"contour\"}],\"contourcarpet\":[{\"colorbar\":{\"outlinewidth\":0,\"ticks\":\"\"},\"type\":\"contourcarpet\"}],\"heatmap\":[{\"colorbar\":{\"outlinewidth\":0,\"ticks\":\"\"},\"colorscale\":[[0.0,\"#0d0887\"],[0.1111111111111111,\"#46039f\"],[0.2222222222222222,\"#7201a8\"],[0.3333333333333333,\"#9c179e\"],[0.4444444444444444,\"#bd3786\"],[0.5555555555555556,\"#d8576b\"],[0.6666666666666666,\"#ed7953\"],[0.7777777777777778,\"#fb9f3a\"],[0.8888888888888888,\"#fdca26\"],[1.0,\"#f0f921\"]],\"type\":\"heatmap\"}],\"heatmapgl\":[{\"colorbar\":{\"outlinewidth\":0,\"ticks\":\"\"},\"colorscale\":[[0.0,\"#0d0887\"],[0.1111111111111111,\"#46039f\"],[0.2222222222222222,\"#7201a8\"],[0.3333333333333333,\"#9c179e\"],[0.4444444444444444,\"#bd3786\"],[0.5555555555555556,\"#d8576b\"],[0.6666666666666666,\"#ed7953\"],[0.7777777777777778,\"#fb9f3a\"],[0.8888888888888888,\"#fdca26\"],[1.0,\"#f0f921\"]],\"type\":\"heatmapgl\"}],\"histogram\":[{\"marker\":{\"pattern\":{\"fillmode\":\"overlay\",\"size\":10,\"solidity\":0.2}},\"type\":\"histogram\"}],\"histogram2d\":[{\"colorbar\":{\"outlinewidth\":0,\"ticks\":\"\"},\"colorscale\":[[0.0,\"#0d0887\"],[0.1111111111111111,\"#46039f\"],[0.2222222222222222,\"#7201a8\"],[0.3333333333333333,\"#9c179e\"],[0.4444444444444444,\"#bd3786\"],[0.5555555555555556,\"#d8576b\"],[0.6666666666666666,\"#ed7953\"],[0.7777777777777778,\"#fb9f3a\"],[0.8888888888888888,\"#fdca26\"],[1.0,\"#f0f921\"]],\"type\":\"histogram2d\"}],\"histogram2dcontour\":[{\"colorbar\":{\"outlinewidth\":0,\"ticks\":\"\"},\"colorscale\":[[0.0,\"#0d0887\"],[0.1111111111111111,\"#46039f\"],[0.2222222222222222,\"#7201a8\"],[0.3333333333333333,\"#9c179e\"],[0.4444444444444444,\"#bd3786\"],[0.5555555555555556,\"#d8576b\"],[0.6666666666666666,\"#ed7953\"],[0.7777777777777778,\"#fb9f3a\"],[0.8888888888888888,\"#fdca26\"],[1.0,\"#f0f921\"]],\"type\":\"histogram2dcontour\"}],\"mesh3d\":[{\"colorbar\":{\"outlinewidth\":0,\"ticks\":\"\"},\"type\":\"mesh3d\"}],\"parcoords\":[{\"line\":{\"colorbar\":{\"outlinewidth\":0,\"ticks\":\"\"}},\"type\":\"parcoords\"}],\"pie\":[{\"automargin\":true,\"type\":\"pie\"}],\"scatter\":[{\"marker\":{\"colorbar\":{\"outlinewidth\":0,\"ticks\":\"\"}},\"type\":\"scatter\"}],\"scatter3d\":[{\"line\":{\"colorbar\":{\"outlinewidth\":0,\"ticks\":\"\"}},\"marker\":{\"colorbar\":{\"outlinewidth\":0,\"ticks\":\"\"}},\"type\":\"scatter3d\"}],\"scattercarpet\":[{\"marker\":{\"colorbar\":{\"outlinewidth\":0,\"ticks\":\"\"}},\"type\":\"scattercarpet\"}],\"scattergeo\":[{\"marker\":{\"colorbar\":{\"outlinewidth\":0,\"ticks\":\"\"}},\"type\":\"scattergeo\"}],\"scattergl\":[{\"marker\":{\"colorbar\":{\"outlinewidth\":0,\"ticks\":\"\"}},\"type\":\"scattergl\"}],\"scattermapbox\":[{\"marker\":{\"colorbar\":{\"outlinewidth\":0,\"ticks\":\"\"}},\"type\":\"scattermapbox\"}],\"scatterpolar\":[{\"marker\":{\"colorbar\":{\"outlinewidth\":0,\"ticks\":\"\"}},\"type\":\"scatterpolar\"}],\"scatterpolargl\":[{\"marker\":{\"colorbar\":{\"outlinewidth\":0,\"ticks\":\"\"}},\"type\":\"scatterpolargl\"}],\"scatterternary\":[{\"marker\":{\"colorbar\":{\"outlinewidth\":0,\"ticks\":\"\"}},\"type\":\"scatterternary\"}],\"surface\":[{\"colorbar\":{\"outlinewidth\":0,\"ticks\":\"\"},\"colorscale\":[[0.0,\"#0d0887\"],[0.1111111111111111,\"#46039f\"],[0.2222222222222222,\"#7201a8\"],[0.3333333333333333,\"#9c179e\"],[0.4444444444444444,\"#bd3786\"],[0.5555555555555556,\"#d8576b\"],[0.6666666666666666,\"#ed7953\"],[0.7777777777777778,\"#fb9f3a\"],[0.8888888888888888,\"#fdca26\"],[1.0,\"#f0f921\"]],\"type\":\"surface\"}],\"table\":[{\"cells\":{\"fill\":{\"color\":\"#EBF0F8\"},\"line\":{\"color\":\"white\"}},\"header\":{\"fill\":{\"color\":\"#C8D4E3\"},\"line\":{\"color\":\"white\"}},\"type\":\"table\"}]},\"layout\":{\"annotationdefaults\":{\"arrowcolor\":\"#2a3f5f\",\"arrowhead\":0,\"arrowwidth\":1},\"autotypenumbers\":\"strict\",\"coloraxis\":{\"colorbar\":{\"outlinewidth\":0,\"ticks\":\"\"}},\"colorscale\":{\"diverging\":[[0,\"#8e0152\"],[0.1,\"#c51b7d\"],[0.2,\"#de77ae\"],[0.3,\"#f1b6da\"],[0.4,\"#fde0ef\"],[0.5,\"#f7f7f7\"],[0.6,\"#e6f5d0\"],[0.7,\"#b8e186\"],[0.8,\"#7fbc41\"],[0.9,\"#4d9221\"],[1,\"#276419\"]],\"sequential\":[[0.0,\"#0d0887\"],[0.1111111111111111,\"#46039f\"],[0.2222222222222222,\"#7201a8\"],[0.3333333333333333,\"#9c179e\"],[0.4444444444444444,\"#bd3786\"],[0.5555555555555556,\"#d8576b\"],[0.6666666666666666,\"#ed7953\"],[0.7777777777777778,\"#fb9f3a\"],[0.8888888888888888,\"#fdca26\"],[1.0,\"#f0f921\"]],\"sequentialminus\":[[0.0,\"#0d0887\"],[0.1111111111111111,\"#46039f\"],[0.2222222222222222,\"#7201a8\"],[0.3333333333333333,\"#9c179e\"],[0.4444444444444444,\"#bd3786\"],[0.5555555555555556,\"#d8576b\"],[0.6666666666666666,\"#ed7953\"],[0.7777777777777778,\"#fb9f3a\"],[0.8888888888888888,\"#fdca26\"],[1.0,\"#f0f921\"]]},\"colorway\":[\"#636efa\",\"#EF553B\",\"#00cc96\",\"#ab63fa\",\"#FFA15A\",\"#19d3f3\",\"#FF6692\",\"#B6E880\",\"#FF97FF\",\"#FECB52\"],\"font\":{\"color\":\"#2a3f5f\"},\"geo\":{\"bgcolor\":\"white\",\"lakecolor\":\"white\",\"landcolor\":\"#E5ECF6\",\"showlakes\":true,\"showland\":true,\"subunitcolor\":\"white\"},\"hoverlabel\":{\"align\":\"left\"},\"hovermode\":\"closest\",\"mapbox\":{\"style\":\"light\"},\"paper_bgcolor\":\"white\",\"plot_bgcolor\":\"#E5ECF6\",\"polar\":{\"angularaxis\":{\"gridcolor\":\"white\",\"linecolor\":\"white\",\"ticks\":\"\"},\"bgcolor\":\"#E5ECF6\",\"radialaxis\":{\"gridcolor\":\"white\",\"linecolor\":\"white\",\"ticks\":\"\"}},\"scene\":{\"xaxis\":{\"backgroundcolor\":\"#E5ECF6\",\"gridcolor\":\"white\",\"gridwidth\":2,\"linecolor\":\"white\",\"showbackground\":true,\"ticks\":\"\",\"zerolinecolor\":\"white\"},\"yaxis\":{\"backgroundcolor\":\"#E5ECF6\",\"gridcolor\":\"white\",\"gridwidth\":2,\"linecolor\":\"white\",\"showbackground\":true,\"ticks\":\"\",\"zerolinecolor\":\"white\"},\"zaxis\":{\"backgroundcolor\":\"#E5ECF6\",\"gridcolor\":\"white\",\"gridwidth\":2,\"linecolor\":\"white\",\"showbackground\":true,\"ticks\":\"\",\"zerolinecolor\":\"white\"}},\"shapedefaults\":{\"line\":{\"color\":\"#2a3f5f\"}},\"ternary\":{\"aaxis\":{\"gridcolor\":\"white\",\"linecolor\":\"white\",\"ticks\":\"\"},\"baxis\":{\"gridcolor\":\"white\",\"linecolor\":\"white\",\"ticks\":\"\"},\"bgcolor\":\"#E5ECF6\",\"caxis\":{\"gridcolor\":\"white\",\"linecolor\":\"white\",\"ticks\":\"\"}},\"title\":{\"x\":0.05},\"xaxis\":{\"automargin\":true,\"gridcolor\":\"white\",\"linecolor\":\"white\",\"ticks\":\"\",\"title\":{\"standoff\":15},\"zerolinecolor\":\"white\",\"zerolinewidth\":2},\"yaxis\":{\"automargin\":true,\"gridcolor\":\"white\",\"linecolor\":\"white\",\"ticks\":\"\",\"title\":{\"standoff\":15},\"zerolinecolor\":\"white\",\"zerolinewidth\":2}}},\"title\":{\"text\":\"Movies with below 50 ratings\"},\"xaxis\":{\"showticklabels\":true,\"title\":{\"text\":\"Movies\"}},\"yaxis\":{\"showticklabels\":true,\"title\":{\"text\":\"Ratings\"}}},                        {\"responsive\": true}                    ).then(function(){\n",
       "                            \n",
       "var gd = document.getElementById('d5739603-eb3c-49f3-bd7f-44e6deb1ef0a');\n",
       "var x = new MutationObserver(function (mutations, observer) {{\n",
       "        var display = window.getComputedStyle(gd).display;\n",
       "        if (!display || display === 'none') {{\n",
       "            console.log([gd, 'removed!']);\n",
       "            Plotly.purge(gd);\n",
       "            observer.disconnect();\n",
       "        }}\n",
       "}});\n",
       "\n",
       "// Listen for the removal of the full notebook cells\n",
       "var notebookContainer = gd.closest('#notebook-container');\n",
       "if (notebookContainer) {{\n",
       "    x.observe(notebookContainer, {childList: true});\n",
       "}}\n",
       "\n",
       "// Listen for the clearing of the current output cell\n",
       "var outputEl = gd.closest('.output');\n",
       "if (outputEl) {{\n",
       "    x.observe(outputEl, {childList: true});\n",
       "}}\n",
       "\n",
       "                        })                };                });            </script>        </div>"
      ]
     },
     "metadata": {},
     "output_type": "display_data"
    }
   ],
   "source": [
    "fig = go.Scatter(x=rating_50.Name,y=rating_50.Rating,marker=dict(color='red'))\n",
    "layout = dict ( title = 'Movies with below 50 ratings' \n",
    "               , xaxis = dict ( title = \"Movies\" , showticklabels = True ), \n",
    "               yaxis = dict ( title = \"Ratings\" , showticklabels = True ), )\n",
    "\n",
    "go.Figure(fig,layout=layout)"
   ]
  },
  {
   "cell_type": "markdown",
   "id": "ed5cbd62",
   "metadata": {},
   "source": [
    "### Converting Release date column from string to datetime "
   ]
  },
  {
   "cell_type": "code",
   "execution_count": 125,
   "id": "a0fb4459",
   "metadata": {},
   "outputs": [
    {
     "data": {
      "text/plain": [
       "0      09/03/2021 (IN)\n",
       "1      07/23/2021 (US)\n",
       "2      09/24/2021 (IN)\n",
       "3      04/30/2021 (US)\n",
       "4      08/20/2021 (US)\n",
       "            ...       \n",
       "145    12/14/1978 (US)\n",
       "146    07/27/2012 (US)\n",
       "147    09/07/2012 (US)\n",
       "148    07/08/1985 (US)\n",
       "149    07/30/2010 (US)\n",
       "Name: Release date, Length: 150, dtype: object"
      ]
     },
     "execution_count": 125,
     "metadata": {},
     "output_type": "execute_result"
    }
   ],
   "source": [
    "movies_df['Release date']\n"
   ]
  },
  {
   "cell_type": "code",
   "execution_count": 126,
   "id": "69006075",
   "metadata": {},
   "outputs": [
    {
     "name": "stdout",
     "output_type": "stream",
     "text": [
      "<class 'pandas.core.frame.DataFrame'>\n",
      "RangeIndex: 150 entries, 0 to 149\n",
      "Data columns (total 9 columns):\n",
      " #   Column        Non-Null Count  Dtype  \n",
      "---  ------        --------------  -----  \n",
      " 0   Name          150 non-null    object \n",
      " 1   Rating        150 non-null    float64\n",
      " 2   Genre         150 non-null    object \n",
      " 3   Release date  150 non-null    object \n",
      " 4   Runtime       150 non-null    object \n",
      " 5   Director      150 non-null    object \n",
      " 6   Budget ($)    85 non-null     object \n",
      " 7   Revenue ($)   96 non-null     object \n",
      " 8   Url           150 non-null    object \n",
      "dtypes: float64(1), object(8)\n",
      "memory usage: 10.7+ KB\n"
     ]
    }
   ],
   "source": [
    "movies_df.info()"
   ]
  },
  {
   "cell_type": "code",
   "execution_count": 131,
   "id": "a421e12e",
   "metadata": {},
   "outputs": [],
   "source": [
    "import dateutil.parser as dparser\n",
    "movies_df['Release date'] = movies_df['Release date'].apply(dparser.parse,fuzzy=True)\n"
   ]
  },
  {
   "cell_type": "code",
   "execution_count": 132,
   "id": "1a70f445",
   "metadata": {},
   "outputs": [
    {
     "data": {
      "text/plain": [
       "0     2021-09-03\n",
       "1     2021-07-23\n",
       "2     2021-09-24\n",
       "3     2021-04-30\n",
       "4     2021-08-20\n",
       "         ...    \n",
       "145   1978-12-14\n",
       "146   2012-07-27\n",
       "147   2012-09-07\n",
       "148   1985-07-08\n",
       "149   2010-07-30\n",
       "Name: Release date, Length: 150, dtype: datetime64[ns]"
      ]
     },
     "execution_count": 132,
     "metadata": {},
     "output_type": "execute_result"
    }
   ],
   "source": [
    "movies_df['Release date']"
   ]
  },
  {
   "cell_type": "code",
   "execution_count": 133,
   "id": "ecdba05a",
   "metadata": {},
   "outputs": [
    {
     "name": "stdout",
     "output_type": "stream",
     "text": [
      "<class 'pandas.core.frame.DataFrame'>\n",
      "RangeIndex: 150 entries, 0 to 149\n",
      "Data columns (total 9 columns):\n",
      " #   Column        Non-Null Count  Dtype         \n",
      "---  ------        --------------  -----         \n",
      " 0   Name          150 non-null    object        \n",
      " 1   Rating        150 non-null    float64       \n",
      " 2   Genre         150 non-null    object        \n",
      " 3   Release date  150 non-null    datetime64[ns]\n",
      " 4   Runtime       150 non-null    object        \n",
      " 5   Director      150 non-null    object        \n",
      " 6   Budget ($)    85 non-null     object        \n",
      " 7   Revenue ($)   96 non-null     object        \n",
      " 8   Url           150 non-null    object        \n",
      "dtypes: datetime64[ns](1), float64(1), object(7)\n",
      "memory usage: 10.7+ KB\n"
     ]
    }
   ],
   "source": [
    "movies_df.info()"
   ]
  },
  {
   "cell_type": "code",
   "execution_count": 134,
   "id": "546a3050",
   "metadata": {},
   "outputs": [],
   "source": [
    "movies_df['Release year'] = pd.DatetimeIndex(movies_df['Release date']).year"
   ]
  },
  {
   "cell_type": "code",
   "execution_count": 167,
   "id": "91dd569d",
   "metadata": {},
   "outputs": [
    {
     "data": {
      "text/plain": [
       "0       True\n",
       "1       True\n",
       "2       True\n",
       "3       True\n",
       "4       True\n",
       "       ...  \n",
       "145    False\n",
       "146    False\n",
       "147    False\n",
       "148    False\n",
       "149    False\n",
       "Name: Release year, Length: 150, dtype: bool"
      ]
     },
     "execution_count": 167,
     "metadata": {},
     "output_type": "execute_result"
    }
   ],
   "source": [
    "movies_df['Release year']==2021"
   ]
  },
  {
   "cell_type": "markdown",
   "id": "ad1220a3",
   "metadata": {},
   "source": [
    "# Movies Released in 2021 "
   ]
  },
  {
   "cell_type": "code",
   "execution_count": 179,
   "id": "77939576",
   "metadata": {},
   "outputs": [
    {
     "data": {
      "text/html": [
       "<div>\n",
       "<style scoped>\n",
       "    .dataframe tbody tr th:only-of-type {\n",
       "        vertical-align: middle;\n",
       "    }\n",
       "\n",
       "    .dataframe tbody tr th {\n",
       "        vertical-align: top;\n",
       "    }\n",
       "\n",
       "    .dataframe thead th {\n",
       "        text-align: right;\n",
       "    }\n",
       "</style>\n",
       "<table border=\"1\" class=\"dataframe\">\n",
       "  <thead>\n",
       "    <tr style=\"text-align: right;\">\n",
       "      <th></th>\n",
       "      <th>Name</th>\n",
       "      <th>Rating</th>\n",
       "      <th>Genre</th>\n",
       "      <th>Release date</th>\n",
       "      <th>Runtime</th>\n",
       "      <th>Director</th>\n",
       "      <th>Budget ($)</th>\n",
       "      <th>Revenue ($)</th>\n",
       "      <th>Url</th>\n",
       "      <th>Release year</th>\n",
       "      <th>Release month</th>\n",
       "    </tr>\n",
       "  </thead>\n",
       "  <tbody>\n",
       "    <tr>\n",
       "      <th>0</th>\n",
       "      <td>Shang-Chi and the Legend of the Ten Rings</td>\n",
       "      <td>79.0</td>\n",
       "      <td>Action,Adventure,Fantasy</td>\n",
       "      <td>2021-09-03</td>\n",
       "      <td>2h 12m</td>\n",
       "      <td>Destin Daniel Cretton</td>\n",
       "      <td>$150,000,000.00</td>\n",
       "      <td>$430,238,384.00</td>\n",
       "      <td>https://www.themoviedb.org//movie/566525</td>\n",
       "      <td>2021</td>\n",
       "      <td>9</td>\n",
       "    </tr>\n",
       "    <tr>\n",
       "      <th>1</th>\n",
       "      <td>Snake Eyes: G.I. Joe Origins</td>\n",
       "      <td>68.0</td>\n",
       "      <td>Action,Adventure</td>\n",
       "      <td>2021-07-23</td>\n",
       "      <td>2h 1m</td>\n",
       "      <td>Evan Spiliotopoulos</td>\n",
       "      <td>$88,000,000.00</td>\n",
       "      <td>$36,964,325.00</td>\n",
       "      <td>https://www.themoviedb.org//movie/568620</td>\n",
       "      <td>2021</td>\n",
       "      <td>7</td>\n",
       "    </tr>\n",
       "    <tr>\n",
       "      <th>2</th>\n",
       "      <td>Jungle Cruise</td>\n",
       "      <td>77.0</td>\n",
       "      <td>Adventure,Fantasy,Comedy,Action</td>\n",
       "      <td>2021-09-24</td>\n",
       "      <td>2h 7m</td>\n",
       "      <td>Jaume Collet-Serra</td>\n",
       "      <td>$200,000,000.00</td>\n",
       "      <td>$213,644,366.00</td>\n",
       "      <td>https://www.themoviedb.org//movie/451048</td>\n",
       "      <td>2021</td>\n",
       "      <td>9</td>\n",
       "    </tr>\n",
       "    <tr>\n",
       "      <th>3</th>\n",
       "      <td>Separation</td>\n",
       "      <td>59.0</td>\n",
       "      <td>Horror</td>\n",
       "      <td>2021-04-30</td>\n",
       "      <td>1h 47m</td>\n",
       "      <td>William Brent Bell</td>\n",
       "      <td>NaN</td>\n",
       "      <td>NaN</td>\n",
       "      <td>https://www.themoviedb.org//movie/760195</td>\n",
       "      <td>2021</td>\n",
       "      <td>4</td>\n",
       "    </tr>\n",
       "    <tr>\n",
       "      <th>4</th>\n",
       "      <td>Demonic</td>\n",
       "      <td>49.0</td>\n",
       "      <td>Horror,Thriller</td>\n",
       "      <td>2021-08-20</td>\n",
       "      <td>1h 44m</td>\n",
       "      <td>Neill Blomkamp</td>\n",
       "      <td>NaN</td>\n",
       "      <td>NaN</td>\n",
       "      <td>https://www.themoviedb.org//movie/774021</td>\n",
       "      <td>2021</td>\n",
       "      <td>8</td>\n",
       "    </tr>\n",
       "    <tr>\n",
       "      <th>5</th>\n",
       "      <td>Straight Outta Nowhere: Scooby-Doo! Meets Cour...</td>\n",
       "      <td>83.0</td>\n",
       "      <td>Animation,Comedy,Mystery,Family,Fantasy</td>\n",
       "      <td>2021-09-14</td>\n",
       "      <td>1h 12m</td>\n",
       "      <td>Joseph Barbera</td>\n",
       "      <td>NaN</td>\n",
       "      <td>NaN</td>\n",
       "      <td>https://www.themoviedb.org//movie/843906</td>\n",
       "      <td>2021</td>\n",
       "      <td>9</td>\n",
       "    </tr>\n",
       "    <tr>\n",
       "      <th>9</th>\n",
       "      <td>The Courier</td>\n",
       "      <td>72.0</td>\n",
       "      <td>Thriller,History,Drama</td>\n",
       "      <td>2021-03-19</td>\n",
       "      <td>1h 52m</td>\n",
       "      <td>Dominic Cooke</td>\n",
       "      <td>NaN</td>\n",
       "      <td>$24,901,420.00</td>\n",
       "      <td>https://www.themoviedb.org//movie/522241</td>\n",
       "      <td>2021</td>\n",
       "      <td>3</td>\n",
       "    </tr>\n",
       "    <tr>\n",
       "      <th>10</th>\n",
       "      <td>Catalina la Catrina: especial Día de Muertos</td>\n",
       "      <td>72.0</td>\n",
       "      <td>Family,Animation</td>\n",
       "      <td>2021-10-01</td>\n",
       "      <td>1h 52m</td>\n",
       "      <td>Dominic Cooke</td>\n",
       "      <td>NaN</td>\n",
       "      <td>$24,901,420.00</td>\n",
       "      <td>https://www.themoviedb.org//movie/880009</td>\n",
       "      <td>2021</td>\n",
       "      <td>10</td>\n",
       "    </tr>\n",
       "    <tr>\n",
       "      <th>11</th>\n",
       "      <td>Kids Are Back</td>\n",
       "      <td>54.0</td>\n",
       "      <td>Comedy</td>\n",
       "      <td>2021-06-02</td>\n",
       "      <td>1h 23m</td>\n",
       "      <td>Michèle Laroque</td>\n",
       "      <td>NaN</td>\n",
       "      <td>$8,116,935.00</td>\n",
       "      <td>https://www.themoviedb.org//movie/613583</td>\n",
       "      <td>2021</td>\n",
       "      <td>6</td>\n",
       "    </tr>\n",
       "    <tr>\n",
       "      <th>16</th>\n",
       "      <td>Sweet &amp; Sour</td>\n",
       "      <td>79.0</td>\n",
       "      <td>Comedy,Romance</td>\n",
       "      <td>2021-06-04</td>\n",
       "      <td>1h 41m</td>\n",
       "      <td>Lee Kae-byeok</td>\n",
       "      <td>NaN</td>\n",
       "      <td>NaN</td>\n",
       "      <td>https://www.themoviedb.org//movie/662237</td>\n",
       "      <td>2021</td>\n",
       "      <td>6</td>\n",
       "    </tr>\n",
       "    <tr>\n",
       "      <th>25</th>\n",
       "      <td>Justice Society: World War II</td>\n",
       "      <td>78.0</td>\n",
       "      <td>Animation,War,Science Fiction</td>\n",
       "      <td>2021-04-27</td>\n",
       "      <td>1h 24m</td>\n",
       "      <td>Jeff Wamester</td>\n",
       "      <td>NaN</td>\n",
       "      <td>NaN</td>\n",
       "      <td>https://www.themoviedb.org//movie/736069</td>\n",
       "      <td>2021</td>\n",
       "      <td>4</td>\n",
       "    </tr>\n",
       "    <tr>\n",
       "      <th>30</th>\n",
       "      <td>Lokillo: Nothing's the Same</td>\n",
       "      <td>78.0</td>\n",
       "      <td>Comedy</td>\n",
       "      <td>2021-08-12</td>\n",
       "      <td>1h 4m</td>\n",
       "      <td>Yedinson Flórez</td>\n",
       "      <td>NaN</td>\n",
       "      <td>NaN</td>\n",
       "      <td>https://www.themoviedb.org//movie/857910</td>\n",
       "      <td>2021</td>\n",
       "      <td>8</td>\n",
       "    </tr>\n",
       "    <tr>\n",
       "      <th>31</th>\n",
       "      <td>The Intruder</td>\n",
       "      <td>53.0</td>\n",
       "      <td>Thriller</td>\n",
       "      <td>2021-07-30</td>\n",
       "      <td>1h 35m</td>\n",
       "      <td>Natalia Meta</td>\n",
       "      <td>NaN</td>\n",
       "      <td>NaN</td>\n",
       "      <td>https://www.themoviedb.org//movie/667757</td>\n",
       "      <td>2021</td>\n",
       "      <td>7</td>\n",
       "    </tr>\n",
       "    <tr>\n",
       "      <th>35</th>\n",
       "      <td>Just Say Yes</td>\n",
       "      <td>67.0</td>\n",
       "      <td>Comedy,Romance</td>\n",
       "      <td>2021-04-02</td>\n",
       "      <td>1h 37m</td>\n",
       "      <td>Appie Boudellah</td>\n",
       "      <td>NaN</td>\n",
       "      <td>NaN</td>\n",
       "      <td>https://www.themoviedb.org//movie/802504</td>\n",
       "      <td>2021</td>\n",
       "      <td>4</td>\n",
       "    </tr>\n",
       "    <tr>\n",
       "      <th>37</th>\n",
       "      <td>Secret Magic Control Agency</td>\n",
       "      <td>72.0</td>\n",
       "      <td>Animation,Comedy,Fantasy</td>\n",
       "      <td>2021-03-18</td>\n",
       "      <td>1h 44m</td>\n",
       "      <td>Alexey Tsitsilin</td>\n",
       "      <td>NaN</td>\n",
       "      <td>NaN</td>\n",
       "      <td>https://www.themoviedb.org//movie/797394</td>\n",
       "      <td>2021</td>\n",
       "      <td>3</td>\n",
       "    </tr>\n",
       "    <tr>\n",
       "      <th>44</th>\n",
       "      <td>Aftermath</td>\n",
       "      <td>66.0</td>\n",
       "      <td>Horror,Crime,Drama,Thriller</td>\n",
       "      <td>2021-08-04</td>\n",
       "      <td>1h 54m</td>\n",
       "      <td>Peter Winther</td>\n",
       "      <td>NaN</td>\n",
       "      <td>NaN</td>\n",
       "      <td>https://www.themoviedb.org//movie/763149</td>\n",
       "      <td>2021</td>\n",
       "      <td>8</td>\n",
       "    </tr>\n",
       "    <tr>\n",
       "      <th>48</th>\n",
       "      <td>The Last Letter From Your Lover</td>\n",
       "      <td>75.0</td>\n",
       "      <td>Drama,Romance</td>\n",
       "      <td>2021-07-23</td>\n",
       "      <td>1h 50m</td>\n",
       "      <td>Augustine Frizzell</td>\n",
       "      <td>NaN</td>\n",
       "      <td>NaN</td>\n",
       "      <td>https://www.themoviedb.org//movie/638449</td>\n",
       "      <td>2021</td>\n",
       "      <td>7</td>\n",
       "    </tr>\n",
       "    <tr>\n",
       "      <th>60</th>\n",
       "      <td>Bingo Hell</td>\n",
       "      <td>53.0</td>\n",
       "      <td>Thriller</td>\n",
       "      <td>2021-10-01</td>\n",
       "      <td>1h 25m</td>\n",
       "      <td>Gigi Saúl Guerrero</td>\n",
       "      <td>NaN</td>\n",
       "      <td>NaN</td>\n",
       "      <td>https://www.themoviedb.org//movie/802226</td>\n",
       "      <td>2021</td>\n",
       "      <td>10</td>\n",
       "    </tr>\n",
       "    <tr>\n",
       "      <th>69</th>\n",
       "      <td>Bankrolled</td>\n",
       "      <td>65.0</td>\n",
       "      <td>Comedy</td>\n",
       "      <td>2021-07-23</td>\n",
       "      <td>1h 37m</td>\n",
       "      <td>Marcos Bucay</td>\n",
       "      <td>NaN</td>\n",
       "      <td>NaN</td>\n",
       "      <td>https://www.themoviedb.org//movie/845422</td>\n",
       "      <td>2021</td>\n",
       "      <td>7</td>\n",
       "    </tr>\n",
       "    <tr>\n",
       "      <th>89</th>\n",
       "      <td>A Week Away</td>\n",
       "      <td>71.0</td>\n",
       "      <td>Drama,Family,Music,Romance</td>\n",
       "      <td>2021-03-26</td>\n",
       "      <td>1h 34m</td>\n",
       "      <td>Alan Powell</td>\n",
       "      <td>NaN</td>\n",
       "      <td>NaN</td>\n",
       "      <td>https://www.themoviedb.org//movie/699102</td>\n",
       "      <td>2021</td>\n",
       "      <td>3</td>\n",
       "    </tr>\n",
       "    <tr>\n",
       "      <th>109</th>\n",
       "      <td>Jeepers Creepers: Reborn</td>\n",
       "      <td>63.0</td>\n",
       "      <td>Horror,Thriller</td>\n",
       "      <td>2021-12-23</td>\n",
       "      <td>1h 51m</td>\n",
       "      <td>Kevin Williamson</td>\n",
       "      <td>$40,000,000.00</td>\n",
       "      <td>$97,231,420.00</td>\n",
       "      <td>https://www.themoviedb.org//movie/717728</td>\n",
       "      <td>2021</td>\n",
       "      <td>12</td>\n",
       "    </tr>\n",
       "    <tr>\n",
       "      <th>116</th>\n",
       "      <td>Torcidos</td>\n",
       "      <td>69.0</td>\n",
       "      <td>Horror</td>\n",
       "      <td>2021-08-27</td>\n",
       "      <td>1h 50m</td>\n",
       "      <td>David Koepp</td>\n",
       "      <td>$80,000,000.00</td>\n",
       "      <td>$457,731,198.00</td>\n",
       "      <td>https://www.themoviedb.org//movie/866343</td>\n",
       "      <td>2021</td>\n",
       "      <td>8</td>\n",
       "    </tr>\n",
       "    <tr>\n",
       "      <th>129</th>\n",
       "      <td>Belfast</td>\n",
       "      <td>61.0</td>\n",
       "      <td>Drama</td>\n",
       "      <td>2021-11-12</td>\n",
       "      <td>1h 37m</td>\n",
       "      <td>Kenneth Branagh</td>\n",
       "      <td>NaN</td>\n",
       "      <td>NaN</td>\n",
       "      <td>https://www.themoviedb.org//movie/777270</td>\n",
       "      <td>2021</td>\n",
       "      <td>11</td>\n",
       "    </tr>\n",
       "    <tr>\n",
       "      <th>132</th>\n",
       "      <td>Paper Lives</td>\n",
       "      <td>82.0</td>\n",
       "      <td>Drama</td>\n",
       "      <td>2021-03-12</td>\n",
       "      <td>1h 36m</td>\n",
       "      <td>Can Ulkay</td>\n",
       "      <td>NaN</td>\n",
       "      <td>NaN</td>\n",
       "      <td>https://www.themoviedb.org//movie/785534</td>\n",
       "      <td>2021</td>\n",
       "      <td>3</td>\n",
       "    </tr>\n",
       "    <tr>\n",
       "      <th>135</th>\n",
       "      <td>Nussa</td>\n",
       "      <td>67.0</td>\n",
       "      <td>Animation,Family</td>\n",
       "      <td>2021-10-14</td>\n",
       "      <td>1h 47m</td>\n",
       "      <td>Bony Wirasmono</td>\n",
       "      <td>NaN</td>\n",
       "      <td>NaN</td>\n",
       "      <td>https://www.themoviedb.org//movie/681783</td>\n",
       "      <td>2021</td>\n",
       "      <td>10</td>\n",
       "    </tr>\n",
       "  </tbody>\n",
       "</table>\n",
       "</div>"
      ],
      "text/plain": [
       "                                                  Name  Rating  \\\n",
       "0            Shang-Chi and the Legend of the Ten Rings    79.0   \n",
       "1                         Snake Eyes: G.I. Joe Origins    68.0   \n",
       "2                                        Jungle Cruise    77.0   \n",
       "3                                           Separation    59.0   \n",
       "4                                              Demonic    49.0   \n",
       "5    Straight Outta Nowhere: Scooby-Doo! Meets Cour...    83.0   \n",
       "9                                          The Courier    72.0   \n",
       "10        Catalina la Catrina: especial Día de Muertos    72.0   \n",
       "11                                       Kids Are Back    54.0   \n",
       "16                                        Sweet & Sour    79.0   \n",
       "25                       Justice Society: World War II    78.0   \n",
       "30                         Lokillo: Nothing's the Same    78.0   \n",
       "31                                        The Intruder    53.0   \n",
       "35                                        Just Say Yes    67.0   \n",
       "37                         Secret Magic Control Agency    72.0   \n",
       "44                                           Aftermath    66.0   \n",
       "48                     The Last Letter From Your Lover    75.0   \n",
       "60                                          Bingo Hell    53.0   \n",
       "69                                          Bankrolled    65.0   \n",
       "89                                         A Week Away    71.0   \n",
       "109                           Jeepers Creepers: Reborn    63.0   \n",
       "116                                           Torcidos    69.0   \n",
       "129                                            Belfast    61.0   \n",
       "132                                        Paper Lives    82.0   \n",
       "135                                              Nussa    67.0   \n",
       "\n",
       "                                       Genre Release date Runtime  \\\n",
       "0                   Action,Adventure,Fantasy   2021-09-03  2h 12m   \n",
       "1                           Action,Adventure   2021-07-23   2h 1m   \n",
       "2            Adventure,Fantasy,Comedy,Action   2021-09-24   2h 7m   \n",
       "3                                     Horror   2021-04-30  1h 47m   \n",
       "4                            Horror,Thriller   2021-08-20  1h 44m   \n",
       "5    Animation,Comedy,Mystery,Family,Fantasy   2021-09-14  1h 12m   \n",
       "9                     Thriller,History,Drama   2021-03-19  1h 52m   \n",
       "10                          Family,Animation   2021-10-01  1h 52m   \n",
       "11                                    Comedy   2021-06-02  1h 23m   \n",
       "16                            Comedy,Romance   2021-06-04  1h 41m   \n",
       "25             Animation,War,Science Fiction   2021-04-27  1h 24m   \n",
       "30                                    Comedy   2021-08-12   1h 4m   \n",
       "31                                  Thriller   2021-07-30  1h 35m   \n",
       "35                            Comedy,Romance   2021-04-02  1h 37m   \n",
       "37                  Animation,Comedy,Fantasy   2021-03-18  1h 44m   \n",
       "44               Horror,Crime,Drama,Thriller   2021-08-04  1h 54m   \n",
       "48                             Drama,Romance   2021-07-23  1h 50m   \n",
       "60                                  Thriller   2021-10-01  1h 25m   \n",
       "69                                    Comedy   2021-07-23  1h 37m   \n",
       "89                Drama,Family,Music,Romance   2021-03-26  1h 34m   \n",
       "109                          Horror,Thriller   2021-12-23  1h 51m   \n",
       "116                                   Horror   2021-08-27  1h 50m   \n",
       "129                                    Drama   2021-11-12  1h 37m   \n",
       "132                                    Drama   2021-03-12  1h 36m   \n",
       "135                         Animation,Family   2021-10-14  1h 47m   \n",
       "\n",
       "                  Director       Budget ($)     Revenue ($)   \\\n",
       "0    Destin Daniel Cretton  $150,000,000.00  $430,238,384.00   \n",
       "1      Evan Spiliotopoulos   $88,000,000.00   $36,964,325.00   \n",
       "2       Jaume Collet-Serra  $200,000,000.00  $213,644,366.00   \n",
       "3       William Brent Bell              NaN              NaN   \n",
       "4           Neill Blomkamp              NaN              NaN   \n",
       "5           Joseph Barbera              NaN              NaN   \n",
       "9            Dominic Cooke              NaN   $24,901,420.00   \n",
       "10           Dominic Cooke              NaN   $24,901,420.00   \n",
       "11         Michèle Laroque              NaN    $8,116,935.00   \n",
       "16           Lee Kae-byeok              NaN              NaN   \n",
       "25           Jeff Wamester              NaN              NaN   \n",
       "30         Yedinson Flórez              NaN              NaN   \n",
       "31            Natalia Meta              NaN              NaN   \n",
       "35         Appie Boudellah              NaN              NaN   \n",
       "37        Alexey Tsitsilin              NaN              NaN   \n",
       "44           Peter Winther              NaN              NaN   \n",
       "48      Augustine Frizzell              NaN              NaN   \n",
       "60      Gigi Saúl Guerrero              NaN              NaN   \n",
       "69            Marcos Bucay              NaN              NaN   \n",
       "89             Alan Powell              NaN              NaN   \n",
       "109       Kevin Williamson   $40,000,000.00   $97,231,420.00   \n",
       "116            David Koepp   $80,000,000.00  $457,731,198.00   \n",
       "129        Kenneth Branagh              NaN              NaN   \n",
       "132              Can Ulkay              NaN              NaN   \n",
       "135         Bony Wirasmono              NaN              NaN   \n",
       "\n",
       "                                          Url  Release year  Release month  \n",
       "0    https://www.themoviedb.org//movie/566525          2021              9  \n",
       "1    https://www.themoviedb.org//movie/568620          2021              7  \n",
       "2    https://www.themoviedb.org//movie/451048          2021              9  \n",
       "3    https://www.themoviedb.org//movie/760195          2021              4  \n",
       "4    https://www.themoviedb.org//movie/774021          2021              8  \n",
       "5    https://www.themoviedb.org//movie/843906          2021              9  \n",
       "9    https://www.themoviedb.org//movie/522241          2021              3  \n",
       "10   https://www.themoviedb.org//movie/880009          2021             10  \n",
       "11   https://www.themoviedb.org//movie/613583          2021              6  \n",
       "16   https://www.themoviedb.org//movie/662237          2021              6  \n",
       "25   https://www.themoviedb.org//movie/736069          2021              4  \n",
       "30   https://www.themoviedb.org//movie/857910          2021              8  \n",
       "31   https://www.themoviedb.org//movie/667757          2021              7  \n",
       "35   https://www.themoviedb.org//movie/802504          2021              4  \n",
       "37   https://www.themoviedb.org//movie/797394          2021              3  \n",
       "44   https://www.themoviedb.org//movie/763149          2021              8  \n",
       "48   https://www.themoviedb.org//movie/638449          2021              7  \n",
       "60   https://www.themoviedb.org//movie/802226          2021             10  \n",
       "69   https://www.themoviedb.org//movie/845422          2021              7  \n",
       "89   https://www.themoviedb.org//movie/699102          2021              3  \n",
       "109  https://www.themoviedb.org//movie/717728          2021             12  \n",
       "116  https://www.themoviedb.org//movie/866343          2021              8  \n",
       "129  https://www.themoviedb.org//movie/777270          2021             11  \n",
       "132  https://www.themoviedb.org//movie/785534          2021              3  \n",
       "135  https://www.themoviedb.org//movie/681783          2021             10  "
      ]
     },
     "execution_count": 179,
     "metadata": {},
     "output_type": "execute_result"
    }
   ],
   "source": [
    "movies_2021 = movies_df[movies_df['Release year']==2021]\n",
    "movies_2021"
   ]
  },
  {
   "cell_type": "code",
   "execution_count": 232,
   "id": "ff5e9c49",
   "metadata": {},
   "outputs": [
    {
     "data": {
      "application/vnd.plotly.v1+json": {
       "config": {
        "plotlyServerURL": "https://plot.ly"
       },
       "data": [
        {
         "customdata": [
          [
           "Destin Daniel Cretton"
          ]
         ],
         "hovertemplate": "Genre=Action,Adventure,Fantasy<br>Name=%{x}<br>Rating=%{marker.size}<br>Director=%{customdata[0]}<extra></extra>",
         "legendgroup": "Action,Adventure,Fantasy",
         "marker": {
          "color": "#636efa",
          "size": [
           79
          ],
          "sizemode": "area",
          "sizeref": 0.3688888888888889,
          "symbol": "circle"
         },
         "mode": "markers",
         "name": "Action,Adventure,Fantasy",
         "orientation": "v",
         "showlegend": true,
         "type": "scatter",
         "x": [
          "Shang-Chi and the Legend of the Ten Rings"
         ],
         "xaxis": "x",
         "y": [
          79
         ],
         "yaxis": "y"
        },
        {
         "customdata": [
          [
           "Evan Spiliotopoulos"
          ]
         ],
         "hovertemplate": "Genre=Action,Adventure<br>Name=%{x}<br>Rating=%{marker.size}<br>Director=%{customdata[0]}<extra></extra>",
         "legendgroup": "Action,Adventure",
         "marker": {
          "color": "#EF553B",
          "size": [
           68
          ],
          "sizemode": "area",
          "sizeref": 0.3688888888888889,
          "symbol": "circle"
         },
         "mode": "markers",
         "name": "Action,Adventure",
         "orientation": "v",
         "showlegend": true,
         "type": "scatter",
         "x": [
          "Snake Eyes: G.I. Joe Origins"
         ],
         "xaxis": "x",
         "y": [
          68
         ],
         "yaxis": "y"
        },
        {
         "customdata": [
          [
           "Jaume Collet-Serra"
          ]
         ],
         "hovertemplate": "Genre=Adventure,Fantasy,Comedy,Action<br>Name=%{x}<br>Rating=%{marker.size}<br>Director=%{customdata[0]}<extra></extra>",
         "legendgroup": "Adventure,Fantasy,Comedy,Action",
         "marker": {
          "color": "#00cc96",
          "size": [
           77
          ],
          "sizemode": "area",
          "sizeref": 0.3688888888888889,
          "symbol": "circle"
         },
         "mode": "markers",
         "name": "Adventure,Fantasy,Comedy,Action",
         "orientation": "v",
         "showlegend": true,
         "type": "scatter",
         "x": [
          "Jungle Cruise"
         ],
         "xaxis": "x",
         "y": [
          77
         ],
         "yaxis": "y"
        },
        {
         "customdata": [
          [
           "William Brent Bell"
          ],
          [
           "David Koepp"
          ]
         ],
         "hovertemplate": "Genre=Horror<br>Name=%{x}<br>Rating=%{marker.size}<br>Director=%{customdata[0]}<extra></extra>",
         "legendgroup": "Horror",
         "marker": {
          "color": "#ab63fa",
          "size": [
           59,
           69
          ],
          "sizemode": "area",
          "sizeref": 0.3688888888888889,
          "symbol": "circle"
         },
         "mode": "markers",
         "name": "Horror",
         "orientation": "v",
         "showlegend": true,
         "type": "scatter",
         "x": [
          "Separation",
          "Torcidos"
         ],
         "xaxis": "x",
         "y": [
          59,
          69
         ],
         "yaxis": "y"
        },
        {
         "customdata": [
          [
           "Neill Blomkamp"
          ],
          [
           "Kevin Williamson"
          ]
         ],
         "hovertemplate": "Genre=Horror,Thriller<br>Name=%{x}<br>Rating=%{marker.size}<br>Director=%{customdata[0]}<extra></extra>",
         "legendgroup": "Horror,Thriller",
         "marker": {
          "color": "#FFA15A",
          "size": [
           49,
           63
          ],
          "sizemode": "area",
          "sizeref": 0.3688888888888889,
          "symbol": "circle"
         },
         "mode": "markers",
         "name": "Horror,Thriller",
         "orientation": "v",
         "showlegend": true,
         "type": "scatter",
         "x": [
          "Demonic",
          "Jeepers Creepers: Reborn"
         ],
         "xaxis": "x",
         "y": [
          49,
          63
         ],
         "yaxis": "y"
        },
        {
         "customdata": [
          [
           "Joseph Barbera"
          ]
         ],
         "hovertemplate": "Genre=Animation,Comedy,Mystery,Family,Fantasy<br>Name=%{x}<br>Rating=%{marker.size}<br>Director=%{customdata[0]}<extra></extra>",
         "legendgroup": "Animation,Comedy,Mystery,Family,Fantasy",
         "marker": {
          "color": "#19d3f3",
          "size": [
           83
          ],
          "sizemode": "area",
          "sizeref": 0.3688888888888889,
          "symbol": "circle"
         },
         "mode": "markers",
         "name": "Animation,Comedy,Mystery,Family,Fantasy",
         "orientation": "v",
         "showlegend": true,
         "type": "scatter",
         "x": [
          "Straight Outta Nowhere: Scooby-Doo! Meets Courage the Cowardly Dog"
         ],
         "xaxis": "x",
         "y": [
          83
         ],
         "yaxis": "y"
        },
        {
         "customdata": [
          [
           "Dominic Cooke"
          ]
         ],
         "hovertemplate": "Genre=Thriller,History,Drama<br>Name=%{x}<br>Rating=%{marker.size}<br>Director=%{customdata[0]}<extra></extra>",
         "legendgroup": "Thriller,History,Drama",
         "marker": {
          "color": "#FF6692",
          "size": [
           72
          ],
          "sizemode": "area",
          "sizeref": 0.3688888888888889,
          "symbol": "circle"
         },
         "mode": "markers",
         "name": "Thriller,History,Drama",
         "orientation": "v",
         "showlegend": true,
         "type": "scatter",
         "x": [
          "The Courier"
         ],
         "xaxis": "x",
         "y": [
          72
         ],
         "yaxis": "y"
        },
        {
         "customdata": [
          [
           "Dominic Cooke"
          ]
         ],
         "hovertemplate": "Genre=Family,Animation<br>Name=%{x}<br>Rating=%{marker.size}<br>Director=%{customdata[0]}<extra></extra>",
         "legendgroup": "Family,Animation",
         "marker": {
          "color": "#B6E880",
          "size": [
           72
          ],
          "sizemode": "area",
          "sizeref": 0.3688888888888889,
          "symbol": "circle"
         },
         "mode": "markers",
         "name": "Family,Animation",
         "orientation": "v",
         "showlegend": true,
         "type": "scatter",
         "x": [
          "Catalina la Catrina: especial Día de Muertos"
         ],
         "xaxis": "x",
         "y": [
          72
         ],
         "yaxis": "y"
        },
        {
         "customdata": [
          [
           "Michèle Laroque"
          ],
          [
           "Yedinson Flórez"
          ],
          [
           "Marcos Bucay"
          ]
         ],
         "hovertemplate": "Genre=Comedy<br>Name=%{x}<br>Rating=%{marker.size}<br>Director=%{customdata[0]}<extra></extra>",
         "legendgroup": "Comedy",
         "marker": {
          "color": "#FF97FF",
          "size": [
           54,
           78,
           65
          ],
          "sizemode": "area",
          "sizeref": 0.3688888888888889,
          "symbol": "circle"
         },
         "mode": "markers",
         "name": "Comedy",
         "orientation": "v",
         "showlegend": true,
         "type": "scatter",
         "x": [
          "Kids Are Back",
          "Lokillo: Nothing's the Same",
          "Bankrolled"
         ],
         "xaxis": "x",
         "y": [
          54,
          78,
          65
         ],
         "yaxis": "y"
        },
        {
         "customdata": [
          [
           "Lee Kae-byeok"
          ],
          [
           "Appie Boudellah"
          ]
         ],
         "hovertemplate": "Genre=Comedy,Romance<br>Name=%{x}<br>Rating=%{marker.size}<br>Director=%{customdata[0]}<extra></extra>",
         "legendgroup": "Comedy,Romance",
         "marker": {
          "color": "#FECB52",
          "size": [
           79,
           67
          ],
          "sizemode": "area",
          "sizeref": 0.3688888888888889,
          "symbol": "circle"
         },
         "mode": "markers",
         "name": "Comedy,Romance",
         "orientation": "v",
         "showlegend": true,
         "type": "scatter",
         "x": [
          "Sweet & Sour",
          "Just Say Yes"
         ],
         "xaxis": "x",
         "y": [
          79,
          67
         ],
         "yaxis": "y"
        },
        {
         "customdata": [
          [
           "Jeff Wamester"
          ]
         ],
         "hovertemplate": "Genre=Animation,War,Science Fiction<br>Name=%{x}<br>Rating=%{marker.size}<br>Director=%{customdata[0]}<extra></extra>",
         "legendgroup": "Animation,War,Science Fiction",
         "marker": {
          "color": "#636efa",
          "size": [
           78
          ],
          "sizemode": "area",
          "sizeref": 0.3688888888888889,
          "symbol": "circle"
         },
         "mode": "markers",
         "name": "Animation,War,Science Fiction",
         "orientation": "v",
         "showlegend": true,
         "type": "scatter",
         "x": [
          "Justice Society: World War II"
         ],
         "xaxis": "x",
         "y": [
          78
         ],
         "yaxis": "y"
        },
        {
         "customdata": [
          [
           "Natalia Meta"
          ],
          [
           "Gigi Saúl Guerrero"
          ]
         ],
         "hovertemplate": "Genre=Thriller<br>Name=%{x}<br>Rating=%{marker.size}<br>Director=%{customdata[0]}<extra></extra>",
         "legendgroup": "Thriller",
         "marker": {
          "color": "#EF553B",
          "size": [
           53,
           53
          ],
          "sizemode": "area",
          "sizeref": 0.3688888888888889,
          "symbol": "circle"
         },
         "mode": "markers",
         "name": "Thriller",
         "orientation": "v",
         "showlegend": true,
         "type": "scatter",
         "x": [
          "The Intruder",
          "Bingo Hell"
         ],
         "xaxis": "x",
         "y": [
          53,
          53
         ],
         "yaxis": "y"
        },
        {
         "customdata": [
          [
           "Alexey Tsitsilin"
          ]
         ],
         "hovertemplate": "Genre=Animation,Comedy,Fantasy<br>Name=%{x}<br>Rating=%{marker.size}<br>Director=%{customdata[0]}<extra></extra>",
         "legendgroup": "Animation,Comedy,Fantasy",
         "marker": {
          "color": "#00cc96",
          "size": [
           72
          ],
          "sizemode": "area",
          "sizeref": 0.3688888888888889,
          "symbol": "circle"
         },
         "mode": "markers",
         "name": "Animation,Comedy,Fantasy",
         "orientation": "v",
         "showlegend": true,
         "type": "scatter",
         "x": [
          "Secret Magic Control Agency"
         ],
         "xaxis": "x",
         "y": [
          72
         ],
         "yaxis": "y"
        },
        {
         "customdata": [
          [
           "Peter Winther"
          ]
         ],
         "hovertemplate": "Genre=Horror,Crime,Drama,Thriller<br>Name=%{x}<br>Rating=%{marker.size}<br>Director=%{customdata[0]}<extra></extra>",
         "legendgroup": "Horror,Crime,Drama,Thriller",
         "marker": {
          "color": "#ab63fa",
          "size": [
           66
          ],
          "sizemode": "area",
          "sizeref": 0.3688888888888889,
          "symbol": "circle"
         },
         "mode": "markers",
         "name": "Horror,Crime,Drama,Thriller",
         "orientation": "v",
         "showlegend": true,
         "type": "scatter",
         "x": [
          "Aftermath"
         ],
         "xaxis": "x",
         "y": [
          66
         ],
         "yaxis": "y"
        },
        {
         "customdata": [
          [
           "Augustine Frizzell"
          ]
         ],
         "hovertemplate": "Genre=Drama,Romance<br>Name=%{x}<br>Rating=%{marker.size}<br>Director=%{customdata[0]}<extra></extra>",
         "legendgroup": "Drama,Romance",
         "marker": {
          "color": "#FFA15A",
          "size": [
           75
          ],
          "sizemode": "area",
          "sizeref": 0.3688888888888889,
          "symbol": "circle"
         },
         "mode": "markers",
         "name": "Drama,Romance",
         "orientation": "v",
         "showlegend": true,
         "type": "scatter",
         "x": [
          "The Last Letter From Your Lover"
         ],
         "xaxis": "x",
         "y": [
          75
         ],
         "yaxis": "y"
        },
        {
         "customdata": [
          [
           "Alan Powell"
          ]
         ],
         "hovertemplate": "Genre=Drama,Family,Music,Romance<br>Name=%{x}<br>Rating=%{marker.size}<br>Director=%{customdata[0]}<extra></extra>",
         "legendgroup": "Drama,Family,Music,Romance",
         "marker": {
          "color": "#19d3f3",
          "size": [
           71
          ],
          "sizemode": "area",
          "sizeref": 0.3688888888888889,
          "symbol": "circle"
         },
         "mode": "markers",
         "name": "Drama,Family,Music,Romance",
         "orientation": "v",
         "showlegend": true,
         "type": "scatter",
         "x": [
          "A Week Away"
         ],
         "xaxis": "x",
         "y": [
          71
         ],
         "yaxis": "y"
        },
        {
         "customdata": [
          [
           "Kenneth Branagh"
          ],
          [
           "Can Ulkay"
          ]
         ],
         "hovertemplate": "Genre=Drama<br>Name=%{x}<br>Rating=%{marker.size}<br>Director=%{customdata[0]}<extra></extra>",
         "legendgroup": "Drama",
         "marker": {
          "color": "#FF6692",
          "size": [
           61,
           82
          ],
          "sizemode": "area",
          "sizeref": 0.3688888888888889,
          "symbol": "circle"
         },
         "mode": "markers",
         "name": "Drama",
         "orientation": "v",
         "showlegend": true,
         "type": "scatter",
         "x": [
          "Belfast",
          "Paper Lives"
         ],
         "xaxis": "x",
         "y": [
          61,
          82
         ],
         "yaxis": "y"
        },
        {
         "customdata": [
          [
           "Bony Wirasmono"
          ]
         ],
         "hovertemplate": "Genre=Animation,Family<br>Name=%{x}<br>Rating=%{marker.size}<br>Director=%{customdata[0]}<extra></extra>",
         "legendgroup": "Animation,Family",
         "marker": {
          "color": "#B6E880",
          "size": [
           67
          ],
          "sizemode": "area",
          "sizeref": 0.3688888888888889,
          "symbol": "circle"
         },
         "mode": "markers",
         "name": "Animation,Family",
         "orientation": "v",
         "showlegend": true,
         "type": "scatter",
         "x": [
          "Nussa"
         ],
         "xaxis": "x",
         "y": [
          67
         ],
         "yaxis": "y"
        }
       ],
       "layout": {
        "legend": {
         "itemsizing": "constant",
         "title": {
          "text": "Genre"
         },
         "tracegroupgap": 0
        },
        "template": {
         "data": {
          "bar": [
           {
            "error_x": {
             "color": "#2a3f5f"
            },
            "error_y": {
             "color": "#2a3f5f"
            },
            "marker": {
             "line": {
              "color": "#E5ECF6",
              "width": 0.5
             },
             "pattern": {
              "fillmode": "overlay",
              "size": 10,
              "solidity": 0.2
             }
            },
            "type": "bar"
           }
          ],
          "barpolar": [
           {
            "marker": {
             "line": {
              "color": "#E5ECF6",
              "width": 0.5
             },
             "pattern": {
              "fillmode": "overlay",
              "size": 10,
              "solidity": 0.2
             }
            },
            "type": "barpolar"
           }
          ],
          "carpet": [
           {
            "aaxis": {
             "endlinecolor": "#2a3f5f",
             "gridcolor": "white",
             "linecolor": "white",
             "minorgridcolor": "white",
             "startlinecolor": "#2a3f5f"
            },
            "baxis": {
             "endlinecolor": "#2a3f5f",
             "gridcolor": "white",
             "linecolor": "white",
             "minorgridcolor": "white",
             "startlinecolor": "#2a3f5f"
            },
            "type": "carpet"
           }
          ],
          "choropleth": [
           {
            "colorbar": {
             "outlinewidth": 0,
             "ticks": ""
            },
            "type": "choropleth"
           }
          ],
          "contour": [
           {
            "colorbar": {
             "outlinewidth": 0,
             "ticks": ""
            },
            "colorscale": [
             [
              0,
              "#0d0887"
             ],
             [
              0.1111111111111111,
              "#46039f"
             ],
             [
              0.2222222222222222,
              "#7201a8"
             ],
             [
              0.3333333333333333,
              "#9c179e"
             ],
             [
              0.4444444444444444,
              "#bd3786"
             ],
             [
              0.5555555555555556,
              "#d8576b"
             ],
             [
              0.6666666666666666,
              "#ed7953"
             ],
             [
              0.7777777777777778,
              "#fb9f3a"
             ],
             [
              0.8888888888888888,
              "#fdca26"
             ],
             [
              1,
              "#f0f921"
             ]
            ],
            "type": "contour"
           }
          ],
          "contourcarpet": [
           {
            "colorbar": {
             "outlinewidth": 0,
             "ticks": ""
            },
            "type": "contourcarpet"
           }
          ],
          "heatmap": [
           {
            "colorbar": {
             "outlinewidth": 0,
             "ticks": ""
            },
            "colorscale": [
             [
              0,
              "#0d0887"
             ],
             [
              0.1111111111111111,
              "#46039f"
             ],
             [
              0.2222222222222222,
              "#7201a8"
             ],
             [
              0.3333333333333333,
              "#9c179e"
             ],
             [
              0.4444444444444444,
              "#bd3786"
             ],
             [
              0.5555555555555556,
              "#d8576b"
             ],
             [
              0.6666666666666666,
              "#ed7953"
             ],
             [
              0.7777777777777778,
              "#fb9f3a"
             ],
             [
              0.8888888888888888,
              "#fdca26"
             ],
             [
              1,
              "#f0f921"
             ]
            ],
            "type": "heatmap"
           }
          ],
          "heatmapgl": [
           {
            "colorbar": {
             "outlinewidth": 0,
             "ticks": ""
            },
            "colorscale": [
             [
              0,
              "#0d0887"
             ],
             [
              0.1111111111111111,
              "#46039f"
             ],
             [
              0.2222222222222222,
              "#7201a8"
             ],
             [
              0.3333333333333333,
              "#9c179e"
             ],
             [
              0.4444444444444444,
              "#bd3786"
             ],
             [
              0.5555555555555556,
              "#d8576b"
             ],
             [
              0.6666666666666666,
              "#ed7953"
             ],
             [
              0.7777777777777778,
              "#fb9f3a"
             ],
             [
              0.8888888888888888,
              "#fdca26"
             ],
             [
              1,
              "#f0f921"
             ]
            ],
            "type": "heatmapgl"
           }
          ],
          "histogram": [
           {
            "marker": {
             "pattern": {
              "fillmode": "overlay",
              "size": 10,
              "solidity": 0.2
             }
            },
            "type": "histogram"
           }
          ],
          "histogram2d": [
           {
            "colorbar": {
             "outlinewidth": 0,
             "ticks": ""
            },
            "colorscale": [
             [
              0,
              "#0d0887"
             ],
             [
              0.1111111111111111,
              "#46039f"
             ],
             [
              0.2222222222222222,
              "#7201a8"
             ],
             [
              0.3333333333333333,
              "#9c179e"
             ],
             [
              0.4444444444444444,
              "#bd3786"
             ],
             [
              0.5555555555555556,
              "#d8576b"
             ],
             [
              0.6666666666666666,
              "#ed7953"
             ],
             [
              0.7777777777777778,
              "#fb9f3a"
             ],
             [
              0.8888888888888888,
              "#fdca26"
             ],
             [
              1,
              "#f0f921"
             ]
            ],
            "type": "histogram2d"
           }
          ],
          "histogram2dcontour": [
           {
            "colorbar": {
             "outlinewidth": 0,
             "ticks": ""
            },
            "colorscale": [
             [
              0,
              "#0d0887"
             ],
             [
              0.1111111111111111,
              "#46039f"
             ],
             [
              0.2222222222222222,
              "#7201a8"
             ],
             [
              0.3333333333333333,
              "#9c179e"
             ],
             [
              0.4444444444444444,
              "#bd3786"
             ],
             [
              0.5555555555555556,
              "#d8576b"
             ],
             [
              0.6666666666666666,
              "#ed7953"
             ],
             [
              0.7777777777777778,
              "#fb9f3a"
             ],
             [
              0.8888888888888888,
              "#fdca26"
             ],
             [
              1,
              "#f0f921"
             ]
            ],
            "type": "histogram2dcontour"
           }
          ],
          "mesh3d": [
           {
            "colorbar": {
             "outlinewidth": 0,
             "ticks": ""
            },
            "type": "mesh3d"
           }
          ],
          "parcoords": [
           {
            "line": {
             "colorbar": {
              "outlinewidth": 0,
              "ticks": ""
             }
            },
            "type": "parcoords"
           }
          ],
          "pie": [
           {
            "automargin": true,
            "type": "pie"
           }
          ],
          "scatter": [
           {
            "marker": {
             "colorbar": {
              "outlinewidth": 0,
              "ticks": ""
             }
            },
            "type": "scatter"
           }
          ],
          "scatter3d": [
           {
            "line": {
             "colorbar": {
              "outlinewidth": 0,
              "ticks": ""
             }
            },
            "marker": {
             "colorbar": {
              "outlinewidth": 0,
              "ticks": ""
             }
            },
            "type": "scatter3d"
           }
          ],
          "scattercarpet": [
           {
            "marker": {
             "colorbar": {
              "outlinewidth": 0,
              "ticks": ""
             }
            },
            "type": "scattercarpet"
           }
          ],
          "scattergeo": [
           {
            "marker": {
             "colorbar": {
              "outlinewidth": 0,
              "ticks": ""
             }
            },
            "type": "scattergeo"
           }
          ],
          "scattergl": [
           {
            "marker": {
             "colorbar": {
              "outlinewidth": 0,
              "ticks": ""
             }
            },
            "type": "scattergl"
           }
          ],
          "scattermapbox": [
           {
            "marker": {
             "colorbar": {
              "outlinewidth": 0,
              "ticks": ""
             }
            },
            "type": "scattermapbox"
           }
          ],
          "scatterpolar": [
           {
            "marker": {
             "colorbar": {
              "outlinewidth": 0,
              "ticks": ""
             }
            },
            "type": "scatterpolar"
           }
          ],
          "scatterpolargl": [
           {
            "marker": {
             "colorbar": {
              "outlinewidth": 0,
              "ticks": ""
             }
            },
            "type": "scatterpolargl"
           }
          ],
          "scatterternary": [
           {
            "marker": {
             "colorbar": {
              "outlinewidth": 0,
              "ticks": ""
             }
            },
            "type": "scatterternary"
           }
          ],
          "surface": [
           {
            "colorbar": {
             "outlinewidth": 0,
             "ticks": ""
            },
            "colorscale": [
             [
              0,
              "#0d0887"
             ],
             [
              0.1111111111111111,
              "#46039f"
             ],
             [
              0.2222222222222222,
              "#7201a8"
             ],
             [
              0.3333333333333333,
              "#9c179e"
             ],
             [
              0.4444444444444444,
              "#bd3786"
             ],
             [
              0.5555555555555556,
              "#d8576b"
             ],
             [
              0.6666666666666666,
              "#ed7953"
             ],
             [
              0.7777777777777778,
              "#fb9f3a"
             ],
             [
              0.8888888888888888,
              "#fdca26"
             ],
             [
              1,
              "#f0f921"
             ]
            ],
            "type": "surface"
           }
          ],
          "table": [
           {
            "cells": {
             "fill": {
              "color": "#EBF0F8"
             },
             "line": {
              "color": "white"
             }
            },
            "header": {
             "fill": {
              "color": "#C8D4E3"
             },
             "line": {
              "color": "white"
             }
            },
            "type": "table"
           }
          ]
         },
         "layout": {
          "annotationdefaults": {
           "arrowcolor": "#2a3f5f",
           "arrowhead": 0,
           "arrowwidth": 1
          },
          "autotypenumbers": "strict",
          "coloraxis": {
           "colorbar": {
            "outlinewidth": 0,
            "ticks": ""
           }
          },
          "colorscale": {
           "diverging": [
            [
             0,
             "#8e0152"
            ],
            [
             0.1,
             "#c51b7d"
            ],
            [
             0.2,
             "#de77ae"
            ],
            [
             0.3,
             "#f1b6da"
            ],
            [
             0.4,
             "#fde0ef"
            ],
            [
             0.5,
             "#f7f7f7"
            ],
            [
             0.6,
             "#e6f5d0"
            ],
            [
             0.7,
             "#b8e186"
            ],
            [
             0.8,
             "#7fbc41"
            ],
            [
             0.9,
             "#4d9221"
            ],
            [
             1,
             "#276419"
            ]
           ],
           "sequential": [
            [
             0,
             "#0d0887"
            ],
            [
             0.1111111111111111,
             "#46039f"
            ],
            [
             0.2222222222222222,
             "#7201a8"
            ],
            [
             0.3333333333333333,
             "#9c179e"
            ],
            [
             0.4444444444444444,
             "#bd3786"
            ],
            [
             0.5555555555555556,
             "#d8576b"
            ],
            [
             0.6666666666666666,
             "#ed7953"
            ],
            [
             0.7777777777777778,
             "#fb9f3a"
            ],
            [
             0.8888888888888888,
             "#fdca26"
            ],
            [
             1,
             "#f0f921"
            ]
           ],
           "sequentialminus": [
            [
             0,
             "#0d0887"
            ],
            [
             0.1111111111111111,
             "#46039f"
            ],
            [
             0.2222222222222222,
             "#7201a8"
            ],
            [
             0.3333333333333333,
             "#9c179e"
            ],
            [
             0.4444444444444444,
             "#bd3786"
            ],
            [
             0.5555555555555556,
             "#d8576b"
            ],
            [
             0.6666666666666666,
             "#ed7953"
            ],
            [
             0.7777777777777778,
             "#fb9f3a"
            ],
            [
             0.8888888888888888,
             "#fdca26"
            ],
            [
             1,
             "#f0f921"
            ]
           ]
          },
          "colorway": [
           "#636efa",
           "#EF553B",
           "#00cc96",
           "#ab63fa",
           "#FFA15A",
           "#19d3f3",
           "#FF6692",
           "#B6E880",
           "#FF97FF",
           "#FECB52"
          ],
          "font": {
           "color": "#2a3f5f"
          },
          "geo": {
           "bgcolor": "white",
           "lakecolor": "white",
           "landcolor": "#E5ECF6",
           "showlakes": true,
           "showland": true,
           "subunitcolor": "white"
          },
          "hoverlabel": {
           "align": "left"
          },
          "hovermode": "closest",
          "mapbox": {
           "style": "light"
          },
          "paper_bgcolor": "white",
          "plot_bgcolor": "#E5ECF6",
          "polar": {
           "angularaxis": {
            "gridcolor": "white",
            "linecolor": "white",
            "ticks": ""
           },
           "bgcolor": "#E5ECF6",
           "radialaxis": {
            "gridcolor": "white",
            "linecolor": "white",
            "ticks": ""
           }
          },
          "scene": {
           "xaxis": {
            "backgroundcolor": "#E5ECF6",
            "gridcolor": "white",
            "gridwidth": 2,
            "linecolor": "white",
            "showbackground": true,
            "ticks": "",
            "zerolinecolor": "white"
           },
           "yaxis": {
            "backgroundcolor": "#E5ECF6",
            "gridcolor": "white",
            "gridwidth": 2,
            "linecolor": "white",
            "showbackground": true,
            "ticks": "",
            "zerolinecolor": "white"
           },
           "zaxis": {
            "backgroundcolor": "#E5ECF6",
            "gridcolor": "white",
            "gridwidth": 2,
            "linecolor": "white",
            "showbackground": true,
            "ticks": "",
            "zerolinecolor": "white"
           }
          },
          "shapedefaults": {
           "line": {
            "color": "#2a3f5f"
           }
          },
          "ternary": {
           "aaxis": {
            "gridcolor": "white",
            "linecolor": "white",
            "ticks": ""
           },
           "baxis": {
            "gridcolor": "white",
            "linecolor": "white",
            "ticks": ""
           },
           "bgcolor": "#E5ECF6",
           "caxis": {
            "gridcolor": "white",
            "linecolor": "white",
            "ticks": ""
           }
          },
          "title": {
           "x": 0.05
          },
          "xaxis": {
           "automargin": true,
           "gridcolor": "white",
           "linecolor": "white",
           "ticks": "",
           "title": {
            "standoff": 15
           },
           "zerolinecolor": "white",
           "zerolinewidth": 2
          },
          "yaxis": {
           "automargin": true,
           "gridcolor": "white",
           "linecolor": "white",
           "ticks": "",
           "title": {
            "standoff": 15
           },
           "zerolinecolor": "white",
           "zerolinewidth": 2
          }
         }
        },
        "title": {
         "text": "All movies of 2021"
        },
        "xaxis": {
         "anchor": "y",
         "domain": [
          0,
          1
         ],
         "title": {
          "text": "Name"
         }
        },
        "yaxis": {
         "anchor": "x",
         "domain": [
          0,
          1
         ],
         "title": {
          "text": "Rating"
         }
        }
       }
      },
      "text/html": [
       "<div>                            <div id=\"8cf909bf-9f3a-4c73-b59c-66f48fc8ceeb\" class=\"plotly-graph-div\" style=\"height:525px; width:100%;\"></div>            <script type=\"text/javascript\">                require([\"plotly\"], function(Plotly) {                    window.PLOTLYENV=window.PLOTLYENV || {};                                    if (document.getElementById(\"8cf909bf-9f3a-4c73-b59c-66f48fc8ceeb\")) {                    Plotly.newPlot(                        \"8cf909bf-9f3a-4c73-b59c-66f48fc8ceeb\",                        [{\"customdata\":[[\"Destin Daniel Cretton\"]],\"hovertemplate\":\"Genre=Action,Adventure,Fantasy<br>Name=%{x}<br>Rating=%{marker.size}<br>Director=%{customdata[0]}<extra></extra>\",\"legendgroup\":\"Action,Adventure,Fantasy\",\"marker\":{\"color\":\"#636efa\",\"size\":[79.0],\"sizemode\":\"area\",\"sizeref\":0.3688888888888889,\"symbol\":\"circle\"},\"mode\":\"markers\",\"name\":\"Action,Adventure,Fantasy\",\"orientation\":\"v\",\"showlegend\":true,\"type\":\"scatter\",\"x\":[\"Shang-Chi and the Legend of the Ten Rings\"],\"xaxis\":\"x\",\"y\":[79.0],\"yaxis\":\"y\"},{\"customdata\":[[\"Evan Spiliotopoulos\"]],\"hovertemplate\":\"Genre=Action,Adventure<br>Name=%{x}<br>Rating=%{marker.size}<br>Director=%{customdata[0]}<extra></extra>\",\"legendgroup\":\"Action,Adventure\",\"marker\":{\"color\":\"#EF553B\",\"size\":[68.0],\"sizemode\":\"area\",\"sizeref\":0.3688888888888889,\"symbol\":\"circle\"},\"mode\":\"markers\",\"name\":\"Action,Adventure\",\"orientation\":\"v\",\"showlegend\":true,\"type\":\"scatter\",\"x\":[\"Snake Eyes: G.I. Joe Origins\"],\"xaxis\":\"x\",\"y\":[68.0],\"yaxis\":\"y\"},{\"customdata\":[[\"Jaume Collet-Serra\"]],\"hovertemplate\":\"Genre=Adventure,Fantasy,Comedy,Action<br>Name=%{x}<br>Rating=%{marker.size}<br>Director=%{customdata[0]}<extra></extra>\",\"legendgroup\":\"Adventure,Fantasy,Comedy,Action\",\"marker\":{\"color\":\"#00cc96\",\"size\":[77.0],\"sizemode\":\"area\",\"sizeref\":0.3688888888888889,\"symbol\":\"circle\"},\"mode\":\"markers\",\"name\":\"Adventure,Fantasy,Comedy,Action\",\"orientation\":\"v\",\"showlegend\":true,\"type\":\"scatter\",\"x\":[\"Jungle Cruise\"],\"xaxis\":\"x\",\"y\":[77.0],\"yaxis\":\"y\"},{\"customdata\":[[\"William Brent Bell\"],[\"David Koepp\"]],\"hovertemplate\":\"Genre=Horror<br>Name=%{x}<br>Rating=%{marker.size}<br>Director=%{customdata[0]}<extra></extra>\",\"legendgroup\":\"Horror\",\"marker\":{\"color\":\"#ab63fa\",\"size\":[59.0,69.0],\"sizemode\":\"area\",\"sizeref\":0.3688888888888889,\"symbol\":\"circle\"},\"mode\":\"markers\",\"name\":\"Horror\",\"orientation\":\"v\",\"showlegend\":true,\"type\":\"scatter\",\"x\":[\"Separation\",\"Torcidos\"],\"xaxis\":\"x\",\"y\":[59.0,69.0],\"yaxis\":\"y\"},{\"customdata\":[[\"Neill Blomkamp\"],[\"Kevin Williamson\"]],\"hovertemplate\":\"Genre=Horror,Thriller<br>Name=%{x}<br>Rating=%{marker.size}<br>Director=%{customdata[0]}<extra></extra>\",\"legendgroup\":\"Horror,Thriller\",\"marker\":{\"color\":\"#FFA15A\",\"size\":[49.0,63.0],\"sizemode\":\"area\",\"sizeref\":0.3688888888888889,\"symbol\":\"circle\"},\"mode\":\"markers\",\"name\":\"Horror,Thriller\",\"orientation\":\"v\",\"showlegend\":true,\"type\":\"scatter\",\"x\":[\"Demonic\",\"Jeepers Creepers: Reborn\"],\"xaxis\":\"x\",\"y\":[49.0,63.0],\"yaxis\":\"y\"},{\"customdata\":[[\"Joseph Barbera\"]],\"hovertemplate\":\"Genre=Animation,Comedy,Mystery,Family,Fantasy<br>Name=%{x}<br>Rating=%{marker.size}<br>Director=%{customdata[0]}<extra></extra>\",\"legendgroup\":\"Animation,Comedy,Mystery,Family,Fantasy\",\"marker\":{\"color\":\"#19d3f3\",\"size\":[83.0],\"sizemode\":\"area\",\"sizeref\":0.3688888888888889,\"symbol\":\"circle\"},\"mode\":\"markers\",\"name\":\"Animation,Comedy,Mystery,Family,Fantasy\",\"orientation\":\"v\",\"showlegend\":true,\"type\":\"scatter\",\"x\":[\"Straight Outta Nowhere: Scooby-Doo! Meets Courage the Cowardly Dog\"],\"xaxis\":\"x\",\"y\":[83.0],\"yaxis\":\"y\"},{\"customdata\":[[\"Dominic Cooke\"]],\"hovertemplate\":\"Genre=Thriller,History,Drama<br>Name=%{x}<br>Rating=%{marker.size}<br>Director=%{customdata[0]}<extra></extra>\",\"legendgroup\":\"Thriller,History,Drama\",\"marker\":{\"color\":\"#FF6692\",\"size\":[72.0],\"sizemode\":\"area\",\"sizeref\":0.3688888888888889,\"symbol\":\"circle\"},\"mode\":\"markers\",\"name\":\"Thriller,History,Drama\",\"orientation\":\"v\",\"showlegend\":true,\"type\":\"scatter\",\"x\":[\"The Courier\"],\"xaxis\":\"x\",\"y\":[72.0],\"yaxis\":\"y\"},{\"customdata\":[[\"Dominic Cooke\"]],\"hovertemplate\":\"Genre=Family,Animation<br>Name=%{x}<br>Rating=%{marker.size}<br>Director=%{customdata[0]}<extra></extra>\",\"legendgroup\":\"Family,Animation\",\"marker\":{\"color\":\"#B6E880\",\"size\":[72.0],\"sizemode\":\"area\",\"sizeref\":0.3688888888888889,\"symbol\":\"circle\"},\"mode\":\"markers\",\"name\":\"Family,Animation\",\"orientation\":\"v\",\"showlegend\":true,\"type\":\"scatter\",\"x\":[\"Catalina la Catrina: especial D\\u00eda de Muertos\"],\"xaxis\":\"x\",\"y\":[72.0],\"yaxis\":\"y\"},{\"customdata\":[[\"Mich\\u00e8le Laroque\"],[\"Yedinson Fl\\u00f3rez\"],[\"Marcos Bucay\"]],\"hovertemplate\":\"Genre=Comedy<br>Name=%{x}<br>Rating=%{marker.size}<br>Director=%{customdata[0]}<extra></extra>\",\"legendgroup\":\"Comedy\",\"marker\":{\"color\":\"#FF97FF\",\"size\":[54.0,78.0,65.0],\"sizemode\":\"area\",\"sizeref\":0.3688888888888889,\"symbol\":\"circle\"},\"mode\":\"markers\",\"name\":\"Comedy\",\"orientation\":\"v\",\"showlegend\":true,\"type\":\"scatter\",\"x\":[\"Kids Are Back\",\"Lokillo: Nothing's the Same\",\"Bankrolled\"],\"xaxis\":\"x\",\"y\":[54.0,78.0,65.0],\"yaxis\":\"y\"},{\"customdata\":[[\"Lee Kae-byeok\"],[\"Appie Boudellah\"]],\"hovertemplate\":\"Genre=Comedy,Romance<br>Name=%{x}<br>Rating=%{marker.size}<br>Director=%{customdata[0]}<extra></extra>\",\"legendgroup\":\"Comedy,Romance\",\"marker\":{\"color\":\"#FECB52\",\"size\":[79.0,67.0],\"sizemode\":\"area\",\"sizeref\":0.3688888888888889,\"symbol\":\"circle\"},\"mode\":\"markers\",\"name\":\"Comedy,Romance\",\"orientation\":\"v\",\"showlegend\":true,\"type\":\"scatter\",\"x\":[\"Sweet & Sour\",\"Just Say Yes\"],\"xaxis\":\"x\",\"y\":[79.0,67.0],\"yaxis\":\"y\"},{\"customdata\":[[\"Jeff Wamester\"]],\"hovertemplate\":\"Genre=Animation,War,Science Fiction<br>Name=%{x}<br>Rating=%{marker.size}<br>Director=%{customdata[0]}<extra></extra>\",\"legendgroup\":\"Animation,War,Science Fiction\",\"marker\":{\"color\":\"#636efa\",\"size\":[78.0],\"sizemode\":\"area\",\"sizeref\":0.3688888888888889,\"symbol\":\"circle\"},\"mode\":\"markers\",\"name\":\"Animation,War,Science Fiction\",\"orientation\":\"v\",\"showlegend\":true,\"type\":\"scatter\",\"x\":[\"Justice Society: World War II\"],\"xaxis\":\"x\",\"y\":[78.0],\"yaxis\":\"y\"},{\"customdata\":[[\"Natalia Meta\"],[\"Gigi Sa\\u00fal Guerrero\"]],\"hovertemplate\":\"Genre=Thriller<br>Name=%{x}<br>Rating=%{marker.size}<br>Director=%{customdata[0]}<extra></extra>\",\"legendgroup\":\"Thriller\",\"marker\":{\"color\":\"#EF553B\",\"size\":[53.0,53.0],\"sizemode\":\"area\",\"sizeref\":0.3688888888888889,\"symbol\":\"circle\"},\"mode\":\"markers\",\"name\":\"Thriller\",\"orientation\":\"v\",\"showlegend\":true,\"type\":\"scatter\",\"x\":[\"The Intruder\",\"Bingo Hell\"],\"xaxis\":\"x\",\"y\":[53.0,53.0],\"yaxis\":\"y\"},{\"customdata\":[[\"Alexey Tsitsilin\"]],\"hovertemplate\":\"Genre=Animation,Comedy,Fantasy<br>Name=%{x}<br>Rating=%{marker.size}<br>Director=%{customdata[0]}<extra></extra>\",\"legendgroup\":\"Animation,Comedy,Fantasy\",\"marker\":{\"color\":\"#00cc96\",\"size\":[72.0],\"sizemode\":\"area\",\"sizeref\":0.3688888888888889,\"symbol\":\"circle\"},\"mode\":\"markers\",\"name\":\"Animation,Comedy,Fantasy\",\"orientation\":\"v\",\"showlegend\":true,\"type\":\"scatter\",\"x\":[\"Secret Magic Control Agency\"],\"xaxis\":\"x\",\"y\":[72.0],\"yaxis\":\"y\"},{\"customdata\":[[\"Peter Winther\"]],\"hovertemplate\":\"Genre=Horror,Crime,Drama,Thriller<br>Name=%{x}<br>Rating=%{marker.size}<br>Director=%{customdata[0]}<extra></extra>\",\"legendgroup\":\"Horror,Crime,Drama,Thriller\",\"marker\":{\"color\":\"#ab63fa\",\"size\":[66.0],\"sizemode\":\"area\",\"sizeref\":0.3688888888888889,\"symbol\":\"circle\"},\"mode\":\"markers\",\"name\":\"Horror,Crime,Drama,Thriller\",\"orientation\":\"v\",\"showlegend\":true,\"type\":\"scatter\",\"x\":[\"Aftermath\"],\"xaxis\":\"x\",\"y\":[66.0],\"yaxis\":\"y\"},{\"customdata\":[[\"Augustine Frizzell\"]],\"hovertemplate\":\"Genre=Drama,Romance<br>Name=%{x}<br>Rating=%{marker.size}<br>Director=%{customdata[0]}<extra></extra>\",\"legendgroup\":\"Drama,Romance\",\"marker\":{\"color\":\"#FFA15A\",\"size\":[75.0],\"sizemode\":\"area\",\"sizeref\":0.3688888888888889,\"symbol\":\"circle\"},\"mode\":\"markers\",\"name\":\"Drama,Romance\",\"orientation\":\"v\",\"showlegend\":true,\"type\":\"scatter\",\"x\":[\"The Last Letter From Your Lover\"],\"xaxis\":\"x\",\"y\":[75.0],\"yaxis\":\"y\"},{\"customdata\":[[\"Alan Powell\"]],\"hovertemplate\":\"Genre=Drama,Family,Music,Romance<br>Name=%{x}<br>Rating=%{marker.size}<br>Director=%{customdata[0]}<extra></extra>\",\"legendgroup\":\"Drama,Family,Music,Romance\",\"marker\":{\"color\":\"#19d3f3\",\"size\":[71.0],\"sizemode\":\"area\",\"sizeref\":0.3688888888888889,\"symbol\":\"circle\"},\"mode\":\"markers\",\"name\":\"Drama,Family,Music,Romance\",\"orientation\":\"v\",\"showlegend\":true,\"type\":\"scatter\",\"x\":[\"A Week Away\"],\"xaxis\":\"x\",\"y\":[71.0],\"yaxis\":\"y\"},{\"customdata\":[[\"Kenneth Branagh\"],[\"Can Ulkay\"]],\"hovertemplate\":\"Genre=Drama<br>Name=%{x}<br>Rating=%{marker.size}<br>Director=%{customdata[0]}<extra></extra>\",\"legendgroup\":\"Drama\",\"marker\":{\"color\":\"#FF6692\",\"size\":[61.0,82.0],\"sizemode\":\"area\",\"sizeref\":0.3688888888888889,\"symbol\":\"circle\"},\"mode\":\"markers\",\"name\":\"Drama\",\"orientation\":\"v\",\"showlegend\":true,\"type\":\"scatter\",\"x\":[\"Belfast\",\"Paper Lives\"],\"xaxis\":\"x\",\"y\":[61.0,82.0],\"yaxis\":\"y\"},{\"customdata\":[[\"Bony Wirasmono\"]],\"hovertemplate\":\"Genre=Animation,Family<br>Name=%{x}<br>Rating=%{marker.size}<br>Director=%{customdata[0]}<extra></extra>\",\"legendgroup\":\"Animation,Family\",\"marker\":{\"color\":\"#B6E880\",\"size\":[67.0],\"sizemode\":\"area\",\"sizeref\":0.3688888888888889,\"symbol\":\"circle\"},\"mode\":\"markers\",\"name\":\"Animation,Family\",\"orientation\":\"v\",\"showlegend\":true,\"type\":\"scatter\",\"x\":[\"Nussa\"],\"xaxis\":\"x\",\"y\":[67.0],\"yaxis\":\"y\"}],                        {\"legend\":{\"itemsizing\":\"constant\",\"title\":{\"text\":\"Genre\"},\"tracegroupgap\":0},\"template\":{\"data\":{\"bar\":[{\"error_x\":{\"color\":\"#2a3f5f\"},\"error_y\":{\"color\":\"#2a3f5f\"},\"marker\":{\"line\":{\"color\":\"#E5ECF6\",\"width\":0.5},\"pattern\":{\"fillmode\":\"overlay\",\"size\":10,\"solidity\":0.2}},\"type\":\"bar\"}],\"barpolar\":[{\"marker\":{\"line\":{\"color\":\"#E5ECF6\",\"width\":0.5},\"pattern\":{\"fillmode\":\"overlay\",\"size\":10,\"solidity\":0.2}},\"type\":\"barpolar\"}],\"carpet\":[{\"aaxis\":{\"endlinecolor\":\"#2a3f5f\",\"gridcolor\":\"white\",\"linecolor\":\"white\",\"minorgridcolor\":\"white\",\"startlinecolor\":\"#2a3f5f\"},\"baxis\":{\"endlinecolor\":\"#2a3f5f\",\"gridcolor\":\"white\",\"linecolor\":\"white\",\"minorgridcolor\":\"white\",\"startlinecolor\":\"#2a3f5f\"},\"type\":\"carpet\"}],\"choropleth\":[{\"colorbar\":{\"outlinewidth\":0,\"ticks\":\"\"},\"type\":\"choropleth\"}],\"contour\":[{\"colorbar\":{\"outlinewidth\":0,\"ticks\":\"\"},\"colorscale\":[[0.0,\"#0d0887\"],[0.1111111111111111,\"#46039f\"],[0.2222222222222222,\"#7201a8\"],[0.3333333333333333,\"#9c179e\"],[0.4444444444444444,\"#bd3786\"],[0.5555555555555556,\"#d8576b\"],[0.6666666666666666,\"#ed7953\"],[0.7777777777777778,\"#fb9f3a\"],[0.8888888888888888,\"#fdca26\"],[1.0,\"#f0f921\"]],\"type\":\"contour\"}],\"contourcarpet\":[{\"colorbar\":{\"outlinewidth\":0,\"ticks\":\"\"},\"type\":\"contourcarpet\"}],\"heatmap\":[{\"colorbar\":{\"outlinewidth\":0,\"ticks\":\"\"},\"colorscale\":[[0.0,\"#0d0887\"],[0.1111111111111111,\"#46039f\"],[0.2222222222222222,\"#7201a8\"],[0.3333333333333333,\"#9c179e\"],[0.4444444444444444,\"#bd3786\"],[0.5555555555555556,\"#d8576b\"],[0.6666666666666666,\"#ed7953\"],[0.7777777777777778,\"#fb9f3a\"],[0.8888888888888888,\"#fdca26\"],[1.0,\"#f0f921\"]],\"type\":\"heatmap\"}],\"heatmapgl\":[{\"colorbar\":{\"outlinewidth\":0,\"ticks\":\"\"},\"colorscale\":[[0.0,\"#0d0887\"],[0.1111111111111111,\"#46039f\"],[0.2222222222222222,\"#7201a8\"],[0.3333333333333333,\"#9c179e\"],[0.4444444444444444,\"#bd3786\"],[0.5555555555555556,\"#d8576b\"],[0.6666666666666666,\"#ed7953\"],[0.7777777777777778,\"#fb9f3a\"],[0.8888888888888888,\"#fdca26\"],[1.0,\"#f0f921\"]],\"type\":\"heatmapgl\"}],\"histogram\":[{\"marker\":{\"pattern\":{\"fillmode\":\"overlay\",\"size\":10,\"solidity\":0.2}},\"type\":\"histogram\"}],\"histogram2d\":[{\"colorbar\":{\"outlinewidth\":0,\"ticks\":\"\"},\"colorscale\":[[0.0,\"#0d0887\"],[0.1111111111111111,\"#46039f\"],[0.2222222222222222,\"#7201a8\"],[0.3333333333333333,\"#9c179e\"],[0.4444444444444444,\"#bd3786\"],[0.5555555555555556,\"#d8576b\"],[0.6666666666666666,\"#ed7953\"],[0.7777777777777778,\"#fb9f3a\"],[0.8888888888888888,\"#fdca26\"],[1.0,\"#f0f921\"]],\"type\":\"histogram2d\"}],\"histogram2dcontour\":[{\"colorbar\":{\"outlinewidth\":0,\"ticks\":\"\"},\"colorscale\":[[0.0,\"#0d0887\"],[0.1111111111111111,\"#46039f\"],[0.2222222222222222,\"#7201a8\"],[0.3333333333333333,\"#9c179e\"],[0.4444444444444444,\"#bd3786\"],[0.5555555555555556,\"#d8576b\"],[0.6666666666666666,\"#ed7953\"],[0.7777777777777778,\"#fb9f3a\"],[0.8888888888888888,\"#fdca26\"],[1.0,\"#f0f921\"]],\"type\":\"histogram2dcontour\"}],\"mesh3d\":[{\"colorbar\":{\"outlinewidth\":0,\"ticks\":\"\"},\"type\":\"mesh3d\"}],\"parcoords\":[{\"line\":{\"colorbar\":{\"outlinewidth\":0,\"ticks\":\"\"}},\"type\":\"parcoords\"}],\"pie\":[{\"automargin\":true,\"type\":\"pie\"}],\"scatter\":[{\"marker\":{\"colorbar\":{\"outlinewidth\":0,\"ticks\":\"\"}},\"type\":\"scatter\"}],\"scatter3d\":[{\"line\":{\"colorbar\":{\"outlinewidth\":0,\"ticks\":\"\"}},\"marker\":{\"colorbar\":{\"outlinewidth\":0,\"ticks\":\"\"}},\"type\":\"scatter3d\"}],\"scattercarpet\":[{\"marker\":{\"colorbar\":{\"outlinewidth\":0,\"ticks\":\"\"}},\"type\":\"scattercarpet\"}],\"scattergeo\":[{\"marker\":{\"colorbar\":{\"outlinewidth\":0,\"ticks\":\"\"}},\"type\":\"scattergeo\"}],\"scattergl\":[{\"marker\":{\"colorbar\":{\"outlinewidth\":0,\"ticks\":\"\"}},\"type\":\"scattergl\"}],\"scattermapbox\":[{\"marker\":{\"colorbar\":{\"outlinewidth\":0,\"ticks\":\"\"}},\"type\":\"scattermapbox\"}],\"scatterpolar\":[{\"marker\":{\"colorbar\":{\"outlinewidth\":0,\"ticks\":\"\"}},\"type\":\"scatterpolar\"}],\"scatterpolargl\":[{\"marker\":{\"colorbar\":{\"outlinewidth\":0,\"ticks\":\"\"}},\"type\":\"scatterpolargl\"}],\"scatterternary\":[{\"marker\":{\"colorbar\":{\"outlinewidth\":0,\"ticks\":\"\"}},\"type\":\"scatterternary\"}],\"surface\":[{\"colorbar\":{\"outlinewidth\":0,\"ticks\":\"\"},\"colorscale\":[[0.0,\"#0d0887\"],[0.1111111111111111,\"#46039f\"],[0.2222222222222222,\"#7201a8\"],[0.3333333333333333,\"#9c179e\"],[0.4444444444444444,\"#bd3786\"],[0.5555555555555556,\"#d8576b\"],[0.6666666666666666,\"#ed7953\"],[0.7777777777777778,\"#fb9f3a\"],[0.8888888888888888,\"#fdca26\"],[1.0,\"#f0f921\"]],\"type\":\"surface\"}],\"table\":[{\"cells\":{\"fill\":{\"color\":\"#EBF0F8\"},\"line\":{\"color\":\"white\"}},\"header\":{\"fill\":{\"color\":\"#C8D4E3\"},\"line\":{\"color\":\"white\"}},\"type\":\"table\"}]},\"layout\":{\"annotationdefaults\":{\"arrowcolor\":\"#2a3f5f\",\"arrowhead\":0,\"arrowwidth\":1},\"autotypenumbers\":\"strict\",\"coloraxis\":{\"colorbar\":{\"outlinewidth\":0,\"ticks\":\"\"}},\"colorscale\":{\"diverging\":[[0,\"#8e0152\"],[0.1,\"#c51b7d\"],[0.2,\"#de77ae\"],[0.3,\"#f1b6da\"],[0.4,\"#fde0ef\"],[0.5,\"#f7f7f7\"],[0.6,\"#e6f5d0\"],[0.7,\"#b8e186\"],[0.8,\"#7fbc41\"],[0.9,\"#4d9221\"],[1,\"#276419\"]],\"sequential\":[[0.0,\"#0d0887\"],[0.1111111111111111,\"#46039f\"],[0.2222222222222222,\"#7201a8\"],[0.3333333333333333,\"#9c179e\"],[0.4444444444444444,\"#bd3786\"],[0.5555555555555556,\"#d8576b\"],[0.6666666666666666,\"#ed7953\"],[0.7777777777777778,\"#fb9f3a\"],[0.8888888888888888,\"#fdca26\"],[1.0,\"#f0f921\"]],\"sequentialminus\":[[0.0,\"#0d0887\"],[0.1111111111111111,\"#46039f\"],[0.2222222222222222,\"#7201a8\"],[0.3333333333333333,\"#9c179e\"],[0.4444444444444444,\"#bd3786\"],[0.5555555555555556,\"#d8576b\"],[0.6666666666666666,\"#ed7953\"],[0.7777777777777778,\"#fb9f3a\"],[0.8888888888888888,\"#fdca26\"],[1.0,\"#f0f921\"]]},\"colorway\":[\"#636efa\",\"#EF553B\",\"#00cc96\",\"#ab63fa\",\"#FFA15A\",\"#19d3f3\",\"#FF6692\",\"#B6E880\",\"#FF97FF\",\"#FECB52\"],\"font\":{\"color\":\"#2a3f5f\"},\"geo\":{\"bgcolor\":\"white\",\"lakecolor\":\"white\",\"landcolor\":\"#E5ECF6\",\"showlakes\":true,\"showland\":true,\"subunitcolor\":\"white\"},\"hoverlabel\":{\"align\":\"left\"},\"hovermode\":\"closest\",\"mapbox\":{\"style\":\"light\"},\"paper_bgcolor\":\"white\",\"plot_bgcolor\":\"#E5ECF6\",\"polar\":{\"angularaxis\":{\"gridcolor\":\"white\",\"linecolor\":\"white\",\"ticks\":\"\"},\"bgcolor\":\"#E5ECF6\",\"radialaxis\":{\"gridcolor\":\"white\",\"linecolor\":\"white\",\"ticks\":\"\"}},\"scene\":{\"xaxis\":{\"backgroundcolor\":\"#E5ECF6\",\"gridcolor\":\"white\",\"gridwidth\":2,\"linecolor\":\"white\",\"showbackground\":true,\"ticks\":\"\",\"zerolinecolor\":\"white\"},\"yaxis\":{\"backgroundcolor\":\"#E5ECF6\",\"gridcolor\":\"white\",\"gridwidth\":2,\"linecolor\":\"white\",\"showbackground\":true,\"ticks\":\"\",\"zerolinecolor\":\"white\"},\"zaxis\":{\"backgroundcolor\":\"#E5ECF6\",\"gridcolor\":\"white\",\"gridwidth\":2,\"linecolor\":\"white\",\"showbackground\":true,\"ticks\":\"\",\"zerolinecolor\":\"white\"}},\"shapedefaults\":{\"line\":{\"color\":\"#2a3f5f\"}},\"ternary\":{\"aaxis\":{\"gridcolor\":\"white\",\"linecolor\":\"white\",\"ticks\":\"\"},\"baxis\":{\"gridcolor\":\"white\",\"linecolor\":\"white\",\"ticks\":\"\"},\"bgcolor\":\"#E5ECF6\",\"caxis\":{\"gridcolor\":\"white\",\"linecolor\":\"white\",\"ticks\":\"\"}},\"title\":{\"x\":0.05},\"xaxis\":{\"automargin\":true,\"gridcolor\":\"white\",\"linecolor\":\"white\",\"ticks\":\"\",\"title\":{\"standoff\":15},\"zerolinecolor\":\"white\",\"zerolinewidth\":2},\"yaxis\":{\"automargin\":true,\"gridcolor\":\"white\",\"linecolor\":\"white\",\"ticks\":\"\",\"title\":{\"standoff\":15},\"zerolinecolor\":\"white\",\"zerolinewidth\":2}}},\"title\":{\"text\":\"All movies of 2021\"},\"xaxis\":{\"anchor\":\"y\",\"domain\":[0.0,1.0],\"title\":{\"text\":\"Name\"}},\"yaxis\":{\"anchor\":\"x\",\"domain\":[0.0,1.0],\"title\":{\"text\":\"Rating\"}}},                        {\"responsive\": true}                    ).then(function(){\n",
       "                            \n",
       "var gd = document.getElementById('8cf909bf-9f3a-4c73-b59c-66f48fc8ceeb');\n",
       "var x = new MutationObserver(function (mutations, observer) {{\n",
       "        var display = window.getComputedStyle(gd).display;\n",
       "        if (!display || display === 'none') {{\n",
       "            console.log([gd, 'removed!']);\n",
       "            Plotly.purge(gd);\n",
       "            observer.disconnect();\n",
       "        }}\n",
       "}});\n",
       "\n",
       "// Listen for the removal of the full notebook cells\n",
       "var notebookContainer = gd.closest('#notebook-container');\n",
       "if (notebookContainer) {{\n",
       "    x.observe(notebookContainer, {childList: true});\n",
       "}}\n",
       "\n",
       "// Listen for the clearing of the current output cell\n",
       "var outputEl = gd.closest('.output');\n",
       "if (outputEl) {{\n",
       "    x.observe(outputEl, {childList: true});\n",
       "}}\n",
       "\n",
       "                        })                };                });            </script>        </div>"
      ]
     },
     "metadata": {},
     "output_type": "display_data"
    }
   ],
   "source": [
    "fig = px.scatter(movies_2021, x=\"Name\", y=\"Rating\",\n",
    "      size=\"Rating\", color=\"Genre\", size_max=15,hover_data=['Director'],title='All movies of 2021')\n",
    "fig.show()"
   ]
  },
  {
   "cell_type": "code",
   "execution_count": 234,
   "id": "ad4e613e",
   "metadata": {},
   "outputs": [
    {
     "data": {
      "application/vnd.plotly.v1+json": {
       "config": {
        "plotlyServerURL": "https://plot.ly"
       },
       "data": [
        {
         "domain": {
          "x": [
           0,
           1
          ],
          "y": [
           0,
           1
          ]
         },
         "hovertemplate": "Genre=%{label}<br>Rating=%{value}<extra></extra>",
         "labels": [
          "Action,Adventure,Fantasy",
          "Action,Adventure",
          "Adventure,Fantasy,Comedy,Action",
          "Horror",
          "Horror,Thriller",
          "Animation,Comedy,Mystery,Family,Fantasy",
          "Thriller,History,Drama",
          "Family,Animation",
          "Comedy",
          "Comedy,Romance",
          "Animation,War,Science Fiction",
          "Comedy",
          "Thriller",
          "Comedy,Romance",
          "Animation,Comedy,Fantasy",
          "Horror,Crime,Drama,Thriller",
          "Drama,Romance",
          "Thriller",
          "Comedy",
          "Drama,Family,Music,Romance",
          "Horror,Thriller",
          "Horror",
          "Drama",
          "Drama",
          "Animation,Family"
         ],
         "legendgroup": "",
         "name": "",
         "showlegend": true,
         "type": "pie",
         "values": [
          79,
          68,
          77,
          59,
          49,
          83,
          72,
          72,
          54,
          79,
          78,
          78,
          53,
          67,
          72,
          66,
          75,
          53,
          65,
          71,
          63,
          69,
          61,
          82,
          67
         ]
        }
       ],
       "layout": {
        "legend": {
         "tracegroupgap": 0
        },
        "template": {
         "data": {
          "bar": [
           {
            "error_x": {
             "color": "#2a3f5f"
            },
            "error_y": {
             "color": "#2a3f5f"
            },
            "marker": {
             "line": {
              "color": "#E5ECF6",
              "width": 0.5
             },
             "pattern": {
              "fillmode": "overlay",
              "size": 10,
              "solidity": 0.2
             }
            },
            "type": "bar"
           }
          ],
          "barpolar": [
           {
            "marker": {
             "line": {
              "color": "#E5ECF6",
              "width": 0.5
             },
             "pattern": {
              "fillmode": "overlay",
              "size": 10,
              "solidity": 0.2
             }
            },
            "type": "barpolar"
           }
          ],
          "carpet": [
           {
            "aaxis": {
             "endlinecolor": "#2a3f5f",
             "gridcolor": "white",
             "linecolor": "white",
             "minorgridcolor": "white",
             "startlinecolor": "#2a3f5f"
            },
            "baxis": {
             "endlinecolor": "#2a3f5f",
             "gridcolor": "white",
             "linecolor": "white",
             "minorgridcolor": "white",
             "startlinecolor": "#2a3f5f"
            },
            "type": "carpet"
           }
          ],
          "choropleth": [
           {
            "colorbar": {
             "outlinewidth": 0,
             "ticks": ""
            },
            "type": "choropleth"
           }
          ],
          "contour": [
           {
            "colorbar": {
             "outlinewidth": 0,
             "ticks": ""
            },
            "colorscale": [
             [
              0,
              "#0d0887"
             ],
             [
              0.1111111111111111,
              "#46039f"
             ],
             [
              0.2222222222222222,
              "#7201a8"
             ],
             [
              0.3333333333333333,
              "#9c179e"
             ],
             [
              0.4444444444444444,
              "#bd3786"
             ],
             [
              0.5555555555555556,
              "#d8576b"
             ],
             [
              0.6666666666666666,
              "#ed7953"
             ],
             [
              0.7777777777777778,
              "#fb9f3a"
             ],
             [
              0.8888888888888888,
              "#fdca26"
             ],
             [
              1,
              "#f0f921"
             ]
            ],
            "type": "contour"
           }
          ],
          "contourcarpet": [
           {
            "colorbar": {
             "outlinewidth": 0,
             "ticks": ""
            },
            "type": "contourcarpet"
           }
          ],
          "heatmap": [
           {
            "colorbar": {
             "outlinewidth": 0,
             "ticks": ""
            },
            "colorscale": [
             [
              0,
              "#0d0887"
             ],
             [
              0.1111111111111111,
              "#46039f"
             ],
             [
              0.2222222222222222,
              "#7201a8"
             ],
             [
              0.3333333333333333,
              "#9c179e"
             ],
             [
              0.4444444444444444,
              "#bd3786"
             ],
             [
              0.5555555555555556,
              "#d8576b"
             ],
             [
              0.6666666666666666,
              "#ed7953"
             ],
             [
              0.7777777777777778,
              "#fb9f3a"
             ],
             [
              0.8888888888888888,
              "#fdca26"
             ],
             [
              1,
              "#f0f921"
             ]
            ],
            "type": "heatmap"
           }
          ],
          "heatmapgl": [
           {
            "colorbar": {
             "outlinewidth": 0,
             "ticks": ""
            },
            "colorscale": [
             [
              0,
              "#0d0887"
             ],
             [
              0.1111111111111111,
              "#46039f"
             ],
             [
              0.2222222222222222,
              "#7201a8"
             ],
             [
              0.3333333333333333,
              "#9c179e"
             ],
             [
              0.4444444444444444,
              "#bd3786"
             ],
             [
              0.5555555555555556,
              "#d8576b"
             ],
             [
              0.6666666666666666,
              "#ed7953"
             ],
             [
              0.7777777777777778,
              "#fb9f3a"
             ],
             [
              0.8888888888888888,
              "#fdca26"
             ],
             [
              1,
              "#f0f921"
             ]
            ],
            "type": "heatmapgl"
           }
          ],
          "histogram": [
           {
            "marker": {
             "pattern": {
              "fillmode": "overlay",
              "size": 10,
              "solidity": 0.2
             }
            },
            "type": "histogram"
           }
          ],
          "histogram2d": [
           {
            "colorbar": {
             "outlinewidth": 0,
             "ticks": ""
            },
            "colorscale": [
             [
              0,
              "#0d0887"
             ],
             [
              0.1111111111111111,
              "#46039f"
             ],
             [
              0.2222222222222222,
              "#7201a8"
             ],
             [
              0.3333333333333333,
              "#9c179e"
             ],
             [
              0.4444444444444444,
              "#bd3786"
             ],
             [
              0.5555555555555556,
              "#d8576b"
             ],
             [
              0.6666666666666666,
              "#ed7953"
             ],
             [
              0.7777777777777778,
              "#fb9f3a"
             ],
             [
              0.8888888888888888,
              "#fdca26"
             ],
             [
              1,
              "#f0f921"
             ]
            ],
            "type": "histogram2d"
           }
          ],
          "histogram2dcontour": [
           {
            "colorbar": {
             "outlinewidth": 0,
             "ticks": ""
            },
            "colorscale": [
             [
              0,
              "#0d0887"
             ],
             [
              0.1111111111111111,
              "#46039f"
             ],
             [
              0.2222222222222222,
              "#7201a8"
             ],
             [
              0.3333333333333333,
              "#9c179e"
             ],
             [
              0.4444444444444444,
              "#bd3786"
             ],
             [
              0.5555555555555556,
              "#d8576b"
             ],
             [
              0.6666666666666666,
              "#ed7953"
             ],
             [
              0.7777777777777778,
              "#fb9f3a"
             ],
             [
              0.8888888888888888,
              "#fdca26"
             ],
             [
              1,
              "#f0f921"
             ]
            ],
            "type": "histogram2dcontour"
           }
          ],
          "mesh3d": [
           {
            "colorbar": {
             "outlinewidth": 0,
             "ticks": ""
            },
            "type": "mesh3d"
           }
          ],
          "parcoords": [
           {
            "line": {
             "colorbar": {
              "outlinewidth": 0,
              "ticks": ""
             }
            },
            "type": "parcoords"
           }
          ],
          "pie": [
           {
            "automargin": true,
            "type": "pie"
           }
          ],
          "scatter": [
           {
            "marker": {
             "colorbar": {
              "outlinewidth": 0,
              "ticks": ""
             }
            },
            "type": "scatter"
           }
          ],
          "scatter3d": [
           {
            "line": {
             "colorbar": {
              "outlinewidth": 0,
              "ticks": ""
             }
            },
            "marker": {
             "colorbar": {
              "outlinewidth": 0,
              "ticks": ""
             }
            },
            "type": "scatter3d"
           }
          ],
          "scattercarpet": [
           {
            "marker": {
             "colorbar": {
              "outlinewidth": 0,
              "ticks": ""
             }
            },
            "type": "scattercarpet"
           }
          ],
          "scattergeo": [
           {
            "marker": {
             "colorbar": {
              "outlinewidth": 0,
              "ticks": ""
             }
            },
            "type": "scattergeo"
           }
          ],
          "scattergl": [
           {
            "marker": {
             "colorbar": {
              "outlinewidth": 0,
              "ticks": ""
             }
            },
            "type": "scattergl"
           }
          ],
          "scattermapbox": [
           {
            "marker": {
             "colorbar": {
              "outlinewidth": 0,
              "ticks": ""
             }
            },
            "type": "scattermapbox"
           }
          ],
          "scatterpolar": [
           {
            "marker": {
             "colorbar": {
              "outlinewidth": 0,
              "ticks": ""
             }
            },
            "type": "scatterpolar"
           }
          ],
          "scatterpolargl": [
           {
            "marker": {
             "colorbar": {
              "outlinewidth": 0,
              "ticks": ""
             }
            },
            "type": "scatterpolargl"
           }
          ],
          "scatterternary": [
           {
            "marker": {
             "colorbar": {
              "outlinewidth": 0,
              "ticks": ""
             }
            },
            "type": "scatterternary"
           }
          ],
          "surface": [
           {
            "colorbar": {
             "outlinewidth": 0,
             "ticks": ""
            },
            "colorscale": [
             [
              0,
              "#0d0887"
             ],
             [
              0.1111111111111111,
              "#46039f"
             ],
             [
              0.2222222222222222,
              "#7201a8"
             ],
             [
              0.3333333333333333,
              "#9c179e"
             ],
             [
              0.4444444444444444,
              "#bd3786"
             ],
             [
              0.5555555555555556,
              "#d8576b"
             ],
             [
              0.6666666666666666,
              "#ed7953"
             ],
             [
              0.7777777777777778,
              "#fb9f3a"
             ],
             [
              0.8888888888888888,
              "#fdca26"
             ],
             [
              1,
              "#f0f921"
             ]
            ],
            "type": "surface"
           }
          ],
          "table": [
           {
            "cells": {
             "fill": {
              "color": "#EBF0F8"
             },
             "line": {
              "color": "white"
             }
            },
            "header": {
             "fill": {
              "color": "#C8D4E3"
             },
             "line": {
              "color": "white"
             }
            },
            "type": "table"
           }
          ]
         },
         "layout": {
          "annotationdefaults": {
           "arrowcolor": "#2a3f5f",
           "arrowhead": 0,
           "arrowwidth": 1
          },
          "autotypenumbers": "strict",
          "coloraxis": {
           "colorbar": {
            "outlinewidth": 0,
            "ticks": ""
           }
          },
          "colorscale": {
           "diverging": [
            [
             0,
             "#8e0152"
            ],
            [
             0.1,
             "#c51b7d"
            ],
            [
             0.2,
             "#de77ae"
            ],
            [
             0.3,
             "#f1b6da"
            ],
            [
             0.4,
             "#fde0ef"
            ],
            [
             0.5,
             "#f7f7f7"
            ],
            [
             0.6,
             "#e6f5d0"
            ],
            [
             0.7,
             "#b8e186"
            ],
            [
             0.8,
             "#7fbc41"
            ],
            [
             0.9,
             "#4d9221"
            ],
            [
             1,
             "#276419"
            ]
           ],
           "sequential": [
            [
             0,
             "#0d0887"
            ],
            [
             0.1111111111111111,
             "#46039f"
            ],
            [
             0.2222222222222222,
             "#7201a8"
            ],
            [
             0.3333333333333333,
             "#9c179e"
            ],
            [
             0.4444444444444444,
             "#bd3786"
            ],
            [
             0.5555555555555556,
             "#d8576b"
            ],
            [
             0.6666666666666666,
             "#ed7953"
            ],
            [
             0.7777777777777778,
             "#fb9f3a"
            ],
            [
             0.8888888888888888,
             "#fdca26"
            ],
            [
             1,
             "#f0f921"
            ]
           ],
           "sequentialminus": [
            [
             0,
             "#0d0887"
            ],
            [
             0.1111111111111111,
             "#46039f"
            ],
            [
             0.2222222222222222,
             "#7201a8"
            ],
            [
             0.3333333333333333,
             "#9c179e"
            ],
            [
             0.4444444444444444,
             "#bd3786"
            ],
            [
             0.5555555555555556,
             "#d8576b"
            ],
            [
             0.6666666666666666,
             "#ed7953"
            ],
            [
             0.7777777777777778,
             "#fb9f3a"
            ],
            [
             0.8888888888888888,
             "#fdca26"
            ],
            [
             1,
             "#f0f921"
            ]
           ]
          },
          "colorway": [
           "#636efa",
           "#EF553B",
           "#00cc96",
           "#ab63fa",
           "#FFA15A",
           "#19d3f3",
           "#FF6692",
           "#B6E880",
           "#FF97FF",
           "#FECB52"
          ],
          "font": {
           "color": "#2a3f5f"
          },
          "geo": {
           "bgcolor": "white",
           "lakecolor": "white",
           "landcolor": "#E5ECF6",
           "showlakes": true,
           "showland": true,
           "subunitcolor": "white"
          },
          "hoverlabel": {
           "align": "left"
          },
          "hovermode": "closest",
          "mapbox": {
           "style": "light"
          },
          "paper_bgcolor": "white",
          "plot_bgcolor": "#E5ECF6",
          "polar": {
           "angularaxis": {
            "gridcolor": "white",
            "linecolor": "white",
            "ticks": ""
           },
           "bgcolor": "#E5ECF6",
           "radialaxis": {
            "gridcolor": "white",
            "linecolor": "white",
            "ticks": ""
           }
          },
          "scene": {
           "xaxis": {
            "backgroundcolor": "#E5ECF6",
            "gridcolor": "white",
            "gridwidth": 2,
            "linecolor": "white",
            "showbackground": true,
            "ticks": "",
            "zerolinecolor": "white"
           },
           "yaxis": {
            "backgroundcolor": "#E5ECF6",
            "gridcolor": "white",
            "gridwidth": 2,
            "linecolor": "white",
            "showbackground": true,
            "ticks": "",
            "zerolinecolor": "white"
           },
           "zaxis": {
            "backgroundcolor": "#E5ECF6",
            "gridcolor": "white",
            "gridwidth": 2,
            "linecolor": "white",
            "showbackground": true,
            "ticks": "",
            "zerolinecolor": "white"
           }
          },
          "shapedefaults": {
           "line": {
            "color": "#2a3f5f"
           }
          },
          "ternary": {
           "aaxis": {
            "gridcolor": "white",
            "linecolor": "white",
            "ticks": ""
           },
           "baxis": {
            "gridcolor": "white",
            "linecolor": "white",
            "ticks": ""
           },
           "bgcolor": "#E5ECF6",
           "caxis": {
            "gridcolor": "white",
            "linecolor": "white",
            "ticks": ""
           }
          },
          "title": {
           "x": 0.05
          },
          "xaxis": {
           "automargin": true,
           "gridcolor": "white",
           "linecolor": "white",
           "ticks": "",
           "title": {
            "standoff": 15
           },
           "zerolinecolor": "white",
           "zerolinewidth": 2
          },
          "yaxis": {
           "automargin": true,
           "gridcolor": "white",
           "linecolor": "white",
           "ticks": "",
           "title": {
            "standoff": 15
           },
           "zerolinecolor": "white",
           "zerolinewidth": 2
          }
         }
        },
        "title": {
         "text": "2021 Movies Genre"
        }
       }
      },
      "text/html": [
       "<div>                            <div id=\"0097471c-2f65-4644-bd05-6a490c0b1460\" class=\"plotly-graph-div\" style=\"height:525px; width:100%;\"></div>            <script type=\"text/javascript\">                require([\"plotly\"], function(Plotly) {                    window.PLOTLYENV=window.PLOTLYENV || {};                                    if (document.getElementById(\"0097471c-2f65-4644-bd05-6a490c0b1460\")) {                    Plotly.newPlot(                        \"0097471c-2f65-4644-bd05-6a490c0b1460\",                        [{\"domain\":{\"x\":[0.0,1.0],\"y\":[0.0,1.0]},\"hovertemplate\":\"Genre=%{label}<br>Rating=%{value}<extra></extra>\",\"labels\":[\"Action,Adventure,Fantasy\",\"Action,Adventure\",\"Adventure,Fantasy,Comedy,Action\",\"Horror\",\"Horror,Thriller\",\"Animation,Comedy,Mystery,Family,Fantasy\",\"Thriller,History,Drama\",\"Family,Animation\",\"Comedy\",\"Comedy,Romance\",\"Animation,War,Science Fiction\",\"Comedy\",\"Thriller\",\"Comedy,Romance\",\"Animation,Comedy,Fantasy\",\"Horror,Crime,Drama,Thriller\",\"Drama,Romance\",\"Thriller\",\"Comedy\",\"Drama,Family,Music,Romance\",\"Horror,Thriller\",\"Horror\",\"Drama\",\"Drama\",\"Animation,Family\"],\"legendgroup\":\"\",\"name\":\"\",\"showlegend\":true,\"type\":\"pie\",\"values\":[79.0,68.0,77.0,59.0,49.0,83.0,72.0,72.0,54.0,79.0,78.0,78.0,53.0,67.0,72.0,66.0,75.0,53.0,65.0,71.0,63.0,69.0,61.0,82.0,67.0]}],                        {\"legend\":{\"tracegroupgap\":0},\"template\":{\"data\":{\"bar\":[{\"error_x\":{\"color\":\"#2a3f5f\"},\"error_y\":{\"color\":\"#2a3f5f\"},\"marker\":{\"line\":{\"color\":\"#E5ECF6\",\"width\":0.5},\"pattern\":{\"fillmode\":\"overlay\",\"size\":10,\"solidity\":0.2}},\"type\":\"bar\"}],\"barpolar\":[{\"marker\":{\"line\":{\"color\":\"#E5ECF6\",\"width\":0.5},\"pattern\":{\"fillmode\":\"overlay\",\"size\":10,\"solidity\":0.2}},\"type\":\"barpolar\"}],\"carpet\":[{\"aaxis\":{\"endlinecolor\":\"#2a3f5f\",\"gridcolor\":\"white\",\"linecolor\":\"white\",\"minorgridcolor\":\"white\",\"startlinecolor\":\"#2a3f5f\"},\"baxis\":{\"endlinecolor\":\"#2a3f5f\",\"gridcolor\":\"white\",\"linecolor\":\"white\",\"minorgridcolor\":\"white\",\"startlinecolor\":\"#2a3f5f\"},\"type\":\"carpet\"}],\"choropleth\":[{\"colorbar\":{\"outlinewidth\":0,\"ticks\":\"\"},\"type\":\"choropleth\"}],\"contour\":[{\"colorbar\":{\"outlinewidth\":0,\"ticks\":\"\"},\"colorscale\":[[0.0,\"#0d0887\"],[0.1111111111111111,\"#46039f\"],[0.2222222222222222,\"#7201a8\"],[0.3333333333333333,\"#9c179e\"],[0.4444444444444444,\"#bd3786\"],[0.5555555555555556,\"#d8576b\"],[0.6666666666666666,\"#ed7953\"],[0.7777777777777778,\"#fb9f3a\"],[0.8888888888888888,\"#fdca26\"],[1.0,\"#f0f921\"]],\"type\":\"contour\"}],\"contourcarpet\":[{\"colorbar\":{\"outlinewidth\":0,\"ticks\":\"\"},\"type\":\"contourcarpet\"}],\"heatmap\":[{\"colorbar\":{\"outlinewidth\":0,\"ticks\":\"\"},\"colorscale\":[[0.0,\"#0d0887\"],[0.1111111111111111,\"#46039f\"],[0.2222222222222222,\"#7201a8\"],[0.3333333333333333,\"#9c179e\"],[0.4444444444444444,\"#bd3786\"],[0.5555555555555556,\"#d8576b\"],[0.6666666666666666,\"#ed7953\"],[0.7777777777777778,\"#fb9f3a\"],[0.8888888888888888,\"#fdca26\"],[1.0,\"#f0f921\"]],\"type\":\"heatmap\"}],\"heatmapgl\":[{\"colorbar\":{\"outlinewidth\":0,\"ticks\":\"\"},\"colorscale\":[[0.0,\"#0d0887\"],[0.1111111111111111,\"#46039f\"],[0.2222222222222222,\"#7201a8\"],[0.3333333333333333,\"#9c179e\"],[0.4444444444444444,\"#bd3786\"],[0.5555555555555556,\"#d8576b\"],[0.6666666666666666,\"#ed7953\"],[0.7777777777777778,\"#fb9f3a\"],[0.8888888888888888,\"#fdca26\"],[1.0,\"#f0f921\"]],\"type\":\"heatmapgl\"}],\"histogram\":[{\"marker\":{\"pattern\":{\"fillmode\":\"overlay\",\"size\":10,\"solidity\":0.2}},\"type\":\"histogram\"}],\"histogram2d\":[{\"colorbar\":{\"outlinewidth\":0,\"ticks\":\"\"},\"colorscale\":[[0.0,\"#0d0887\"],[0.1111111111111111,\"#46039f\"],[0.2222222222222222,\"#7201a8\"],[0.3333333333333333,\"#9c179e\"],[0.4444444444444444,\"#bd3786\"],[0.5555555555555556,\"#d8576b\"],[0.6666666666666666,\"#ed7953\"],[0.7777777777777778,\"#fb9f3a\"],[0.8888888888888888,\"#fdca26\"],[1.0,\"#f0f921\"]],\"type\":\"histogram2d\"}],\"histogram2dcontour\":[{\"colorbar\":{\"outlinewidth\":0,\"ticks\":\"\"},\"colorscale\":[[0.0,\"#0d0887\"],[0.1111111111111111,\"#46039f\"],[0.2222222222222222,\"#7201a8\"],[0.3333333333333333,\"#9c179e\"],[0.4444444444444444,\"#bd3786\"],[0.5555555555555556,\"#d8576b\"],[0.6666666666666666,\"#ed7953\"],[0.7777777777777778,\"#fb9f3a\"],[0.8888888888888888,\"#fdca26\"],[1.0,\"#f0f921\"]],\"type\":\"histogram2dcontour\"}],\"mesh3d\":[{\"colorbar\":{\"outlinewidth\":0,\"ticks\":\"\"},\"type\":\"mesh3d\"}],\"parcoords\":[{\"line\":{\"colorbar\":{\"outlinewidth\":0,\"ticks\":\"\"}},\"type\":\"parcoords\"}],\"pie\":[{\"automargin\":true,\"type\":\"pie\"}],\"scatter\":[{\"marker\":{\"colorbar\":{\"outlinewidth\":0,\"ticks\":\"\"}},\"type\":\"scatter\"}],\"scatter3d\":[{\"line\":{\"colorbar\":{\"outlinewidth\":0,\"ticks\":\"\"}},\"marker\":{\"colorbar\":{\"outlinewidth\":0,\"ticks\":\"\"}},\"type\":\"scatter3d\"}],\"scattercarpet\":[{\"marker\":{\"colorbar\":{\"outlinewidth\":0,\"ticks\":\"\"}},\"type\":\"scattercarpet\"}],\"scattergeo\":[{\"marker\":{\"colorbar\":{\"outlinewidth\":0,\"ticks\":\"\"}},\"type\":\"scattergeo\"}],\"scattergl\":[{\"marker\":{\"colorbar\":{\"outlinewidth\":0,\"ticks\":\"\"}},\"type\":\"scattergl\"}],\"scattermapbox\":[{\"marker\":{\"colorbar\":{\"outlinewidth\":0,\"ticks\":\"\"}},\"type\":\"scattermapbox\"}],\"scatterpolar\":[{\"marker\":{\"colorbar\":{\"outlinewidth\":0,\"ticks\":\"\"}},\"type\":\"scatterpolar\"}],\"scatterpolargl\":[{\"marker\":{\"colorbar\":{\"outlinewidth\":0,\"ticks\":\"\"}},\"type\":\"scatterpolargl\"}],\"scatterternary\":[{\"marker\":{\"colorbar\":{\"outlinewidth\":0,\"ticks\":\"\"}},\"type\":\"scatterternary\"}],\"surface\":[{\"colorbar\":{\"outlinewidth\":0,\"ticks\":\"\"},\"colorscale\":[[0.0,\"#0d0887\"],[0.1111111111111111,\"#46039f\"],[0.2222222222222222,\"#7201a8\"],[0.3333333333333333,\"#9c179e\"],[0.4444444444444444,\"#bd3786\"],[0.5555555555555556,\"#d8576b\"],[0.6666666666666666,\"#ed7953\"],[0.7777777777777778,\"#fb9f3a\"],[0.8888888888888888,\"#fdca26\"],[1.0,\"#f0f921\"]],\"type\":\"surface\"}],\"table\":[{\"cells\":{\"fill\":{\"color\":\"#EBF0F8\"},\"line\":{\"color\":\"white\"}},\"header\":{\"fill\":{\"color\":\"#C8D4E3\"},\"line\":{\"color\":\"white\"}},\"type\":\"table\"}]},\"layout\":{\"annotationdefaults\":{\"arrowcolor\":\"#2a3f5f\",\"arrowhead\":0,\"arrowwidth\":1},\"autotypenumbers\":\"strict\",\"coloraxis\":{\"colorbar\":{\"outlinewidth\":0,\"ticks\":\"\"}},\"colorscale\":{\"diverging\":[[0,\"#8e0152\"],[0.1,\"#c51b7d\"],[0.2,\"#de77ae\"],[0.3,\"#f1b6da\"],[0.4,\"#fde0ef\"],[0.5,\"#f7f7f7\"],[0.6,\"#e6f5d0\"],[0.7,\"#b8e186\"],[0.8,\"#7fbc41\"],[0.9,\"#4d9221\"],[1,\"#276419\"]],\"sequential\":[[0.0,\"#0d0887\"],[0.1111111111111111,\"#46039f\"],[0.2222222222222222,\"#7201a8\"],[0.3333333333333333,\"#9c179e\"],[0.4444444444444444,\"#bd3786\"],[0.5555555555555556,\"#d8576b\"],[0.6666666666666666,\"#ed7953\"],[0.7777777777777778,\"#fb9f3a\"],[0.8888888888888888,\"#fdca26\"],[1.0,\"#f0f921\"]],\"sequentialminus\":[[0.0,\"#0d0887\"],[0.1111111111111111,\"#46039f\"],[0.2222222222222222,\"#7201a8\"],[0.3333333333333333,\"#9c179e\"],[0.4444444444444444,\"#bd3786\"],[0.5555555555555556,\"#d8576b\"],[0.6666666666666666,\"#ed7953\"],[0.7777777777777778,\"#fb9f3a\"],[0.8888888888888888,\"#fdca26\"],[1.0,\"#f0f921\"]]},\"colorway\":[\"#636efa\",\"#EF553B\",\"#00cc96\",\"#ab63fa\",\"#FFA15A\",\"#19d3f3\",\"#FF6692\",\"#B6E880\",\"#FF97FF\",\"#FECB52\"],\"font\":{\"color\":\"#2a3f5f\"},\"geo\":{\"bgcolor\":\"white\",\"lakecolor\":\"white\",\"landcolor\":\"#E5ECF6\",\"showlakes\":true,\"showland\":true,\"subunitcolor\":\"white\"},\"hoverlabel\":{\"align\":\"left\"},\"hovermode\":\"closest\",\"mapbox\":{\"style\":\"light\"},\"paper_bgcolor\":\"white\",\"plot_bgcolor\":\"#E5ECF6\",\"polar\":{\"angularaxis\":{\"gridcolor\":\"white\",\"linecolor\":\"white\",\"ticks\":\"\"},\"bgcolor\":\"#E5ECF6\",\"radialaxis\":{\"gridcolor\":\"white\",\"linecolor\":\"white\",\"ticks\":\"\"}},\"scene\":{\"xaxis\":{\"backgroundcolor\":\"#E5ECF6\",\"gridcolor\":\"white\",\"gridwidth\":2,\"linecolor\":\"white\",\"showbackground\":true,\"ticks\":\"\",\"zerolinecolor\":\"white\"},\"yaxis\":{\"backgroundcolor\":\"#E5ECF6\",\"gridcolor\":\"white\",\"gridwidth\":2,\"linecolor\":\"white\",\"showbackground\":true,\"ticks\":\"\",\"zerolinecolor\":\"white\"},\"zaxis\":{\"backgroundcolor\":\"#E5ECF6\",\"gridcolor\":\"white\",\"gridwidth\":2,\"linecolor\":\"white\",\"showbackground\":true,\"ticks\":\"\",\"zerolinecolor\":\"white\"}},\"shapedefaults\":{\"line\":{\"color\":\"#2a3f5f\"}},\"ternary\":{\"aaxis\":{\"gridcolor\":\"white\",\"linecolor\":\"white\",\"ticks\":\"\"},\"baxis\":{\"gridcolor\":\"white\",\"linecolor\":\"white\",\"ticks\":\"\"},\"bgcolor\":\"#E5ECF6\",\"caxis\":{\"gridcolor\":\"white\",\"linecolor\":\"white\",\"ticks\":\"\"}},\"title\":{\"x\":0.05},\"xaxis\":{\"automargin\":true,\"gridcolor\":\"white\",\"linecolor\":\"white\",\"ticks\":\"\",\"title\":{\"standoff\":15},\"zerolinecolor\":\"white\",\"zerolinewidth\":2},\"yaxis\":{\"automargin\":true,\"gridcolor\":\"white\",\"linecolor\":\"white\",\"ticks\":\"\",\"title\":{\"standoff\":15},\"zerolinecolor\":\"white\",\"zerolinewidth\":2}}},\"title\":{\"text\":\"2021 Movies Genre\"}},                        {\"responsive\": true}                    ).then(function(){\n",
       "                            \n",
       "var gd = document.getElementById('0097471c-2f65-4644-bd05-6a490c0b1460');\n",
       "var x = new MutationObserver(function (mutations, observer) {{\n",
       "        var display = window.getComputedStyle(gd).display;\n",
       "        if (!display || display === 'none') {{\n",
       "            console.log([gd, 'removed!']);\n",
       "            Plotly.purge(gd);\n",
       "            observer.disconnect();\n",
       "        }}\n",
       "}});\n",
       "\n",
       "// Listen for the removal of the full notebook cells\n",
       "var notebookContainer = gd.closest('#notebook-container');\n",
       "if (notebookContainer) {{\n",
       "    x.observe(notebookContainer, {childList: true});\n",
       "}}\n",
       "\n",
       "// Listen for the clearing of the current output cell\n",
       "var outputEl = gd.closest('.output');\n",
       "if (outputEl) {{\n",
       "    x.observe(outputEl, {childList: true});\n",
       "}}\n",
       "\n",
       "                        })                };                });            </script>        </div>"
      ]
     },
     "metadata": {},
     "output_type": "display_data"
    }
   ],
   "source": [
    "\n",
    "fig = px.pie(movies_2021, values='Rating', names='Genre', title='2021 Movies Genre')\n",
    "fig.show()"
   ]
  },
  {
   "cell_type": "markdown",
   "id": "1d6d6ba2",
   "metadata": {},
   "source": [
    "# Movies Release in 2021 with 80+ ratings "
   ]
  },
  {
   "cell_type": "code",
   "execution_count": 168,
   "id": "0e22676a",
   "metadata": {},
   "outputs": [],
   "source": [
    "rating80_2021 = movies_df[(movies_df['Rating']>=80) & (movies_df['Release year']==2021)]"
   ]
  },
  {
   "cell_type": "code",
   "execution_count": 169,
   "id": "26c40379",
   "metadata": {},
   "outputs": [
    {
     "data": {
      "text/html": [
       "<div>\n",
       "<style scoped>\n",
       "    .dataframe tbody tr th:only-of-type {\n",
       "        vertical-align: middle;\n",
       "    }\n",
       "\n",
       "    .dataframe tbody tr th {\n",
       "        vertical-align: top;\n",
       "    }\n",
       "\n",
       "    .dataframe thead th {\n",
       "        text-align: right;\n",
       "    }\n",
       "</style>\n",
       "<table border=\"1\" class=\"dataframe\">\n",
       "  <thead>\n",
       "    <tr style=\"text-align: right;\">\n",
       "      <th></th>\n",
       "      <th>Name</th>\n",
       "      <th>Rating</th>\n",
       "      <th>Genre</th>\n",
       "      <th>Release date</th>\n",
       "      <th>Runtime</th>\n",
       "      <th>Director</th>\n",
       "      <th>Budget ($)</th>\n",
       "      <th>Revenue ($)</th>\n",
       "      <th>Url</th>\n",
       "      <th>Release year</th>\n",
       "    </tr>\n",
       "  </thead>\n",
       "  <tbody>\n",
       "    <tr>\n",
       "      <th>5</th>\n",
       "      <td>Straight Outta Nowhere: Scooby-Doo! Meets Cour...</td>\n",
       "      <td>83.0</td>\n",
       "      <td>Animation,Comedy,Mystery,Family,Fantasy</td>\n",
       "      <td>2021-09-14</td>\n",
       "      <td>1h 12m</td>\n",
       "      <td>Joseph Barbera</td>\n",
       "      <td>NaN</td>\n",
       "      <td>NaN</td>\n",
       "      <td>https://www.themoviedb.org//movie/843906</td>\n",
       "      <td>2021</td>\n",
       "    </tr>\n",
       "    <tr>\n",
       "      <th>132</th>\n",
       "      <td>Paper Lives</td>\n",
       "      <td>82.0</td>\n",
       "      <td>Drama</td>\n",
       "      <td>2021-03-12</td>\n",
       "      <td>1h 36m</td>\n",
       "      <td>Can Ulkay</td>\n",
       "      <td>NaN</td>\n",
       "      <td>NaN</td>\n",
       "      <td>https://www.themoviedb.org//movie/785534</td>\n",
       "      <td>2021</td>\n",
       "    </tr>\n",
       "  </tbody>\n",
       "</table>\n",
       "</div>"
      ],
      "text/plain": [
       "                                                  Name  Rating  \\\n",
       "5    Straight Outta Nowhere: Scooby-Doo! Meets Cour...    83.0   \n",
       "132                                        Paper Lives    82.0   \n",
       "\n",
       "                                       Genre Release date Runtime  \\\n",
       "5    Animation,Comedy,Mystery,Family,Fantasy   2021-09-14  1h 12m   \n",
       "132                                    Drama   2021-03-12  1h 36m   \n",
       "\n",
       "           Director Budget ($) Revenue ($)   \\\n",
       "5    Joseph Barbera        NaN          NaN   \n",
       "132       Can Ulkay        NaN          NaN   \n",
       "\n",
       "                                          Url  Release year  \n",
       "5    https://www.themoviedb.org//movie/843906          2021  \n",
       "132  https://www.themoviedb.org//movie/785534          2021  "
      ]
     },
     "execution_count": 169,
     "metadata": {},
     "output_type": "execute_result"
    }
   ],
   "source": [
    "rating80_2021"
   ]
  },
  {
   "cell_type": "code",
   "execution_count": 242,
   "id": "724eef50",
   "metadata": {},
   "outputs": [
    {
     "data": {
      "application/vnd.plotly.v1+json": {
       "config": {
        "plotlyServerURL": "https://plot.ly"
       },
       "data": [
        {
         "alignmentgroup": "True",
         "hovertemplate": "Genre=Animation,Comedy,Mystery,Family,Fantasy<br>Director=Joseph Barbera<br>Name=%{x}<br>Rating=%{y}<extra></extra>",
         "legendgroup": "Animation,Comedy,Mystery,Family,Fantasy, Joseph Barbera",
         "marker": {
          "color": "#636efa",
          "pattern": {
           "shape": "/"
          }
         },
         "name": "Animation,Comedy,Mystery,Family,Fantasy, Joseph Barbera",
         "offsetgroup": "Animation,Comedy,Mystery,Family,Fantasy, Joseph Barbera",
         "orientation": "v",
         "showlegend": true,
         "textposition": "auto",
         "type": "bar",
         "x": [
          "Straight Outta Nowhere: Scooby-Doo! Meets Courage the Cowardly Dog"
         ],
         "xaxis": "x",
         "y": [
          83
         ],
         "yaxis": "y"
        },
        {
         "alignmentgroup": "True",
         "hovertemplate": "Genre=Drama<br>Director=Can Ulkay<br>Name=%{x}<br>Rating=%{y}<extra></extra>",
         "legendgroup": "Drama, Can Ulkay",
         "marker": {
          "color": "#EF553B",
          "pattern": {
           "shape": "x"
          }
         },
         "name": "Drama, Can Ulkay",
         "offsetgroup": "Drama, Can Ulkay",
         "orientation": "v",
         "showlegend": true,
         "textposition": "auto",
         "type": "bar",
         "x": [
          "Paper Lives"
         ],
         "xaxis": "x",
         "y": [
          82
         ],
         "yaxis": "y"
        }
       ],
       "layout": {
        "barmode": "relative",
        "legend": {
         "title": {
          "text": "Genre, Director"
         },
         "tracegroupgap": 0
        },
        "template": {
         "data": {
          "bar": [
           {
            "error_x": {
             "color": "#2a3f5f"
            },
            "error_y": {
             "color": "#2a3f5f"
            },
            "marker": {
             "line": {
              "color": "#E5ECF6",
              "width": 0.5
             },
             "pattern": {
              "fillmode": "overlay",
              "size": 10,
              "solidity": 0.2
             }
            },
            "type": "bar"
           }
          ],
          "barpolar": [
           {
            "marker": {
             "line": {
              "color": "#E5ECF6",
              "width": 0.5
             },
             "pattern": {
              "fillmode": "overlay",
              "size": 10,
              "solidity": 0.2
             }
            },
            "type": "barpolar"
           }
          ],
          "carpet": [
           {
            "aaxis": {
             "endlinecolor": "#2a3f5f",
             "gridcolor": "white",
             "linecolor": "white",
             "minorgridcolor": "white",
             "startlinecolor": "#2a3f5f"
            },
            "baxis": {
             "endlinecolor": "#2a3f5f",
             "gridcolor": "white",
             "linecolor": "white",
             "minorgridcolor": "white",
             "startlinecolor": "#2a3f5f"
            },
            "type": "carpet"
           }
          ],
          "choropleth": [
           {
            "colorbar": {
             "outlinewidth": 0,
             "ticks": ""
            },
            "type": "choropleth"
           }
          ],
          "contour": [
           {
            "colorbar": {
             "outlinewidth": 0,
             "ticks": ""
            },
            "colorscale": [
             [
              0,
              "#0d0887"
             ],
             [
              0.1111111111111111,
              "#46039f"
             ],
             [
              0.2222222222222222,
              "#7201a8"
             ],
             [
              0.3333333333333333,
              "#9c179e"
             ],
             [
              0.4444444444444444,
              "#bd3786"
             ],
             [
              0.5555555555555556,
              "#d8576b"
             ],
             [
              0.6666666666666666,
              "#ed7953"
             ],
             [
              0.7777777777777778,
              "#fb9f3a"
             ],
             [
              0.8888888888888888,
              "#fdca26"
             ],
             [
              1,
              "#f0f921"
             ]
            ],
            "type": "contour"
           }
          ],
          "contourcarpet": [
           {
            "colorbar": {
             "outlinewidth": 0,
             "ticks": ""
            },
            "type": "contourcarpet"
           }
          ],
          "heatmap": [
           {
            "colorbar": {
             "outlinewidth": 0,
             "ticks": ""
            },
            "colorscale": [
             [
              0,
              "#0d0887"
             ],
             [
              0.1111111111111111,
              "#46039f"
             ],
             [
              0.2222222222222222,
              "#7201a8"
             ],
             [
              0.3333333333333333,
              "#9c179e"
             ],
             [
              0.4444444444444444,
              "#bd3786"
             ],
             [
              0.5555555555555556,
              "#d8576b"
             ],
             [
              0.6666666666666666,
              "#ed7953"
             ],
             [
              0.7777777777777778,
              "#fb9f3a"
             ],
             [
              0.8888888888888888,
              "#fdca26"
             ],
             [
              1,
              "#f0f921"
             ]
            ],
            "type": "heatmap"
           }
          ],
          "heatmapgl": [
           {
            "colorbar": {
             "outlinewidth": 0,
             "ticks": ""
            },
            "colorscale": [
             [
              0,
              "#0d0887"
             ],
             [
              0.1111111111111111,
              "#46039f"
             ],
             [
              0.2222222222222222,
              "#7201a8"
             ],
             [
              0.3333333333333333,
              "#9c179e"
             ],
             [
              0.4444444444444444,
              "#bd3786"
             ],
             [
              0.5555555555555556,
              "#d8576b"
             ],
             [
              0.6666666666666666,
              "#ed7953"
             ],
             [
              0.7777777777777778,
              "#fb9f3a"
             ],
             [
              0.8888888888888888,
              "#fdca26"
             ],
             [
              1,
              "#f0f921"
             ]
            ],
            "type": "heatmapgl"
           }
          ],
          "histogram": [
           {
            "marker": {
             "pattern": {
              "fillmode": "overlay",
              "size": 10,
              "solidity": 0.2
             }
            },
            "type": "histogram"
           }
          ],
          "histogram2d": [
           {
            "colorbar": {
             "outlinewidth": 0,
             "ticks": ""
            },
            "colorscale": [
             [
              0,
              "#0d0887"
             ],
             [
              0.1111111111111111,
              "#46039f"
             ],
             [
              0.2222222222222222,
              "#7201a8"
             ],
             [
              0.3333333333333333,
              "#9c179e"
             ],
             [
              0.4444444444444444,
              "#bd3786"
             ],
             [
              0.5555555555555556,
              "#d8576b"
             ],
             [
              0.6666666666666666,
              "#ed7953"
             ],
             [
              0.7777777777777778,
              "#fb9f3a"
             ],
             [
              0.8888888888888888,
              "#fdca26"
             ],
             [
              1,
              "#f0f921"
             ]
            ],
            "type": "histogram2d"
           }
          ],
          "histogram2dcontour": [
           {
            "colorbar": {
             "outlinewidth": 0,
             "ticks": ""
            },
            "colorscale": [
             [
              0,
              "#0d0887"
             ],
             [
              0.1111111111111111,
              "#46039f"
             ],
             [
              0.2222222222222222,
              "#7201a8"
             ],
             [
              0.3333333333333333,
              "#9c179e"
             ],
             [
              0.4444444444444444,
              "#bd3786"
             ],
             [
              0.5555555555555556,
              "#d8576b"
             ],
             [
              0.6666666666666666,
              "#ed7953"
             ],
             [
              0.7777777777777778,
              "#fb9f3a"
             ],
             [
              0.8888888888888888,
              "#fdca26"
             ],
             [
              1,
              "#f0f921"
             ]
            ],
            "type": "histogram2dcontour"
           }
          ],
          "mesh3d": [
           {
            "colorbar": {
             "outlinewidth": 0,
             "ticks": ""
            },
            "type": "mesh3d"
           }
          ],
          "parcoords": [
           {
            "line": {
             "colorbar": {
              "outlinewidth": 0,
              "ticks": ""
             }
            },
            "type": "parcoords"
           }
          ],
          "pie": [
           {
            "automargin": true,
            "type": "pie"
           }
          ],
          "scatter": [
           {
            "marker": {
             "colorbar": {
              "outlinewidth": 0,
              "ticks": ""
             }
            },
            "type": "scatter"
           }
          ],
          "scatter3d": [
           {
            "line": {
             "colorbar": {
              "outlinewidth": 0,
              "ticks": ""
             }
            },
            "marker": {
             "colorbar": {
              "outlinewidth": 0,
              "ticks": ""
             }
            },
            "type": "scatter3d"
           }
          ],
          "scattercarpet": [
           {
            "marker": {
             "colorbar": {
              "outlinewidth": 0,
              "ticks": ""
             }
            },
            "type": "scattercarpet"
           }
          ],
          "scattergeo": [
           {
            "marker": {
             "colorbar": {
              "outlinewidth": 0,
              "ticks": ""
             }
            },
            "type": "scattergeo"
           }
          ],
          "scattergl": [
           {
            "marker": {
             "colorbar": {
              "outlinewidth": 0,
              "ticks": ""
             }
            },
            "type": "scattergl"
           }
          ],
          "scattermapbox": [
           {
            "marker": {
             "colorbar": {
              "outlinewidth": 0,
              "ticks": ""
             }
            },
            "type": "scattermapbox"
           }
          ],
          "scatterpolar": [
           {
            "marker": {
             "colorbar": {
              "outlinewidth": 0,
              "ticks": ""
             }
            },
            "type": "scatterpolar"
           }
          ],
          "scatterpolargl": [
           {
            "marker": {
             "colorbar": {
              "outlinewidth": 0,
              "ticks": ""
             }
            },
            "type": "scatterpolargl"
           }
          ],
          "scatterternary": [
           {
            "marker": {
             "colorbar": {
              "outlinewidth": 0,
              "ticks": ""
             }
            },
            "type": "scatterternary"
           }
          ],
          "surface": [
           {
            "colorbar": {
             "outlinewidth": 0,
             "ticks": ""
            },
            "colorscale": [
             [
              0,
              "#0d0887"
             ],
             [
              0.1111111111111111,
              "#46039f"
             ],
             [
              0.2222222222222222,
              "#7201a8"
             ],
             [
              0.3333333333333333,
              "#9c179e"
             ],
             [
              0.4444444444444444,
              "#bd3786"
             ],
             [
              0.5555555555555556,
              "#d8576b"
             ],
             [
              0.6666666666666666,
              "#ed7953"
             ],
             [
              0.7777777777777778,
              "#fb9f3a"
             ],
             [
              0.8888888888888888,
              "#fdca26"
             ],
             [
              1,
              "#f0f921"
             ]
            ],
            "type": "surface"
           }
          ],
          "table": [
           {
            "cells": {
             "fill": {
              "color": "#EBF0F8"
             },
             "line": {
              "color": "white"
             }
            },
            "header": {
             "fill": {
              "color": "#C8D4E3"
             },
             "line": {
              "color": "white"
             }
            },
            "type": "table"
           }
          ]
         },
         "layout": {
          "annotationdefaults": {
           "arrowcolor": "#2a3f5f",
           "arrowhead": 0,
           "arrowwidth": 1
          },
          "autotypenumbers": "strict",
          "coloraxis": {
           "colorbar": {
            "outlinewidth": 0,
            "ticks": ""
           }
          },
          "colorscale": {
           "diverging": [
            [
             0,
             "#8e0152"
            ],
            [
             0.1,
             "#c51b7d"
            ],
            [
             0.2,
             "#de77ae"
            ],
            [
             0.3,
             "#f1b6da"
            ],
            [
             0.4,
             "#fde0ef"
            ],
            [
             0.5,
             "#f7f7f7"
            ],
            [
             0.6,
             "#e6f5d0"
            ],
            [
             0.7,
             "#b8e186"
            ],
            [
             0.8,
             "#7fbc41"
            ],
            [
             0.9,
             "#4d9221"
            ],
            [
             1,
             "#276419"
            ]
           ],
           "sequential": [
            [
             0,
             "#0d0887"
            ],
            [
             0.1111111111111111,
             "#46039f"
            ],
            [
             0.2222222222222222,
             "#7201a8"
            ],
            [
             0.3333333333333333,
             "#9c179e"
            ],
            [
             0.4444444444444444,
             "#bd3786"
            ],
            [
             0.5555555555555556,
             "#d8576b"
            ],
            [
             0.6666666666666666,
             "#ed7953"
            ],
            [
             0.7777777777777778,
             "#fb9f3a"
            ],
            [
             0.8888888888888888,
             "#fdca26"
            ],
            [
             1,
             "#f0f921"
            ]
           ],
           "sequentialminus": [
            [
             0,
             "#0d0887"
            ],
            [
             0.1111111111111111,
             "#46039f"
            ],
            [
             0.2222222222222222,
             "#7201a8"
            ],
            [
             0.3333333333333333,
             "#9c179e"
            ],
            [
             0.4444444444444444,
             "#bd3786"
            ],
            [
             0.5555555555555556,
             "#d8576b"
            ],
            [
             0.6666666666666666,
             "#ed7953"
            ],
            [
             0.7777777777777778,
             "#fb9f3a"
            ],
            [
             0.8888888888888888,
             "#fdca26"
            ],
            [
             1,
             "#f0f921"
            ]
           ]
          },
          "colorway": [
           "#636efa",
           "#EF553B",
           "#00cc96",
           "#ab63fa",
           "#FFA15A",
           "#19d3f3",
           "#FF6692",
           "#B6E880",
           "#FF97FF",
           "#FECB52"
          ],
          "font": {
           "color": "#2a3f5f"
          },
          "geo": {
           "bgcolor": "white",
           "lakecolor": "white",
           "landcolor": "#E5ECF6",
           "showlakes": true,
           "showland": true,
           "subunitcolor": "white"
          },
          "hoverlabel": {
           "align": "left"
          },
          "hovermode": "closest",
          "mapbox": {
           "style": "light"
          },
          "paper_bgcolor": "white",
          "plot_bgcolor": "#E5ECF6",
          "polar": {
           "angularaxis": {
            "gridcolor": "white",
            "linecolor": "white",
            "ticks": ""
           },
           "bgcolor": "#E5ECF6",
           "radialaxis": {
            "gridcolor": "white",
            "linecolor": "white",
            "ticks": ""
           }
          },
          "scene": {
           "xaxis": {
            "backgroundcolor": "#E5ECF6",
            "gridcolor": "white",
            "gridwidth": 2,
            "linecolor": "white",
            "showbackground": true,
            "ticks": "",
            "zerolinecolor": "white"
           },
           "yaxis": {
            "backgroundcolor": "#E5ECF6",
            "gridcolor": "white",
            "gridwidth": 2,
            "linecolor": "white",
            "showbackground": true,
            "ticks": "",
            "zerolinecolor": "white"
           },
           "zaxis": {
            "backgroundcolor": "#E5ECF6",
            "gridcolor": "white",
            "gridwidth": 2,
            "linecolor": "white",
            "showbackground": true,
            "ticks": "",
            "zerolinecolor": "white"
           }
          },
          "shapedefaults": {
           "line": {
            "color": "#2a3f5f"
           }
          },
          "ternary": {
           "aaxis": {
            "gridcolor": "white",
            "linecolor": "white",
            "ticks": ""
           },
           "baxis": {
            "gridcolor": "white",
            "linecolor": "white",
            "ticks": ""
           },
           "bgcolor": "#E5ECF6",
           "caxis": {
            "gridcolor": "white",
            "linecolor": "white",
            "ticks": ""
           }
          },
          "title": {
           "x": 0.05
          },
          "xaxis": {
           "automargin": true,
           "gridcolor": "white",
           "linecolor": "white",
           "ticks": "",
           "title": {
            "standoff": 15
           },
           "zerolinecolor": "white",
           "zerolinewidth": 2
          },
          "yaxis": {
           "automargin": true,
           "gridcolor": "white",
           "linecolor": "white",
           "ticks": "",
           "title": {
            "standoff": 15
           },
           "zerolinecolor": "white",
           "zerolinewidth": 2
          }
         }
        },
        "title": {
         "text": "Movies Release in 2021 with 80+ ratings"
        },
        "xaxis": {
         "anchor": "y",
         "domain": [
          0,
          1
         ],
         "title": {
          "text": "Name"
         }
        },
        "yaxis": {
         "anchor": "x",
         "domain": [
          0,
          1
         ],
         "title": {
          "text": "Rating"
         }
        }
       }
      },
      "text/html": [
       "<div>                            <div id=\"97a4e6f4-512c-4bf2-91f9-ba49285416a2\" class=\"plotly-graph-div\" style=\"height:525px; width:100%;\"></div>            <script type=\"text/javascript\">                require([\"plotly\"], function(Plotly) {                    window.PLOTLYENV=window.PLOTLYENV || {};                                    if (document.getElementById(\"97a4e6f4-512c-4bf2-91f9-ba49285416a2\")) {                    Plotly.newPlot(                        \"97a4e6f4-512c-4bf2-91f9-ba49285416a2\",                        [{\"alignmentgroup\":\"True\",\"hovertemplate\":\"Genre=Animation,Comedy,Mystery,Family,Fantasy<br>Director=Joseph Barbera<br>Name=%{x}<br>Rating=%{y}<extra></extra>\",\"legendgroup\":\"Animation,Comedy,Mystery,Family,Fantasy, Joseph Barbera\",\"marker\":{\"color\":\"#636efa\",\"pattern\":{\"shape\":\"/\"}},\"name\":\"Animation,Comedy,Mystery,Family,Fantasy, Joseph Barbera\",\"offsetgroup\":\"Animation,Comedy,Mystery,Family,Fantasy, Joseph Barbera\",\"orientation\":\"v\",\"showlegend\":true,\"textposition\":\"auto\",\"type\":\"bar\",\"x\":[\"Straight Outta Nowhere: Scooby-Doo! Meets Courage the Cowardly Dog\"],\"xaxis\":\"x\",\"y\":[83.0],\"yaxis\":\"y\"},{\"alignmentgroup\":\"True\",\"hovertemplate\":\"Genre=Drama<br>Director=Can Ulkay<br>Name=%{x}<br>Rating=%{y}<extra></extra>\",\"legendgroup\":\"Drama, Can Ulkay\",\"marker\":{\"color\":\"#EF553B\",\"pattern\":{\"shape\":\"x\"}},\"name\":\"Drama, Can Ulkay\",\"offsetgroup\":\"Drama, Can Ulkay\",\"orientation\":\"v\",\"showlegend\":true,\"textposition\":\"auto\",\"type\":\"bar\",\"x\":[\"Paper Lives\"],\"xaxis\":\"x\",\"y\":[82.0],\"yaxis\":\"y\"}],                        {\"barmode\":\"relative\",\"legend\":{\"title\":{\"text\":\"Genre, Director\"},\"tracegroupgap\":0},\"template\":{\"data\":{\"bar\":[{\"error_x\":{\"color\":\"#2a3f5f\"},\"error_y\":{\"color\":\"#2a3f5f\"},\"marker\":{\"line\":{\"color\":\"#E5ECF6\",\"width\":0.5},\"pattern\":{\"fillmode\":\"overlay\",\"size\":10,\"solidity\":0.2}},\"type\":\"bar\"}],\"barpolar\":[{\"marker\":{\"line\":{\"color\":\"#E5ECF6\",\"width\":0.5},\"pattern\":{\"fillmode\":\"overlay\",\"size\":10,\"solidity\":0.2}},\"type\":\"barpolar\"}],\"carpet\":[{\"aaxis\":{\"endlinecolor\":\"#2a3f5f\",\"gridcolor\":\"white\",\"linecolor\":\"white\",\"minorgridcolor\":\"white\",\"startlinecolor\":\"#2a3f5f\"},\"baxis\":{\"endlinecolor\":\"#2a3f5f\",\"gridcolor\":\"white\",\"linecolor\":\"white\",\"minorgridcolor\":\"white\",\"startlinecolor\":\"#2a3f5f\"},\"type\":\"carpet\"}],\"choropleth\":[{\"colorbar\":{\"outlinewidth\":0,\"ticks\":\"\"},\"type\":\"choropleth\"}],\"contour\":[{\"colorbar\":{\"outlinewidth\":0,\"ticks\":\"\"},\"colorscale\":[[0.0,\"#0d0887\"],[0.1111111111111111,\"#46039f\"],[0.2222222222222222,\"#7201a8\"],[0.3333333333333333,\"#9c179e\"],[0.4444444444444444,\"#bd3786\"],[0.5555555555555556,\"#d8576b\"],[0.6666666666666666,\"#ed7953\"],[0.7777777777777778,\"#fb9f3a\"],[0.8888888888888888,\"#fdca26\"],[1.0,\"#f0f921\"]],\"type\":\"contour\"}],\"contourcarpet\":[{\"colorbar\":{\"outlinewidth\":0,\"ticks\":\"\"},\"type\":\"contourcarpet\"}],\"heatmap\":[{\"colorbar\":{\"outlinewidth\":0,\"ticks\":\"\"},\"colorscale\":[[0.0,\"#0d0887\"],[0.1111111111111111,\"#46039f\"],[0.2222222222222222,\"#7201a8\"],[0.3333333333333333,\"#9c179e\"],[0.4444444444444444,\"#bd3786\"],[0.5555555555555556,\"#d8576b\"],[0.6666666666666666,\"#ed7953\"],[0.7777777777777778,\"#fb9f3a\"],[0.8888888888888888,\"#fdca26\"],[1.0,\"#f0f921\"]],\"type\":\"heatmap\"}],\"heatmapgl\":[{\"colorbar\":{\"outlinewidth\":0,\"ticks\":\"\"},\"colorscale\":[[0.0,\"#0d0887\"],[0.1111111111111111,\"#46039f\"],[0.2222222222222222,\"#7201a8\"],[0.3333333333333333,\"#9c179e\"],[0.4444444444444444,\"#bd3786\"],[0.5555555555555556,\"#d8576b\"],[0.6666666666666666,\"#ed7953\"],[0.7777777777777778,\"#fb9f3a\"],[0.8888888888888888,\"#fdca26\"],[1.0,\"#f0f921\"]],\"type\":\"heatmapgl\"}],\"histogram\":[{\"marker\":{\"pattern\":{\"fillmode\":\"overlay\",\"size\":10,\"solidity\":0.2}},\"type\":\"histogram\"}],\"histogram2d\":[{\"colorbar\":{\"outlinewidth\":0,\"ticks\":\"\"},\"colorscale\":[[0.0,\"#0d0887\"],[0.1111111111111111,\"#46039f\"],[0.2222222222222222,\"#7201a8\"],[0.3333333333333333,\"#9c179e\"],[0.4444444444444444,\"#bd3786\"],[0.5555555555555556,\"#d8576b\"],[0.6666666666666666,\"#ed7953\"],[0.7777777777777778,\"#fb9f3a\"],[0.8888888888888888,\"#fdca26\"],[1.0,\"#f0f921\"]],\"type\":\"histogram2d\"}],\"histogram2dcontour\":[{\"colorbar\":{\"outlinewidth\":0,\"ticks\":\"\"},\"colorscale\":[[0.0,\"#0d0887\"],[0.1111111111111111,\"#46039f\"],[0.2222222222222222,\"#7201a8\"],[0.3333333333333333,\"#9c179e\"],[0.4444444444444444,\"#bd3786\"],[0.5555555555555556,\"#d8576b\"],[0.6666666666666666,\"#ed7953\"],[0.7777777777777778,\"#fb9f3a\"],[0.8888888888888888,\"#fdca26\"],[1.0,\"#f0f921\"]],\"type\":\"histogram2dcontour\"}],\"mesh3d\":[{\"colorbar\":{\"outlinewidth\":0,\"ticks\":\"\"},\"type\":\"mesh3d\"}],\"parcoords\":[{\"line\":{\"colorbar\":{\"outlinewidth\":0,\"ticks\":\"\"}},\"type\":\"parcoords\"}],\"pie\":[{\"automargin\":true,\"type\":\"pie\"}],\"scatter\":[{\"marker\":{\"colorbar\":{\"outlinewidth\":0,\"ticks\":\"\"}},\"type\":\"scatter\"}],\"scatter3d\":[{\"line\":{\"colorbar\":{\"outlinewidth\":0,\"ticks\":\"\"}},\"marker\":{\"colorbar\":{\"outlinewidth\":0,\"ticks\":\"\"}},\"type\":\"scatter3d\"}],\"scattercarpet\":[{\"marker\":{\"colorbar\":{\"outlinewidth\":0,\"ticks\":\"\"}},\"type\":\"scattercarpet\"}],\"scattergeo\":[{\"marker\":{\"colorbar\":{\"outlinewidth\":0,\"ticks\":\"\"}},\"type\":\"scattergeo\"}],\"scattergl\":[{\"marker\":{\"colorbar\":{\"outlinewidth\":0,\"ticks\":\"\"}},\"type\":\"scattergl\"}],\"scattermapbox\":[{\"marker\":{\"colorbar\":{\"outlinewidth\":0,\"ticks\":\"\"}},\"type\":\"scattermapbox\"}],\"scatterpolar\":[{\"marker\":{\"colorbar\":{\"outlinewidth\":0,\"ticks\":\"\"}},\"type\":\"scatterpolar\"}],\"scatterpolargl\":[{\"marker\":{\"colorbar\":{\"outlinewidth\":0,\"ticks\":\"\"}},\"type\":\"scatterpolargl\"}],\"scatterternary\":[{\"marker\":{\"colorbar\":{\"outlinewidth\":0,\"ticks\":\"\"}},\"type\":\"scatterternary\"}],\"surface\":[{\"colorbar\":{\"outlinewidth\":0,\"ticks\":\"\"},\"colorscale\":[[0.0,\"#0d0887\"],[0.1111111111111111,\"#46039f\"],[0.2222222222222222,\"#7201a8\"],[0.3333333333333333,\"#9c179e\"],[0.4444444444444444,\"#bd3786\"],[0.5555555555555556,\"#d8576b\"],[0.6666666666666666,\"#ed7953\"],[0.7777777777777778,\"#fb9f3a\"],[0.8888888888888888,\"#fdca26\"],[1.0,\"#f0f921\"]],\"type\":\"surface\"}],\"table\":[{\"cells\":{\"fill\":{\"color\":\"#EBF0F8\"},\"line\":{\"color\":\"white\"}},\"header\":{\"fill\":{\"color\":\"#C8D4E3\"},\"line\":{\"color\":\"white\"}},\"type\":\"table\"}]},\"layout\":{\"annotationdefaults\":{\"arrowcolor\":\"#2a3f5f\",\"arrowhead\":0,\"arrowwidth\":1},\"autotypenumbers\":\"strict\",\"coloraxis\":{\"colorbar\":{\"outlinewidth\":0,\"ticks\":\"\"}},\"colorscale\":{\"diverging\":[[0,\"#8e0152\"],[0.1,\"#c51b7d\"],[0.2,\"#de77ae\"],[0.3,\"#f1b6da\"],[0.4,\"#fde0ef\"],[0.5,\"#f7f7f7\"],[0.6,\"#e6f5d0\"],[0.7,\"#b8e186\"],[0.8,\"#7fbc41\"],[0.9,\"#4d9221\"],[1,\"#276419\"]],\"sequential\":[[0.0,\"#0d0887\"],[0.1111111111111111,\"#46039f\"],[0.2222222222222222,\"#7201a8\"],[0.3333333333333333,\"#9c179e\"],[0.4444444444444444,\"#bd3786\"],[0.5555555555555556,\"#d8576b\"],[0.6666666666666666,\"#ed7953\"],[0.7777777777777778,\"#fb9f3a\"],[0.8888888888888888,\"#fdca26\"],[1.0,\"#f0f921\"]],\"sequentialminus\":[[0.0,\"#0d0887\"],[0.1111111111111111,\"#46039f\"],[0.2222222222222222,\"#7201a8\"],[0.3333333333333333,\"#9c179e\"],[0.4444444444444444,\"#bd3786\"],[0.5555555555555556,\"#d8576b\"],[0.6666666666666666,\"#ed7953\"],[0.7777777777777778,\"#fb9f3a\"],[0.8888888888888888,\"#fdca26\"],[1.0,\"#f0f921\"]]},\"colorway\":[\"#636efa\",\"#EF553B\",\"#00cc96\",\"#ab63fa\",\"#FFA15A\",\"#19d3f3\",\"#FF6692\",\"#B6E880\",\"#FF97FF\",\"#FECB52\"],\"font\":{\"color\":\"#2a3f5f\"},\"geo\":{\"bgcolor\":\"white\",\"lakecolor\":\"white\",\"landcolor\":\"#E5ECF6\",\"showlakes\":true,\"showland\":true,\"subunitcolor\":\"white\"},\"hoverlabel\":{\"align\":\"left\"},\"hovermode\":\"closest\",\"mapbox\":{\"style\":\"light\"},\"paper_bgcolor\":\"white\",\"plot_bgcolor\":\"#E5ECF6\",\"polar\":{\"angularaxis\":{\"gridcolor\":\"white\",\"linecolor\":\"white\",\"ticks\":\"\"},\"bgcolor\":\"#E5ECF6\",\"radialaxis\":{\"gridcolor\":\"white\",\"linecolor\":\"white\",\"ticks\":\"\"}},\"scene\":{\"xaxis\":{\"backgroundcolor\":\"#E5ECF6\",\"gridcolor\":\"white\",\"gridwidth\":2,\"linecolor\":\"white\",\"showbackground\":true,\"ticks\":\"\",\"zerolinecolor\":\"white\"},\"yaxis\":{\"backgroundcolor\":\"#E5ECF6\",\"gridcolor\":\"white\",\"gridwidth\":2,\"linecolor\":\"white\",\"showbackground\":true,\"ticks\":\"\",\"zerolinecolor\":\"white\"},\"zaxis\":{\"backgroundcolor\":\"#E5ECF6\",\"gridcolor\":\"white\",\"gridwidth\":2,\"linecolor\":\"white\",\"showbackground\":true,\"ticks\":\"\",\"zerolinecolor\":\"white\"}},\"shapedefaults\":{\"line\":{\"color\":\"#2a3f5f\"}},\"ternary\":{\"aaxis\":{\"gridcolor\":\"white\",\"linecolor\":\"white\",\"ticks\":\"\"},\"baxis\":{\"gridcolor\":\"white\",\"linecolor\":\"white\",\"ticks\":\"\"},\"bgcolor\":\"#E5ECF6\",\"caxis\":{\"gridcolor\":\"white\",\"linecolor\":\"white\",\"ticks\":\"\"}},\"title\":{\"x\":0.05},\"xaxis\":{\"automargin\":true,\"gridcolor\":\"white\",\"linecolor\":\"white\",\"ticks\":\"\",\"title\":{\"standoff\":15},\"zerolinecolor\":\"white\",\"zerolinewidth\":2},\"yaxis\":{\"automargin\":true,\"gridcolor\":\"white\",\"linecolor\":\"white\",\"ticks\":\"\",\"title\":{\"standoff\":15},\"zerolinecolor\":\"white\",\"zerolinewidth\":2}}},\"title\":{\"text\":\"Movies Release in 2021 with 80+ ratings\"},\"xaxis\":{\"anchor\":\"y\",\"domain\":[0.0,1.0],\"title\":{\"text\":\"Name\"}},\"yaxis\":{\"anchor\":\"x\",\"domain\":[0.0,1.0],\"title\":{\"text\":\"Rating\"}}},                        {\"responsive\": true}                    ).then(function(){\n",
       "                            \n",
       "var gd = document.getElementById('97a4e6f4-512c-4bf2-91f9-ba49285416a2');\n",
       "var x = new MutationObserver(function (mutations, observer) {{\n",
       "        var display = window.getComputedStyle(gd).display;\n",
       "        if (!display || display === 'none') {{\n",
       "            console.log([gd, 'removed!']);\n",
       "            Plotly.purge(gd);\n",
       "            observer.disconnect();\n",
       "        }}\n",
       "}});\n",
       "\n",
       "// Listen for the removal of the full notebook cells\n",
       "var notebookContainer = gd.closest('#notebook-container');\n",
       "if (notebookContainer) {{\n",
       "    x.observe(notebookContainer, {childList: true});\n",
       "}}\n",
       "\n",
       "// Listen for the clearing of the current output cell\n",
       "var outputEl = gd.closest('.output');\n",
       "if (outputEl) {{\n",
       "    x.observe(outputEl, {childList: true});\n",
       "}}\n",
       "\n",
       "                        })                };                });            </script>        </div>"
      ]
     },
     "metadata": {},
     "output_type": "display_data"
    }
   ],
   "source": [
    "fig = px.bar(rating80_2021, x=\"Name\", y=\"Rating\", color=\"Genre\",\n",
    "             pattern_shape=\"Director\", pattern_shape_sequence=[\"/\", \"x\", \"+\"],title='Movies Release in 2021 with 80+ ratings')\n",
    "fig.show()"
   ]
  },
  {
   "cell_type": "markdown",
   "id": "0f1bb9fd",
   "metadata": {},
   "source": [
    "# Movies Release in 2020 with 80+ ratings"
   ]
  },
  {
   "cell_type": "code",
   "execution_count": 170,
   "id": "1a24d440",
   "metadata": {},
   "outputs": [],
   "source": [
    "rating80_2020 = movies_df[(movies_df['Rating']>=60) & (movies_df['Release year']==2020)]"
   ]
  },
  {
   "cell_type": "code",
   "execution_count": 171,
   "id": "61030819",
   "metadata": {},
   "outputs": [
    {
     "data": {
      "text/html": [
       "<div>\n",
       "<style scoped>\n",
       "    .dataframe tbody tr th:only-of-type {\n",
       "        vertical-align: middle;\n",
       "    }\n",
       "\n",
       "    .dataframe tbody tr th {\n",
       "        vertical-align: top;\n",
       "    }\n",
       "\n",
       "    .dataframe thead th {\n",
       "        text-align: right;\n",
       "    }\n",
       "</style>\n",
       "<table border=\"1\" class=\"dataframe\">\n",
       "  <thead>\n",
       "    <tr style=\"text-align: right;\">\n",
       "      <th></th>\n",
       "      <th>Name</th>\n",
       "      <th>Rating</th>\n",
       "      <th>Genre</th>\n",
       "      <th>Release date</th>\n",
       "      <th>Runtime</th>\n",
       "      <th>Director</th>\n",
       "      <th>Budget ($)</th>\n",
       "      <th>Revenue ($)</th>\n",
       "      <th>Url</th>\n",
       "      <th>Release year</th>\n",
       "    </tr>\n",
       "  </thead>\n",
       "  <tbody>\n",
       "    <tr>\n",
       "      <th>20</th>\n",
       "      <td>The Craft: Legacy</td>\n",
       "      <td>64.0</td>\n",
       "      <td>Horror,Drama,Fantasy</td>\n",
       "      <td>2020-10-28</td>\n",
       "      <td>1h 34m</td>\n",
       "      <td>Zoe Lister-Jones</td>\n",
       "      <td>NaN</td>\n",
       "      <td>NaN</td>\n",
       "      <td>https://www.themoviedb.org//movie/590995</td>\n",
       "      <td>2020</td>\n",
       "    </tr>\n",
       "    <tr>\n",
       "      <th>63</th>\n",
       "      <td>Bloodshot</td>\n",
       "      <td>68.0</td>\n",
       "      <td>Action,Science Fiction</td>\n",
       "      <td>2020-03-13</td>\n",
       "      <td>1h 50m</td>\n",
       "      <td>Jeff Wadlow</td>\n",
       "      <td>$42,000,000.00</td>\n",
       "      <td>$33,542,457.00</td>\n",
       "      <td>https://www.themoviedb.org//movie/338762</td>\n",
       "      <td>2020</td>\n",
       "    </tr>\n",
       "    <tr>\n",
       "      <th>64</th>\n",
       "      <td>The Amityville Harvest</td>\n",
       "      <td>74.0</td>\n",
       "      <td>Horror</td>\n",
       "      <td>2020-10-20</td>\n",
       "      <td>1h 38m</td>\n",
       "      <td>Thomas J. Churchill</td>\n",
       "      <td>NaN</td>\n",
       "      <td>NaN</td>\n",
       "      <td>https://www.themoviedb.org//movie/732472</td>\n",
       "      <td>2020</td>\n",
       "    </tr>\n",
       "    <tr>\n",
       "      <th>67</th>\n",
       "      <td>Justice League Dark: Apokolips War</td>\n",
       "      <td>84.0</td>\n",
       "      <td>Animation,Action,Adventure,Fantasy,Science Fic...</td>\n",
       "      <td>2020-05-05</td>\n",
       "      <td>1h 30m</td>\n",
       "      <td>Mairghread Scott</td>\n",
       "      <td>NaN</td>\n",
       "      <td>NaN</td>\n",
       "      <td>https://www.themoviedb.org//movie/618344</td>\n",
       "      <td>2020</td>\n",
       "    </tr>\n",
       "    <tr>\n",
       "      <th>80</th>\n",
       "      <td>Books of Blood</td>\n",
       "      <td>67.0</td>\n",
       "      <td>Horror,Science Fiction</td>\n",
       "      <td>2020-10-07</td>\n",
       "      <td>1h 47m</td>\n",
       "      <td>Brannon Braga</td>\n",
       "      <td>NaN</td>\n",
       "      <td>NaN</td>\n",
       "      <td>https://www.themoviedb.org//movie/715123</td>\n",
       "      <td>2020</td>\n",
       "    </tr>\n",
       "    <tr>\n",
       "      <th>92</th>\n",
       "      <td>Be Careful What You Wish For</td>\n",
       "      <td>67.0</td>\n",
       "      <td>Horror</td>\n",
       "      <td>2020-04-24</td>\n",
       "      <td>1h 31m</td>\n",
       "      <td>Agustín Oso Tapia</td>\n",
       "      <td>NaN</td>\n",
       "      <td>NaN</td>\n",
       "      <td>https://www.themoviedb.org//movie/681429</td>\n",
       "      <td>2020</td>\n",
       "    </tr>\n",
       "  </tbody>\n",
       "</table>\n",
       "</div>"
      ],
      "text/plain": [
       "                                  Name  Rating  \\\n",
       "20                   The Craft: Legacy    64.0   \n",
       "63                           Bloodshot    68.0   \n",
       "64              The Amityville Harvest    74.0   \n",
       "67  Justice League Dark: Apokolips War    84.0   \n",
       "80                      Books of Blood    67.0   \n",
       "92        Be Careful What You Wish For    67.0   \n",
       "\n",
       "                                                Genre Release date Runtime  \\\n",
       "20                               Horror,Drama,Fantasy   2020-10-28  1h 34m   \n",
       "63                             Action,Science Fiction   2020-03-13  1h 50m   \n",
       "64                                             Horror   2020-10-20  1h 38m   \n",
       "67  Animation,Action,Adventure,Fantasy,Science Fic...   2020-05-05  1h 30m   \n",
       "80                             Horror,Science Fiction   2020-10-07  1h 47m   \n",
       "92                                             Horror   2020-04-24  1h 31m   \n",
       "\n",
       "               Director      Budget ($)    Revenue ($)   \\\n",
       "20     Zoe Lister-Jones             NaN             NaN   \n",
       "63          Jeff Wadlow  $42,000,000.00  $33,542,457.00   \n",
       "64  Thomas J. Churchill             NaN             NaN   \n",
       "67     Mairghread Scott             NaN             NaN   \n",
       "80        Brannon Braga             NaN             NaN   \n",
       "92    Agustín Oso Tapia             NaN             NaN   \n",
       "\n",
       "                                         Url  Release year  \n",
       "20  https://www.themoviedb.org//movie/590995          2020  \n",
       "63  https://www.themoviedb.org//movie/338762          2020  \n",
       "64  https://www.themoviedb.org//movie/732472          2020  \n",
       "67  https://www.themoviedb.org//movie/618344          2020  \n",
       "80  https://www.themoviedb.org//movie/715123          2020  \n",
       "92  https://www.themoviedb.org//movie/681429          2020  "
      ]
     },
     "execution_count": 171,
     "metadata": {},
     "output_type": "execute_result"
    }
   ],
   "source": [
    "rating80_2020"
   ]
  },
  {
   "cell_type": "code",
   "execution_count": 260,
   "id": "6ffacf4b",
   "metadata": {},
   "outputs": [
    {
     "data": {
      "application/vnd.plotly.v1+json": {
       "config": {
        "plotlyServerURL": "https://plot.ly"
       },
       "data": [
        {
         "alignmentgroup": "True",
         "hovertemplate": "Genre=Horror,Drama,Fantasy<br>Runtime=1h 34m<br>Name=%{x}<br>Rating=%{y}<extra></extra>",
         "legendgroup": "Horror,Drama,Fantasy, 1h 34m",
         "marker": {
          "color": "#636efa",
          "pattern": {
           "shape": "."
          }
         },
         "name": "Horror,Drama,Fantasy, 1h 34m",
         "offsetgroup": "Horror,Drama,Fantasy, 1h 34m",
         "orientation": "v",
         "showlegend": true,
         "textposition": "auto",
         "type": "bar",
         "x": [
          "The Craft: Legacy"
         ],
         "xaxis": "x",
         "y": [
          64
         ],
         "yaxis": "y"
        },
        {
         "alignmentgroup": "True",
         "hovertemplate": "Genre=Action,Science Fiction<br>Runtime=1h 50m<br>Name=%{x}<br>Rating=%{y}<extra></extra>",
         "legendgroup": "Action,Science Fiction, 1h 50m",
         "marker": {
          "color": "#EF553B",
          "pattern": {
           "shape": "x"
          }
         },
         "name": "Action,Science Fiction, 1h 50m",
         "offsetgroup": "Action,Science Fiction, 1h 50m",
         "orientation": "v",
         "showlegend": true,
         "textposition": "auto",
         "type": "bar",
         "x": [
          "Bloodshot"
         ],
         "xaxis": "x",
         "y": [
          68
         ],
         "yaxis": "y"
        },
        {
         "alignmentgroup": "True",
         "hovertemplate": "Genre=Horror<br>Runtime=1h 38m<br>Name=%{x}<br>Rating=%{y}<extra></extra>",
         "legendgroup": "Horror, 1h 38m",
         "marker": {
          "color": "#00cc96",
          "pattern": {
           "shape": "+"
          }
         },
         "name": "Horror, 1h 38m",
         "offsetgroup": "Horror, 1h 38m",
         "orientation": "v",
         "showlegend": true,
         "textposition": "auto",
         "type": "bar",
         "x": [
          "The Amityville Harvest"
         ],
         "xaxis": "x",
         "y": [
          74
         ],
         "yaxis": "y"
        },
        {
         "alignmentgroup": "True",
         "hovertemplate": "Genre=Horror<br>Runtime=1h 31m<br>Name=%{x}<br>Rating=%{y}<extra></extra>",
         "legendgroup": "Horror, 1h 31m",
         "marker": {
          "color": "#00cc96",
          "pattern": {
           "shape": "+"
          }
         },
         "name": "Horror, 1h 31m",
         "offsetgroup": "Horror, 1h 31m",
         "orientation": "v",
         "showlegend": true,
         "textposition": "auto",
         "type": "bar",
         "x": [
          "Be Careful What You Wish For"
         ],
         "xaxis": "x",
         "y": [
          67
         ],
         "yaxis": "y"
        },
        {
         "alignmentgroup": "True",
         "hovertemplate": "Genre=Animation,Action,Adventure,Fantasy,Science Fiction<br>Runtime=1h 30m<br>Name=%{x}<br>Rating=%{y}<extra></extra>",
         "legendgroup": "Animation,Action,Adventure,Fantasy,Science Fiction, 1h 30m",
         "marker": {
          "color": "#ab63fa",
          "pattern": {
           "shape": "."
          }
         },
         "name": "Animation,Action,Adventure,Fantasy,Science Fiction, 1h 30m",
         "offsetgroup": "Animation,Action,Adventure,Fantasy,Science Fiction, 1h 30m",
         "orientation": "v",
         "showlegend": true,
         "textposition": "auto",
         "type": "bar",
         "x": [
          "Justice League Dark: Apokolips War"
         ],
         "xaxis": "x",
         "y": [
          84
         ],
         "yaxis": "y"
        },
        {
         "alignmentgroup": "True",
         "hovertemplate": "Genre=Horror,Science Fiction<br>Runtime=1h 47m<br>Name=%{x}<br>Rating=%{y}<extra></extra>",
         "legendgroup": "Horror,Science Fiction, 1h 47m",
         "marker": {
          "color": "#FFA15A",
          "pattern": {
           "shape": "x"
          }
         },
         "name": "Horror,Science Fiction, 1h 47m",
         "offsetgroup": "Horror,Science Fiction, 1h 47m",
         "orientation": "v",
         "showlegend": true,
         "textposition": "auto",
         "type": "bar",
         "x": [
          "Books of Blood"
         ],
         "xaxis": "x",
         "y": [
          67
         ],
         "yaxis": "y"
        }
       ],
       "layout": {
        "barmode": "relative",
        "legend": {
         "title": {
          "text": "Genre, Runtime"
         },
         "tracegroupgap": 0
        },
        "template": {
         "data": {
          "bar": [
           {
            "error_x": {
             "color": "#2a3f5f"
            },
            "error_y": {
             "color": "#2a3f5f"
            },
            "marker": {
             "line": {
              "color": "#E5ECF6",
              "width": 0.5
             },
             "pattern": {
              "fillmode": "overlay",
              "size": 10,
              "solidity": 0.2
             }
            },
            "type": "bar"
           }
          ],
          "barpolar": [
           {
            "marker": {
             "line": {
              "color": "#E5ECF6",
              "width": 0.5
             },
             "pattern": {
              "fillmode": "overlay",
              "size": 10,
              "solidity": 0.2
             }
            },
            "type": "barpolar"
           }
          ],
          "carpet": [
           {
            "aaxis": {
             "endlinecolor": "#2a3f5f",
             "gridcolor": "white",
             "linecolor": "white",
             "minorgridcolor": "white",
             "startlinecolor": "#2a3f5f"
            },
            "baxis": {
             "endlinecolor": "#2a3f5f",
             "gridcolor": "white",
             "linecolor": "white",
             "minorgridcolor": "white",
             "startlinecolor": "#2a3f5f"
            },
            "type": "carpet"
           }
          ],
          "choropleth": [
           {
            "colorbar": {
             "outlinewidth": 0,
             "ticks": ""
            },
            "type": "choropleth"
           }
          ],
          "contour": [
           {
            "colorbar": {
             "outlinewidth": 0,
             "ticks": ""
            },
            "colorscale": [
             [
              0,
              "#0d0887"
             ],
             [
              0.1111111111111111,
              "#46039f"
             ],
             [
              0.2222222222222222,
              "#7201a8"
             ],
             [
              0.3333333333333333,
              "#9c179e"
             ],
             [
              0.4444444444444444,
              "#bd3786"
             ],
             [
              0.5555555555555556,
              "#d8576b"
             ],
             [
              0.6666666666666666,
              "#ed7953"
             ],
             [
              0.7777777777777778,
              "#fb9f3a"
             ],
             [
              0.8888888888888888,
              "#fdca26"
             ],
             [
              1,
              "#f0f921"
             ]
            ],
            "type": "contour"
           }
          ],
          "contourcarpet": [
           {
            "colorbar": {
             "outlinewidth": 0,
             "ticks": ""
            },
            "type": "contourcarpet"
           }
          ],
          "heatmap": [
           {
            "colorbar": {
             "outlinewidth": 0,
             "ticks": ""
            },
            "colorscale": [
             [
              0,
              "#0d0887"
             ],
             [
              0.1111111111111111,
              "#46039f"
             ],
             [
              0.2222222222222222,
              "#7201a8"
             ],
             [
              0.3333333333333333,
              "#9c179e"
             ],
             [
              0.4444444444444444,
              "#bd3786"
             ],
             [
              0.5555555555555556,
              "#d8576b"
             ],
             [
              0.6666666666666666,
              "#ed7953"
             ],
             [
              0.7777777777777778,
              "#fb9f3a"
             ],
             [
              0.8888888888888888,
              "#fdca26"
             ],
             [
              1,
              "#f0f921"
             ]
            ],
            "type": "heatmap"
           }
          ],
          "heatmapgl": [
           {
            "colorbar": {
             "outlinewidth": 0,
             "ticks": ""
            },
            "colorscale": [
             [
              0,
              "#0d0887"
             ],
             [
              0.1111111111111111,
              "#46039f"
             ],
             [
              0.2222222222222222,
              "#7201a8"
             ],
             [
              0.3333333333333333,
              "#9c179e"
             ],
             [
              0.4444444444444444,
              "#bd3786"
             ],
             [
              0.5555555555555556,
              "#d8576b"
             ],
             [
              0.6666666666666666,
              "#ed7953"
             ],
             [
              0.7777777777777778,
              "#fb9f3a"
             ],
             [
              0.8888888888888888,
              "#fdca26"
             ],
             [
              1,
              "#f0f921"
             ]
            ],
            "type": "heatmapgl"
           }
          ],
          "histogram": [
           {
            "marker": {
             "pattern": {
              "fillmode": "overlay",
              "size": 10,
              "solidity": 0.2
             }
            },
            "type": "histogram"
           }
          ],
          "histogram2d": [
           {
            "colorbar": {
             "outlinewidth": 0,
             "ticks": ""
            },
            "colorscale": [
             [
              0,
              "#0d0887"
             ],
             [
              0.1111111111111111,
              "#46039f"
             ],
             [
              0.2222222222222222,
              "#7201a8"
             ],
             [
              0.3333333333333333,
              "#9c179e"
             ],
             [
              0.4444444444444444,
              "#bd3786"
             ],
             [
              0.5555555555555556,
              "#d8576b"
             ],
             [
              0.6666666666666666,
              "#ed7953"
             ],
             [
              0.7777777777777778,
              "#fb9f3a"
             ],
             [
              0.8888888888888888,
              "#fdca26"
             ],
             [
              1,
              "#f0f921"
             ]
            ],
            "type": "histogram2d"
           }
          ],
          "histogram2dcontour": [
           {
            "colorbar": {
             "outlinewidth": 0,
             "ticks": ""
            },
            "colorscale": [
             [
              0,
              "#0d0887"
             ],
             [
              0.1111111111111111,
              "#46039f"
             ],
             [
              0.2222222222222222,
              "#7201a8"
             ],
             [
              0.3333333333333333,
              "#9c179e"
             ],
             [
              0.4444444444444444,
              "#bd3786"
             ],
             [
              0.5555555555555556,
              "#d8576b"
             ],
             [
              0.6666666666666666,
              "#ed7953"
             ],
             [
              0.7777777777777778,
              "#fb9f3a"
             ],
             [
              0.8888888888888888,
              "#fdca26"
             ],
             [
              1,
              "#f0f921"
             ]
            ],
            "type": "histogram2dcontour"
           }
          ],
          "mesh3d": [
           {
            "colorbar": {
             "outlinewidth": 0,
             "ticks": ""
            },
            "type": "mesh3d"
           }
          ],
          "parcoords": [
           {
            "line": {
             "colorbar": {
              "outlinewidth": 0,
              "ticks": ""
             }
            },
            "type": "parcoords"
           }
          ],
          "pie": [
           {
            "automargin": true,
            "type": "pie"
           }
          ],
          "scatter": [
           {
            "marker": {
             "colorbar": {
              "outlinewidth": 0,
              "ticks": ""
             }
            },
            "type": "scatter"
           }
          ],
          "scatter3d": [
           {
            "line": {
             "colorbar": {
              "outlinewidth": 0,
              "ticks": ""
             }
            },
            "marker": {
             "colorbar": {
              "outlinewidth": 0,
              "ticks": ""
             }
            },
            "type": "scatter3d"
           }
          ],
          "scattercarpet": [
           {
            "marker": {
             "colorbar": {
              "outlinewidth": 0,
              "ticks": ""
             }
            },
            "type": "scattercarpet"
           }
          ],
          "scattergeo": [
           {
            "marker": {
             "colorbar": {
              "outlinewidth": 0,
              "ticks": ""
             }
            },
            "type": "scattergeo"
           }
          ],
          "scattergl": [
           {
            "marker": {
             "colorbar": {
              "outlinewidth": 0,
              "ticks": ""
             }
            },
            "type": "scattergl"
           }
          ],
          "scattermapbox": [
           {
            "marker": {
             "colorbar": {
              "outlinewidth": 0,
              "ticks": ""
             }
            },
            "type": "scattermapbox"
           }
          ],
          "scatterpolar": [
           {
            "marker": {
             "colorbar": {
              "outlinewidth": 0,
              "ticks": ""
             }
            },
            "type": "scatterpolar"
           }
          ],
          "scatterpolargl": [
           {
            "marker": {
             "colorbar": {
              "outlinewidth": 0,
              "ticks": ""
             }
            },
            "type": "scatterpolargl"
           }
          ],
          "scatterternary": [
           {
            "marker": {
             "colorbar": {
              "outlinewidth": 0,
              "ticks": ""
             }
            },
            "type": "scatterternary"
           }
          ],
          "surface": [
           {
            "colorbar": {
             "outlinewidth": 0,
             "ticks": ""
            },
            "colorscale": [
             [
              0,
              "#0d0887"
             ],
             [
              0.1111111111111111,
              "#46039f"
             ],
             [
              0.2222222222222222,
              "#7201a8"
             ],
             [
              0.3333333333333333,
              "#9c179e"
             ],
             [
              0.4444444444444444,
              "#bd3786"
             ],
             [
              0.5555555555555556,
              "#d8576b"
             ],
             [
              0.6666666666666666,
              "#ed7953"
             ],
             [
              0.7777777777777778,
              "#fb9f3a"
             ],
             [
              0.8888888888888888,
              "#fdca26"
             ],
             [
              1,
              "#f0f921"
             ]
            ],
            "type": "surface"
           }
          ],
          "table": [
           {
            "cells": {
             "fill": {
              "color": "#EBF0F8"
             },
             "line": {
              "color": "white"
             }
            },
            "header": {
             "fill": {
              "color": "#C8D4E3"
             },
             "line": {
              "color": "white"
             }
            },
            "type": "table"
           }
          ]
         },
         "layout": {
          "annotationdefaults": {
           "arrowcolor": "#2a3f5f",
           "arrowhead": 0,
           "arrowwidth": 1
          },
          "autotypenumbers": "strict",
          "coloraxis": {
           "colorbar": {
            "outlinewidth": 0,
            "ticks": ""
           }
          },
          "colorscale": {
           "diverging": [
            [
             0,
             "#8e0152"
            ],
            [
             0.1,
             "#c51b7d"
            ],
            [
             0.2,
             "#de77ae"
            ],
            [
             0.3,
             "#f1b6da"
            ],
            [
             0.4,
             "#fde0ef"
            ],
            [
             0.5,
             "#f7f7f7"
            ],
            [
             0.6,
             "#e6f5d0"
            ],
            [
             0.7,
             "#b8e186"
            ],
            [
             0.8,
             "#7fbc41"
            ],
            [
             0.9,
             "#4d9221"
            ],
            [
             1,
             "#276419"
            ]
           ],
           "sequential": [
            [
             0,
             "#0d0887"
            ],
            [
             0.1111111111111111,
             "#46039f"
            ],
            [
             0.2222222222222222,
             "#7201a8"
            ],
            [
             0.3333333333333333,
             "#9c179e"
            ],
            [
             0.4444444444444444,
             "#bd3786"
            ],
            [
             0.5555555555555556,
             "#d8576b"
            ],
            [
             0.6666666666666666,
             "#ed7953"
            ],
            [
             0.7777777777777778,
             "#fb9f3a"
            ],
            [
             0.8888888888888888,
             "#fdca26"
            ],
            [
             1,
             "#f0f921"
            ]
           ],
           "sequentialminus": [
            [
             0,
             "#0d0887"
            ],
            [
             0.1111111111111111,
             "#46039f"
            ],
            [
             0.2222222222222222,
             "#7201a8"
            ],
            [
             0.3333333333333333,
             "#9c179e"
            ],
            [
             0.4444444444444444,
             "#bd3786"
            ],
            [
             0.5555555555555556,
             "#d8576b"
            ],
            [
             0.6666666666666666,
             "#ed7953"
            ],
            [
             0.7777777777777778,
             "#fb9f3a"
            ],
            [
             0.8888888888888888,
             "#fdca26"
            ],
            [
             1,
             "#f0f921"
            ]
           ]
          },
          "colorway": [
           "#636efa",
           "#EF553B",
           "#00cc96",
           "#ab63fa",
           "#FFA15A",
           "#19d3f3",
           "#FF6692",
           "#B6E880",
           "#FF97FF",
           "#FECB52"
          ],
          "font": {
           "color": "#2a3f5f"
          },
          "geo": {
           "bgcolor": "white",
           "lakecolor": "white",
           "landcolor": "#E5ECF6",
           "showlakes": true,
           "showland": true,
           "subunitcolor": "white"
          },
          "hoverlabel": {
           "align": "left"
          },
          "hovermode": "closest",
          "mapbox": {
           "style": "light"
          },
          "paper_bgcolor": "white",
          "plot_bgcolor": "#E5ECF6",
          "polar": {
           "angularaxis": {
            "gridcolor": "white",
            "linecolor": "white",
            "ticks": ""
           },
           "bgcolor": "#E5ECF6",
           "radialaxis": {
            "gridcolor": "white",
            "linecolor": "white",
            "ticks": ""
           }
          },
          "scene": {
           "xaxis": {
            "backgroundcolor": "#E5ECF6",
            "gridcolor": "white",
            "gridwidth": 2,
            "linecolor": "white",
            "showbackground": true,
            "ticks": "",
            "zerolinecolor": "white"
           },
           "yaxis": {
            "backgroundcolor": "#E5ECF6",
            "gridcolor": "white",
            "gridwidth": 2,
            "linecolor": "white",
            "showbackground": true,
            "ticks": "",
            "zerolinecolor": "white"
           },
           "zaxis": {
            "backgroundcolor": "#E5ECF6",
            "gridcolor": "white",
            "gridwidth": 2,
            "linecolor": "white",
            "showbackground": true,
            "ticks": "",
            "zerolinecolor": "white"
           }
          },
          "shapedefaults": {
           "line": {
            "color": "#2a3f5f"
           }
          },
          "ternary": {
           "aaxis": {
            "gridcolor": "white",
            "linecolor": "white",
            "ticks": ""
           },
           "baxis": {
            "gridcolor": "white",
            "linecolor": "white",
            "ticks": ""
           },
           "bgcolor": "#E5ECF6",
           "caxis": {
            "gridcolor": "white",
            "linecolor": "white",
            "ticks": ""
           }
          },
          "title": {
           "x": 0.05
          },
          "xaxis": {
           "automargin": true,
           "gridcolor": "white",
           "linecolor": "white",
           "ticks": "",
           "title": {
            "standoff": 15
           },
           "zerolinecolor": "white",
           "zerolinewidth": 2
          },
          "yaxis": {
           "automargin": true,
           "gridcolor": "white",
           "linecolor": "white",
           "ticks": "",
           "title": {
            "standoff": 15
           },
           "zerolinecolor": "white",
           "zerolinewidth": 2
          }
         }
        },
        "title": {
         "text": "Movies Release in 2020 with 80+ ratings"
        },
        "xaxis": {
         "anchor": "y",
         "domain": [
          0,
          1
         ],
         "title": {
          "text": "Name"
         }
        },
        "yaxis": {
         "anchor": "x",
         "domain": [
          0,
          1
         ],
         "title": {
          "text": "Rating"
         }
        }
       }
      },
      "text/html": [
       "<div>                            <div id=\"342af174-ee52-4432-86fa-b169288ed5e9\" class=\"plotly-graph-div\" style=\"height:525px; width:100%;\"></div>            <script type=\"text/javascript\">                require([\"plotly\"], function(Plotly) {                    window.PLOTLYENV=window.PLOTLYENV || {};                                    if (document.getElementById(\"342af174-ee52-4432-86fa-b169288ed5e9\")) {                    Plotly.newPlot(                        \"342af174-ee52-4432-86fa-b169288ed5e9\",                        [{\"alignmentgroup\":\"True\",\"hovertemplate\":\"Genre=Horror,Drama,Fantasy<br>Runtime=1h 34m<br>Name=%{x}<br>Rating=%{y}<extra></extra>\",\"legendgroup\":\"Horror,Drama,Fantasy, 1h 34m\",\"marker\":{\"color\":\"#636efa\",\"pattern\":{\"shape\":\".\"}},\"name\":\"Horror,Drama,Fantasy, 1h 34m\",\"offsetgroup\":\"Horror,Drama,Fantasy, 1h 34m\",\"orientation\":\"v\",\"showlegend\":true,\"textposition\":\"auto\",\"type\":\"bar\",\"x\":[\"The Craft: Legacy\"],\"xaxis\":\"x\",\"y\":[64.0],\"yaxis\":\"y\"},{\"alignmentgroup\":\"True\",\"hovertemplate\":\"Genre=Action,Science Fiction<br>Runtime=1h 50m<br>Name=%{x}<br>Rating=%{y}<extra></extra>\",\"legendgroup\":\"Action,Science Fiction, 1h 50m\",\"marker\":{\"color\":\"#EF553B\",\"pattern\":{\"shape\":\"x\"}},\"name\":\"Action,Science Fiction, 1h 50m\",\"offsetgroup\":\"Action,Science Fiction, 1h 50m\",\"orientation\":\"v\",\"showlegend\":true,\"textposition\":\"auto\",\"type\":\"bar\",\"x\":[\"Bloodshot\"],\"xaxis\":\"x\",\"y\":[68.0],\"yaxis\":\"y\"},{\"alignmentgroup\":\"True\",\"hovertemplate\":\"Genre=Horror<br>Runtime=1h 38m<br>Name=%{x}<br>Rating=%{y}<extra></extra>\",\"legendgroup\":\"Horror, 1h 38m\",\"marker\":{\"color\":\"#00cc96\",\"pattern\":{\"shape\":\"+\"}},\"name\":\"Horror, 1h 38m\",\"offsetgroup\":\"Horror, 1h 38m\",\"orientation\":\"v\",\"showlegend\":true,\"textposition\":\"auto\",\"type\":\"bar\",\"x\":[\"The Amityville Harvest\"],\"xaxis\":\"x\",\"y\":[74.0],\"yaxis\":\"y\"},{\"alignmentgroup\":\"True\",\"hovertemplate\":\"Genre=Horror<br>Runtime=1h 31m<br>Name=%{x}<br>Rating=%{y}<extra></extra>\",\"legendgroup\":\"Horror, 1h 31m\",\"marker\":{\"color\":\"#00cc96\",\"pattern\":{\"shape\":\"+\"}},\"name\":\"Horror, 1h 31m\",\"offsetgroup\":\"Horror, 1h 31m\",\"orientation\":\"v\",\"showlegend\":true,\"textposition\":\"auto\",\"type\":\"bar\",\"x\":[\"Be Careful What You Wish For\"],\"xaxis\":\"x\",\"y\":[67.0],\"yaxis\":\"y\"},{\"alignmentgroup\":\"True\",\"hovertemplate\":\"Genre=Animation,Action,Adventure,Fantasy,Science Fiction<br>Runtime=1h 30m<br>Name=%{x}<br>Rating=%{y}<extra></extra>\",\"legendgroup\":\"Animation,Action,Adventure,Fantasy,Science Fiction, 1h 30m\",\"marker\":{\"color\":\"#ab63fa\",\"pattern\":{\"shape\":\".\"}},\"name\":\"Animation,Action,Adventure,Fantasy,Science Fiction, 1h 30m\",\"offsetgroup\":\"Animation,Action,Adventure,Fantasy,Science Fiction, 1h 30m\",\"orientation\":\"v\",\"showlegend\":true,\"textposition\":\"auto\",\"type\":\"bar\",\"x\":[\"Justice League Dark: Apokolips War\"],\"xaxis\":\"x\",\"y\":[84.0],\"yaxis\":\"y\"},{\"alignmentgroup\":\"True\",\"hovertemplate\":\"Genre=Horror,Science Fiction<br>Runtime=1h 47m<br>Name=%{x}<br>Rating=%{y}<extra></extra>\",\"legendgroup\":\"Horror,Science Fiction, 1h 47m\",\"marker\":{\"color\":\"#FFA15A\",\"pattern\":{\"shape\":\"x\"}},\"name\":\"Horror,Science Fiction, 1h 47m\",\"offsetgroup\":\"Horror,Science Fiction, 1h 47m\",\"orientation\":\"v\",\"showlegend\":true,\"textposition\":\"auto\",\"type\":\"bar\",\"x\":[\"Books of Blood\"],\"xaxis\":\"x\",\"y\":[67.0],\"yaxis\":\"y\"}],                        {\"barmode\":\"relative\",\"legend\":{\"title\":{\"text\":\"Genre, Runtime\"},\"tracegroupgap\":0},\"template\":{\"data\":{\"bar\":[{\"error_x\":{\"color\":\"#2a3f5f\"},\"error_y\":{\"color\":\"#2a3f5f\"},\"marker\":{\"line\":{\"color\":\"#E5ECF6\",\"width\":0.5},\"pattern\":{\"fillmode\":\"overlay\",\"size\":10,\"solidity\":0.2}},\"type\":\"bar\"}],\"barpolar\":[{\"marker\":{\"line\":{\"color\":\"#E5ECF6\",\"width\":0.5},\"pattern\":{\"fillmode\":\"overlay\",\"size\":10,\"solidity\":0.2}},\"type\":\"barpolar\"}],\"carpet\":[{\"aaxis\":{\"endlinecolor\":\"#2a3f5f\",\"gridcolor\":\"white\",\"linecolor\":\"white\",\"minorgridcolor\":\"white\",\"startlinecolor\":\"#2a3f5f\"},\"baxis\":{\"endlinecolor\":\"#2a3f5f\",\"gridcolor\":\"white\",\"linecolor\":\"white\",\"minorgridcolor\":\"white\",\"startlinecolor\":\"#2a3f5f\"},\"type\":\"carpet\"}],\"choropleth\":[{\"colorbar\":{\"outlinewidth\":0,\"ticks\":\"\"},\"type\":\"choropleth\"}],\"contour\":[{\"colorbar\":{\"outlinewidth\":0,\"ticks\":\"\"},\"colorscale\":[[0.0,\"#0d0887\"],[0.1111111111111111,\"#46039f\"],[0.2222222222222222,\"#7201a8\"],[0.3333333333333333,\"#9c179e\"],[0.4444444444444444,\"#bd3786\"],[0.5555555555555556,\"#d8576b\"],[0.6666666666666666,\"#ed7953\"],[0.7777777777777778,\"#fb9f3a\"],[0.8888888888888888,\"#fdca26\"],[1.0,\"#f0f921\"]],\"type\":\"contour\"}],\"contourcarpet\":[{\"colorbar\":{\"outlinewidth\":0,\"ticks\":\"\"},\"type\":\"contourcarpet\"}],\"heatmap\":[{\"colorbar\":{\"outlinewidth\":0,\"ticks\":\"\"},\"colorscale\":[[0.0,\"#0d0887\"],[0.1111111111111111,\"#46039f\"],[0.2222222222222222,\"#7201a8\"],[0.3333333333333333,\"#9c179e\"],[0.4444444444444444,\"#bd3786\"],[0.5555555555555556,\"#d8576b\"],[0.6666666666666666,\"#ed7953\"],[0.7777777777777778,\"#fb9f3a\"],[0.8888888888888888,\"#fdca26\"],[1.0,\"#f0f921\"]],\"type\":\"heatmap\"}],\"heatmapgl\":[{\"colorbar\":{\"outlinewidth\":0,\"ticks\":\"\"},\"colorscale\":[[0.0,\"#0d0887\"],[0.1111111111111111,\"#46039f\"],[0.2222222222222222,\"#7201a8\"],[0.3333333333333333,\"#9c179e\"],[0.4444444444444444,\"#bd3786\"],[0.5555555555555556,\"#d8576b\"],[0.6666666666666666,\"#ed7953\"],[0.7777777777777778,\"#fb9f3a\"],[0.8888888888888888,\"#fdca26\"],[1.0,\"#f0f921\"]],\"type\":\"heatmapgl\"}],\"histogram\":[{\"marker\":{\"pattern\":{\"fillmode\":\"overlay\",\"size\":10,\"solidity\":0.2}},\"type\":\"histogram\"}],\"histogram2d\":[{\"colorbar\":{\"outlinewidth\":0,\"ticks\":\"\"},\"colorscale\":[[0.0,\"#0d0887\"],[0.1111111111111111,\"#46039f\"],[0.2222222222222222,\"#7201a8\"],[0.3333333333333333,\"#9c179e\"],[0.4444444444444444,\"#bd3786\"],[0.5555555555555556,\"#d8576b\"],[0.6666666666666666,\"#ed7953\"],[0.7777777777777778,\"#fb9f3a\"],[0.8888888888888888,\"#fdca26\"],[1.0,\"#f0f921\"]],\"type\":\"histogram2d\"}],\"histogram2dcontour\":[{\"colorbar\":{\"outlinewidth\":0,\"ticks\":\"\"},\"colorscale\":[[0.0,\"#0d0887\"],[0.1111111111111111,\"#46039f\"],[0.2222222222222222,\"#7201a8\"],[0.3333333333333333,\"#9c179e\"],[0.4444444444444444,\"#bd3786\"],[0.5555555555555556,\"#d8576b\"],[0.6666666666666666,\"#ed7953\"],[0.7777777777777778,\"#fb9f3a\"],[0.8888888888888888,\"#fdca26\"],[1.0,\"#f0f921\"]],\"type\":\"histogram2dcontour\"}],\"mesh3d\":[{\"colorbar\":{\"outlinewidth\":0,\"ticks\":\"\"},\"type\":\"mesh3d\"}],\"parcoords\":[{\"line\":{\"colorbar\":{\"outlinewidth\":0,\"ticks\":\"\"}},\"type\":\"parcoords\"}],\"pie\":[{\"automargin\":true,\"type\":\"pie\"}],\"scatter\":[{\"marker\":{\"colorbar\":{\"outlinewidth\":0,\"ticks\":\"\"}},\"type\":\"scatter\"}],\"scatter3d\":[{\"line\":{\"colorbar\":{\"outlinewidth\":0,\"ticks\":\"\"}},\"marker\":{\"colorbar\":{\"outlinewidth\":0,\"ticks\":\"\"}},\"type\":\"scatter3d\"}],\"scattercarpet\":[{\"marker\":{\"colorbar\":{\"outlinewidth\":0,\"ticks\":\"\"}},\"type\":\"scattercarpet\"}],\"scattergeo\":[{\"marker\":{\"colorbar\":{\"outlinewidth\":0,\"ticks\":\"\"}},\"type\":\"scattergeo\"}],\"scattergl\":[{\"marker\":{\"colorbar\":{\"outlinewidth\":0,\"ticks\":\"\"}},\"type\":\"scattergl\"}],\"scattermapbox\":[{\"marker\":{\"colorbar\":{\"outlinewidth\":0,\"ticks\":\"\"}},\"type\":\"scattermapbox\"}],\"scatterpolar\":[{\"marker\":{\"colorbar\":{\"outlinewidth\":0,\"ticks\":\"\"}},\"type\":\"scatterpolar\"}],\"scatterpolargl\":[{\"marker\":{\"colorbar\":{\"outlinewidth\":0,\"ticks\":\"\"}},\"type\":\"scatterpolargl\"}],\"scatterternary\":[{\"marker\":{\"colorbar\":{\"outlinewidth\":0,\"ticks\":\"\"}},\"type\":\"scatterternary\"}],\"surface\":[{\"colorbar\":{\"outlinewidth\":0,\"ticks\":\"\"},\"colorscale\":[[0.0,\"#0d0887\"],[0.1111111111111111,\"#46039f\"],[0.2222222222222222,\"#7201a8\"],[0.3333333333333333,\"#9c179e\"],[0.4444444444444444,\"#bd3786\"],[0.5555555555555556,\"#d8576b\"],[0.6666666666666666,\"#ed7953\"],[0.7777777777777778,\"#fb9f3a\"],[0.8888888888888888,\"#fdca26\"],[1.0,\"#f0f921\"]],\"type\":\"surface\"}],\"table\":[{\"cells\":{\"fill\":{\"color\":\"#EBF0F8\"},\"line\":{\"color\":\"white\"}},\"header\":{\"fill\":{\"color\":\"#C8D4E3\"},\"line\":{\"color\":\"white\"}},\"type\":\"table\"}]},\"layout\":{\"annotationdefaults\":{\"arrowcolor\":\"#2a3f5f\",\"arrowhead\":0,\"arrowwidth\":1},\"autotypenumbers\":\"strict\",\"coloraxis\":{\"colorbar\":{\"outlinewidth\":0,\"ticks\":\"\"}},\"colorscale\":{\"diverging\":[[0,\"#8e0152\"],[0.1,\"#c51b7d\"],[0.2,\"#de77ae\"],[0.3,\"#f1b6da\"],[0.4,\"#fde0ef\"],[0.5,\"#f7f7f7\"],[0.6,\"#e6f5d0\"],[0.7,\"#b8e186\"],[0.8,\"#7fbc41\"],[0.9,\"#4d9221\"],[1,\"#276419\"]],\"sequential\":[[0.0,\"#0d0887\"],[0.1111111111111111,\"#46039f\"],[0.2222222222222222,\"#7201a8\"],[0.3333333333333333,\"#9c179e\"],[0.4444444444444444,\"#bd3786\"],[0.5555555555555556,\"#d8576b\"],[0.6666666666666666,\"#ed7953\"],[0.7777777777777778,\"#fb9f3a\"],[0.8888888888888888,\"#fdca26\"],[1.0,\"#f0f921\"]],\"sequentialminus\":[[0.0,\"#0d0887\"],[0.1111111111111111,\"#46039f\"],[0.2222222222222222,\"#7201a8\"],[0.3333333333333333,\"#9c179e\"],[0.4444444444444444,\"#bd3786\"],[0.5555555555555556,\"#d8576b\"],[0.6666666666666666,\"#ed7953\"],[0.7777777777777778,\"#fb9f3a\"],[0.8888888888888888,\"#fdca26\"],[1.0,\"#f0f921\"]]},\"colorway\":[\"#636efa\",\"#EF553B\",\"#00cc96\",\"#ab63fa\",\"#FFA15A\",\"#19d3f3\",\"#FF6692\",\"#B6E880\",\"#FF97FF\",\"#FECB52\"],\"font\":{\"color\":\"#2a3f5f\"},\"geo\":{\"bgcolor\":\"white\",\"lakecolor\":\"white\",\"landcolor\":\"#E5ECF6\",\"showlakes\":true,\"showland\":true,\"subunitcolor\":\"white\"},\"hoverlabel\":{\"align\":\"left\"},\"hovermode\":\"closest\",\"mapbox\":{\"style\":\"light\"},\"paper_bgcolor\":\"white\",\"plot_bgcolor\":\"#E5ECF6\",\"polar\":{\"angularaxis\":{\"gridcolor\":\"white\",\"linecolor\":\"white\",\"ticks\":\"\"},\"bgcolor\":\"#E5ECF6\",\"radialaxis\":{\"gridcolor\":\"white\",\"linecolor\":\"white\",\"ticks\":\"\"}},\"scene\":{\"xaxis\":{\"backgroundcolor\":\"#E5ECF6\",\"gridcolor\":\"white\",\"gridwidth\":2,\"linecolor\":\"white\",\"showbackground\":true,\"ticks\":\"\",\"zerolinecolor\":\"white\"},\"yaxis\":{\"backgroundcolor\":\"#E5ECF6\",\"gridcolor\":\"white\",\"gridwidth\":2,\"linecolor\":\"white\",\"showbackground\":true,\"ticks\":\"\",\"zerolinecolor\":\"white\"},\"zaxis\":{\"backgroundcolor\":\"#E5ECF6\",\"gridcolor\":\"white\",\"gridwidth\":2,\"linecolor\":\"white\",\"showbackground\":true,\"ticks\":\"\",\"zerolinecolor\":\"white\"}},\"shapedefaults\":{\"line\":{\"color\":\"#2a3f5f\"}},\"ternary\":{\"aaxis\":{\"gridcolor\":\"white\",\"linecolor\":\"white\",\"ticks\":\"\"},\"baxis\":{\"gridcolor\":\"white\",\"linecolor\":\"white\",\"ticks\":\"\"},\"bgcolor\":\"#E5ECF6\",\"caxis\":{\"gridcolor\":\"white\",\"linecolor\":\"white\",\"ticks\":\"\"}},\"title\":{\"x\":0.05},\"xaxis\":{\"automargin\":true,\"gridcolor\":\"white\",\"linecolor\":\"white\",\"ticks\":\"\",\"title\":{\"standoff\":15},\"zerolinecolor\":\"white\",\"zerolinewidth\":2},\"yaxis\":{\"automargin\":true,\"gridcolor\":\"white\",\"linecolor\":\"white\",\"ticks\":\"\",\"title\":{\"standoff\":15},\"zerolinecolor\":\"white\",\"zerolinewidth\":2}}},\"title\":{\"text\":\"Movies Release in 2020 with 80+ ratings\"},\"xaxis\":{\"anchor\":\"y\",\"domain\":[0.0,1.0],\"title\":{\"text\":\"Name\"}},\"yaxis\":{\"anchor\":\"x\",\"domain\":[0.0,1.0],\"title\":{\"text\":\"Rating\"}}},                        {\"responsive\": true}                    ).then(function(){\n",
       "                            \n",
       "var gd = document.getElementById('342af174-ee52-4432-86fa-b169288ed5e9');\n",
       "var x = new MutationObserver(function (mutations, observer) {{\n",
       "        var display = window.getComputedStyle(gd).display;\n",
       "        if (!display || display === 'none') {{\n",
       "            console.log([gd, 'removed!']);\n",
       "            Plotly.purge(gd);\n",
       "            observer.disconnect();\n",
       "        }}\n",
       "}});\n",
       "\n",
       "// Listen for the removal of the full notebook cells\n",
       "var notebookContainer = gd.closest('#notebook-container');\n",
       "if (notebookContainer) {{\n",
       "    x.observe(notebookContainer, {childList: true});\n",
       "}}\n",
       "\n",
       "// Listen for the clearing of the current output cell\n",
       "var outputEl = gd.closest('.output');\n",
       "if (outputEl) {{\n",
       "    x.observe(outputEl, {childList: true});\n",
       "}}\n",
       "\n",
       "                        })                };                });            </script>        </div>"
      ]
     },
     "metadata": {},
     "output_type": "display_data"
    }
   ],
   "source": [
    "fig = px.bar(rating80_2020, x=\"Name\", y=\"Rating\", color=\"Genre\",\n",
    "             pattern_shape=\"Runtime\", pattern_shape_sequence=[\".\", \"x\", \"+\"],title='Movies Release in 2020 with 80+ ratings')\n",
    "fig.show()"
   ]
  },
  {
   "cell_type": "markdown",
   "id": "5881c0d0",
   "metadata": {},
   "source": [
    "# Movies Release in October 2021 (last month)"
   ]
  },
  {
   "cell_type": "code",
   "execution_count": 172,
   "id": "a68454d9",
   "metadata": {},
   "outputs": [
    {
     "data": {
      "text/plain": [
       "0       9\n",
       "1       7\n",
       "2       9\n",
       "3       4\n",
       "4       8\n",
       "       ..\n",
       "145    12\n",
       "146     7\n",
       "147     9\n",
       "148     7\n",
       "149     7\n",
       "Name: Release month, Length: 150, dtype: int64"
      ]
     },
     "execution_count": 172,
     "metadata": {},
     "output_type": "execute_result"
    }
   ],
   "source": [
    "movies_df['Release month'] = pd.DatetimeIndex(movies_df['Release date']).month\n",
    "movies_df['Release month']"
   ]
  },
  {
   "cell_type": "code",
   "execution_count": 173,
   "id": "ead6acb8",
   "metadata": {},
   "outputs": [
    {
     "data": {
      "text/html": [
       "<div>\n",
       "<style scoped>\n",
       "    .dataframe tbody tr th:only-of-type {\n",
       "        vertical-align: middle;\n",
       "    }\n",
       "\n",
       "    .dataframe tbody tr th {\n",
       "        vertical-align: top;\n",
       "    }\n",
       "\n",
       "    .dataframe thead th {\n",
       "        text-align: right;\n",
       "    }\n",
       "</style>\n",
       "<table border=\"1\" class=\"dataframe\">\n",
       "  <thead>\n",
       "    <tr style=\"text-align: right;\">\n",
       "      <th></th>\n",
       "      <th>Name</th>\n",
       "      <th>Rating</th>\n",
       "      <th>Genre</th>\n",
       "      <th>Release date</th>\n",
       "      <th>Runtime</th>\n",
       "      <th>Director</th>\n",
       "      <th>Budget ($)</th>\n",
       "      <th>Revenue ($)</th>\n",
       "      <th>Url</th>\n",
       "      <th>Release year</th>\n",
       "      <th>Release month</th>\n",
       "    </tr>\n",
       "  </thead>\n",
       "  <tbody>\n",
       "    <tr>\n",
       "      <th>10</th>\n",
       "      <td>Catalina la Catrina: especial Día de Muertos</td>\n",
       "      <td>72.0</td>\n",
       "      <td>Family,Animation</td>\n",
       "      <td>2021-10-01</td>\n",
       "      <td>1h 52m</td>\n",
       "      <td>Dominic Cooke</td>\n",
       "      <td>NaN</td>\n",
       "      <td>$24,901,420.00</td>\n",
       "      <td>https://www.themoviedb.org//movie/880009</td>\n",
       "      <td>2021</td>\n",
       "      <td>10</td>\n",
       "    </tr>\n",
       "    <tr>\n",
       "      <th>60</th>\n",
       "      <td>Bingo Hell</td>\n",
       "      <td>53.0</td>\n",
       "      <td>Thriller</td>\n",
       "      <td>2021-10-01</td>\n",
       "      <td>1h 25m</td>\n",
       "      <td>Gigi Saúl Guerrero</td>\n",
       "      <td>NaN</td>\n",
       "      <td>NaN</td>\n",
       "      <td>https://www.themoviedb.org//movie/802226</td>\n",
       "      <td>2021</td>\n",
       "      <td>10</td>\n",
       "    </tr>\n",
       "    <tr>\n",
       "      <th>135</th>\n",
       "      <td>Nussa</td>\n",
       "      <td>67.0</td>\n",
       "      <td>Animation,Family</td>\n",
       "      <td>2021-10-14</td>\n",
       "      <td>1h 47m</td>\n",
       "      <td>Bony Wirasmono</td>\n",
       "      <td>NaN</td>\n",
       "      <td>NaN</td>\n",
       "      <td>https://www.themoviedb.org//movie/681783</td>\n",
       "      <td>2021</td>\n",
       "      <td>10</td>\n",
       "    </tr>\n",
       "  </tbody>\n",
       "</table>\n",
       "</div>"
      ],
      "text/plain": [
       "                                             Name  Rating             Genre  \\\n",
       "10   Catalina la Catrina: especial Día de Muertos    72.0  Family,Animation   \n",
       "60                                     Bingo Hell    53.0          Thriller   \n",
       "135                                         Nussa    67.0  Animation,Family   \n",
       "\n",
       "    Release date Runtime            Director Budget ($)    Revenue ($)   \\\n",
       "10    2021-10-01  1h 52m       Dominic Cooke        NaN  $24,901,420.00   \n",
       "60    2021-10-01  1h 25m  Gigi Saúl Guerrero        NaN             NaN   \n",
       "135   2021-10-14  1h 47m      Bony Wirasmono        NaN             NaN   \n",
       "\n",
       "                                          Url  Release year  Release month  \n",
       "10   https://www.themoviedb.org//movie/880009          2021             10  \n",
       "60   https://www.themoviedb.org//movie/802226          2021             10  \n",
       "135  https://www.themoviedb.org//movie/681783          2021             10  "
      ]
     },
     "execution_count": 173,
     "metadata": {},
     "output_type": "execute_result"
    }
   ],
   "source": [
    "oct_2021_movies = movies_df[(movies_df['Release month']==10) & (movies_df['Release year']==2021)]\n",
    "oct_2021_movies"
   ]
  },
  {
   "cell_type": "code",
   "execution_count": 261,
   "id": "a307805d",
   "metadata": {},
   "outputs": [
    {
     "data": {
      "application/vnd.plotly.v1+json": {
       "config": {
        "plotlyServerURL": "https://plot.ly"
       },
       "data": [
        {
         "alignmentgroup": "True",
         "hovertemplate": "Genre=Family,Animation<br>Runtime=1h 52m<br>Name=%{x}<br>Rating=%{y}<extra></extra>",
         "legendgroup": "Family,Animation, 1h 52m",
         "marker": {
          "color": "#636efa",
          "pattern": {
           "shape": "-"
          }
         },
         "name": "Family,Animation, 1h 52m",
         "offsetgroup": "Family,Animation, 1h 52m",
         "orientation": "v",
         "showlegend": true,
         "textposition": "auto",
         "type": "bar",
         "x": [
          "Catalina la Catrina: especial Día de Muertos"
         ],
         "xaxis": "x",
         "y": [
          72
         ],
         "yaxis": "y"
        },
        {
         "alignmentgroup": "True",
         "hovertemplate": "Genre=Thriller<br>Runtime=1h 25m<br>Name=%{x}<br>Rating=%{y}<extra></extra>",
         "legendgroup": "Thriller, 1h 25m",
         "marker": {
          "color": "#EF553B",
          "pattern": {
           "shape": "x"
          }
         },
         "name": "Thriller, 1h 25m",
         "offsetgroup": "Thriller, 1h 25m",
         "orientation": "v",
         "showlegend": true,
         "textposition": "auto",
         "type": "bar",
         "x": [
          "Bingo Hell"
         ],
         "xaxis": "x",
         "y": [
          53
         ],
         "yaxis": "y"
        },
        {
         "alignmentgroup": "True",
         "hovertemplate": "Genre=Animation,Family<br>Runtime=1h 47m<br>Name=%{x}<br>Rating=%{y}<extra></extra>",
         "legendgroup": "Animation,Family, 1h 47m",
         "marker": {
          "color": "#00cc96",
          "pattern": {
           "shape": "+"
          }
         },
         "name": "Animation,Family, 1h 47m",
         "offsetgroup": "Animation,Family, 1h 47m",
         "orientation": "v",
         "showlegend": true,
         "textposition": "auto",
         "type": "bar",
         "x": [
          "Nussa"
         ],
         "xaxis": "x",
         "y": [
          67
         ],
         "yaxis": "y"
        }
       ],
       "layout": {
        "barmode": "relative",
        "legend": {
         "title": {
          "text": "Genre, Runtime"
         },
         "tracegroupgap": 0
        },
        "template": {
         "data": {
          "bar": [
           {
            "error_x": {
             "color": "#2a3f5f"
            },
            "error_y": {
             "color": "#2a3f5f"
            },
            "marker": {
             "line": {
              "color": "#E5ECF6",
              "width": 0.5
             },
             "pattern": {
              "fillmode": "overlay",
              "size": 10,
              "solidity": 0.2
             }
            },
            "type": "bar"
           }
          ],
          "barpolar": [
           {
            "marker": {
             "line": {
              "color": "#E5ECF6",
              "width": 0.5
             },
             "pattern": {
              "fillmode": "overlay",
              "size": 10,
              "solidity": 0.2
             }
            },
            "type": "barpolar"
           }
          ],
          "carpet": [
           {
            "aaxis": {
             "endlinecolor": "#2a3f5f",
             "gridcolor": "white",
             "linecolor": "white",
             "minorgridcolor": "white",
             "startlinecolor": "#2a3f5f"
            },
            "baxis": {
             "endlinecolor": "#2a3f5f",
             "gridcolor": "white",
             "linecolor": "white",
             "minorgridcolor": "white",
             "startlinecolor": "#2a3f5f"
            },
            "type": "carpet"
           }
          ],
          "choropleth": [
           {
            "colorbar": {
             "outlinewidth": 0,
             "ticks": ""
            },
            "type": "choropleth"
           }
          ],
          "contour": [
           {
            "colorbar": {
             "outlinewidth": 0,
             "ticks": ""
            },
            "colorscale": [
             [
              0,
              "#0d0887"
             ],
             [
              0.1111111111111111,
              "#46039f"
             ],
             [
              0.2222222222222222,
              "#7201a8"
             ],
             [
              0.3333333333333333,
              "#9c179e"
             ],
             [
              0.4444444444444444,
              "#bd3786"
             ],
             [
              0.5555555555555556,
              "#d8576b"
             ],
             [
              0.6666666666666666,
              "#ed7953"
             ],
             [
              0.7777777777777778,
              "#fb9f3a"
             ],
             [
              0.8888888888888888,
              "#fdca26"
             ],
             [
              1,
              "#f0f921"
             ]
            ],
            "type": "contour"
           }
          ],
          "contourcarpet": [
           {
            "colorbar": {
             "outlinewidth": 0,
             "ticks": ""
            },
            "type": "contourcarpet"
           }
          ],
          "heatmap": [
           {
            "colorbar": {
             "outlinewidth": 0,
             "ticks": ""
            },
            "colorscale": [
             [
              0,
              "#0d0887"
             ],
             [
              0.1111111111111111,
              "#46039f"
             ],
             [
              0.2222222222222222,
              "#7201a8"
             ],
             [
              0.3333333333333333,
              "#9c179e"
             ],
             [
              0.4444444444444444,
              "#bd3786"
             ],
             [
              0.5555555555555556,
              "#d8576b"
             ],
             [
              0.6666666666666666,
              "#ed7953"
             ],
             [
              0.7777777777777778,
              "#fb9f3a"
             ],
             [
              0.8888888888888888,
              "#fdca26"
             ],
             [
              1,
              "#f0f921"
             ]
            ],
            "type": "heatmap"
           }
          ],
          "heatmapgl": [
           {
            "colorbar": {
             "outlinewidth": 0,
             "ticks": ""
            },
            "colorscale": [
             [
              0,
              "#0d0887"
             ],
             [
              0.1111111111111111,
              "#46039f"
             ],
             [
              0.2222222222222222,
              "#7201a8"
             ],
             [
              0.3333333333333333,
              "#9c179e"
             ],
             [
              0.4444444444444444,
              "#bd3786"
             ],
             [
              0.5555555555555556,
              "#d8576b"
             ],
             [
              0.6666666666666666,
              "#ed7953"
             ],
             [
              0.7777777777777778,
              "#fb9f3a"
             ],
             [
              0.8888888888888888,
              "#fdca26"
             ],
             [
              1,
              "#f0f921"
             ]
            ],
            "type": "heatmapgl"
           }
          ],
          "histogram": [
           {
            "marker": {
             "pattern": {
              "fillmode": "overlay",
              "size": 10,
              "solidity": 0.2
             }
            },
            "type": "histogram"
           }
          ],
          "histogram2d": [
           {
            "colorbar": {
             "outlinewidth": 0,
             "ticks": ""
            },
            "colorscale": [
             [
              0,
              "#0d0887"
             ],
             [
              0.1111111111111111,
              "#46039f"
             ],
             [
              0.2222222222222222,
              "#7201a8"
             ],
             [
              0.3333333333333333,
              "#9c179e"
             ],
             [
              0.4444444444444444,
              "#bd3786"
             ],
             [
              0.5555555555555556,
              "#d8576b"
             ],
             [
              0.6666666666666666,
              "#ed7953"
             ],
             [
              0.7777777777777778,
              "#fb9f3a"
             ],
             [
              0.8888888888888888,
              "#fdca26"
             ],
             [
              1,
              "#f0f921"
             ]
            ],
            "type": "histogram2d"
           }
          ],
          "histogram2dcontour": [
           {
            "colorbar": {
             "outlinewidth": 0,
             "ticks": ""
            },
            "colorscale": [
             [
              0,
              "#0d0887"
             ],
             [
              0.1111111111111111,
              "#46039f"
             ],
             [
              0.2222222222222222,
              "#7201a8"
             ],
             [
              0.3333333333333333,
              "#9c179e"
             ],
             [
              0.4444444444444444,
              "#bd3786"
             ],
             [
              0.5555555555555556,
              "#d8576b"
             ],
             [
              0.6666666666666666,
              "#ed7953"
             ],
             [
              0.7777777777777778,
              "#fb9f3a"
             ],
             [
              0.8888888888888888,
              "#fdca26"
             ],
             [
              1,
              "#f0f921"
             ]
            ],
            "type": "histogram2dcontour"
           }
          ],
          "mesh3d": [
           {
            "colorbar": {
             "outlinewidth": 0,
             "ticks": ""
            },
            "type": "mesh3d"
           }
          ],
          "parcoords": [
           {
            "line": {
             "colorbar": {
              "outlinewidth": 0,
              "ticks": ""
             }
            },
            "type": "parcoords"
           }
          ],
          "pie": [
           {
            "automargin": true,
            "type": "pie"
           }
          ],
          "scatter": [
           {
            "marker": {
             "colorbar": {
              "outlinewidth": 0,
              "ticks": ""
             }
            },
            "type": "scatter"
           }
          ],
          "scatter3d": [
           {
            "line": {
             "colorbar": {
              "outlinewidth": 0,
              "ticks": ""
             }
            },
            "marker": {
             "colorbar": {
              "outlinewidth": 0,
              "ticks": ""
             }
            },
            "type": "scatter3d"
           }
          ],
          "scattercarpet": [
           {
            "marker": {
             "colorbar": {
              "outlinewidth": 0,
              "ticks": ""
             }
            },
            "type": "scattercarpet"
           }
          ],
          "scattergeo": [
           {
            "marker": {
             "colorbar": {
              "outlinewidth": 0,
              "ticks": ""
             }
            },
            "type": "scattergeo"
           }
          ],
          "scattergl": [
           {
            "marker": {
             "colorbar": {
              "outlinewidth": 0,
              "ticks": ""
             }
            },
            "type": "scattergl"
           }
          ],
          "scattermapbox": [
           {
            "marker": {
             "colorbar": {
              "outlinewidth": 0,
              "ticks": ""
             }
            },
            "type": "scattermapbox"
           }
          ],
          "scatterpolar": [
           {
            "marker": {
             "colorbar": {
              "outlinewidth": 0,
              "ticks": ""
             }
            },
            "type": "scatterpolar"
           }
          ],
          "scatterpolargl": [
           {
            "marker": {
             "colorbar": {
              "outlinewidth": 0,
              "ticks": ""
             }
            },
            "type": "scatterpolargl"
           }
          ],
          "scatterternary": [
           {
            "marker": {
             "colorbar": {
              "outlinewidth": 0,
              "ticks": ""
             }
            },
            "type": "scatterternary"
           }
          ],
          "surface": [
           {
            "colorbar": {
             "outlinewidth": 0,
             "ticks": ""
            },
            "colorscale": [
             [
              0,
              "#0d0887"
             ],
             [
              0.1111111111111111,
              "#46039f"
             ],
             [
              0.2222222222222222,
              "#7201a8"
             ],
             [
              0.3333333333333333,
              "#9c179e"
             ],
             [
              0.4444444444444444,
              "#bd3786"
             ],
             [
              0.5555555555555556,
              "#d8576b"
             ],
             [
              0.6666666666666666,
              "#ed7953"
             ],
             [
              0.7777777777777778,
              "#fb9f3a"
             ],
             [
              0.8888888888888888,
              "#fdca26"
             ],
             [
              1,
              "#f0f921"
             ]
            ],
            "type": "surface"
           }
          ],
          "table": [
           {
            "cells": {
             "fill": {
              "color": "#EBF0F8"
             },
             "line": {
              "color": "white"
             }
            },
            "header": {
             "fill": {
              "color": "#C8D4E3"
             },
             "line": {
              "color": "white"
             }
            },
            "type": "table"
           }
          ]
         },
         "layout": {
          "annotationdefaults": {
           "arrowcolor": "#2a3f5f",
           "arrowhead": 0,
           "arrowwidth": 1
          },
          "autotypenumbers": "strict",
          "coloraxis": {
           "colorbar": {
            "outlinewidth": 0,
            "ticks": ""
           }
          },
          "colorscale": {
           "diverging": [
            [
             0,
             "#8e0152"
            ],
            [
             0.1,
             "#c51b7d"
            ],
            [
             0.2,
             "#de77ae"
            ],
            [
             0.3,
             "#f1b6da"
            ],
            [
             0.4,
             "#fde0ef"
            ],
            [
             0.5,
             "#f7f7f7"
            ],
            [
             0.6,
             "#e6f5d0"
            ],
            [
             0.7,
             "#b8e186"
            ],
            [
             0.8,
             "#7fbc41"
            ],
            [
             0.9,
             "#4d9221"
            ],
            [
             1,
             "#276419"
            ]
           ],
           "sequential": [
            [
             0,
             "#0d0887"
            ],
            [
             0.1111111111111111,
             "#46039f"
            ],
            [
             0.2222222222222222,
             "#7201a8"
            ],
            [
             0.3333333333333333,
             "#9c179e"
            ],
            [
             0.4444444444444444,
             "#bd3786"
            ],
            [
             0.5555555555555556,
             "#d8576b"
            ],
            [
             0.6666666666666666,
             "#ed7953"
            ],
            [
             0.7777777777777778,
             "#fb9f3a"
            ],
            [
             0.8888888888888888,
             "#fdca26"
            ],
            [
             1,
             "#f0f921"
            ]
           ],
           "sequentialminus": [
            [
             0,
             "#0d0887"
            ],
            [
             0.1111111111111111,
             "#46039f"
            ],
            [
             0.2222222222222222,
             "#7201a8"
            ],
            [
             0.3333333333333333,
             "#9c179e"
            ],
            [
             0.4444444444444444,
             "#bd3786"
            ],
            [
             0.5555555555555556,
             "#d8576b"
            ],
            [
             0.6666666666666666,
             "#ed7953"
            ],
            [
             0.7777777777777778,
             "#fb9f3a"
            ],
            [
             0.8888888888888888,
             "#fdca26"
            ],
            [
             1,
             "#f0f921"
            ]
           ]
          },
          "colorway": [
           "#636efa",
           "#EF553B",
           "#00cc96",
           "#ab63fa",
           "#FFA15A",
           "#19d3f3",
           "#FF6692",
           "#B6E880",
           "#FF97FF",
           "#FECB52"
          ],
          "font": {
           "color": "#2a3f5f"
          },
          "geo": {
           "bgcolor": "white",
           "lakecolor": "white",
           "landcolor": "#E5ECF6",
           "showlakes": true,
           "showland": true,
           "subunitcolor": "white"
          },
          "hoverlabel": {
           "align": "left"
          },
          "hovermode": "closest",
          "mapbox": {
           "style": "light"
          },
          "paper_bgcolor": "white",
          "plot_bgcolor": "#E5ECF6",
          "polar": {
           "angularaxis": {
            "gridcolor": "white",
            "linecolor": "white",
            "ticks": ""
           },
           "bgcolor": "#E5ECF6",
           "radialaxis": {
            "gridcolor": "white",
            "linecolor": "white",
            "ticks": ""
           }
          },
          "scene": {
           "xaxis": {
            "backgroundcolor": "#E5ECF6",
            "gridcolor": "white",
            "gridwidth": 2,
            "linecolor": "white",
            "showbackground": true,
            "ticks": "",
            "zerolinecolor": "white"
           },
           "yaxis": {
            "backgroundcolor": "#E5ECF6",
            "gridcolor": "white",
            "gridwidth": 2,
            "linecolor": "white",
            "showbackground": true,
            "ticks": "",
            "zerolinecolor": "white"
           },
           "zaxis": {
            "backgroundcolor": "#E5ECF6",
            "gridcolor": "white",
            "gridwidth": 2,
            "linecolor": "white",
            "showbackground": true,
            "ticks": "",
            "zerolinecolor": "white"
           }
          },
          "shapedefaults": {
           "line": {
            "color": "#2a3f5f"
           }
          },
          "ternary": {
           "aaxis": {
            "gridcolor": "white",
            "linecolor": "white",
            "ticks": ""
           },
           "baxis": {
            "gridcolor": "white",
            "linecolor": "white",
            "ticks": ""
           },
           "bgcolor": "#E5ECF6",
           "caxis": {
            "gridcolor": "white",
            "linecolor": "white",
            "ticks": ""
           }
          },
          "title": {
           "x": 0.05
          },
          "xaxis": {
           "automargin": true,
           "gridcolor": "white",
           "linecolor": "white",
           "ticks": "",
           "title": {
            "standoff": 15
           },
           "zerolinecolor": "white",
           "zerolinewidth": 2
          },
          "yaxis": {
           "automargin": true,
           "gridcolor": "white",
           "linecolor": "white",
           "ticks": "",
           "title": {
            "standoff": 15
           },
           "zerolinecolor": "white",
           "zerolinewidth": 2
          }
         }
        },
        "title": {
         "text": "Movies Release in October 2021 (last month)"
        },
        "xaxis": {
         "anchor": "y",
         "domain": [
          0,
          1
         ],
         "title": {
          "text": "Name"
         }
        },
        "yaxis": {
         "anchor": "x",
         "domain": [
          0,
          1
         ],
         "title": {
          "text": "Rating"
         }
        }
       }
      },
      "text/html": [
       "<div>                            <div id=\"a9eb37e8-b58e-4772-85bc-546b8e533942\" class=\"plotly-graph-div\" style=\"height:525px; width:100%;\"></div>            <script type=\"text/javascript\">                require([\"plotly\"], function(Plotly) {                    window.PLOTLYENV=window.PLOTLYENV || {};                                    if (document.getElementById(\"a9eb37e8-b58e-4772-85bc-546b8e533942\")) {                    Plotly.newPlot(                        \"a9eb37e8-b58e-4772-85bc-546b8e533942\",                        [{\"alignmentgroup\":\"True\",\"hovertemplate\":\"Genre=Family,Animation<br>Runtime=1h 52m<br>Name=%{x}<br>Rating=%{y}<extra></extra>\",\"legendgroup\":\"Family,Animation, 1h 52m\",\"marker\":{\"color\":\"#636efa\",\"pattern\":{\"shape\":\"-\"}},\"name\":\"Family,Animation, 1h 52m\",\"offsetgroup\":\"Family,Animation, 1h 52m\",\"orientation\":\"v\",\"showlegend\":true,\"textposition\":\"auto\",\"type\":\"bar\",\"x\":[\"Catalina la Catrina: especial D\\u00eda de Muertos\"],\"xaxis\":\"x\",\"y\":[72.0],\"yaxis\":\"y\"},{\"alignmentgroup\":\"True\",\"hovertemplate\":\"Genre=Thriller<br>Runtime=1h 25m<br>Name=%{x}<br>Rating=%{y}<extra></extra>\",\"legendgroup\":\"Thriller, 1h 25m\",\"marker\":{\"color\":\"#EF553B\",\"pattern\":{\"shape\":\"x\"}},\"name\":\"Thriller, 1h 25m\",\"offsetgroup\":\"Thriller, 1h 25m\",\"orientation\":\"v\",\"showlegend\":true,\"textposition\":\"auto\",\"type\":\"bar\",\"x\":[\"Bingo Hell\"],\"xaxis\":\"x\",\"y\":[53.0],\"yaxis\":\"y\"},{\"alignmentgroup\":\"True\",\"hovertemplate\":\"Genre=Animation,Family<br>Runtime=1h 47m<br>Name=%{x}<br>Rating=%{y}<extra></extra>\",\"legendgroup\":\"Animation,Family, 1h 47m\",\"marker\":{\"color\":\"#00cc96\",\"pattern\":{\"shape\":\"+\"}},\"name\":\"Animation,Family, 1h 47m\",\"offsetgroup\":\"Animation,Family, 1h 47m\",\"orientation\":\"v\",\"showlegend\":true,\"textposition\":\"auto\",\"type\":\"bar\",\"x\":[\"Nussa\"],\"xaxis\":\"x\",\"y\":[67.0],\"yaxis\":\"y\"}],                        {\"barmode\":\"relative\",\"legend\":{\"title\":{\"text\":\"Genre, Runtime\"},\"tracegroupgap\":0},\"template\":{\"data\":{\"bar\":[{\"error_x\":{\"color\":\"#2a3f5f\"},\"error_y\":{\"color\":\"#2a3f5f\"},\"marker\":{\"line\":{\"color\":\"#E5ECF6\",\"width\":0.5},\"pattern\":{\"fillmode\":\"overlay\",\"size\":10,\"solidity\":0.2}},\"type\":\"bar\"}],\"barpolar\":[{\"marker\":{\"line\":{\"color\":\"#E5ECF6\",\"width\":0.5},\"pattern\":{\"fillmode\":\"overlay\",\"size\":10,\"solidity\":0.2}},\"type\":\"barpolar\"}],\"carpet\":[{\"aaxis\":{\"endlinecolor\":\"#2a3f5f\",\"gridcolor\":\"white\",\"linecolor\":\"white\",\"minorgridcolor\":\"white\",\"startlinecolor\":\"#2a3f5f\"},\"baxis\":{\"endlinecolor\":\"#2a3f5f\",\"gridcolor\":\"white\",\"linecolor\":\"white\",\"minorgridcolor\":\"white\",\"startlinecolor\":\"#2a3f5f\"},\"type\":\"carpet\"}],\"choropleth\":[{\"colorbar\":{\"outlinewidth\":0,\"ticks\":\"\"},\"type\":\"choropleth\"}],\"contour\":[{\"colorbar\":{\"outlinewidth\":0,\"ticks\":\"\"},\"colorscale\":[[0.0,\"#0d0887\"],[0.1111111111111111,\"#46039f\"],[0.2222222222222222,\"#7201a8\"],[0.3333333333333333,\"#9c179e\"],[0.4444444444444444,\"#bd3786\"],[0.5555555555555556,\"#d8576b\"],[0.6666666666666666,\"#ed7953\"],[0.7777777777777778,\"#fb9f3a\"],[0.8888888888888888,\"#fdca26\"],[1.0,\"#f0f921\"]],\"type\":\"contour\"}],\"contourcarpet\":[{\"colorbar\":{\"outlinewidth\":0,\"ticks\":\"\"},\"type\":\"contourcarpet\"}],\"heatmap\":[{\"colorbar\":{\"outlinewidth\":0,\"ticks\":\"\"},\"colorscale\":[[0.0,\"#0d0887\"],[0.1111111111111111,\"#46039f\"],[0.2222222222222222,\"#7201a8\"],[0.3333333333333333,\"#9c179e\"],[0.4444444444444444,\"#bd3786\"],[0.5555555555555556,\"#d8576b\"],[0.6666666666666666,\"#ed7953\"],[0.7777777777777778,\"#fb9f3a\"],[0.8888888888888888,\"#fdca26\"],[1.0,\"#f0f921\"]],\"type\":\"heatmap\"}],\"heatmapgl\":[{\"colorbar\":{\"outlinewidth\":0,\"ticks\":\"\"},\"colorscale\":[[0.0,\"#0d0887\"],[0.1111111111111111,\"#46039f\"],[0.2222222222222222,\"#7201a8\"],[0.3333333333333333,\"#9c179e\"],[0.4444444444444444,\"#bd3786\"],[0.5555555555555556,\"#d8576b\"],[0.6666666666666666,\"#ed7953\"],[0.7777777777777778,\"#fb9f3a\"],[0.8888888888888888,\"#fdca26\"],[1.0,\"#f0f921\"]],\"type\":\"heatmapgl\"}],\"histogram\":[{\"marker\":{\"pattern\":{\"fillmode\":\"overlay\",\"size\":10,\"solidity\":0.2}},\"type\":\"histogram\"}],\"histogram2d\":[{\"colorbar\":{\"outlinewidth\":0,\"ticks\":\"\"},\"colorscale\":[[0.0,\"#0d0887\"],[0.1111111111111111,\"#46039f\"],[0.2222222222222222,\"#7201a8\"],[0.3333333333333333,\"#9c179e\"],[0.4444444444444444,\"#bd3786\"],[0.5555555555555556,\"#d8576b\"],[0.6666666666666666,\"#ed7953\"],[0.7777777777777778,\"#fb9f3a\"],[0.8888888888888888,\"#fdca26\"],[1.0,\"#f0f921\"]],\"type\":\"histogram2d\"}],\"histogram2dcontour\":[{\"colorbar\":{\"outlinewidth\":0,\"ticks\":\"\"},\"colorscale\":[[0.0,\"#0d0887\"],[0.1111111111111111,\"#46039f\"],[0.2222222222222222,\"#7201a8\"],[0.3333333333333333,\"#9c179e\"],[0.4444444444444444,\"#bd3786\"],[0.5555555555555556,\"#d8576b\"],[0.6666666666666666,\"#ed7953\"],[0.7777777777777778,\"#fb9f3a\"],[0.8888888888888888,\"#fdca26\"],[1.0,\"#f0f921\"]],\"type\":\"histogram2dcontour\"}],\"mesh3d\":[{\"colorbar\":{\"outlinewidth\":0,\"ticks\":\"\"},\"type\":\"mesh3d\"}],\"parcoords\":[{\"line\":{\"colorbar\":{\"outlinewidth\":0,\"ticks\":\"\"}},\"type\":\"parcoords\"}],\"pie\":[{\"automargin\":true,\"type\":\"pie\"}],\"scatter\":[{\"marker\":{\"colorbar\":{\"outlinewidth\":0,\"ticks\":\"\"}},\"type\":\"scatter\"}],\"scatter3d\":[{\"line\":{\"colorbar\":{\"outlinewidth\":0,\"ticks\":\"\"}},\"marker\":{\"colorbar\":{\"outlinewidth\":0,\"ticks\":\"\"}},\"type\":\"scatter3d\"}],\"scattercarpet\":[{\"marker\":{\"colorbar\":{\"outlinewidth\":0,\"ticks\":\"\"}},\"type\":\"scattercarpet\"}],\"scattergeo\":[{\"marker\":{\"colorbar\":{\"outlinewidth\":0,\"ticks\":\"\"}},\"type\":\"scattergeo\"}],\"scattergl\":[{\"marker\":{\"colorbar\":{\"outlinewidth\":0,\"ticks\":\"\"}},\"type\":\"scattergl\"}],\"scattermapbox\":[{\"marker\":{\"colorbar\":{\"outlinewidth\":0,\"ticks\":\"\"}},\"type\":\"scattermapbox\"}],\"scatterpolar\":[{\"marker\":{\"colorbar\":{\"outlinewidth\":0,\"ticks\":\"\"}},\"type\":\"scatterpolar\"}],\"scatterpolargl\":[{\"marker\":{\"colorbar\":{\"outlinewidth\":0,\"ticks\":\"\"}},\"type\":\"scatterpolargl\"}],\"scatterternary\":[{\"marker\":{\"colorbar\":{\"outlinewidth\":0,\"ticks\":\"\"}},\"type\":\"scatterternary\"}],\"surface\":[{\"colorbar\":{\"outlinewidth\":0,\"ticks\":\"\"},\"colorscale\":[[0.0,\"#0d0887\"],[0.1111111111111111,\"#46039f\"],[0.2222222222222222,\"#7201a8\"],[0.3333333333333333,\"#9c179e\"],[0.4444444444444444,\"#bd3786\"],[0.5555555555555556,\"#d8576b\"],[0.6666666666666666,\"#ed7953\"],[0.7777777777777778,\"#fb9f3a\"],[0.8888888888888888,\"#fdca26\"],[1.0,\"#f0f921\"]],\"type\":\"surface\"}],\"table\":[{\"cells\":{\"fill\":{\"color\":\"#EBF0F8\"},\"line\":{\"color\":\"white\"}},\"header\":{\"fill\":{\"color\":\"#C8D4E3\"},\"line\":{\"color\":\"white\"}},\"type\":\"table\"}]},\"layout\":{\"annotationdefaults\":{\"arrowcolor\":\"#2a3f5f\",\"arrowhead\":0,\"arrowwidth\":1},\"autotypenumbers\":\"strict\",\"coloraxis\":{\"colorbar\":{\"outlinewidth\":0,\"ticks\":\"\"}},\"colorscale\":{\"diverging\":[[0,\"#8e0152\"],[0.1,\"#c51b7d\"],[0.2,\"#de77ae\"],[0.3,\"#f1b6da\"],[0.4,\"#fde0ef\"],[0.5,\"#f7f7f7\"],[0.6,\"#e6f5d0\"],[0.7,\"#b8e186\"],[0.8,\"#7fbc41\"],[0.9,\"#4d9221\"],[1,\"#276419\"]],\"sequential\":[[0.0,\"#0d0887\"],[0.1111111111111111,\"#46039f\"],[0.2222222222222222,\"#7201a8\"],[0.3333333333333333,\"#9c179e\"],[0.4444444444444444,\"#bd3786\"],[0.5555555555555556,\"#d8576b\"],[0.6666666666666666,\"#ed7953\"],[0.7777777777777778,\"#fb9f3a\"],[0.8888888888888888,\"#fdca26\"],[1.0,\"#f0f921\"]],\"sequentialminus\":[[0.0,\"#0d0887\"],[0.1111111111111111,\"#46039f\"],[0.2222222222222222,\"#7201a8\"],[0.3333333333333333,\"#9c179e\"],[0.4444444444444444,\"#bd3786\"],[0.5555555555555556,\"#d8576b\"],[0.6666666666666666,\"#ed7953\"],[0.7777777777777778,\"#fb9f3a\"],[0.8888888888888888,\"#fdca26\"],[1.0,\"#f0f921\"]]},\"colorway\":[\"#636efa\",\"#EF553B\",\"#00cc96\",\"#ab63fa\",\"#FFA15A\",\"#19d3f3\",\"#FF6692\",\"#B6E880\",\"#FF97FF\",\"#FECB52\"],\"font\":{\"color\":\"#2a3f5f\"},\"geo\":{\"bgcolor\":\"white\",\"lakecolor\":\"white\",\"landcolor\":\"#E5ECF6\",\"showlakes\":true,\"showland\":true,\"subunitcolor\":\"white\"},\"hoverlabel\":{\"align\":\"left\"},\"hovermode\":\"closest\",\"mapbox\":{\"style\":\"light\"},\"paper_bgcolor\":\"white\",\"plot_bgcolor\":\"#E5ECF6\",\"polar\":{\"angularaxis\":{\"gridcolor\":\"white\",\"linecolor\":\"white\",\"ticks\":\"\"},\"bgcolor\":\"#E5ECF6\",\"radialaxis\":{\"gridcolor\":\"white\",\"linecolor\":\"white\",\"ticks\":\"\"}},\"scene\":{\"xaxis\":{\"backgroundcolor\":\"#E5ECF6\",\"gridcolor\":\"white\",\"gridwidth\":2,\"linecolor\":\"white\",\"showbackground\":true,\"ticks\":\"\",\"zerolinecolor\":\"white\"},\"yaxis\":{\"backgroundcolor\":\"#E5ECF6\",\"gridcolor\":\"white\",\"gridwidth\":2,\"linecolor\":\"white\",\"showbackground\":true,\"ticks\":\"\",\"zerolinecolor\":\"white\"},\"zaxis\":{\"backgroundcolor\":\"#E5ECF6\",\"gridcolor\":\"white\",\"gridwidth\":2,\"linecolor\":\"white\",\"showbackground\":true,\"ticks\":\"\",\"zerolinecolor\":\"white\"}},\"shapedefaults\":{\"line\":{\"color\":\"#2a3f5f\"}},\"ternary\":{\"aaxis\":{\"gridcolor\":\"white\",\"linecolor\":\"white\",\"ticks\":\"\"},\"baxis\":{\"gridcolor\":\"white\",\"linecolor\":\"white\",\"ticks\":\"\"},\"bgcolor\":\"#E5ECF6\",\"caxis\":{\"gridcolor\":\"white\",\"linecolor\":\"white\",\"ticks\":\"\"}},\"title\":{\"x\":0.05},\"xaxis\":{\"automargin\":true,\"gridcolor\":\"white\",\"linecolor\":\"white\",\"ticks\":\"\",\"title\":{\"standoff\":15},\"zerolinecolor\":\"white\",\"zerolinewidth\":2},\"yaxis\":{\"automargin\":true,\"gridcolor\":\"white\",\"linecolor\":\"white\",\"ticks\":\"\",\"title\":{\"standoff\":15},\"zerolinecolor\":\"white\",\"zerolinewidth\":2}}},\"title\":{\"text\":\"Movies Release in October 2021 (last month)\"},\"xaxis\":{\"anchor\":\"y\",\"domain\":[0.0,1.0],\"title\":{\"text\":\"Name\"}},\"yaxis\":{\"anchor\":\"x\",\"domain\":[0.0,1.0],\"title\":{\"text\":\"Rating\"}}},                        {\"responsive\": true}                    ).then(function(){\n",
       "                            \n",
       "var gd = document.getElementById('a9eb37e8-b58e-4772-85bc-546b8e533942');\n",
       "var x = new MutationObserver(function (mutations, observer) {{\n",
       "        var display = window.getComputedStyle(gd).display;\n",
       "        if (!display || display === 'none') {{\n",
       "            console.log([gd, 'removed!']);\n",
       "            Plotly.purge(gd);\n",
       "            observer.disconnect();\n",
       "        }}\n",
       "}});\n",
       "\n",
       "// Listen for the removal of the full notebook cells\n",
       "var notebookContainer = gd.closest('#notebook-container');\n",
       "if (notebookContainer) {{\n",
       "    x.observe(notebookContainer, {childList: true});\n",
       "}}\n",
       "\n",
       "// Listen for the clearing of the current output cell\n",
       "var outputEl = gd.closest('.output');\n",
       "if (outputEl) {{\n",
       "    x.observe(outputEl, {childList: true});\n",
       "}}\n",
       "\n",
       "                        })                };                });            </script>        </div>"
      ]
     },
     "metadata": {},
     "output_type": "display_data"
    }
   ],
   "source": [
    "fig = px.bar(oct_2021_movies, x=\"Name\", y=\"Rating\", color=\"Genre\",\n",
    "             pattern_shape=\"Runtime\", pattern_shape_sequence=[\"-\", \"x\", \"+\"],title='Movies Release in October 2021 (last month)')\n",
    "fig.show()"
   ]
  },
  {
   "cell_type": "markdown",
   "id": "356f3339",
   "metadata": {},
   "source": [
    "# Movies Release in November 2021 (current month)"
   ]
  },
  {
   "cell_type": "code",
   "execution_count": 175,
   "id": "9d6c193b",
   "metadata": {},
   "outputs": [
    {
     "data": {
      "text/html": [
       "<div>\n",
       "<style scoped>\n",
       "    .dataframe tbody tr th:only-of-type {\n",
       "        vertical-align: middle;\n",
       "    }\n",
       "\n",
       "    .dataframe tbody tr th {\n",
       "        vertical-align: top;\n",
       "    }\n",
       "\n",
       "    .dataframe thead th {\n",
       "        text-align: right;\n",
       "    }\n",
       "</style>\n",
       "<table border=\"1\" class=\"dataframe\">\n",
       "  <thead>\n",
       "    <tr style=\"text-align: right;\">\n",
       "      <th></th>\n",
       "      <th>Name</th>\n",
       "      <th>Rating</th>\n",
       "      <th>Genre</th>\n",
       "      <th>Release date</th>\n",
       "      <th>Runtime</th>\n",
       "      <th>Director</th>\n",
       "      <th>Budget ($)</th>\n",
       "      <th>Revenue ($)</th>\n",
       "      <th>Url</th>\n",
       "      <th>Release year</th>\n",
       "      <th>Release month</th>\n",
       "    </tr>\n",
       "  </thead>\n",
       "  <tbody>\n",
       "    <tr>\n",
       "      <th>129</th>\n",
       "      <td>Belfast</td>\n",
       "      <td>61.0</td>\n",
       "      <td>Drama</td>\n",
       "      <td>2021-11-12</td>\n",
       "      <td>1h 37m</td>\n",
       "      <td>Kenneth Branagh</td>\n",
       "      <td>NaN</td>\n",
       "      <td>NaN</td>\n",
       "      <td>https://www.themoviedb.org//movie/777270</td>\n",
       "      <td>2021</td>\n",
       "      <td>11</td>\n",
       "    </tr>\n",
       "  </tbody>\n",
       "</table>\n",
       "</div>"
      ],
      "text/plain": [
       "        Name  Rating  Genre Release date Runtime         Director Budget ($)  \\\n",
       "129  Belfast    61.0  Drama   2021-11-12  1h 37m  Kenneth Branagh        NaN   \n",
       "\n",
       "    Revenue ($)                                        Url  Release year  \\\n",
       "129          NaN  https://www.themoviedb.org//movie/777270          2021   \n",
       "\n",
       "     Release month  \n",
       "129             11  "
      ]
     },
     "execution_count": 175,
     "metadata": {},
     "output_type": "execute_result"
    }
   ],
   "source": [
    "nov_2021_movies = movies_df[(movies_df['Release month']==11) & (movies_df['Release year']==2021)]\n",
    "nov_2021_movies"
   ]
  },
  {
   "cell_type": "code",
   "execution_count": 266,
   "id": "061b9d23",
   "metadata": {},
   "outputs": [
    {
     "data": {
      "application/vnd.plotly.v1+json": {
       "config": {
        "plotlyServerURL": "https://plot.ly"
       },
       "data": [
        {
         "customdata": [
          [
           "Kenneth Branagh"
          ]
         ],
         "hovertemplate": "Genre=Drama<br>Name=%{x}<br>Rating=%{marker.size}<br>Director=%{customdata[0]}<extra></extra>",
         "legendgroup": "Drama",
         "marker": {
          "color": "#636efa",
          "size": [
           61
          ],
          "sizemode": "area",
          "sizeref": 0.007530864197530864,
          "symbol": "circle"
         },
         "mode": "markers",
         "name": "Drama",
         "orientation": "v",
         "showlegend": true,
         "type": "scatter",
         "x": [
          "Belfast"
         ],
         "xaxis": "x",
         "y": [
          61
         ],
         "yaxis": "y"
        }
       ],
       "layout": {
        "legend": {
         "itemsizing": "constant",
         "title": {
          "text": "Genre"
         },
         "tracegroupgap": 0
        },
        "template": {
         "data": {
          "bar": [
           {
            "error_x": {
             "color": "#2a3f5f"
            },
            "error_y": {
             "color": "#2a3f5f"
            },
            "marker": {
             "line": {
              "color": "#E5ECF6",
              "width": 0.5
             },
             "pattern": {
              "fillmode": "overlay",
              "size": 10,
              "solidity": 0.2
             }
            },
            "type": "bar"
           }
          ],
          "barpolar": [
           {
            "marker": {
             "line": {
              "color": "#E5ECF6",
              "width": 0.5
             },
             "pattern": {
              "fillmode": "overlay",
              "size": 10,
              "solidity": 0.2
             }
            },
            "type": "barpolar"
           }
          ],
          "carpet": [
           {
            "aaxis": {
             "endlinecolor": "#2a3f5f",
             "gridcolor": "white",
             "linecolor": "white",
             "minorgridcolor": "white",
             "startlinecolor": "#2a3f5f"
            },
            "baxis": {
             "endlinecolor": "#2a3f5f",
             "gridcolor": "white",
             "linecolor": "white",
             "minorgridcolor": "white",
             "startlinecolor": "#2a3f5f"
            },
            "type": "carpet"
           }
          ],
          "choropleth": [
           {
            "colorbar": {
             "outlinewidth": 0,
             "ticks": ""
            },
            "type": "choropleth"
           }
          ],
          "contour": [
           {
            "colorbar": {
             "outlinewidth": 0,
             "ticks": ""
            },
            "colorscale": [
             [
              0,
              "#0d0887"
             ],
             [
              0.1111111111111111,
              "#46039f"
             ],
             [
              0.2222222222222222,
              "#7201a8"
             ],
             [
              0.3333333333333333,
              "#9c179e"
             ],
             [
              0.4444444444444444,
              "#bd3786"
             ],
             [
              0.5555555555555556,
              "#d8576b"
             ],
             [
              0.6666666666666666,
              "#ed7953"
             ],
             [
              0.7777777777777778,
              "#fb9f3a"
             ],
             [
              0.8888888888888888,
              "#fdca26"
             ],
             [
              1,
              "#f0f921"
             ]
            ],
            "type": "contour"
           }
          ],
          "contourcarpet": [
           {
            "colorbar": {
             "outlinewidth": 0,
             "ticks": ""
            },
            "type": "contourcarpet"
           }
          ],
          "heatmap": [
           {
            "colorbar": {
             "outlinewidth": 0,
             "ticks": ""
            },
            "colorscale": [
             [
              0,
              "#0d0887"
             ],
             [
              0.1111111111111111,
              "#46039f"
             ],
             [
              0.2222222222222222,
              "#7201a8"
             ],
             [
              0.3333333333333333,
              "#9c179e"
             ],
             [
              0.4444444444444444,
              "#bd3786"
             ],
             [
              0.5555555555555556,
              "#d8576b"
             ],
             [
              0.6666666666666666,
              "#ed7953"
             ],
             [
              0.7777777777777778,
              "#fb9f3a"
             ],
             [
              0.8888888888888888,
              "#fdca26"
             ],
             [
              1,
              "#f0f921"
             ]
            ],
            "type": "heatmap"
           }
          ],
          "heatmapgl": [
           {
            "colorbar": {
             "outlinewidth": 0,
             "ticks": ""
            },
            "colorscale": [
             [
              0,
              "#0d0887"
             ],
             [
              0.1111111111111111,
              "#46039f"
             ],
             [
              0.2222222222222222,
              "#7201a8"
             ],
             [
              0.3333333333333333,
              "#9c179e"
             ],
             [
              0.4444444444444444,
              "#bd3786"
             ],
             [
              0.5555555555555556,
              "#d8576b"
             ],
             [
              0.6666666666666666,
              "#ed7953"
             ],
             [
              0.7777777777777778,
              "#fb9f3a"
             ],
             [
              0.8888888888888888,
              "#fdca26"
             ],
             [
              1,
              "#f0f921"
             ]
            ],
            "type": "heatmapgl"
           }
          ],
          "histogram": [
           {
            "marker": {
             "pattern": {
              "fillmode": "overlay",
              "size": 10,
              "solidity": 0.2
             }
            },
            "type": "histogram"
           }
          ],
          "histogram2d": [
           {
            "colorbar": {
             "outlinewidth": 0,
             "ticks": ""
            },
            "colorscale": [
             [
              0,
              "#0d0887"
             ],
             [
              0.1111111111111111,
              "#46039f"
             ],
             [
              0.2222222222222222,
              "#7201a8"
             ],
             [
              0.3333333333333333,
              "#9c179e"
             ],
             [
              0.4444444444444444,
              "#bd3786"
             ],
             [
              0.5555555555555556,
              "#d8576b"
             ],
             [
              0.6666666666666666,
              "#ed7953"
             ],
             [
              0.7777777777777778,
              "#fb9f3a"
             ],
             [
              0.8888888888888888,
              "#fdca26"
             ],
             [
              1,
              "#f0f921"
             ]
            ],
            "type": "histogram2d"
           }
          ],
          "histogram2dcontour": [
           {
            "colorbar": {
             "outlinewidth": 0,
             "ticks": ""
            },
            "colorscale": [
             [
              0,
              "#0d0887"
             ],
             [
              0.1111111111111111,
              "#46039f"
             ],
             [
              0.2222222222222222,
              "#7201a8"
             ],
             [
              0.3333333333333333,
              "#9c179e"
             ],
             [
              0.4444444444444444,
              "#bd3786"
             ],
             [
              0.5555555555555556,
              "#d8576b"
             ],
             [
              0.6666666666666666,
              "#ed7953"
             ],
             [
              0.7777777777777778,
              "#fb9f3a"
             ],
             [
              0.8888888888888888,
              "#fdca26"
             ],
             [
              1,
              "#f0f921"
             ]
            ],
            "type": "histogram2dcontour"
           }
          ],
          "mesh3d": [
           {
            "colorbar": {
             "outlinewidth": 0,
             "ticks": ""
            },
            "type": "mesh3d"
           }
          ],
          "parcoords": [
           {
            "line": {
             "colorbar": {
              "outlinewidth": 0,
              "ticks": ""
             }
            },
            "type": "parcoords"
           }
          ],
          "pie": [
           {
            "automargin": true,
            "type": "pie"
           }
          ],
          "scatter": [
           {
            "marker": {
             "colorbar": {
              "outlinewidth": 0,
              "ticks": ""
             }
            },
            "type": "scatter"
           }
          ],
          "scatter3d": [
           {
            "line": {
             "colorbar": {
              "outlinewidth": 0,
              "ticks": ""
             }
            },
            "marker": {
             "colorbar": {
              "outlinewidth": 0,
              "ticks": ""
             }
            },
            "type": "scatter3d"
           }
          ],
          "scattercarpet": [
           {
            "marker": {
             "colorbar": {
              "outlinewidth": 0,
              "ticks": ""
             }
            },
            "type": "scattercarpet"
           }
          ],
          "scattergeo": [
           {
            "marker": {
             "colorbar": {
              "outlinewidth": 0,
              "ticks": ""
             }
            },
            "type": "scattergeo"
           }
          ],
          "scattergl": [
           {
            "marker": {
             "colorbar": {
              "outlinewidth": 0,
              "ticks": ""
             }
            },
            "type": "scattergl"
           }
          ],
          "scattermapbox": [
           {
            "marker": {
             "colorbar": {
              "outlinewidth": 0,
              "ticks": ""
             }
            },
            "type": "scattermapbox"
           }
          ],
          "scatterpolar": [
           {
            "marker": {
             "colorbar": {
              "outlinewidth": 0,
              "ticks": ""
             }
            },
            "type": "scatterpolar"
           }
          ],
          "scatterpolargl": [
           {
            "marker": {
             "colorbar": {
              "outlinewidth": 0,
              "ticks": ""
             }
            },
            "type": "scatterpolargl"
           }
          ],
          "scatterternary": [
           {
            "marker": {
             "colorbar": {
              "outlinewidth": 0,
              "ticks": ""
             }
            },
            "type": "scatterternary"
           }
          ],
          "surface": [
           {
            "colorbar": {
             "outlinewidth": 0,
             "ticks": ""
            },
            "colorscale": [
             [
              0,
              "#0d0887"
             ],
             [
              0.1111111111111111,
              "#46039f"
             ],
             [
              0.2222222222222222,
              "#7201a8"
             ],
             [
              0.3333333333333333,
              "#9c179e"
             ],
             [
              0.4444444444444444,
              "#bd3786"
             ],
             [
              0.5555555555555556,
              "#d8576b"
             ],
             [
              0.6666666666666666,
              "#ed7953"
             ],
             [
              0.7777777777777778,
              "#fb9f3a"
             ],
             [
              0.8888888888888888,
              "#fdca26"
             ],
             [
              1,
              "#f0f921"
             ]
            ],
            "type": "surface"
           }
          ],
          "table": [
           {
            "cells": {
             "fill": {
              "color": "#EBF0F8"
             },
             "line": {
              "color": "white"
             }
            },
            "header": {
             "fill": {
              "color": "#C8D4E3"
             },
             "line": {
              "color": "white"
             }
            },
            "type": "table"
           }
          ]
         },
         "layout": {
          "annotationdefaults": {
           "arrowcolor": "#2a3f5f",
           "arrowhead": 0,
           "arrowwidth": 1
          },
          "autotypenumbers": "strict",
          "coloraxis": {
           "colorbar": {
            "outlinewidth": 0,
            "ticks": ""
           }
          },
          "colorscale": {
           "diverging": [
            [
             0,
             "#8e0152"
            ],
            [
             0.1,
             "#c51b7d"
            ],
            [
             0.2,
             "#de77ae"
            ],
            [
             0.3,
             "#f1b6da"
            ],
            [
             0.4,
             "#fde0ef"
            ],
            [
             0.5,
             "#f7f7f7"
            ],
            [
             0.6,
             "#e6f5d0"
            ],
            [
             0.7,
             "#b8e186"
            ],
            [
             0.8,
             "#7fbc41"
            ],
            [
             0.9,
             "#4d9221"
            ],
            [
             1,
             "#276419"
            ]
           ],
           "sequential": [
            [
             0,
             "#0d0887"
            ],
            [
             0.1111111111111111,
             "#46039f"
            ],
            [
             0.2222222222222222,
             "#7201a8"
            ],
            [
             0.3333333333333333,
             "#9c179e"
            ],
            [
             0.4444444444444444,
             "#bd3786"
            ],
            [
             0.5555555555555556,
             "#d8576b"
            ],
            [
             0.6666666666666666,
             "#ed7953"
            ],
            [
             0.7777777777777778,
             "#fb9f3a"
            ],
            [
             0.8888888888888888,
             "#fdca26"
            ],
            [
             1,
             "#f0f921"
            ]
           ],
           "sequentialminus": [
            [
             0,
             "#0d0887"
            ],
            [
             0.1111111111111111,
             "#46039f"
            ],
            [
             0.2222222222222222,
             "#7201a8"
            ],
            [
             0.3333333333333333,
             "#9c179e"
            ],
            [
             0.4444444444444444,
             "#bd3786"
            ],
            [
             0.5555555555555556,
             "#d8576b"
            ],
            [
             0.6666666666666666,
             "#ed7953"
            ],
            [
             0.7777777777777778,
             "#fb9f3a"
            ],
            [
             0.8888888888888888,
             "#fdca26"
            ],
            [
             1,
             "#f0f921"
            ]
           ]
          },
          "colorway": [
           "#636efa",
           "#EF553B",
           "#00cc96",
           "#ab63fa",
           "#FFA15A",
           "#19d3f3",
           "#FF6692",
           "#B6E880",
           "#FF97FF",
           "#FECB52"
          ],
          "font": {
           "color": "#2a3f5f"
          },
          "geo": {
           "bgcolor": "white",
           "lakecolor": "white",
           "landcolor": "#E5ECF6",
           "showlakes": true,
           "showland": true,
           "subunitcolor": "white"
          },
          "hoverlabel": {
           "align": "left"
          },
          "hovermode": "closest",
          "mapbox": {
           "style": "light"
          },
          "paper_bgcolor": "white",
          "plot_bgcolor": "#E5ECF6",
          "polar": {
           "angularaxis": {
            "gridcolor": "white",
            "linecolor": "white",
            "ticks": ""
           },
           "bgcolor": "#E5ECF6",
           "radialaxis": {
            "gridcolor": "white",
            "linecolor": "white",
            "ticks": ""
           }
          },
          "scene": {
           "xaxis": {
            "backgroundcolor": "#E5ECF6",
            "gridcolor": "white",
            "gridwidth": 2,
            "linecolor": "white",
            "showbackground": true,
            "ticks": "",
            "zerolinecolor": "white"
           },
           "yaxis": {
            "backgroundcolor": "#E5ECF6",
            "gridcolor": "white",
            "gridwidth": 2,
            "linecolor": "white",
            "showbackground": true,
            "ticks": "",
            "zerolinecolor": "white"
           },
           "zaxis": {
            "backgroundcolor": "#E5ECF6",
            "gridcolor": "white",
            "gridwidth": 2,
            "linecolor": "white",
            "showbackground": true,
            "ticks": "",
            "zerolinecolor": "white"
           }
          },
          "shapedefaults": {
           "line": {
            "color": "#2a3f5f"
           }
          },
          "ternary": {
           "aaxis": {
            "gridcolor": "white",
            "linecolor": "white",
            "ticks": ""
           },
           "baxis": {
            "gridcolor": "white",
            "linecolor": "white",
            "ticks": ""
           },
           "bgcolor": "#E5ECF6",
           "caxis": {
            "gridcolor": "white",
            "linecolor": "white",
            "ticks": ""
           }
          },
          "title": {
           "x": 0.05
          },
          "xaxis": {
           "automargin": true,
           "gridcolor": "white",
           "linecolor": "white",
           "ticks": "",
           "title": {
            "standoff": 15
           },
           "zerolinecolor": "white",
           "zerolinewidth": 2
          },
          "yaxis": {
           "automargin": true,
           "gridcolor": "white",
           "linecolor": "white",
           "ticks": "",
           "title": {
            "standoff": 15
           },
           "zerolinecolor": "white",
           "zerolinewidth": 2
          }
         }
        },
        "title": {
         "text": "Movies Release in November 2021 (current month)"
        },
        "xaxis": {
         "anchor": "y",
         "domain": [
          0,
          1
         ],
         "title": {
          "text": "Name"
         }
        },
        "yaxis": {
         "anchor": "x",
         "domain": [
          0,
          1
         ],
         "title": {
          "text": "Rating"
         }
        }
       }
      },
      "text/html": [
       "<div>                            <div id=\"47155694-81af-4eb7-ba15-c2827dcad53d\" class=\"plotly-graph-div\" style=\"height:525px; width:100%;\"></div>            <script type=\"text/javascript\">                require([\"plotly\"], function(Plotly) {                    window.PLOTLYENV=window.PLOTLYENV || {};                                    if (document.getElementById(\"47155694-81af-4eb7-ba15-c2827dcad53d\")) {                    Plotly.newPlot(                        \"47155694-81af-4eb7-ba15-c2827dcad53d\",                        [{\"customdata\":[[\"Kenneth Branagh\"]],\"hovertemplate\":\"Genre=Drama<br>Name=%{x}<br>Rating=%{marker.size}<br>Director=%{customdata[0]}<extra></extra>\",\"legendgroup\":\"Drama\",\"marker\":{\"color\":\"#636efa\",\"size\":[61.0],\"sizemode\":\"area\",\"sizeref\":0.007530864197530864,\"symbol\":\"circle\"},\"mode\":\"markers\",\"name\":\"Drama\",\"orientation\":\"v\",\"showlegend\":true,\"type\":\"scatter\",\"x\":[\"Belfast\"],\"xaxis\":\"x\",\"y\":[61.0],\"yaxis\":\"y\"}],                        {\"legend\":{\"itemsizing\":\"constant\",\"title\":{\"text\":\"Genre\"},\"tracegroupgap\":0},\"template\":{\"data\":{\"bar\":[{\"error_x\":{\"color\":\"#2a3f5f\"},\"error_y\":{\"color\":\"#2a3f5f\"},\"marker\":{\"line\":{\"color\":\"#E5ECF6\",\"width\":0.5},\"pattern\":{\"fillmode\":\"overlay\",\"size\":10,\"solidity\":0.2}},\"type\":\"bar\"}],\"barpolar\":[{\"marker\":{\"line\":{\"color\":\"#E5ECF6\",\"width\":0.5},\"pattern\":{\"fillmode\":\"overlay\",\"size\":10,\"solidity\":0.2}},\"type\":\"barpolar\"}],\"carpet\":[{\"aaxis\":{\"endlinecolor\":\"#2a3f5f\",\"gridcolor\":\"white\",\"linecolor\":\"white\",\"minorgridcolor\":\"white\",\"startlinecolor\":\"#2a3f5f\"},\"baxis\":{\"endlinecolor\":\"#2a3f5f\",\"gridcolor\":\"white\",\"linecolor\":\"white\",\"minorgridcolor\":\"white\",\"startlinecolor\":\"#2a3f5f\"},\"type\":\"carpet\"}],\"choropleth\":[{\"colorbar\":{\"outlinewidth\":0,\"ticks\":\"\"},\"type\":\"choropleth\"}],\"contour\":[{\"colorbar\":{\"outlinewidth\":0,\"ticks\":\"\"},\"colorscale\":[[0.0,\"#0d0887\"],[0.1111111111111111,\"#46039f\"],[0.2222222222222222,\"#7201a8\"],[0.3333333333333333,\"#9c179e\"],[0.4444444444444444,\"#bd3786\"],[0.5555555555555556,\"#d8576b\"],[0.6666666666666666,\"#ed7953\"],[0.7777777777777778,\"#fb9f3a\"],[0.8888888888888888,\"#fdca26\"],[1.0,\"#f0f921\"]],\"type\":\"contour\"}],\"contourcarpet\":[{\"colorbar\":{\"outlinewidth\":0,\"ticks\":\"\"},\"type\":\"contourcarpet\"}],\"heatmap\":[{\"colorbar\":{\"outlinewidth\":0,\"ticks\":\"\"},\"colorscale\":[[0.0,\"#0d0887\"],[0.1111111111111111,\"#46039f\"],[0.2222222222222222,\"#7201a8\"],[0.3333333333333333,\"#9c179e\"],[0.4444444444444444,\"#bd3786\"],[0.5555555555555556,\"#d8576b\"],[0.6666666666666666,\"#ed7953\"],[0.7777777777777778,\"#fb9f3a\"],[0.8888888888888888,\"#fdca26\"],[1.0,\"#f0f921\"]],\"type\":\"heatmap\"}],\"heatmapgl\":[{\"colorbar\":{\"outlinewidth\":0,\"ticks\":\"\"},\"colorscale\":[[0.0,\"#0d0887\"],[0.1111111111111111,\"#46039f\"],[0.2222222222222222,\"#7201a8\"],[0.3333333333333333,\"#9c179e\"],[0.4444444444444444,\"#bd3786\"],[0.5555555555555556,\"#d8576b\"],[0.6666666666666666,\"#ed7953\"],[0.7777777777777778,\"#fb9f3a\"],[0.8888888888888888,\"#fdca26\"],[1.0,\"#f0f921\"]],\"type\":\"heatmapgl\"}],\"histogram\":[{\"marker\":{\"pattern\":{\"fillmode\":\"overlay\",\"size\":10,\"solidity\":0.2}},\"type\":\"histogram\"}],\"histogram2d\":[{\"colorbar\":{\"outlinewidth\":0,\"ticks\":\"\"},\"colorscale\":[[0.0,\"#0d0887\"],[0.1111111111111111,\"#46039f\"],[0.2222222222222222,\"#7201a8\"],[0.3333333333333333,\"#9c179e\"],[0.4444444444444444,\"#bd3786\"],[0.5555555555555556,\"#d8576b\"],[0.6666666666666666,\"#ed7953\"],[0.7777777777777778,\"#fb9f3a\"],[0.8888888888888888,\"#fdca26\"],[1.0,\"#f0f921\"]],\"type\":\"histogram2d\"}],\"histogram2dcontour\":[{\"colorbar\":{\"outlinewidth\":0,\"ticks\":\"\"},\"colorscale\":[[0.0,\"#0d0887\"],[0.1111111111111111,\"#46039f\"],[0.2222222222222222,\"#7201a8\"],[0.3333333333333333,\"#9c179e\"],[0.4444444444444444,\"#bd3786\"],[0.5555555555555556,\"#d8576b\"],[0.6666666666666666,\"#ed7953\"],[0.7777777777777778,\"#fb9f3a\"],[0.8888888888888888,\"#fdca26\"],[1.0,\"#f0f921\"]],\"type\":\"histogram2dcontour\"}],\"mesh3d\":[{\"colorbar\":{\"outlinewidth\":0,\"ticks\":\"\"},\"type\":\"mesh3d\"}],\"parcoords\":[{\"line\":{\"colorbar\":{\"outlinewidth\":0,\"ticks\":\"\"}},\"type\":\"parcoords\"}],\"pie\":[{\"automargin\":true,\"type\":\"pie\"}],\"scatter\":[{\"marker\":{\"colorbar\":{\"outlinewidth\":0,\"ticks\":\"\"}},\"type\":\"scatter\"}],\"scatter3d\":[{\"line\":{\"colorbar\":{\"outlinewidth\":0,\"ticks\":\"\"}},\"marker\":{\"colorbar\":{\"outlinewidth\":0,\"ticks\":\"\"}},\"type\":\"scatter3d\"}],\"scattercarpet\":[{\"marker\":{\"colorbar\":{\"outlinewidth\":0,\"ticks\":\"\"}},\"type\":\"scattercarpet\"}],\"scattergeo\":[{\"marker\":{\"colorbar\":{\"outlinewidth\":0,\"ticks\":\"\"}},\"type\":\"scattergeo\"}],\"scattergl\":[{\"marker\":{\"colorbar\":{\"outlinewidth\":0,\"ticks\":\"\"}},\"type\":\"scattergl\"}],\"scattermapbox\":[{\"marker\":{\"colorbar\":{\"outlinewidth\":0,\"ticks\":\"\"}},\"type\":\"scattermapbox\"}],\"scatterpolar\":[{\"marker\":{\"colorbar\":{\"outlinewidth\":0,\"ticks\":\"\"}},\"type\":\"scatterpolar\"}],\"scatterpolargl\":[{\"marker\":{\"colorbar\":{\"outlinewidth\":0,\"ticks\":\"\"}},\"type\":\"scatterpolargl\"}],\"scatterternary\":[{\"marker\":{\"colorbar\":{\"outlinewidth\":0,\"ticks\":\"\"}},\"type\":\"scatterternary\"}],\"surface\":[{\"colorbar\":{\"outlinewidth\":0,\"ticks\":\"\"},\"colorscale\":[[0.0,\"#0d0887\"],[0.1111111111111111,\"#46039f\"],[0.2222222222222222,\"#7201a8\"],[0.3333333333333333,\"#9c179e\"],[0.4444444444444444,\"#bd3786\"],[0.5555555555555556,\"#d8576b\"],[0.6666666666666666,\"#ed7953\"],[0.7777777777777778,\"#fb9f3a\"],[0.8888888888888888,\"#fdca26\"],[1.0,\"#f0f921\"]],\"type\":\"surface\"}],\"table\":[{\"cells\":{\"fill\":{\"color\":\"#EBF0F8\"},\"line\":{\"color\":\"white\"}},\"header\":{\"fill\":{\"color\":\"#C8D4E3\"},\"line\":{\"color\":\"white\"}},\"type\":\"table\"}]},\"layout\":{\"annotationdefaults\":{\"arrowcolor\":\"#2a3f5f\",\"arrowhead\":0,\"arrowwidth\":1},\"autotypenumbers\":\"strict\",\"coloraxis\":{\"colorbar\":{\"outlinewidth\":0,\"ticks\":\"\"}},\"colorscale\":{\"diverging\":[[0,\"#8e0152\"],[0.1,\"#c51b7d\"],[0.2,\"#de77ae\"],[0.3,\"#f1b6da\"],[0.4,\"#fde0ef\"],[0.5,\"#f7f7f7\"],[0.6,\"#e6f5d0\"],[0.7,\"#b8e186\"],[0.8,\"#7fbc41\"],[0.9,\"#4d9221\"],[1,\"#276419\"]],\"sequential\":[[0.0,\"#0d0887\"],[0.1111111111111111,\"#46039f\"],[0.2222222222222222,\"#7201a8\"],[0.3333333333333333,\"#9c179e\"],[0.4444444444444444,\"#bd3786\"],[0.5555555555555556,\"#d8576b\"],[0.6666666666666666,\"#ed7953\"],[0.7777777777777778,\"#fb9f3a\"],[0.8888888888888888,\"#fdca26\"],[1.0,\"#f0f921\"]],\"sequentialminus\":[[0.0,\"#0d0887\"],[0.1111111111111111,\"#46039f\"],[0.2222222222222222,\"#7201a8\"],[0.3333333333333333,\"#9c179e\"],[0.4444444444444444,\"#bd3786\"],[0.5555555555555556,\"#d8576b\"],[0.6666666666666666,\"#ed7953\"],[0.7777777777777778,\"#fb9f3a\"],[0.8888888888888888,\"#fdca26\"],[1.0,\"#f0f921\"]]},\"colorway\":[\"#636efa\",\"#EF553B\",\"#00cc96\",\"#ab63fa\",\"#FFA15A\",\"#19d3f3\",\"#FF6692\",\"#B6E880\",\"#FF97FF\",\"#FECB52\"],\"font\":{\"color\":\"#2a3f5f\"},\"geo\":{\"bgcolor\":\"white\",\"lakecolor\":\"white\",\"landcolor\":\"#E5ECF6\",\"showlakes\":true,\"showland\":true,\"subunitcolor\":\"white\"},\"hoverlabel\":{\"align\":\"left\"},\"hovermode\":\"closest\",\"mapbox\":{\"style\":\"light\"},\"paper_bgcolor\":\"white\",\"plot_bgcolor\":\"#E5ECF6\",\"polar\":{\"angularaxis\":{\"gridcolor\":\"white\",\"linecolor\":\"white\",\"ticks\":\"\"},\"bgcolor\":\"#E5ECF6\",\"radialaxis\":{\"gridcolor\":\"white\",\"linecolor\":\"white\",\"ticks\":\"\"}},\"scene\":{\"xaxis\":{\"backgroundcolor\":\"#E5ECF6\",\"gridcolor\":\"white\",\"gridwidth\":2,\"linecolor\":\"white\",\"showbackground\":true,\"ticks\":\"\",\"zerolinecolor\":\"white\"},\"yaxis\":{\"backgroundcolor\":\"#E5ECF6\",\"gridcolor\":\"white\",\"gridwidth\":2,\"linecolor\":\"white\",\"showbackground\":true,\"ticks\":\"\",\"zerolinecolor\":\"white\"},\"zaxis\":{\"backgroundcolor\":\"#E5ECF6\",\"gridcolor\":\"white\",\"gridwidth\":2,\"linecolor\":\"white\",\"showbackground\":true,\"ticks\":\"\",\"zerolinecolor\":\"white\"}},\"shapedefaults\":{\"line\":{\"color\":\"#2a3f5f\"}},\"ternary\":{\"aaxis\":{\"gridcolor\":\"white\",\"linecolor\":\"white\",\"ticks\":\"\"},\"baxis\":{\"gridcolor\":\"white\",\"linecolor\":\"white\",\"ticks\":\"\"},\"bgcolor\":\"#E5ECF6\",\"caxis\":{\"gridcolor\":\"white\",\"linecolor\":\"white\",\"ticks\":\"\"}},\"title\":{\"x\":0.05},\"xaxis\":{\"automargin\":true,\"gridcolor\":\"white\",\"linecolor\":\"white\",\"ticks\":\"\",\"title\":{\"standoff\":15},\"zerolinecolor\":\"white\",\"zerolinewidth\":2},\"yaxis\":{\"automargin\":true,\"gridcolor\":\"white\",\"linecolor\":\"white\",\"ticks\":\"\",\"title\":{\"standoff\":15},\"zerolinecolor\":\"white\",\"zerolinewidth\":2}}},\"title\":{\"text\":\"Movies Release in November 2021 (current month)\"},\"xaxis\":{\"anchor\":\"y\",\"domain\":[0.0,1.0],\"title\":{\"text\":\"Name\"}},\"yaxis\":{\"anchor\":\"x\",\"domain\":[0.0,1.0],\"title\":{\"text\":\"Rating\"}}},                        {\"responsive\": true}                    ).then(function(){\n",
       "                            \n",
       "var gd = document.getElementById('47155694-81af-4eb7-ba15-c2827dcad53d');\n",
       "var x = new MutationObserver(function (mutations, observer) {{\n",
       "        var display = window.getComputedStyle(gd).display;\n",
       "        if (!display || display === 'none') {{\n",
       "            console.log([gd, 'removed!']);\n",
       "            Plotly.purge(gd);\n",
       "            observer.disconnect();\n",
       "        }}\n",
       "}});\n",
       "\n",
       "// Listen for the removal of the full notebook cells\n",
       "var notebookContainer = gd.closest('#notebook-container');\n",
       "if (notebookContainer) {{\n",
       "    x.observe(notebookContainer, {childList: true});\n",
       "}}\n",
       "\n",
       "// Listen for the clearing of the current output cell\n",
       "var outputEl = gd.closest('.output');\n",
       "if (outputEl) {{\n",
       "    x.observe(outputEl, {childList: true});\n",
       "}}\n",
       "\n",
       "                        })                };                });            </script>        </div>"
      ]
     },
     "metadata": {},
     "output_type": "display_data"
    }
   ],
   "source": [
    "fig = px.scatter(nov_2021_movies, x=\"Name\", y=\"Rating\",\n",
    "      size=\"Rating\", color=\"Genre\", size_max=90,hover_data=['Director'],title='Movies Release in November 2021 (current month)')\n",
    "fig.show()"
   ]
  },
  {
   "cell_type": "markdown",
   "id": "fdb079c5",
   "metadata": {},
   "source": [
    "# All Action movies release in 2021 "
   ]
  },
  {
   "cell_type": "code",
   "execution_count": 182,
   "id": "c2b58834",
   "metadata": {},
   "outputs": [
    {
     "data": {
      "text/html": [
       "<div>\n",
       "<style scoped>\n",
       "    .dataframe tbody tr th:only-of-type {\n",
       "        vertical-align: middle;\n",
       "    }\n",
       "\n",
       "    .dataframe tbody tr th {\n",
       "        vertical-align: top;\n",
       "    }\n",
       "\n",
       "    .dataframe thead th {\n",
       "        text-align: right;\n",
       "    }\n",
       "</style>\n",
       "<table border=\"1\" class=\"dataframe\">\n",
       "  <thead>\n",
       "    <tr style=\"text-align: right;\">\n",
       "      <th></th>\n",
       "      <th>Name</th>\n",
       "      <th>Rating</th>\n",
       "      <th>Genre</th>\n",
       "      <th>Release date</th>\n",
       "      <th>Runtime</th>\n",
       "      <th>Director</th>\n",
       "      <th>Budget ($)</th>\n",
       "      <th>Revenue ($)</th>\n",
       "      <th>Url</th>\n",
       "      <th>Release year</th>\n",
       "      <th>Release month</th>\n",
       "    </tr>\n",
       "  </thead>\n",
       "  <tbody>\n",
       "    <tr>\n",
       "      <th>0</th>\n",
       "      <td>Shang-Chi and the Legend of the Ten Rings</td>\n",
       "      <td>79.0</td>\n",
       "      <td>Action,Adventure,Fantasy</td>\n",
       "      <td>2021-09-03</td>\n",
       "      <td>2h 12m</td>\n",
       "      <td>Destin Daniel Cretton</td>\n",
       "      <td>$150,000,000.00</td>\n",
       "      <td>$430,238,384.00</td>\n",
       "      <td>https://www.themoviedb.org//movie/566525</td>\n",
       "      <td>2021</td>\n",
       "      <td>9</td>\n",
       "    </tr>\n",
       "    <tr>\n",
       "      <th>1</th>\n",
       "      <td>Snake Eyes: G.I. Joe Origins</td>\n",
       "      <td>68.0</td>\n",
       "      <td>Action,Adventure</td>\n",
       "      <td>2021-07-23</td>\n",
       "      <td>2h 1m</td>\n",
       "      <td>Evan Spiliotopoulos</td>\n",
       "      <td>$88,000,000.00</td>\n",
       "      <td>$36,964,325.00</td>\n",
       "      <td>https://www.themoviedb.org//movie/568620</td>\n",
       "      <td>2021</td>\n",
       "      <td>7</td>\n",
       "    </tr>\n",
       "    <tr>\n",
       "      <th>2</th>\n",
       "      <td>Jungle Cruise</td>\n",
       "      <td>77.0</td>\n",
       "      <td>Adventure,Fantasy,Comedy,Action</td>\n",
       "      <td>2021-09-24</td>\n",
       "      <td>2h 7m</td>\n",
       "      <td>Jaume Collet-Serra</td>\n",
       "      <td>$200,000,000.00</td>\n",
       "      <td>$213,644,366.00</td>\n",
       "      <td>https://www.themoviedb.org//movie/451048</td>\n",
       "      <td>2021</td>\n",
       "      <td>9</td>\n",
       "    </tr>\n",
       "  </tbody>\n",
       "</table>\n",
       "</div>"
      ],
      "text/plain": [
       "                                        Name  Rating  \\\n",
       "0  Shang-Chi and the Legend of the Ten Rings    79.0   \n",
       "1               Snake Eyes: G.I. Joe Origins    68.0   \n",
       "2                              Jungle Cruise    77.0   \n",
       "\n",
       "                             Genre Release date Runtime  \\\n",
       "0         Action,Adventure,Fantasy   2021-09-03  2h 12m   \n",
       "1                 Action,Adventure   2021-07-23   2h 1m   \n",
       "2  Adventure,Fantasy,Comedy,Action   2021-09-24   2h 7m   \n",
       "\n",
       "                Director       Budget ($)     Revenue ($)   \\\n",
       "0  Destin Daniel Cretton  $150,000,000.00  $430,238,384.00   \n",
       "1    Evan Spiliotopoulos   $88,000,000.00   $36,964,325.00   \n",
       "2     Jaume Collet-Serra  $200,000,000.00  $213,644,366.00   \n",
       "\n",
       "                                        Url  Release year  Release month  \n",
       "0  https://www.themoviedb.org//movie/566525          2021              9  \n",
       "1  https://www.themoviedb.org//movie/568620          2021              7  \n",
       "2  https://www.themoviedb.org//movie/451048          2021              9  "
      ]
     },
     "execution_count": 182,
     "metadata": {},
     "output_type": "execute_result"
    }
   ],
   "source": [
    "action_2021 = movies_df[(movies_df['Genre'].str.contains('Action')) & (movies_df['Release year']==2021)]\n",
    "action_2021"
   ]
  },
  {
   "cell_type": "code",
   "execution_count": 262,
   "id": "aa0a9e60",
   "metadata": {},
   "outputs": [
    {
     "data": {
      "application/vnd.plotly.v1+json": {
       "config": {
        "plotlyServerURL": "https://plot.ly"
       },
       "data": [
        {
         "alignmentgroup": "True",
         "hovertemplate": "Genre=Action,Adventure,Fantasy<br>Release month=9<br>Name=%{x}<br>Rating=%{y}<extra></extra>",
         "legendgroup": "Action,Adventure,Fantasy, 9",
         "marker": {
          "color": "#636efa",
          "pattern": {
           "shape": "|"
          }
         },
         "name": "Action,Adventure,Fantasy, 9",
         "offsetgroup": "Action,Adventure,Fantasy, 9",
         "orientation": "v",
         "showlegend": true,
         "textposition": "auto",
         "type": "bar",
         "x": [
          "Shang-Chi and the Legend of the Ten Rings"
         ],
         "xaxis": "x",
         "y": [
          79
         ],
         "yaxis": "y"
        },
        {
         "alignmentgroup": "True",
         "hovertemplate": "Genre=Action,Adventure<br>Release month=7<br>Name=%{x}<br>Rating=%{y}<extra></extra>",
         "legendgroup": "Action,Adventure, 7",
         "marker": {
          "color": "#EF553B",
          "pattern": {
           "shape": "."
          }
         },
         "name": "Action,Adventure, 7",
         "offsetgroup": "Action,Adventure, 7",
         "orientation": "v",
         "showlegend": true,
         "textposition": "auto",
         "type": "bar",
         "x": [
          "Snake Eyes: G.I. Joe Origins"
         ],
         "xaxis": "x",
         "y": [
          68
         ],
         "yaxis": "y"
        },
        {
         "alignmentgroup": "True",
         "hovertemplate": "Genre=Adventure,Fantasy,Comedy,Action<br>Release month=9<br>Name=%{x}<br>Rating=%{y}<extra></extra>",
         "legendgroup": "Adventure,Fantasy,Comedy,Action, 9",
         "marker": {
          "color": "#00cc96",
          "pattern": {
           "shape": "|"
          }
         },
         "name": "Adventure,Fantasy,Comedy,Action, 9",
         "offsetgroup": "Adventure,Fantasy,Comedy,Action, 9",
         "orientation": "v",
         "showlegend": true,
         "textposition": "auto",
         "type": "bar",
         "x": [
          "Jungle Cruise"
         ],
         "xaxis": "x",
         "y": [
          77
         ],
         "yaxis": "y"
        }
       ],
       "layout": {
        "barmode": "relative",
        "legend": {
         "title": {
          "text": "Genre, Release month"
         },
         "tracegroupgap": 0
        },
        "template": {
         "data": {
          "bar": [
           {
            "error_x": {
             "color": "#2a3f5f"
            },
            "error_y": {
             "color": "#2a3f5f"
            },
            "marker": {
             "line": {
              "color": "#E5ECF6",
              "width": 0.5
             },
             "pattern": {
              "fillmode": "overlay",
              "size": 10,
              "solidity": 0.2
             }
            },
            "type": "bar"
           }
          ],
          "barpolar": [
           {
            "marker": {
             "line": {
              "color": "#E5ECF6",
              "width": 0.5
             },
             "pattern": {
              "fillmode": "overlay",
              "size": 10,
              "solidity": 0.2
             }
            },
            "type": "barpolar"
           }
          ],
          "carpet": [
           {
            "aaxis": {
             "endlinecolor": "#2a3f5f",
             "gridcolor": "white",
             "linecolor": "white",
             "minorgridcolor": "white",
             "startlinecolor": "#2a3f5f"
            },
            "baxis": {
             "endlinecolor": "#2a3f5f",
             "gridcolor": "white",
             "linecolor": "white",
             "minorgridcolor": "white",
             "startlinecolor": "#2a3f5f"
            },
            "type": "carpet"
           }
          ],
          "choropleth": [
           {
            "colorbar": {
             "outlinewidth": 0,
             "ticks": ""
            },
            "type": "choropleth"
           }
          ],
          "contour": [
           {
            "colorbar": {
             "outlinewidth": 0,
             "ticks": ""
            },
            "colorscale": [
             [
              0,
              "#0d0887"
             ],
             [
              0.1111111111111111,
              "#46039f"
             ],
             [
              0.2222222222222222,
              "#7201a8"
             ],
             [
              0.3333333333333333,
              "#9c179e"
             ],
             [
              0.4444444444444444,
              "#bd3786"
             ],
             [
              0.5555555555555556,
              "#d8576b"
             ],
             [
              0.6666666666666666,
              "#ed7953"
             ],
             [
              0.7777777777777778,
              "#fb9f3a"
             ],
             [
              0.8888888888888888,
              "#fdca26"
             ],
             [
              1,
              "#f0f921"
             ]
            ],
            "type": "contour"
           }
          ],
          "contourcarpet": [
           {
            "colorbar": {
             "outlinewidth": 0,
             "ticks": ""
            },
            "type": "contourcarpet"
           }
          ],
          "heatmap": [
           {
            "colorbar": {
             "outlinewidth": 0,
             "ticks": ""
            },
            "colorscale": [
             [
              0,
              "#0d0887"
             ],
             [
              0.1111111111111111,
              "#46039f"
             ],
             [
              0.2222222222222222,
              "#7201a8"
             ],
             [
              0.3333333333333333,
              "#9c179e"
             ],
             [
              0.4444444444444444,
              "#bd3786"
             ],
             [
              0.5555555555555556,
              "#d8576b"
             ],
             [
              0.6666666666666666,
              "#ed7953"
             ],
             [
              0.7777777777777778,
              "#fb9f3a"
             ],
             [
              0.8888888888888888,
              "#fdca26"
             ],
             [
              1,
              "#f0f921"
             ]
            ],
            "type": "heatmap"
           }
          ],
          "heatmapgl": [
           {
            "colorbar": {
             "outlinewidth": 0,
             "ticks": ""
            },
            "colorscale": [
             [
              0,
              "#0d0887"
             ],
             [
              0.1111111111111111,
              "#46039f"
             ],
             [
              0.2222222222222222,
              "#7201a8"
             ],
             [
              0.3333333333333333,
              "#9c179e"
             ],
             [
              0.4444444444444444,
              "#bd3786"
             ],
             [
              0.5555555555555556,
              "#d8576b"
             ],
             [
              0.6666666666666666,
              "#ed7953"
             ],
             [
              0.7777777777777778,
              "#fb9f3a"
             ],
             [
              0.8888888888888888,
              "#fdca26"
             ],
             [
              1,
              "#f0f921"
             ]
            ],
            "type": "heatmapgl"
           }
          ],
          "histogram": [
           {
            "marker": {
             "pattern": {
              "fillmode": "overlay",
              "size": 10,
              "solidity": 0.2
             }
            },
            "type": "histogram"
           }
          ],
          "histogram2d": [
           {
            "colorbar": {
             "outlinewidth": 0,
             "ticks": ""
            },
            "colorscale": [
             [
              0,
              "#0d0887"
             ],
             [
              0.1111111111111111,
              "#46039f"
             ],
             [
              0.2222222222222222,
              "#7201a8"
             ],
             [
              0.3333333333333333,
              "#9c179e"
             ],
             [
              0.4444444444444444,
              "#bd3786"
             ],
             [
              0.5555555555555556,
              "#d8576b"
             ],
             [
              0.6666666666666666,
              "#ed7953"
             ],
             [
              0.7777777777777778,
              "#fb9f3a"
             ],
             [
              0.8888888888888888,
              "#fdca26"
             ],
             [
              1,
              "#f0f921"
             ]
            ],
            "type": "histogram2d"
           }
          ],
          "histogram2dcontour": [
           {
            "colorbar": {
             "outlinewidth": 0,
             "ticks": ""
            },
            "colorscale": [
             [
              0,
              "#0d0887"
             ],
             [
              0.1111111111111111,
              "#46039f"
             ],
             [
              0.2222222222222222,
              "#7201a8"
             ],
             [
              0.3333333333333333,
              "#9c179e"
             ],
             [
              0.4444444444444444,
              "#bd3786"
             ],
             [
              0.5555555555555556,
              "#d8576b"
             ],
             [
              0.6666666666666666,
              "#ed7953"
             ],
             [
              0.7777777777777778,
              "#fb9f3a"
             ],
             [
              0.8888888888888888,
              "#fdca26"
             ],
             [
              1,
              "#f0f921"
             ]
            ],
            "type": "histogram2dcontour"
           }
          ],
          "mesh3d": [
           {
            "colorbar": {
             "outlinewidth": 0,
             "ticks": ""
            },
            "type": "mesh3d"
           }
          ],
          "parcoords": [
           {
            "line": {
             "colorbar": {
              "outlinewidth": 0,
              "ticks": ""
             }
            },
            "type": "parcoords"
           }
          ],
          "pie": [
           {
            "automargin": true,
            "type": "pie"
           }
          ],
          "scatter": [
           {
            "marker": {
             "colorbar": {
              "outlinewidth": 0,
              "ticks": ""
             }
            },
            "type": "scatter"
           }
          ],
          "scatter3d": [
           {
            "line": {
             "colorbar": {
              "outlinewidth": 0,
              "ticks": ""
             }
            },
            "marker": {
             "colorbar": {
              "outlinewidth": 0,
              "ticks": ""
             }
            },
            "type": "scatter3d"
           }
          ],
          "scattercarpet": [
           {
            "marker": {
             "colorbar": {
              "outlinewidth": 0,
              "ticks": ""
             }
            },
            "type": "scattercarpet"
           }
          ],
          "scattergeo": [
           {
            "marker": {
             "colorbar": {
              "outlinewidth": 0,
              "ticks": ""
             }
            },
            "type": "scattergeo"
           }
          ],
          "scattergl": [
           {
            "marker": {
             "colorbar": {
              "outlinewidth": 0,
              "ticks": ""
             }
            },
            "type": "scattergl"
           }
          ],
          "scattermapbox": [
           {
            "marker": {
             "colorbar": {
              "outlinewidth": 0,
              "ticks": ""
             }
            },
            "type": "scattermapbox"
           }
          ],
          "scatterpolar": [
           {
            "marker": {
             "colorbar": {
              "outlinewidth": 0,
              "ticks": ""
             }
            },
            "type": "scatterpolar"
           }
          ],
          "scatterpolargl": [
           {
            "marker": {
             "colorbar": {
              "outlinewidth": 0,
              "ticks": ""
             }
            },
            "type": "scatterpolargl"
           }
          ],
          "scatterternary": [
           {
            "marker": {
             "colorbar": {
              "outlinewidth": 0,
              "ticks": ""
             }
            },
            "type": "scatterternary"
           }
          ],
          "surface": [
           {
            "colorbar": {
             "outlinewidth": 0,
             "ticks": ""
            },
            "colorscale": [
             [
              0,
              "#0d0887"
             ],
             [
              0.1111111111111111,
              "#46039f"
             ],
             [
              0.2222222222222222,
              "#7201a8"
             ],
             [
              0.3333333333333333,
              "#9c179e"
             ],
             [
              0.4444444444444444,
              "#bd3786"
             ],
             [
              0.5555555555555556,
              "#d8576b"
             ],
             [
              0.6666666666666666,
              "#ed7953"
             ],
             [
              0.7777777777777778,
              "#fb9f3a"
             ],
             [
              0.8888888888888888,
              "#fdca26"
             ],
             [
              1,
              "#f0f921"
             ]
            ],
            "type": "surface"
           }
          ],
          "table": [
           {
            "cells": {
             "fill": {
              "color": "#EBF0F8"
             },
             "line": {
              "color": "white"
             }
            },
            "header": {
             "fill": {
              "color": "#C8D4E3"
             },
             "line": {
              "color": "white"
             }
            },
            "type": "table"
           }
          ]
         },
         "layout": {
          "annotationdefaults": {
           "arrowcolor": "#2a3f5f",
           "arrowhead": 0,
           "arrowwidth": 1
          },
          "autotypenumbers": "strict",
          "coloraxis": {
           "colorbar": {
            "outlinewidth": 0,
            "ticks": ""
           }
          },
          "colorscale": {
           "diverging": [
            [
             0,
             "#8e0152"
            ],
            [
             0.1,
             "#c51b7d"
            ],
            [
             0.2,
             "#de77ae"
            ],
            [
             0.3,
             "#f1b6da"
            ],
            [
             0.4,
             "#fde0ef"
            ],
            [
             0.5,
             "#f7f7f7"
            ],
            [
             0.6,
             "#e6f5d0"
            ],
            [
             0.7,
             "#b8e186"
            ],
            [
             0.8,
             "#7fbc41"
            ],
            [
             0.9,
             "#4d9221"
            ],
            [
             1,
             "#276419"
            ]
           ],
           "sequential": [
            [
             0,
             "#0d0887"
            ],
            [
             0.1111111111111111,
             "#46039f"
            ],
            [
             0.2222222222222222,
             "#7201a8"
            ],
            [
             0.3333333333333333,
             "#9c179e"
            ],
            [
             0.4444444444444444,
             "#bd3786"
            ],
            [
             0.5555555555555556,
             "#d8576b"
            ],
            [
             0.6666666666666666,
             "#ed7953"
            ],
            [
             0.7777777777777778,
             "#fb9f3a"
            ],
            [
             0.8888888888888888,
             "#fdca26"
            ],
            [
             1,
             "#f0f921"
            ]
           ],
           "sequentialminus": [
            [
             0,
             "#0d0887"
            ],
            [
             0.1111111111111111,
             "#46039f"
            ],
            [
             0.2222222222222222,
             "#7201a8"
            ],
            [
             0.3333333333333333,
             "#9c179e"
            ],
            [
             0.4444444444444444,
             "#bd3786"
            ],
            [
             0.5555555555555556,
             "#d8576b"
            ],
            [
             0.6666666666666666,
             "#ed7953"
            ],
            [
             0.7777777777777778,
             "#fb9f3a"
            ],
            [
             0.8888888888888888,
             "#fdca26"
            ],
            [
             1,
             "#f0f921"
            ]
           ]
          },
          "colorway": [
           "#636efa",
           "#EF553B",
           "#00cc96",
           "#ab63fa",
           "#FFA15A",
           "#19d3f3",
           "#FF6692",
           "#B6E880",
           "#FF97FF",
           "#FECB52"
          ],
          "font": {
           "color": "#2a3f5f"
          },
          "geo": {
           "bgcolor": "white",
           "lakecolor": "white",
           "landcolor": "#E5ECF6",
           "showlakes": true,
           "showland": true,
           "subunitcolor": "white"
          },
          "hoverlabel": {
           "align": "left"
          },
          "hovermode": "closest",
          "mapbox": {
           "style": "light"
          },
          "paper_bgcolor": "white",
          "plot_bgcolor": "#E5ECF6",
          "polar": {
           "angularaxis": {
            "gridcolor": "white",
            "linecolor": "white",
            "ticks": ""
           },
           "bgcolor": "#E5ECF6",
           "radialaxis": {
            "gridcolor": "white",
            "linecolor": "white",
            "ticks": ""
           }
          },
          "scene": {
           "xaxis": {
            "backgroundcolor": "#E5ECF6",
            "gridcolor": "white",
            "gridwidth": 2,
            "linecolor": "white",
            "showbackground": true,
            "ticks": "",
            "zerolinecolor": "white"
           },
           "yaxis": {
            "backgroundcolor": "#E5ECF6",
            "gridcolor": "white",
            "gridwidth": 2,
            "linecolor": "white",
            "showbackground": true,
            "ticks": "",
            "zerolinecolor": "white"
           },
           "zaxis": {
            "backgroundcolor": "#E5ECF6",
            "gridcolor": "white",
            "gridwidth": 2,
            "linecolor": "white",
            "showbackground": true,
            "ticks": "",
            "zerolinecolor": "white"
           }
          },
          "shapedefaults": {
           "line": {
            "color": "#2a3f5f"
           }
          },
          "ternary": {
           "aaxis": {
            "gridcolor": "white",
            "linecolor": "white",
            "ticks": ""
           },
           "baxis": {
            "gridcolor": "white",
            "linecolor": "white",
            "ticks": ""
           },
           "bgcolor": "#E5ECF6",
           "caxis": {
            "gridcolor": "white",
            "linecolor": "white",
            "ticks": ""
           }
          },
          "title": {
           "x": 0.05
          },
          "xaxis": {
           "automargin": true,
           "gridcolor": "white",
           "linecolor": "white",
           "ticks": "",
           "title": {
            "standoff": 15
           },
           "zerolinecolor": "white",
           "zerolinewidth": 2
          },
          "yaxis": {
           "automargin": true,
           "gridcolor": "white",
           "linecolor": "white",
           "ticks": "",
           "title": {
            "standoff": 15
           },
           "zerolinecolor": "white",
           "zerolinewidth": 2
          }
         }
        },
        "title": {
         "text": "All Action movies release in 2021"
        },
        "xaxis": {
         "anchor": "y",
         "domain": [
          0,
          1
         ],
         "title": {
          "text": "Name"
         }
        },
        "yaxis": {
         "anchor": "x",
         "domain": [
          0,
          1
         ],
         "title": {
          "text": "Rating"
         }
        }
       }
      },
      "text/html": [
       "<div>                            <div id=\"a5890d3f-357d-4f4a-895d-40d53d2ac30a\" class=\"plotly-graph-div\" style=\"height:525px; width:100%;\"></div>            <script type=\"text/javascript\">                require([\"plotly\"], function(Plotly) {                    window.PLOTLYENV=window.PLOTLYENV || {};                                    if (document.getElementById(\"a5890d3f-357d-4f4a-895d-40d53d2ac30a\")) {                    Plotly.newPlot(                        \"a5890d3f-357d-4f4a-895d-40d53d2ac30a\",                        [{\"alignmentgroup\":\"True\",\"hovertemplate\":\"Genre=Action,Adventure,Fantasy<br>Release month=9<br>Name=%{x}<br>Rating=%{y}<extra></extra>\",\"legendgroup\":\"Action,Adventure,Fantasy, 9\",\"marker\":{\"color\":\"#636efa\",\"pattern\":{\"shape\":\"|\"}},\"name\":\"Action,Adventure,Fantasy, 9\",\"offsetgroup\":\"Action,Adventure,Fantasy, 9\",\"orientation\":\"v\",\"showlegend\":true,\"textposition\":\"auto\",\"type\":\"bar\",\"x\":[\"Shang-Chi and the Legend of the Ten Rings\"],\"xaxis\":\"x\",\"y\":[79.0],\"yaxis\":\"y\"},{\"alignmentgroup\":\"True\",\"hovertemplate\":\"Genre=Action,Adventure<br>Release month=7<br>Name=%{x}<br>Rating=%{y}<extra></extra>\",\"legendgroup\":\"Action,Adventure, 7\",\"marker\":{\"color\":\"#EF553B\",\"pattern\":{\"shape\":\".\"}},\"name\":\"Action,Adventure, 7\",\"offsetgroup\":\"Action,Adventure, 7\",\"orientation\":\"v\",\"showlegend\":true,\"textposition\":\"auto\",\"type\":\"bar\",\"x\":[\"Snake Eyes: G.I. Joe Origins\"],\"xaxis\":\"x\",\"y\":[68.0],\"yaxis\":\"y\"},{\"alignmentgroup\":\"True\",\"hovertemplate\":\"Genre=Adventure,Fantasy,Comedy,Action<br>Release month=9<br>Name=%{x}<br>Rating=%{y}<extra></extra>\",\"legendgroup\":\"Adventure,Fantasy,Comedy,Action, 9\",\"marker\":{\"color\":\"#00cc96\",\"pattern\":{\"shape\":\"|\"}},\"name\":\"Adventure,Fantasy,Comedy,Action, 9\",\"offsetgroup\":\"Adventure,Fantasy,Comedy,Action, 9\",\"orientation\":\"v\",\"showlegend\":true,\"textposition\":\"auto\",\"type\":\"bar\",\"x\":[\"Jungle Cruise\"],\"xaxis\":\"x\",\"y\":[77.0],\"yaxis\":\"y\"}],                        {\"barmode\":\"relative\",\"legend\":{\"title\":{\"text\":\"Genre, Release month\"},\"tracegroupgap\":0},\"template\":{\"data\":{\"bar\":[{\"error_x\":{\"color\":\"#2a3f5f\"},\"error_y\":{\"color\":\"#2a3f5f\"},\"marker\":{\"line\":{\"color\":\"#E5ECF6\",\"width\":0.5},\"pattern\":{\"fillmode\":\"overlay\",\"size\":10,\"solidity\":0.2}},\"type\":\"bar\"}],\"barpolar\":[{\"marker\":{\"line\":{\"color\":\"#E5ECF6\",\"width\":0.5},\"pattern\":{\"fillmode\":\"overlay\",\"size\":10,\"solidity\":0.2}},\"type\":\"barpolar\"}],\"carpet\":[{\"aaxis\":{\"endlinecolor\":\"#2a3f5f\",\"gridcolor\":\"white\",\"linecolor\":\"white\",\"minorgridcolor\":\"white\",\"startlinecolor\":\"#2a3f5f\"},\"baxis\":{\"endlinecolor\":\"#2a3f5f\",\"gridcolor\":\"white\",\"linecolor\":\"white\",\"minorgridcolor\":\"white\",\"startlinecolor\":\"#2a3f5f\"},\"type\":\"carpet\"}],\"choropleth\":[{\"colorbar\":{\"outlinewidth\":0,\"ticks\":\"\"},\"type\":\"choropleth\"}],\"contour\":[{\"colorbar\":{\"outlinewidth\":0,\"ticks\":\"\"},\"colorscale\":[[0.0,\"#0d0887\"],[0.1111111111111111,\"#46039f\"],[0.2222222222222222,\"#7201a8\"],[0.3333333333333333,\"#9c179e\"],[0.4444444444444444,\"#bd3786\"],[0.5555555555555556,\"#d8576b\"],[0.6666666666666666,\"#ed7953\"],[0.7777777777777778,\"#fb9f3a\"],[0.8888888888888888,\"#fdca26\"],[1.0,\"#f0f921\"]],\"type\":\"contour\"}],\"contourcarpet\":[{\"colorbar\":{\"outlinewidth\":0,\"ticks\":\"\"},\"type\":\"contourcarpet\"}],\"heatmap\":[{\"colorbar\":{\"outlinewidth\":0,\"ticks\":\"\"},\"colorscale\":[[0.0,\"#0d0887\"],[0.1111111111111111,\"#46039f\"],[0.2222222222222222,\"#7201a8\"],[0.3333333333333333,\"#9c179e\"],[0.4444444444444444,\"#bd3786\"],[0.5555555555555556,\"#d8576b\"],[0.6666666666666666,\"#ed7953\"],[0.7777777777777778,\"#fb9f3a\"],[0.8888888888888888,\"#fdca26\"],[1.0,\"#f0f921\"]],\"type\":\"heatmap\"}],\"heatmapgl\":[{\"colorbar\":{\"outlinewidth\":0,\"ticks\":\"\"},\"colorscale\":[[0.0,\"#0d0887\"],[0.1111111111111111,\"#46039f\"],[0.2222222222222222,\"#7201a8\"],[0.3333333333333333,\"#9c179e\"],[0.4444444444444444,\"#bd3786\"],[0.5555555555555556,\"#d8576b\"],[0.6666666666666666,\"#ed7953\"],[0.7777777777777778,\"#fb9f3a\"],[0.8888888888888888,\"#fdca26\"],[1.0,\"#f0f921\"]],\"type\":\"heatmapgl\"}],\"histogram\":[{\"marker\":{\"pattern\":{\"fillmode\":\"overlay\",\"size\":10,\"solidity\":0.2}},\"type\":\"histogram\"}],\"histogram2d\":[{\"colorbar\":{\"outlinewidth\":0,\"ticks\":\"\"},\"colorscale\":[[0.0,\"#0d0887\"],[0.1111111111111111,\"#46039f\"],[0.2222222222222222,\"#7201a8\"],[0.3333333333333333,\"#9c179e\"],[0.4444444444444444,\"#bd3786\"],[0.5555555555555556,\"#d8576b\"],[0.6666666666666666,\"#ed7953\"],[0.7777777777777778,\"#fb9f3a\"],[0.8888888888888888,\"#fdca26\"],[1.0,\"#f0f921\"]],\"type\":\"histogram2d\"}],\"histogram2dcontour\":[{\"colorbar\":{\"outlinewidth\":0,\"ticks\":\"\"},\"colorscale\":[[0.0,\"#0d0887\"],[0.1111111111111111,\"#46039f\"],[0.2222222222222222,\"#7201a8\"],[0.3333333333333333,\"#9c179e\"],[0.4444444444444444,\"#bd3786\"],[0.5555555555555556,\"#d8576b\"],[0.6666666666666666,\"#ed7953\"],[0.7777777777777778,\"#fb9f3a\"],[0.8888888888888888,\"#fdca26\"],[1.0,\"#f0f921\"]],\"type\":\"histogram2dcontour\"}],\"mesh3d\":[{\"colorbar\":{\"outlinewidth\":0,\"ticks\":\"\"},\"type\":\"mesh3d\"}],\"parcoords\":[{\"line\":{\"colorbar\":{\"outlinewidth\":0,\"ticks\":\"\"}},\"type\":\"parcoords\"}],\"pie\":[{\"automargin\":true,\"type\":\"pie\"}],\"scatter\":[{\"marker\":{\"colorbar\":{\"outlinewidth\":0,\"ticks\":\"\"}},\"type\":\"scatter\"}],\"scatter3d\":[{\"line\":{\"colorbar\":{\"outlinewidth\":0,\"ticks\":\"\"}},\"marker\":{\"colorbar\":{\"outlinewidth\":0,\"ticks\":\"\"}},\"type\":\"scatter3d\"}],\"scattercarpet\":[{\"marker\":{\"colorbar\":{\"outlinewidth\":0,\"ticks\":\"\"}},\"type\":\"scattercarpet\"}],\"scattergeo\":[{\"marker\":{\"colorbar\":{\"outlinewidth\":0,\"ticks\":\"\"}},\"type\":\"scattergeo\"}],\"scattergl\":[{\"marker\":{\"colorbar\":{\"outlinewidth\":0,\"ticks\":\"\"}},\"type\":\"scattergl\"}],\"scattermapbox\":[{\"marker\":{\"colorbar\":{\"outlinewidth\":0,\"ticks\":\"\"}},\"type\":\"scattermapbox\"}],\"scatterpolar\":[{\"marker\":{\"colorbar\":{\"outlinewidth\":0,\"ticks\":\"\"}},\"type\":\"scatterpolar\"}],\"scatterpolargl\":[{\"marker\":{\"colorbar\":{\"outlinewidth\":0,\"ticks\":\"\"}},\"type\":\"scatterpolargl\"}],\"scatterternary\":[{\"marker\":{\"colorbar\":{\"outlinewidth\":0,\"ticks\":\"\"}},\"type\":\"scatterternary\"}],\"surface\":[{\"colorbar\":{\"outlinewidth\":0,\"ticks\":\"\"},\"colorscale\":[[0.0,\"#0d0887\"],[0.1111111111111111,\"#46039f\"],[0.2222222222222222,\"#7201a8\"],[0.3333333333333333,\"#9c179e\"],[0.4444444444444444,\"#bd3786\"],[0.5555555555555556,\"#d8576b\"],[0.6666666666666666,\"#ed7953\"],[0.7777777777777778,\"#fb9f3a\"],[0.8888888888888888,\"#fdca26\"],[1.0,\"#f0f921\"]],\"type\":\"surface\"}],\"table\":[{\"cells\":{\"fill\":{\"color\":\"#EBF0F8\"},\"line\":{\"color\":\"white\"}},\"header\":{\"fill\":{\"color\":\"#C8D4E3\"},\"line\":{\"color\":\"white\"}},\"type\":\"table\"}]},\"layout\":{\"annotationdefaults\":{\"arrowcolor\":\"#2a3f5f\",\"arrowhead\":0,\"arrowwidth\":1},\"autotypenumbers\":\"strict\",\"coloraxis\":{\"colorbar\":{\"outlinewidth\":0,\"ticks\":\"\"}},\"colorscale\":{\"diverging\":[[0,\"#8e0152\"],[0.1,\"#c51b7d\"],[0.2,\"#de77ae\"],[0.3,\"#f1b6da\"],[0.4,\"#fde0ef\"],[0.5,\"#f7f7f7\"],[0.6,\"#e6f5d0\"],[0.7,\"#b8e186\"],[0.8,\"#7fbc41\"],[0.9,\"#4d9221\"],[1,\"#276419\"]],\"sequential\":[[0.0,\"#0d0887\"],[0.1111111111111111,\"#46039f\"],[0.2222222222222222,\"#7201a8\"],[0.3333333333333333,\"#9c179e\"],[0.4444444444444444,\"#bd3786\"],[0.5555555555555556,\"#d8576b\"],[0.6666666666666666,\"#ed7953\"],[0.7777777777777778,\"#fb9f3a\"],[0.8888888888888888,\"#fdca26\"],[1.0,\"#f0f921\"]],\"sequentialminus\":[[0.0,\"#0d0887\"],[0.1111111111111111,\"#46039f\"],[0.2222222222222222,\"#7201a8\"],[0.3333333333333333,\"#9c179e\"],[0.4444444444444444,\"#bd3786\"],[0.5555555555555556,\"#d8576b\"],[0.6666666666666666,\"#ed7953\"],[0.7777777777777778,\"#fb9f3a\"],[0.8888888888888888,\"#fdca26\"],[1.0,\"#f0f921\"]]},\"colorway\":[\"#636efa\",\"#EF553B\",\"#00cc96\",\"#ab63fa\",\"#FFA15A\",\"#19d3f3\",\"#FF6692\",\"#B6E880\",\"#FF97FF\",\"#FECB52\"],\"font\":{\"color\":\"#2a3f5f\"},\"geo\":{\"bgcolor\":\"white\",\"lakecolor\":\"white\",\"landcolor\":\"#E5ECF6\",\"showlakes\":true,\"showland\":true,\"subunitcolor\":\"white\"},\"hoverlabel\":{\"align\":\"left\"},\"hovermode\":\"closest\",\"mapbox\":{\"style\":\"light\"},\"paper_bgcolor\":\"white\",\"plot_bgcolor\":\"#E5ECF6\",\"polar\":{\"angularaxis\":{\"gridcolor\":\"white\",\"linecolor\":\"white\",\"ticks\":\"\"},\"bgcolor\":\"#E5ECF6\",\"radialaxis\":{\"gridcolor\":\"white\",\"linecolor\":\"white\",\"ticks\":\"\"}},\"scene\":{\"xaxis\":{\"backgroundcolor\":\"#E5ECF6\",\"gridcolor\":\"white\",\"gridwidth\":2,\"linecolor\":\"white\",\"showbackground\":true,\"ticks\":\"\",\"zerolinecolor\":\"white\"},\"yaxis\":{\"backgroundcolor\":\"#E5ECF6\",\"gridcolor\":\"white\",\"gridwidth\":2,\"linecolor\":\"white\",\"showbackground\":true,\"ticks\":\"\",\"zerolinecolor\":\"white\"},\"zaxis\":{\"backgroundcolor\":\"#E5ECF6\",\"gridcolor\":\"white\",\"gridwidth\":2,\"linecolor\":\"white\",\"showbackground\":true,\"ticks\":\"\",\"zerolinecolor\":\"white\"}},\"shapedefaults\":{\"line\":{\"color\":\"#2a3f5f\"}},\"ternary\":{\"aaxis\":{\"gridcolor\":\"white\",\"linecolor\":\"white\",\"ticks\":\"\"},\"baxis\":{\"gridcolor\":\"white\",\"linecolor\":\"white\",\"ticks\":\"\"},\"bgcolor\":\"#E5ECF6\",\"caxis\":{\"gridcolor\":\"white\",\"linecolor\":\"white\",\"ticks\":\"\"}},\"title\":{\"x\":0.05},\"xaxis\":{\"automargin\":true,\"gridcolor\":\"white\",\"linecolor\":\"white\",\"ticks\":\"\",\"title\":{\"standoff\":15},\"zerolinecolor\":\"white\",\"zerolinewidth\":2},\"yaxis\":{\"automargin\":true,\"gridcolor\":\"white\",\"linecolor\":\"white\",\"ticks\":\"\",\"title\":{\"standoff\":15},\"zerolinecolor\":\"white\",\"zerolinewidth\":2}}},\"title\":{\"text\":\"All Action movies release in 2021\"},\"xaxis\":{\"anchor\":\"y\",\"domain\":[0.0,1.0],\"title\":{\"text\":\"Name\"}},\"yaxis\":{\"anchor\":\"x\",\"domain\":[0.0,1.0],\"title\":{\"text\":\"Rating\"}}},                        {\"responsive\": true}                    ).then(function(){\n",
       "                            \n",
       "var gd = document.getElementById('a5890d3f-357d-4f4a-895d-40d53d2ac30a');\n",
       "var x = new MutationObserver(function (mutations, observer) {{\n",
       "        var display = window.getComputedStyle(gd).display;\n",
       "        if (!display || display === 'none') {{\n",
       "            console.log([gd, 'removed!']);\n",
       "            Plotly.purge(gd);\n",
       "            observer.disconnect();\n",
       "        }}\n",
       "}});\n",
       "\n",
       "// Listen for the removal of the full notebook cells\n",
       "var notebookContainer = gd.closest('#notebook-container');\n",
       "if (notebookContainer) {{\n",
       "    x.observe(notebookContainer, {childList: true});\n",
       "}}\n",
       "\n",
       "// Listen for the clearing of the current output cell\n",
       "var outputEl = gd.closest('.output');\n",
       "if (outputEl) {{\n",
       "    x.observe(outputEl, {childList: true});\n",
       "}}\n",
       "\n",
       "                        })                };                });            </script>        </div>"
      ]
     },
     "metadata": {},
     "output_type": "display_data"
    }
   ],
   "source": [
    "fig = px.bar(action_2021, x=\"Name\", y=\"Rating\", color=\"Genre\",\n",
    "             pattern_shape=\"Release month\", pattern_shape_sequence=[\"|\", \".\", \"x\"],title='All Action movies release in 2021')\n",
    "fig.show()"
   ]
  },
  {
   "cell_type": "markdown",
   "id": "4eff2b3b",
   "metadata": {},
   "source": [
    "# All Comedy movies release in 2021 "
   ]
  },
  {
   "cell_type": "code",
   "execution_count": 183,
   "id": "ce05a6dd",
   "metadata": {},
   "outputs": [
    {
     "data": {
      "text/html": [
       "<div>\n",
       "<style scoped>\n",
       "    .dataframe tbody tr th:only-of-type {\n",
       "        vertical-align: middle;\n",
       "    }\n",
       "\n",
       "    .dataframe tbody tr th {\n",
       "        vertical-align: top;\n",
       "    }\n",
       "\n",
       "    .dataframe thead th {\n",
       "        text-align: right;\n",
       "    }\n",
       "</style>\n",
       "<table border=\"1\" class=\"dataframe\">\n",
       "  <thead>\n",
       "    <tr style=\"text-align: right;\">\n",
       "      <th></th>\n",
       "      <th>Name</th>\n",
       "      <th>Rating</th>\n",
       "      <th>Genre</th>\n",
       "      <th>Release date</th>\n",
       "      <th>Runtime</th>\n",
       "      <th>Director</th>\n",
       "      <th>Budget ($)</th>\n",
       "      <th>Revenue ($)</th>\n",
       "      <th>Url</th>\n",
       "      <th>Release year</th>\n",
       "      <th>Release month</th>\n",
       "    </tr>\n",
       "  </thead>\n",
       "  <tbody>\n",
       "    <tr>\n",
       "      <th>2</th>\n",
       "      <td>Jungle Cruise</td>\n",
       "      <td>77.0</td>\n",
       "      <td>Adventure,Fantasy,Comedy,Action</td>\n",
       "      <td>2021-09-24</td>\n",
       "      <td>2h 7m</td>\n",
       "      <td>Jaume Collet-Serra</td>\n",
       "      <td>$200,000,000.00</td>\n",
       "      <td>$213,644,366.00</td>\n",
       "      <td>https://www.themoviedb.org//movie/451048</td>\n",
       "      <td>2021</td>\n",
       "      <td>9</td>\n",
       "    </tr>\n",
       "    <tr>\n",
       "      <th>5</th>\n",
       "      <td>Straight Outta Nowhere: Scooby-Doo! Meets Cour...</td>\n",
       "      <td>83.0</td>\n",
       "      <td>Animation,Comedy,Mystery,Family,Fantasy</td>\n",
       "      <td>2021-09-14</td>\n",
       "      <td>1h 12m</td>\n",
       "      <td>Joseph Barbera</td>\n",
       "      <td>NaN</td>\n",
       "      <td>NaN</td>\n",
       "      <td>https://www.themoviedb.org//movie/843906</td>\n",
       "      <td>2021</td>\n",
       "      <td>9</td>\n",
       "    </tr>\n",
       "    <tr>\n",
       "      <th>11</th>\n",
       "      <td>Kids Are Back</td>\n",
       "      <td>54.0</td>\n",
       "      <td>Comedy</td>\n",
       "      <td>2021-06-02</td>\n",
       "      <td>1h 23m</td>\n",
       "      <td>Michèle Laroque</td>\n",
       "      <td>NaN</td>\n",
       "      <td>$8,116,935.00</td>\n",
       "      <td>https://www.themoviedb.org//movie/613583</td>\n",
       "      <td>2021</td>\n",
       "      <td>6</td>\n",
       "    </tr>\n",
       "    <tr>\n",
       "      <th>16</th>\n",
       "      <td>Sweet &amp; Sour</td>\n",
       "      <td>79.0</td>\n",
       "      <td>Comedy,Romance</td>\n",
       "      <td>2021-06-04</td>\n",
       "      <td>1h 41m</td>\n",
       "      <td>Lee Kae-byeok</td>\n",
       "      <td>NaN</td>\n",
       "      <td>NaN</td>\n",
       "      <td>https://www.themoviedb.org//movie/662237</td>\n",
       "      <td>2021</td>\n",
       "      <td>6</td>\n",
       "    </tr>\n",
       "    <tr>\n",
       "      <th>30</th>\n",
       "      <td>Lokillo: Nothing's the Same</td>\n",
       "      <td>78.0</td>\n",
       "      <td>Comedy</td>\n",
       "      <td>2021-08-12</td>\n",
       "      <td>1h 4m</td>\n",
       "      <td>Yedinson Flórez</td>\n",
       "      <td>NaN</td>\n",
       "      <td>NaN</td>\n",
       "      <td>https://www.themoviedb.org//movie/857910</td>\n",
       "      <td>2021</td>\n",
       "      <td>8</td>\n",
       "    </tr>\n",
       "    <tr>\n",
       "      <th>35</th>\n",
       "      <td>Just Say Yes</td>\n",
       "      <td>67.0</td>\n",
       "      <td>Comedy,Romance</td>\n",
       "      <td>2021-04-02</td>\n",
       "      <td>1h 37m</td>\n",
       "      <td>Appie Boudellah</td>\n",
       "      <td>NaN</td>\n",
       "      <td>NaN</td>\n",
       "      <td>https://www.themoviedb.org//movie/802504</td>\n",
       "      <td>2021</td>\n",
       "      <td>4</td>\n",
       "    </tr>\n",
       "    <tr>\n",
       "      <th>37</th>\n",
       "      <td>Secret Magic Control Agency</td>\n",
       "      <td>72.0</td>\n",
       "      <td>Animation,Comedy,Fantasy</td>\n",
       "      <td>2021-03-18</td>\n",
       "      <td>1h 44m</td>\n",
       "      <td>Alexey Tsitsilin</td>\n",
       "      <td>NaN</td>\n",
       "      <td>NaN</td>\n",
       "      <td>https://www.themoviedb.org//movie/797394</td>\n",
       "      <td>2021</td>\n",
       "      <td>3</td>\n",
       "    </tr>\n",
       "    <tr>\n",
       "      <th>69</th>\n",
       "      <td>Bankrolled</td>\n",
       "      <td>65.0</td>\n",
       "      <td>Comedy</td>\n",
       "      <td>2021-07-23</td>\n",
       "      <td>1h 37m</td>\n",
       "      <td>Marcos Bucay</td>\n",
       "      <td>NaN</td>\n",
       "      <td>NaN</td>\n",
       "      <td>https://www.themoviedb.org//movie/845422</td>\n",
       "      <td>2021</td>\n",
       "      <td>7</td>\n",
       "    </tr>\n",
       "  </tbody>\n",
       "</table>\n",
       "</div>"
      ],
      "text/plain": [
       "                                                 Name  Rating  \\\n",
       "2                                       Jungle Cruise    77.0   \n",
       "5   Straight Outta Nowhere: Scooby-Doo! Meets Cour...    83.0   \n",
       "11                                      Kids Are Back    54.0   \n",
       "16                                       Sweet & Sour    79.0   \n",
       "30                        Lokillo: Nothing's the Same    78.0   \n",
       "35                                       Just Say Yes    67.0   \n",
       "37                        Secret Magic Control Agency    72.0   \n",
       "69                                         Bankrolled    65.0   \n",
       "\n",
       "                                      Genre Release date Runtime  \\\n",
       "2           Adventure,Fantasy,Comedy,Action   2021-09-24   2h 7m   \n",
       "5   Animation,Comedy,Mystery,Family,Fantasy   2021-09-14  1h 12m   \n",
       "11                                   Comedy   2021-06-02  1h 23m   \n",
       "16                           Comedy,Romance   2021-06-04  1h 41m   \n",
       "30                                   Comedy   2021-08-12   1h 4m   \n",
       "35                           Comedy,Romance   2021-04-02  1h 37m   \n",
       "37                 Animation,Comedy,Fantasy   2021-03-18  1h 44m   \n",
       "69                                   Comedy   2021-07-23  1h 37m   \n",
       "\n",
       "              Director       Budget ($)     Revenue ($)   \\\n",
       "2   Jaume Collet-Serra  $200,000,000.00  $213,644,366.00   \n",
       "5       Joseph Barbera              NaN              NaN   \n",
       "11     Michèle Laroque              NaN    $8,116,935.00   \n",
       "16       Lee Kae-byeok              NaN              NaN   \n",
       "30     Yedinson Flórez              NaN              NaN   \n",
       "35     Appie Boudellah              NaN              NaN   \n",
       "37    Alexey Tsitsilin              NaN              NaN   \n",
       "69        Marcos Bucay              NaN              NaN   \n",
       "\n",
       "                                         Url  Release year  Release month  \n",
       "2   https://www.themoviedb.org//movie/451048          2021              9  \n",
       "5   https://www.themoviedb.org//movie/843906          2021              9  \n",
       "11  https://www.themoviedb.org//movie/613583          2021              6  \n",
       "16  https://www.themoviedb.org//movie/662237          2021              6  \n",
       "30  https://www.themoviedb.org//movie/857910          2021              8  \n",
       "35  https://www.themoviedb.org//movie/802504          2021              4  \n",
       "37  https://www.themoviedb.org//movie/797394          2021              3  \n",
       "69  https://www.themoviedb.org//movie/845422          2021              7  "
      ]
     },
     "execution_count": 183,
     "metadata": {},
     "output_type": "execute_result"
    }
   ],
   "source": [
    "comedy_2021 = movies_df[(movies_df['Genre'].str.contains('Comedy')) & (movies_df['Release year']==2021)]\n",
    "comedy_2021"
   ]
  },
  {
   "cell_type": "code",
   "execution_count": 263,
   "id": "dee2ce9f",
   "metadata": {},
   "outputs": [
    {
     "data": {
      "application/vnd.plotly.v1+json": {
       "config": {
        "plotlyServerURL": "https://plot.ly"
       },
       "data": [
        {
         "alignmentgroup": "True",
         "hovertemplate": "Genre=Adventure,Fantasy,Comedy,Action<br>Release month=9<br>Name=%{x}<br>Rating=%{y}<extra></extra>",
         "legendgroup": "Adventure,Fantasy,Comedy,Action, 9",
         "marker": {
          "color": "#636efa",
          "pattern": {
           "shape": "|"
          }
         },
         "name": "Adventure,Fantasy,Comedy,Action, 9",
         "offsetgroup": "Adventure,Fantasy,Comedy,Action, 9",
         "orientation": "v",
         "showlegend": true,
         "textposition": "auto",
         "type": "bar",
         "x": [
          "Jungle Cruise"
         ],
         "xaxis": "x",
         "y": [
          77
         ],
         "yaxis": "y"
        },
        {
         "alignmentgroup": "True",
         "hovertemplate": "Genre=Animation,Comedy,Mystery,Family,Fantasy<br>Release month=9<br>Name=%{x}<br>Rating=%{y}<extra></extra>",
         "legendgroup": "Animation,Comedy,Mystery,Family,Fantasy, 9",
         "marker": {
          "color": "#EF553B",
          "pattern": {
           "shape": "|"
          }
         },
         "name": "Animation,Comedy,Mystery,Family,Fantasy, 9",
         "offsetgroup": "Animation,Comedy,Mystery,Family,Fantasy, 9",
         "orientation": "v",
         "showlegend": true,
         "textposition": "auto",
         "type": "bar",
         "x": [
          "Straight Outta Nowhere: Scooby-Doo! Meets Courage the Cowardly Dog"
         ],
         "xaxis": "x",
         "y": [
          83
         ],
         "yaxis": "y"
        },
        {
         "alignmentgroup": "True",
         "hovertemplate": "Genre=Comedy<br>Release month=6<br>Name=%{x}<br>Rating=%{y}<extra></extra>",
         "legendgroup": "Comedy, 6",
         "marker": {
          "color": "#00cc96",
          "pattern": {
           "shape": "."
          }
         },
         "name": "Comedy, 6",
         "offsetgroup": "Comedy, 6",
         "orientation": "v",
         "showlegend": true,
         "textposition": "auto",
         "type": "bar",
         "x": [
          "Kids Are Back"
         ],
         "xaxis": "x",
         "y": [
          54
         ],
         "yaxis": "y"
        },
        {
         "alignmentgroup": "True",
         "hovertemplate": "Genre=Comedy<br>Release month=8<br>Name=%{x}<br>Rating=%{y}<extra></extra>",
         "legendgroup": "Comedy, 8",
         "marker": {
          "color": "#00cc96",
          "pattern": {
           "shape": "x"
          }
         },
         "name": "Comedy, 8",
         "offsetgroup": "Comedy, 8",
         "orientation": "v",
         "showlegend": true,
         "textposition": "auto",
         "type": "bar",
         "x": [
          "Lokillo: Nothing's the Same"
         ],
         "xaxis": "x",
         "y": [
          78
         ],
         "yaxis": "y"
        },
        {
         "alignmentgroup": "True",
         "hovertemplate": "Genre=Comedy<br>Release month=7<br>Name=%{x}<br>Rating=%{y}<extra></extra>",
         "legendgroup": "Comedy, 7",
         "marker": {
          "color": "#00cc96",
          "pattern": {
           "shape": "x"
          }
         },
         "name": "Comedy, 7",
         "offsetgroup": "Comedy, 7",
         "orientation": "v",
         "showlegend": true,
         "textposition": "auto",
         "type": "bar",
         "x": [
          "Bankrolled"
         ],
         "xaxis": "x",
         "y": [
          65
         ],
         "yaxis": "y"
        },
        {
         "alignmentgroup": "True",
         "hovertemplate": "Genre=Comedy,Romance<br>Release month=6<br>Name=%{x}<br>Rating=%{y}<extra></extra>",
         "legendgroup": "Comedy,Romance, 6",
         "marker": {
          "color": "#ab63fa",
          "pattern": {
           "shape": "."
          }
         },
         "name": "Comedy,Romance, 6",
         "offsetgroup": "Comedy,Romance, 6",
         "orientation": "v",
         "showlegend": true,
         "textposition": "auto",
         "type": "bar",
         "x": [
          "Sweet & Sour"
         ],
         "xaxis": "x",
         "y": [
          79
         ],
         "yaxis": "y"
        },
        {
         "alignmentgroup": "True",
         "hovertemplate": "Genre=Comedy,Romance<br>Release month=4<br>Name=%{x}<br>Rating=%{y}<extra></extra>",
         "legendgroup": "Comedy,Romance, 4",
         "marker": {
          "color": "#ab63fa",
          "pattern": {
           "shape": "|"
          }
         },
         "name": "Comedy,Romance, 4",
         "offsetgroup": "Comedy,Romance, 4",
         "orientation": "v",
         "showlegend": true,
         "textposition": "auto",
         "type": "bar",
         "x": [
          "Just Say Yes"
         ],
         "xaxis": "x",
         "y": [
          67
         ],
         "yaxis": "y"
        },
        {
         "alignmentgroup": "True",
         "hovertemplate": "Genre=Animation,Comedy,Fantasy<br>Release month=3<br>Name=%{x}<br>Rating=%{y}<extra></extra>",
         "legendgroup": "Animation,Comedy,Fantasy, 3",
         "marker": {
          "color": "#FFA15A",
          "pattern": {
           "shape": "."
          }
         },
         "name": "Animation,Comedy,Fantasy, 3",
         "offsetgroup": "Animation,Comedy,Fantasy, 3",
         "orientation": "v",
         "showlegend": true,
         "textposition": "auto",
         "type": "bar",
         "x": [
          "Secret Magic Control Agency"
         ],
         "xaxis": "x",
         "y": [
          72
         ],
         "yaxis": "y"
        }
       ],
       "layout": {
        "barmode": "relative",
        "legend": {
         "title": {
          "text": "Genre, Release month"
         },
         "tracegroupgap": 0
        },
        "template": {
         "data": {
          "bar": [
           {
            "error_x": {
             "color": "#2a3f5f"
            },
            "error_y": {
             "color": "#2a3f5f"
            },
            "marker": {
             "line": {
              "color": "#E5ECF6",
              "width": 0.5
             },
             "pattern": {
              "fillmode": "overlay",
              "size": 10,
              "solidity": 0.2
             }
            },
            "type": "bar"
           }
          ],
          "barpolar": [
           {
            "marker": {
             "line": {
              "color": "#E5ECF6",
              "width": 0.5
             },
             "pattern": {
              "fillmode": "overlay",
              "size": 10,
              "solidity": 0.2
             }
            },
            "type": "barpolar"
           }
          ],
          "carpet": [
           {
            "aaxis": {
             "endlinecolor": "#2a3f5f",
             "gridcolor": "white",
             "linecolor": "white",
             "minorgridcolor": "white",
             "startlinecolor": "#2a3f5f"
            },
            "baxis": {
             "endlinecolor": "#2a3f5f",
             "gridcolor": "white",
             "linecolor": "white",
             "minorgridcolor": "white",
             "startlinecolor": "#2a3f5f"
            },
            "type": "carpet"
           }
          ],
          "choropleth": [
           {
            "colorbar": {
             "outlinewidth": 0,
             "ticks": ""
            },
            "type": "choropleth"
           }
          ],
          "contour": [
           {
            "colorbar": {
             "outlinewidth": 0,
             "ticks": ""
            },
            "colorscale": [
             [
              0,
              "#0d0887"
             ],
             [
              0.1111111111111111,
              "#46039f"
             ],
             [
              0.2222222222222222,
              "#7201a8"
             ],
             [
              0.3333333333333333,
              "#9c179e"
             ],
             [
              0.4444444444444444,
              "#bd3786"
             ],
             [
              0.5555555555555556,
              "#d8576b"
             ],
             [
              0.6666666666666666,
              "#ed7953"
             ],
             [
              0.7777777777777778,
              "#fb9f3a"
             ],
             [
              0.8888888888888888,
              "#fdca26"
             ],
             [
              1,
              "#f0f921"
             ]
            ],
            "type": "contour"
           }
          ],
          "contourcarpet": [
           {
            "colorbar": {
             "outlinewidth": 0,
             "ticks": ""
            },
            "type": "contourcarpet"
           }
          ],
          "heatmap": [
           {
            "colorbar": {
             "outlinewidth": 0,
             "ticks": ""
            },
            "colorscale": [
             [
              0,
              "#0d0887"
             ],
             [
              0.1111111111111111,
              "#46039f"
             ],
             [
              0.2222222222222222,
              "#7201a8"
             ],
             [
              0.3333333333333333,
              "#9c179e"
             ],
             [
              0.4444444444444444,
              "#bd3786"
             ],
             [
              0.5555555555555556,
              "#d8576b"
             ],
             [
              0.6666666666666666,
              "#ed7953"
             ],
             [
              0.7777777777777778,
              "#fb9f3a"
             ],
             [
              0.8888888888888888,
              "#fdca26"
             ],
             [
              1,
              "#f0f921"
             ]
            ],
            "type": "heatmap"
           }
          ],
          "heatmapgl": [
           {
            "colorbar": {
             "outlinewidth": 0,
             "ticks": ""
            },
            "colorscale": [
             [
              0,
              "#0d0887"
             ],
             [
              0.1111111111111111,
              "#46039f"
             ],
             [
              0.2222222222222222,
              "#7201a8"
             ],
             [
              0.3333333333333333,
              "#9c179e"
             ],
             [
              0.4444444444444444,
              "#bd3786"
             ],
             [
              0.5555555555555556,
              "#d8576b"
             ],
             [
              0.6666666666666666,
              "#ed7953"
             ],
             [
              0.7777777777777778,
              "#fb9f3a"
             ],
             [
              0.8888888888888888,
              "#fdca26"
             ],
             [
              1,
              "#f0f921"
             ]
            ],
            "type": "heatmapgl"
           }
          ],
          "histogram": [
           {
            "marker": {
             "pattern": {
              "fillmode": "overlay",
              "size": 10,
              "solidity": 0.2
             }
            },
            "type": "histogram"
           }
          ],
          "histogram2d": [
           {
            "colorbar": {
             "outlinewidth": 0,
             "ticks": ""
            },
            "colorscale": [
             [
              0,
              "#0d0887"
             ],
             [
              0.1111111111111111,
              "#46039f"
             ],
             [
              0.2222222222222222,
              "#7201a8"
             ],
             [
              0.3333333333333333,
              "#9c179e"
             ],
             [
              0.4444444444444444,
              "#bd3786"
             ],
             [
              0.5555555555555556,
              "#d8576b"
             ],
             [
              0.6666666666666666,
              "#ed7953"
             ],
             [
              0.7777777777777778,
              "#fb9f3a"
             ],
             [
              0.8888888888888888,
              "#fdca26"
             ],
             [
              1,
              "#f0f921"
             ]
            ],
            "type": "histogram2d"
           }
          ],
          "histogram2dcontour": [
           {
            "colorbar": {
             "outlinewidth": 0,
             "ticks": ""
            },
            "colorscale": [
             [
              0,
              "#0d0887"
             ],
             [
              0.1111111111111111,
              "#46039f"
             ],
             [
              0.2222222222222222,
              "#7201a8"
             ],
             [
              0.3333333333333333,
              "#9c179e"
             ],
             [
              0.4444444444444444,
              "#bd3786"
             ],
             [
              0.5555555555555556,
              "#d8576b"
             ],
             [
              0.6666666666666666,
              "#ed7953"
             ],
             [
              0.7777777777777778,
              "#fb9f3a"
             ],
             [
              0.8888888888888888,
              "#fdca26"
             ],
             [
              1,
              "#f0f921"
             ]
            ],
            "type": "histogram2dcontour"
           }
          ],
          "mesh3d": [
           {
            "colorbar": {
             "outlinewidth": 0,
             "ticks": ""
            },
            "type": "mesh3d"
           }
          ],
          "parcoords": [
           {
            "line": {
             "colorbar": {
              "outlinewidth": 0,
              "ticks": ""
             }
            },
            "type": "parcoords"
           }
          ],
          "pie": [
           {
            "automargin": true,
            "type": "pie"
           }
          ],
          "scatter": [
           {
            "marker": {
             "colorbar": {
              "outlinewidth": 0,
              "ticks": ""
             }
            },
            "type": "scatter"
           }
          ],
          "scatter3d": [
           {
            "line": {
             "colorbar": {
              "outlinewidth": 0,
              "ticks": ""
             }
            },
            "marker": {
             "colorbar": {
              "outlinewidth": 0,
              "ticks": ""
             }
            },
            "type": "scatter3d"
           }
          ],
          "scattercarpet": [
           {
            "marker": {
             "colorbar": {
              "outlinewidth": 0,
              "ticks": ""
             }
            },
            "type": "scattercarpet"
           }
          ],
          "scattergeo": [
           {
            "marker": {
             "colorbar": {
              "outlinewidth": 0,
              "ticks": ""
             }
            },
            "type": "scattergeo"
           }
          ],
          "scattergl": [
           {
            "marker": {
             "colorbar": {
              "outlinewidth": 0,
              "ticks": ""
             }
            },
            "type": "scattergl"
           }
          ],
          "scattermapbox": [
           {
            "marker": {
             "colorbar": {
              "outlinewidth": 0,
              "ticks": ""
             }
            },
            "type": "scattermapbox"
           }
          ],
          "scatterpolar": [
           {
            "marker": {
             "colorbar": {
              "outlinewidth": 0,
              "ticks": ""
             }
            },
            "type": "scatterpolar"
           }
          ],
          "scatterpolargl": [
           {
            "marker": {
             "colorbar": {
              "outlinewidth": 0,
              "ticks": ""
             }
            },
            "type": "scatterpolargl"
           }
          ],
          "scatterternary": [
           {
            "marker": {
             "colorbar": {
              "outlinewidth": 0,
              "ticks": ""
             }
            },
            "type": "scatterternary"
           }
          ],
          "surface": [
           {
            "colorbar": {
             "outlinewidth": 0,
             "ticks": ""
            },
            "colorscale": [
             [
              0,
              "#0d0887"
             ],
             [
              0.1111111111111111,
              "#46039f"
             ],
             [
              0.2222222222222222,
              "#7201a8"
             ],
             [
              0.3333333333333333,
              "#9c179e"
             ],
             [
              0.4444444444444444,
              "#bd3786"
             ],
             [
              0.5555555555555556,
              "#d8576b"
             ],
             [
              0.6666666666666666,
              "#ed7953"
             ],
             [
              0.7777777777777778,
              "#fb9f3a"
             ],
             [
              0.8888888888888888,
              "#fdca26"
             ],
             [
              1,
              "#f0f921"
             ]
            ],
            "type": "surface"
           }
          ],
          "table": [
           {
            "cells": {
             "fill": {
              "color": "#EBF0F8"
             },
             "line": {
              "color": "white"
             }
            },
            "header": {
             "fill": {
              "color": "#C8D4E3"
             },
             "line": {
              "color": "white"
             }
            },
            "type": "table"
           }
          ]
         },
         "layout": {
          "annotationdefaults": {
           "arrowcolor": "#2a3f5f",
           "arrowhead": 0,
           "arrowwidth": 1
          },
          "autotypenumbers": "strict",
          "coloraxis": {
           "colorbar": {
            "outlinewidth": 0,
            "ticks": ""
           }
          },
          "colorscale": {
           "diverging": [
            [
             0,
             "#8e0152"
            ],
            [
             0.1,
             "#c51b7d"
            ],
            [
             0.2,
             "#de77ae"
            ],
            [
             0.3,
             "#f1b6da"
            ],
            [
             0.4,
             "#fde0ef"
            ],
            [
             0.5,
             "#f7f7f7"
            ],
            [
             0.6,
             "#e6f5d0"
            ],
            [
             0.7,
             "#b8e186"
            ],
            [
             0.8,
             "#7fbc41"
            ],
            [
             0.9,
             "#4d9221"
            ],
            [
             1,
             "#276419"
            ]
           ],
           "sequential": [
            [
             0,
             "#0d0887"
            ],
            [
             0.1111111111111111,
             "#46039f"
            ],
            [
             0.2222222222222222,
             "#7201a8"
            ],
            [
             0.3333333333333333,
             "#9c179e"
            ],
            [
             0.4444444444444444,
             "#bd3786"
            ],
            [
             0.5555555555555556,
             "#d8576b"
            ],
            [
             0.6666666666666666,
             "#ed7953"
            ],
            [
             0.7777777777777778,
             "#fb9f3a"
            ],
            [
             0.8888888888888888,
             "#fdca26"
            ],
            [
             1,
             "#f0f921"
            ]
           ],
           "sequentialminus": [
            [
             0,
             "#0d0887"
            ],
            [
             0.1111111111111111,
             "#46039f"
            ],
            [
             0.2222222222222222,
             "#7201a8"
            ],
            [
             0.3333333333333333,
             "#9c179e"
            ],
            [
             0.4444444444444444,
             "#bd3786"
            ],
            [
             0.5555555555555556,
             "#d8576b"
            ],
            [
             0.6666666666666666,
             "#ed7953"
            ],
            [
             0.7777777777777778,
             "#fb9f3a"
            ],
            [
             0.8888888888888888,
             "#fdca26"
            ],
            [
             1,
             "#f0f921"
            ]
           ]
          },
          "colorway": [
           "#636efa",
           "#EF553B",
           "#00cc96",
           "#ab63fa",
           "#FFA15A",
           "#19d3f3",
           "#FF6692",
           "#B6E880",
           "#FF97FF",
           "#FECB52"
          ],
          "font": {
           "color": "#2a3f5f"
          },
          "geo": {
           "bgcolor": "white",
           "lakecolor": "white",
           "landcolor": "#E5ECF6",
           "showlakes": true,
           "showland": true,
           "subunitcolor": "white"
          },
          "hoverlabel": {
           "align": "left"
          },
          "hovermode": "closest",
          "mapbox": {
           "style": "light"
          },
          "paper_bgcolor": "white",
          "plot_bgcolor": "#E5ECF6",
          "polar": {
           "angularaxis": {
            "gridcolor": "white",
            "linecolor": "white",
            "ticks": ""
           },
           "bgcolor": "#E5ECF6",
           "radialaxis": {
            "gridcolor": "white",
            "linecolor": "white",
            "ticks": ""
           }
          },
          "scene": {
           "xaxis": {
            "backgroundcolor": "#E5ECF6",
            "gridcolor": "white",
            "gridwidth": 2,
            "linecolor": "white",
            "showbackground": true,
            "ticks": "",
            "zerolinecolor": "white"
           },
           "yaxis": {
            "backgroundcolor": "#E5ECF6",
            "gridcolor": "white",
            "gridwidth": 2,
            "linecolor": "white",
            "showbackground": true,
            "ticks": "",
            "zerolinecolor": "white"
           },
           "zaxis": {
            "backgroundcolor": "#E5ECF6",
            "gridcolor": "white",
            "gridwidth": 2,
            "linecolor": "white",
            "showbackground": true,
            "ticks": "",
            "zerolinecolor": "white"
           }
          },
          "shapedefaults": {
           "line": {
            "color": "#2a3f5f"
           }
          },
          "ternary": {
           "aaxis": {
            "gridcolor": "white",
            "linecolor": "white",
            "ticks": ""
           },
           "baxis": {
            "gridcolor": "white",
            "linecolor": "white",
            "ticks": ""
           },
           "bgcolor": "#E5ECF6",
           "caxis": {
            "gridcolor": "white",
            "linecolor": "white",
            "ticks": ""
           }
          },
          "title": {
           "x": 0.05
          },
          "xaxis": {
           "automargin": true,
           "gridcolor": "white",
           "linecolor": "white",
           "ticks": "",
           "title": {
            "standoff": 15
           },
           "zerolinecolor": "white",
           "zerolinewidth": 2
          },
          "yaxis": {
           "automargin": true,
           "gridcolor": "white",
           "linecolor": "white",
           "ticks": "",
           "title": {
            "standoff": 15
           },
           "zerolinecolor": "white",
           "zerolinewidth": 2
          }
         }
        },
        "title": {
         "text": "All Comedy movies release in 2021"
        },
        "xaxis": {
         "anchor": "y",
         "domain": [
          0,
          1
         ],
         "title": {
          "text": "Name"
         }
        },
        "yaxis": {
         "anchor": "x",
         "domain": [
          0,
          1
         ],
         "title": {
          "text": "Rating"
         }
        }
       }
      },
      "text/html": [
       "<div>                            <div id=\"f38afbe9-3e98-4c1a-803f-fda6f5b29d03\" class=\"plotly-graph-div\" style=\"height:525px; width:100%;\"></div>            <script type=\"text/javascript\">                require([\"plotly\"], function(Plotly) {                    window.PLOTLYENV=window.PLOTLYENV || {};                                    if (document.getElementById(\"f38afbe9-3e98-4c1a-803f-fda6f5b29d03\")) {                    Plotly.newPlot(                        \"f38afbe9-3e98-4c1a-803f-fda6f5b29d03\",                        [{\"alignmentgroup\":\"True\",\"hovertemplate\":\"Genre=Adventure,Fantasy,Comedy,Action<br>Release month=9<br>Name=%{x}<br>Rating=%{y}<extra></extra>\",\"legendgroup\":\"Adventure,Fantasy,Comedy,Action, 9\",\"marker\":{\"color\":\"#636efa\",\"pattern\":{\"shape\":\"|\"}},\"name\":\"Adventure,Fantasy,Comedy,Action, 9\",\"offsetgroup\":\"Adventure,Fantasy,Comedy,Action, 9\",\"orientation\":\"v\",\"showlegend\":true,\"textposition\":\"auto\",\"type\":\"bar\",\"x\":[\"Jungle Cruise\"],\"xaxis\":\"x\",\"y\":[77.0],\"yaxis\":\"y\"},{\"alignmentgroup\":\"True\",\"hovertemplate\":\"Genre=Animation,Comedy,Mystery,Family,Fantasy<br>Release month=9<br>Name=%{x}<br>Rating=%{y}<extra></extra>\",\"legendgroup\":\"Animation,Comedy,Mystery,Family,Fantasy, 9\",\"marker\":{\"color\":\"#EF553B\",\"pattern\":{\"shape\":\"|\"}},\"name\":\"Animation,Comedy,Mystery,Family,Fantasy, 9\",\"offsetgroup\":\"Animation,Comedy,Mystery,Family,Fantasy, 9\",\"orientation\":\"v\",\"showlegend\":true,\"textposition\":\"auto\",\"type\":\"bar\",\"x\":[\"Straight Outta Nowhere: Scooby-Doo! Meets Courage the Cowardly Dog\"],\"xaxis\":\"x\",\"y\":[83.0],\"yaxis\":\"y\"},{\"alignmentgroup\":\"True\",\"hovertemplate\":\"Genre=Comedy<br>Release month=6<br>Name=%{x}<br>Rating=%{y}<extra></extra>\",\"legendgroup\":\"Comedy, 6\",\"marker\":{\"color\":\"#00cc96\",\"pattern\":{\"shape\":\".\"}},\"name\":\"Comedy, 6\",\"offsetgroup\":\"Comedy, 6\",\"orientation\":\"v\",\"showlegend\":true,\"textposition\":\"auto\",\"type\":\"bar\",\"x\":[\"Kids Are Back\"],\"xaxis\":\"x\",\"y\":[54.0],\"yaxis\":\"y\"},{\"alignmentgroup\":\"True\",\"hovertemplate\":\"Genre=Comedy<br>Release month=8<br>Name=%{x}<br>Rating=%{y}<extra></extra>\",\"legendgroup\":\"Comedy, 8\",\"marker\":{\"color\":\"#00cc96\",\"pattern\":{\"shape\":\"x\"}},\"name\":\"Comedy, 8\",\"offsetgroup\":\"Comedy, 8\",\"orientation\":\"v\",\"showlegend\":true,\"textposition\":\"auto\",\"type\":\"bar\",\"x\":[\"Lokillo: Nothing's the Same\"],\"xaxis\":\"x\",\"y\":[78.0],\"yaxis\":\"y\"},{\"alignmentgroup\":\"True\",\"hovertemplate\":\"Genre=Comedy<br>Release month=7<br>Name=%{x}<br>Rating=%{y}<extra></extra>\",\"legendgroup\":\"Comedy, 7\",\"marker\":{\"color\":\"#00cc96\",\"pattern\":{\"shape\":\"x\"}},\"name\":\"Comedy, 7\",\"offsetgroup\":\"Comedy, 7\",\"orientation\":\"v\",\"showlegend\":true,\"textposition\":\"auto\",\"type\":\"bar\",\"x\":[\"Bankrolled\"],\"xaxis\":\"x\",\"y\":[65.0],\"yaxis\":\"y\"},{\"alignmentgroup\":\"True\",\"hovertemplate\":\"Genre=Comedy,Romance<br>Release month=6<br>Name=%{x}<br>Rating=%{y}<extra></extra>\",\"legendgroup\":\"Comedy,Romance, 6\",\"marker\":{\"color\":\"#ab63fa\",\"pattern\":{\"shape\":\".\"}},\"name\":\"Comedy,Romance, 6\",\"offsetgroup\":\"Comedy,Romance, 6\",\"orientation\":\"v\",\"showlegend\":true,\"textposition\":\"auto\",\"type\":\"bar\",\"x\":[\"Sweet & Sour\"],\"xaxis\":\"x\",\"y\":[79.0],\"yaxis\":\"y\"},{\"alignmentgroup\":\"True\",\"hovertemplate\":\"Genre=Comedy,Romance<br>Release month=4<br>Name=%{x}<br>Rating=%{y}<extra></extra>\",\"legendgroup\":\"Comedy,Romance, 4\",\"marker\":{\"color\":\"#ab63fa\",\"pattern\":{\"shape\":\"|\"}},\"name\":\"Comedy,Romance, 4\",\"offsetgroup\":\"Comedy,Romance, 4\",\"orientation\":\"v\",\"showlegend\":true,\"textposition\":\"auto\",\"type\":\"bar\",\"x\":[\"Just Say Yes\"],\"xaxis\":\"x\",\"y\":[67.0],\"yaxis\":\"y\"},{\"alignmentgroup\":\"True\",\"hovertemplate\":\"Genre=Animation,Comedy,Fantasy<br>Release month=3<br>Name=%{x}<br>Rating=%{y}<extra></extra>\",\"legendgroup\":\"Animation,Comedy,Fantasy, 3\",\"marker\":{\"color\":\"#FFA15A\",\"pattern\":{\"shape\":\".\"}},\"name\":\"Animation,Comedy,Fantasy, 3\",\"offsetgroup\":\"Animation,Comedy,Fantasy, 3\",\"orientation\":\"v\",\"showlegend\":true,\"textposition\":\"auto\",\"type\":\"bar\",\"x\":[\"Secret Magic Control Agency\"],\"xaxis\":\"x\",\"y\":[72.0],\"yaxis\":\"y\"}],                        {\"barmode\":\"relative\",\"legend\":{\"title\":{\"text\":\"Genre, Release month\"},\"tracegroupgap\":0},\"template\":{\"data\":{\"bar\":[{\"error_x\":{\"color\":\"#2a3f5f\"},\"error_y\":{\"color\":\"#2a3f5f\"},\"marker\":{\"line\":{\"color\":\"#E5ECF6\",\"width\":0.5},\"pattern\":{\"fillmode\":\"overlay\",\"size\":10,\"solidity\":0.2}},\"type\":\"bar\"}],\"barpolar\":[{\"marker\":{\"line\":{\"color\":\"#E5ECF6\",\"width\":0.5},\"pattern\":{\"fillmode\":\"overlay\",\"size\":10,\"solidity\":0.2}},\"type\":\"barpolar\"}],\"carpet\":[{\"aaxis\":{\"endlinecolor\":\"#2a3f5f\",\"gridcolor\":\"white\",\"linecolor\":\"white\",\"minorgridcolor\":\"white\",\"startlinecolor\":\"#2a3f5f\"},\"baxis\":{\"endlinecolor\":\"#2a3f5f\",\"gridcolor\":\"white\",\"linecolor\":\"white\",\"minorgridcolor\":\"white\",\"startlinecolor\":\"#2a3f5f\"},\"type\":\"carpet\"}],\"choropleth\":[{\"colorbar\":{\"outlinewidth\":0,\"ticks\":\"\"},\"type\":\"choropleth\"}],\"contour\":[{\"colorbar\":{\"outlinewidth\":0,\"ticks\":\"\"},\"colorscale\":[[0.0,\"#0d0887\"],[0.1111111111111111,\"#46039f\"],[0.2222222222222222,\"#7201a8\"],[0.3333333333333333,\"#9c179e\"],[0.4444444444444444,\"#bd3786\"],[0.5555555555555556,\"#d8576b\"],[0.6666666666666666,\"#ed7953\"],[0.7777777777777778,\"#fb9f3a\"],[0.8888888888888888,\"#fdca26\"],[1.0,\"#f0f921\"]],\"type\":\"contour\"}],\"contourcarpet\":[{\"colorbar\":{\"outlinewidth\":0,\"ticks\":\"\"},\"type\":\"contourcarpet\"}],\"heatmap\":[{\"colorbar\":{\"outlinewidth\":0,\"ticks\":\"\"},\"colorscale\":[[0.0,\"#0d0887\"],[0.1111111111111111,\"#46039f\"],[0.2222222222222222,\"#7201a8\"],[0.3333333333333333,\"#9c179e\"],[0.4444444444444444,\"#bd3786\"],[0.5555555555555556,\"#d8576b\"],[0.6666666666666666,\"#ed7953\"],[0.7777777777777778,\"#fb9f3a\"],[0.8888888888888888,\"#fdca26\"],[1.0,\"#f0f921\"]],\"type\":\"heatmap\"}],\"heatmapgl\":[{\"colorbar\":{\"outlinewidth\":0,\"ticks\":\"\"},\"colorscale\":[[0.0,\"#0d0887\"],[0.1111111111111111,\"#46039f\"],[0.2222222222222222,\"#7201a8\"],[0.3333333333333333,\"#9c179e\"],[0.4444444444444444,\"#bd3786\"],[0.5555555555555556,\"#d8576b\"],[0.6666666666666666,\"#ed7953\"],[0.7777777777777778,\"#fb9f3a\"],[0.8888888888888888,\"#fdca26\"],[1.0,\"#f0f921\"]],\"type\":\"heatmapgl\"}],\"histogram\":[{\"marker\":{\"pattern\":{\"fillmode\":\"overlay\",\"size\":10,\"solidity\":0.2}},\"type\":\"histogram\"}],\"histogram2d\":[{\"colorbar\":{\"outlinewidth\":0,\"ticks\":\"\"},\"colorscale\":[[0.0,\"#0d0887\"],[0.1111111111111111,\"#46039f\"],[0.2222222222222222,\"#7201a8\"],[0.3333333333333333,\"#9c179e\"],[0.4444444444444444,\"#bd3786\"],[0.5555555555555556,\"#d8576b\"],[0.6666666666666666,\"#ed7953\"],[0.7777777777777778,\"#fb9f3a\"],[0.8888888888888888,\"#fdca26\"],[1.0,\"#f0f921\"]],\"type\":\"histogram2d\"}],\"histogram2dcontour\":[{\"colorbar\":{\"outlinewidth\":0,\"ticks\":\"\"},\"colorscale\":[[0.0,\"#0d0887\"],[0.1111111111111111,\"#46039f\"],[0.2222222222222222,\"#7201a8\"],[0.3333333333333333,\"#9c179e\"],[0.4444444444444444,\"#bd3786\"],[0.5555555555555556,\"#d8576b\"],[0.6666666666666666,\"#ed7953\"],[0.7777777777777778,\"#fb9f3a\"],[0.8888888888888888,\"#fdca26\"],[1.0,\"#f0f921\"]],\"type\":\"histogram2dcontour\"}],\"mesh3d\":[{\"colorbar\":{\"outlinewidth\":0,\"ticks\":\"\"},\"type\":\"mesh3d\"}],\"parcoords\":[{\"line\":{\"colorbar\":{\"outlinewidth\":0,\"ticks\":\"\"}},\"type\":\"parcoords\"}],\"pie\":[{\"automargin\":true,\"type\":\"pie\"}],\"scatter\":[{\"marker\":{\"colorbar\":{\"outlinewidth\":0,\"ticks\":\"\"}},\"type\":\"scatter\"}],\"scatter3d\":[{\"line\":{\"colorbar\":{\"outlinewidth\":0,\"ticks\":\"\"}},\"marker\":{\"colorbar\":{\"outlinewidth\":0,\"ticks\":\"\"}},\"type\":\"scatter3d\"}],\"scattercarpet\":[{\"marker\":{\"colorbar\":{\"outlinewidth\":0,\"ticks\":\"\"}},\"type\":\"scattercarpet\"}],\"scattergeo\":[{\"marker\":{\"colorbar\":{\"outlinewidth\":0,\"ticks\":\"\"}},\"type\":\"scattergeo\"}],\"scattergl\":[{\"marker\":{\"colorbar\":{\"outlinewidth\":0,\"ticks\":\"\"}},\"type\":\"scattergl\"}],\"scattermapbox\":[{\"marker\":{\"colorbar\":{\"outlinewidth\":0,\"ticks\":\"\"}},\"type\":\"scattermapbox\"}],\"scatterpolar\":[{\"marker\":{\"colorbar\":{\"outlinewidth\":0,\"ticks\":\"\"}},\"type\":\"scatterpolar\"}],\"scatterpolargl\":[{\"marker\":{\"colorbar\":{\"outlinewidth\":0,\"ticks\":\"\"}},\"type\":\"scatterpolargl\"}],\"scatterternary\":[{\"marker\":{\"colorbar\":{\"outlinewidth\":0,\"ticks\":\"\"}},\"type\":\"scatterternary\"}],\"surface\":[{\"colorbar\":{\"outlinewidth\":0,\"ticks\":\"\"},\"colorscale\":[[0.0,\"#0d0887\"],[0.1111111111111111,\"#46039f\"],[0.2222222222222222,\"#7201a8\"],[0.3333333333333333,\"#9c179e\"],[0.4444444444444444,\"#bd3786\"],[0.5555555555555556,\"#d8576b\"],[0.6666666666666666,\"#ed7953\"],[0.7777777777777778,\"#fb9f3a\"],[0.8888888888888888,\"#fdca26\"],[1.0,\"#f0f921\"]],\"type\":\"surface\"}],\"table\":[{\"cells\":{\"fill\":{\"color\":\"#EBF0F8\"},\"line\":{\"color\":\"white\"}},\"header\":{\"fill\":{\"color\":\"#C8D4E3\"},\"line\":{\"color\":\"white\"}},\"type\":\"table\"}]},\"layout\":{\"annotationdefaults\":{\"arrowcolor\":\"#2a3f5f\",\"arrowhead\":0,\"arrowwidth\":1},\"autotypenumbers\":\"strict\",\"coloraxis\":{\"colorbar\":{\"outlinewidth\":0,\"ticks\":\"\"}},\"colorscale\":{\"diverging\":[[0,\"#8e0152\"],[0.1,\"#c51b7d\"],[0.2,\"#de77ae\"],[0.3,\"#f1b6da\"],[0.4,\"#fde0ef\"],[0.5,\"#f7f7f7\"],[0.6,\"#e6f5d0\"],[0.7,\"#b8e186\"],[0.8,\"#7fbc41\"],[0.9,\"#4d9221\"],[1,\"#276419\"]],\"sequential\":[[0.0,\"#0d0887\"],[0.1111111111111111,\"#46039f\"],[0.2222222222222222,\"#7201a8\"],[0.3333333333333333,\"#9c179e\"],[0.4444444444444444,\"#bd3786\"],[0.5555555555555556,\"#d8576b\"],[0.6666666666666666,\"#ed7953\"],[0.7777777777777778,\"#fb9f3a\"],[0.8888888888888888,\"#fdca26\"],[1.0,\"#f0f921\"]],\"sequentialminus\":[[0.0,\"#0d0887\"],[0.1111111111111111,\"#46039f\"],[0.2222222222222222,\"#7201a8\"],[0.3333333333333333,\"#9c179e\"],[0.4444444444444444,\"#bd3786\"],[0.5555555555555556,\"#d8576b\"],[0.6666666666666666,\"#ed7953\"],[0.7777777777777778,\"#fb9f3a\"],[0.8888888888888888,\"#fdca26\"],[1.0,\"#f0f921\"]]},\"colorway\":[\"#636efa\",\"#EF553B\",\"#00cc96\",\"#ab63fa\",\"#FFA15A\",\"#19d3f3\",\"#FF6692\",\"#B6E880\",\"#FF97FF\",\"#FECB52\"],\"font\":{\"color\":\"#2a3f5f\"},\"geo\":{\"bgcolor\":\"white\",\"lakecolor\":\"white\",\"landcolor\":\"#E5ECF6\",\"showlakes\":true,\"showland\":true,\"subunitcolor\":\"white\"},\"hoverlabel\":{\"align\":\"left\"},\"hovermode\":\"closest\",\"mapbox\":{\"style\":\"light\"},\"paper_bgcolor\":\"white\",\"plot_bgcolor\":\"#E5ECF6\",\"polar\":{\"angularaxis\":{\"gridcolor\":\"white\",\"linecolor\":\"white\",\"ticks\":\"\"},\"bgcolor\":\"#E5ECF6\",\"radialaxis\":{\"gridcolor\":\"white\",\"linecolor\":\"white\",\"ticks\":\"\"}},\"scene\":{\"xaxis\":{\"backgroundcolor\":\"#E5ECF6\",\"gridcolor\":\"white\",\"gridwidth\":2,\"linecolor\":\"white\",\"showbackground\":true,\"ticks\":\"\",\"zerolinecolor\":\"white\"},\"yaxis\":{\"backgroundcolor\":\"#E5ECF6\",\"gridcolor\":\"white\",\"gridwidth\":2,\"linecolor\":\"white\",\"showbackground\":true,\"ticks\":\"\",\"zerolinecolor\":\"white\"},\"zaxis\":{\"backgroundcolor\":\"#E5ECF6\",\"gridcolor\":\"white\",\"gridwidth\":2,\"linecolor\":\"white\",\"showbackground\":true,\"ticks\":\"\",\"zerolinecolor\":\"white\"}},\"shapedefaults\":{\"line\":{\"color\":\"#2a3f5f\"}},\"ternary\":{\"aaxis\":{\"gridcolor\":\"white\",\"linecolor\":\"white\",\"ticks\":\"\"},\"baxis\":{\"gridcolor\":\"white\",\"linecolor\":\"white\",\"ticks\":\"\"},\"bgcolor\":\"#E5ECF6\",\"caxis\":{\"gridcolor\":\"white\",\"linecolor\":\"white\",\"ticks\":\"\"}},\"title\":{\"x\":0.05},\"xaxis\":{\"automargin\":true,\"gridcolor\":\"white\",\"linecolor\":\"white\",\"ticks\":\"\",\"title\":{\"standoff\":15},\"zerolinecolor\":\"white\",\"zerolinewidth\":2},\"yaxis\":{\"automargin\":true,\"gridcolor\":\"white\",\"linecolor\":\"white\",\"ticks\":\"\",\"title\":{\"standoff\":15},\"zerolinecolor\":\"white\",\"zerolinewidth\":2}}},\"title\":{\"text\":\"All Comedy movies release in 2021\"},\"xaxis\":{\"anchor\":\"y\",\"domain\":[0.0,1.0],\"title\":{\"text\":\"Name\"}},\"yaxis\":{\"anchor\":\"x\",\"domain\":[0.0,1.0],\"title\":{\"text\":\"Rating\"}}},                        {\"responsive\": true}                    ).then(function(){\n",
       "                            \n",
       "var gd = document.getElementById('f38afbe9-3e98-4c1a-803f-fda6f5b29d03');\n",
       "var x = new MutationObserver(function (mutations, observer) {{\n",
       "        var display = window.getComputedStyle(gd).display;\n",
       "        if (!display || display === 'none') {{\n",
       "            console.log([gd, 'removed!']);\n",
       "            Plotly.purge(gd);\n",
       "            observer.disconnect();\n",
       "        }}\n",
       "}});\n",
       "\n",
       "// Listen for the removal of the full notebook cells\n",
       "var notebookContainer = gd.closest('#notebook-container');\n",
       "if (notebookContainer) {{\n",
       "    x.observe(notebookContainer, {childList: true});\n",
       "}}\n",
       "\n",
       "// Listen for the clearing of the current output cell\n",
       "var outputEl = gd.closest('.output');\n",
       "if (outputEl) {{\n",
       "    x.observe(outputEl, {childList: true});\n",
       "}}\n",
       "\n",
       "                        })                };                });            </script>        </div>"
      ]
     },
     "metadata": {},
     "output_type": "display_data"
    }
   ],
   "source": [
    "fig = px.bar(comedy_2021, x=\"Name\", y=\"Rating\", color=\"Genre\",\n",
    "             pattern_shape=\"Release month\", pattern_shape_sequence=[\"|\", \".\", \"x\"],title='All Comedy movies release in 2021')\n",
    "fig.show()"
   ]
  },
  {
   "cell_type": "markdown",
   "id": "c7af7509",
   "metadata": {},
   "source": [
    "# All Horror movies release in 2021 "
   ]
  },
  {
   "cell_type": "code",
   "execution_count": 251,
   "id": "979adb4a",
   "metadata": {},
   "outputs": [
    {
     "data": {
      "text/html": [
       "<div>\n",
       "<style scoped>\n",
       "    .dataframe tbody tr th:only-of-type {\n",
       "        vertical-align: middle;\n",
       "    }\n",
       "\n",
       "    .dataframe tbody tr th {\n",
       "        vertical-align: top;\n",
       "    }\n",
       "\n",
       "    .dataframe thead th {\n",
       "        text-align: right;\n",
       "    }\n",
       "</style>\n",
       "<table border=\"1\" class=\"dataframe\">\n",
       "  <thead>\n",
       "    <tr style=\"text-align: right;\">\n",
       "      <th></th>\n",
       "      <th>Name</th>\n",
       "      <th>Rating</th>\n",
       "      <th>Genre</th>\n",
       "      <th>Release date</th>\n",
       "      <th>Runtime</th>\n",
       "      <th>Director</th>\n",
       "      <th>Budget ($)</th>\n",
       "      <th>Revenue ($)</th>\n",
       "      <th>Url</th>\n",
       "      <th>Release year</th>\n",
       "      <th>Release month</th>\n",
       "    </tr>\n",
       "  </thead>\n",
       "  <tbody>\n",
       "    <tr>\n",
       "      <th>3</th>\n",
       "      <td>Separation</td>\n",
       "      <td>59.0</td>\n",
       "      <td>Horror</td>\n",
       "      <td>2021-04-30</td>\n",
       "      <td>1h 47m</td>\n",
       "      <td>William Brent Bell</td>\n",
       "      <td>NaN</td>\n",
       "      <td>NaN</td>\n",
       "      <td>https://www.themoviedb.org//movie/760195</td>\n",
       "      <td>2021</td>\n",
       "      <td>4</td>\n",
       "    </tr>\n",
       "    <tr>\n",
       "      <th>4</th>\n",
       "      <td>Demonic</td>\n",
       "      <td>49.0</td>\n",
       "      <td>Horror,Thriller</td>\n",
       "      <td>2021-08-20</td>\n",
       "      <td>1h 44m</td>\n",
       "      <td>Neill Blomkamp</td>\n",
       "      <td>NaN</td>\n",
       "      <td>NaN</td>\n",
       "      <td>https://www.themoviedb.org//movie/774021</td>\n",
       "      <td>2021</td>\n",
       "      <td>8</td>\n",
       "    </tr>\n",
       "    <tr>\n",
       "      <th>44</th>\n",
       "      <td>Aftermath</td>\n",
       "      <td>66.0</td>\n",
       "      <td>Horror,Crime,Drama,Thriller</td>\n",
       "      <td>2021-08-04</td>\n",
       "      <td>1h 54m</td>\n",
       "      <td>Peter Winther</td>\n",
       "      <td>NaN</td>\n",
       "      <td>NaN</td>\n",
       "      <td>https://www.themoviedb.org//movie/763149</td>\n",
       "      <td>2021</td>\n",
       "      <td>8</td>\n",
       "    </tr>\n",
       "    <tr>\n",
       "      <th>109</th>\n",
       "      <td>Jeepers Creepers: Reborn</td>\n",
       "      <td>63.0</td>\n",
       "      <td>Horror,Thriller</td>\n",
       "      <td>2021-12-23</td>\n",
       "      <td>1h 51m</td>\n",
       "      <td>Kevin Williamson</td>\n",
       "      <td>$40,000,000.00</td>\n",
       "      <td>$97,231,420.00</td>\n",
       "      <td>https://www.themoviedb.org//movie/717728</td>\n",
       "      <td>2021</td>\n",
       "      <td>12</td>\n",
       "    </tr>\n",
       "    <tr>\n",
       "      <th>116</th>\n",
       "      <td>Torcidos</td>\n",
       "      <td>69.0</td>\n",
       "      <td>Horror</td>\n",
       "      <td>2021-08-27</td>\n",
       "      <td>1h 50m</td>\n",
       "      <td>David Koepp</td>\n",
       "      <td>$80,000,000.00</td>\n",
       "      <td>$457,731,198.00</td>\n",
       "      <td>https://www.themoviedb.org//movie/866343</td>\n",
       "      <td>2021</td>\n",
       "      <td>8</td>\n",
       "    </tr>\n",
       "  </tbody>\n",
       "</table>\n",
       "</div>"
      ],
      "text/plain": [
       "                         Name  Rating                        Genre  \\\n",
       "3                  Separation    59.0                       Horror   \n",
       "4                     Demonic    49.0              Horror,Thriller   \n",
       "44                  Aftermath    66.0  Horror,Crime,Drama,Thriller   \n",
       "109  Jeepers Creepers: Reborn    63.0              Horror,Thriller   \n",
       "116                  Torcidos    69.0                       Horror   \n",
       "\n",
       "    Release date Runtime            Director      Budget ($)     Revenue ($)   \\\n",
       "3     2021-04-30  1h 47m  William Brent Bell             NaN              NaN   \n",
       "4     2021-08-20  1h 44m      Neill Blomkamp             NaN              NaN   \n",
       "44    2021-08-04  1h 54m       Peter Winther             NaN              NaN   \n",
       "109   2021-12-23  1h 51m    Kevin Williamson  $40,000,000.00   $97,231,420.00   \n",
       "116   2021-08-27  1h 50m         David Koepp  $80,000,000.00  $457,731,198.00   \n",
       "\n",
       "                                          Url  Release year  Release month  \n",
       "3    https://www.themoviedb.org//movie/760195          2021              4  \n",
       "4    https://www.themoviedb.org//movie/774021          2021              8  \n",
       "44   https://www.themoviedb.org//movie/763149          2021              8  \n",
       "109  https://www.themoviedb.org//movie/717728          2021             12  \n",
       "116  https://www.themoviedb.org//movie/866343          2021              8  "
      ]
     },
     "execution_count": 251,
     "metadata": {},
     "output_type": "execute_result"
    }
   ],
   "source": [
    "horror_2021 = movies_df[(movies_df['Genre'].str.contains('Horror')) & (movies_df['Release year']==2021)]\n",
    "horror_2021"
   ]
  },
  {
   "cell_type": "code",
   "execution_count": 268,
   "id": "dc7ef1e4",
   "metadata": {},
   "outputs": [
    {
     "data": {
      "application/vnd.plotly.v1+json": {
       "config": {
        "plotlyServerURL": "https://plot.ly"
       },
       "data": [
        {
         "customdata": [
          [
           "William Brent Bell"
          ],
          [
           "David Koepp"
          ]
         ],
         "hovertemplate": "Genre=Horror<br>Name=%{x}<br>Rating=%{marker.size}<br>Director=%{customdata[0]}<extra></extra>",
         "legendgroup": "Horror",
         "marker": {
          "color": "#636efa",
          "size": [
           59,
           69
          ],
          "sizemode": "area",
          "sizeref": 0.0276,
          "symbol": "circle"
         },
         "mode": "markers",
         "name": "Horror",
         "orientation": "v",
         "showlegend": true,
         "type": "scatter",
         "x": [
          "Separation",
          "Torcidos"
         ],
         "xaxis": "x",
         "y": [
          59,
          69
         ],
         "yaxis": "y"
        },
        {
         "customdata": [
          [
           "Neill Blomkamp"
          ],
          [
           "Kevin Williamson"
          ]
         ],
         "hovertemplate": "Genre=Horror,Thriller<br>Name=%{x}<br>Rating=%{marker.size}<br>Director=%{customdata[0]}<extra></extra>",
         "legendgroup": "Horror,Thriller",
         "marker": {
          "color": "#EF553B",
          "size": [
           49,
           63
          ],
          "sizemode": "area",
          "sizeref": 0.0276,
          "symbol": "circle"
         },
         "mode": "markers",
         "name": "Horror,Thriller",
         "orientation": "v",
         "showlegend": true,
         "type": "scatter",
         "x": [
          "Demonic",
          "Jeepers Creepers: Reborn"
         ],
         "xaxis": "x",
         "y": [
          49,
          63
         ],
         "yaxis": "y"
        },
        {
         "customdata": [
          [
           "Peter Winther"
          ]
         ],
         "hovertemplate": "Genre=Horror,Crime,Drama,Thriller<br>Name=%{x}<br>Rating=%{marker.size}<br>Director=%{customdata[0]}<extra></extra>",
         "legendgroup": "Horror,Crime,Drama,Thriller",
         "marker": {
          "color": "#00cc96",
          "size": [
           66
          ],
          "sizemode": "area",
          "sizeref": 0.0276,
          "symbol": "circle"
         },
         "mode": "markers",
         "name": "Horror,Crime,Drama,Thriller",
         "orientation": "v",
         "showlegend": true,
         "type": "scatter",
         "x": [
          "Aftermath"
         ],
         "xaxis": "x",
         "y": [
          66
         ],
         "yaxis": "y"
        }
       ],
       "layout": {
        "legend": {
         "itemsizing": "constant",
         "title": {
          "text": "Genre"
         },
         "tracegroupgap": 0
        },
        "template": {
         "data": {
          "bar": [
           {
            "error_x": {
             "color": "#2a3f5f"
            },
            "error_y": {
             "color": "#2a3f5f"
            },
            "marker": {
             "line": {
              "color": "#E5ECF6",
              "width": 0.5
             },
             "pattern": {
              "fillmode": "overlay",
              "size": 10,
              "solidity": 0.2
             }
            },
            "type": "bar"
           }
          ],
          "barpolar": [
           {
            "marker": {
             "line": {
              "color": "#E5ECF6",
              "width": 0.5
             },
             "pattern": {
              "fillmode": "overlay",
              "size": 10,
              "solidity": 0.2
             }
            },
            "type": "barpolar"
           }
          ],
          "carpet": [
           {
            "aaxis": {
             "endlinecolor": "#2a3f5f",
             "gridcolor": "white",
             "linecolor": "white",
             "minorgridcolor": "white",
             "startlinecolor": "#2a3f5f"
            },
            "baxis": {
             "endlinecolor": "#2a3f5f",
             "gridcolor": "white",
             "linecolor": "white",
             "minorgridcolor": "white",
             "startlinecolor": "#2a3f5f"
            },
            "type": "carpet"
           }
          ],
          "choropleth": [
           {
            "colorbar": {
             "outlinewidth": 0,
             "ticks": ""
            },
            "type": "choropleth"
           }
          ],
          "contour": [
           {
            "colorbar": {
             "outlinewidth": 0,
             "ticks": ""
            },
            "colorscale": [
             [
              0,
              "#0d0887"
             ],
             [
              0.1111111111111111,
              "#46039f"
             ],
             [
              0.2222222222222222,
              "#7201a8"
             ],
             [
              0.3333333333333333,
              "#9c179e"
             ],
             [
              0.4444444444444444,
              "#bd3786"
             ],
             [
              0.5555555555555556,
              "#d8576b"
             ],
             [
              0.6666666666666666,
              "#ed7953"
             ],
             [
              0.7777777777777778,
              "#fb9f3a"
             ],
             [
              0.8888888888888888,
              "#fdca26"
             ],
             [
              1,
              "#f0f921"
             ]
            ],
            "type": "contour"
           }
          ],
          "contourcarpet": [
           {
            "colorbar": {
             "outlinewidth": 0,
             "ticks": ""
            },
            "type": "contourcarpet"
           }
          ],
          "heatmap": [
           {
            "colorbar": {
             "outlinewidth": 0,
             "ticks": ""
            },
            "colorscale": [
             [
              0,
              "#0d0887"
             ],
             [
              0.1111111111111111,
              "#46039f"
             ],
             [
              0.2222222222222222,
              "#7201a8"
             ],
             [
              0.3333333333333333,
              "#9c179e"
             ],
             [
              0.4444444444444444,
              "#bd3786"
             ],
             [
              0.5555555555555556,
              "#d8576b"
             ],
             [
              0.6666666666666666,
              "#ed7953"
             ],
             [
              0.7777777777777778,
              "#fb9f3a"
             ],
             [
              0.8888888888888888,
              "#fdca26"
             ],
             [
              1,
              "#f0f921"
             ]
            ],
            "type": "heatmap"
           }
          ],
          "heatmapgl": [
           {
            "colorbar": {
             "outlinewidth": 0,
             "ticks": ""
            },
            "colorscale": [
             [
              0,
              "#0d0887"
             ],
             [
              0.1111111111111111,
              "#46039f"
             ],
             [
              0.2222222222222222,
              "#7201a8"
             ],
             [
              0.3333333333333333,
              "#9c179e"
             ],
             [
              0.4444444444444444,
              "#bd3786"
             ],
             [
              0.5555555555555556,
              "#d8576b"
             ],
             [
              0.6666666666666666,
              "#ed7953"
             ],
             [
              0.7777777777777778,
              "#fb9f3a"
             ],
             [
              0.8888888888888888,
              "#fdca26"
             ],
             [
              1,
              "#f0f921"
             ]
            ],
            "type": "heatmapgl"
           }
          ],
          "histogram": [
           {
            "marker": {
             "pattern": {
              "fillmode": "overlay",
              "size": 10,
              "solidity": 0.2
             }
            },
            "type": "histogram"
           }
          ],
          "histogram2d": [
           {
            "colorbar": {
             "outlinewidth": 0,
             "ticks": ""
            },
            "colorscale": [
             [
              0,
              "#0d0887"
             ],
             [
              0.1111111111111111,
              "#46039f"
             ],
             [
              0.2222222222222222,
              "#7201a8"
             ],
             [
              0.3333333333333333,
              "#9c179e"
             ],
             [
              0.4444444444444444,
              "#bd3786"
             ],
             [
              0.5555555555555556,
              "#d8576b"
             ],
             [
              0.6666666666666666,
              "#ed7953"
             ],
             [
              0.7777777777777778,
              "#fb9f3a"
             ],
             [
              0.8888888888888888,
              "#fdca26"
             ],
             [
              1,
              "#f0f921"
             ]
            ],
            "type": "histogram2d"
           }
          ],
          "histogram2dcontour": [
           {
            "colorbar": {
             "outlinewidth": 0,
             "ticks": ""
            },
            "colorscale": [
             [
              0,
              "#0d0887"
             ],
             [
              0.1111111111111111,
              "#46039f"
             ],
             [
              0.2222222222222222,
              "#7201a8"
             ],
             [
              0.3333333333333333,
              "#9c179e"
             ],
             [
              0.4444444444444444,
              "#bd3786"
             ],
             [
              0.5555555555555556,
              "#d8576b"
             ],
             [
              0.6666666666666666,
              "#ed7953"
             ],
             [
              0.7777777777777778,
              "#fb9f3a"
             ],
             [
              0.8888888888888888,
              "#fdca26"
             ],
             [
              1,
              "#f0f921"
             ]
            ],
            "type": "histogram2dcontour"
           }
          ],
          "mesh3d": [
           {
            "colorbar": {
             "outlinewidth": 0,
             "ticks": ""
            },
            "type": "mesh3d"
           }
          ],
          "parcoords": [
           {
            "line": {
             "colorbar": {
              "outlinewidth": 0,
              "ticks": ""
             }
            },
            "type": "parcoords"
           }
          ],
          "pie": [
           {
            "automargin": true,
            "type": "pie"
           }
          ],
          "scatter": [
           {
            "marker": {
             "colorbar": {
              "outlinewidth": 0,
              "ticks": ""
             }
            },
            "type": "scatter"
           }
          ],
          "scatter3d": [
           {
            "line": {
             "colorbar": {
              "outlinewidth": 0,
              "ticks": ""
             }
            },
            "marker": {
             "colorbar": {
              "outlinewidth": 0,
              "ticks": ""
             }
            },
            "type": "scatter3d"
           }
          ],
          "scattercarpet": [
           {
            "marker": {
             "colorbar": {
              "outlinewidth": 0,
              "ticks": ""
             }
            },
            "type": "scattercarpet"
           }
          ],
          "scattergeo": [
           {
            "marker": {
             "colorbar": {
              "outlinewidth": 0,
              "ticks": ""
             }
            },
            "type": "scattergeo"
           }
          ],
          "scattergl": [
           {
            "marker": {
             "colorbar": {
              "outlinewidth": 0,
              "ticks": ""
             }
            },
            "type": "scattergl"
           }
          ],
          "scattermapbox": [
           {
            "marker": {
             "colorbar": {
              "outlinewidth": 0,
              "ticks": ""
             }
            },
            "type": "scattermapbox"
           }
          ],
          "scatterpolar": [
           {
            "marker": {
             "colorbar": {
              "outlinewidth": 0,
              "ticks": ""
             }
            },
            "type": "scatterpolar"
           }
          ],
          "scatterpolargl": [
           {
            "marker": {
             "colorbar": {
              "outlinewidth": 0,
              "ticks": ""
             }
            },
            "type": "scatterpolargl"
           }
          ],
          "scatterternary": [
           {
            "marker": {
             "colorbar": {
              "outlinewidth": 0,
              "ticks": ""
             }
            },
            "type": "scatterternary"
           }
          ],
          "surface": [
           {
            "colorbar": {
             "outlinewidth": 0,
             "ticks": ""
            },
            "colorscale": [
             [
              0,
              "#0d0887"
             ],
             [
              0.1111111111111111,
              "#46039f"
             ],
             [
              0.2222222222222222,
              "#7201a8"
             ],
             [
              0.3333333333333333,
              "#9c179e"
             ],
             [
              0.4444444444444444,
              "#bd3786"
             ],
             [
              0.5555555555555556,
              "#d8576b"
             ],
             [
              0.6666666666666666,
              "#ed7953"
             ],
             [
              0.7777777777777778,
              "#fb9f3a"
             ],
             [
              0.8888888888888888,
              "#fdca26"
             ],
             [
              1,
              "#f0f921"
             ]
            ],
            "type": "surface"
           }
          ],
          "table": [
           {
            "cells": {
             "fill": {
              "color": "#EBF0F8"
             },
             "line": {
              "color": "white"
             }
            },
            "header": {
             "fill": {
              "color": "#C8D4E3"
             },
             "line": {
              "color": "white"
             }
            },
            "type": "table"
           }
          ]
         },
         "layout": {
          "annotationdefaults": {
           "arrowcolor": "#2a3f5f",
           "arrowhead": 0,
           "arrowwidth": 1
          },
          "autotypenumbers": "strict",
          "coloraxis": {
           "colorbar": {
            "outlinewidth": 0,
            "ticks": ""
           }
          },
          "colorscale": {
           "diverging": [
            [
             0,
             "#8e0152"
            ],
            [
             0.1,
             "#c51b7d"
            ],
            [
             0.2,
             "#de77ae"
            ],
            [
             0.3,
             "#f1b6da"
            ],
            [
             0.4,
             "#fde0ef"
            ],
            [
             0.5,
             "#f7f7f7"
            ],
            [
             0.6,
             "#e6f5d0"
            ],
            [
             0.7,
             "#b8e186"
            ],
            [
             0.8,
             "#7fbc41"
            ],
            [
             0.9,
             "#4d9221"
            ],
            [
             1,
             "#276419"
            ]
           ],
           "sequential": [
            [
             0,
             "#0d0887"
            ],
            [
             0.1111111111111111,
             "#46039f"
            ],
            [
             0.2222222222222222,
             "#7201a8"
            ],
            [
             0.3333333333333333,
             "#9c179e"
            ],
            [
             0.4444444444444444,
             "#bd3786"
            ],
            [
             0.5555555555555556,
             "#d8576b"
            ],
            [
             0.6666666666666666,
             "#ed7953"
            ],
            [
             0.7777777777777778,
             "#fb9f3a"
            ],
            [
             0.8888888888888888,
             "#fdca26"
            ],
            [
             1,
             "#f0f921"
            ]
           ],
           "sequentialminus": [
            [
             0,
             "#0d0887"
            ],
            [
             0.1111111111111111,
             "#46039f"
            ],
            [
             0.2222222222222222,
             "#7201a8"
            ],
            [
             0.3333333333333333,
             "#9c179e"
            ],
            [
             0.4444444444444444,
             "#bd3786"
            ],
            [
             0.5555555555555556,
             "#d8576b"
            ],
            [
             0.6666666666666666,
             "#ed7953"
            ],
            [
             0.7777777777777778,
             "#fb9f3a"
            ],
            [
             0.8888888888888888,
             "#fdca26"
            ],
            [
             1,
             "#f0f921"
            ]
           ]
          },
          "colorway": [
           "#636efa",
           "#EF553B",
           "#00cc96",
           "#ab63fa",
           "#FFA15A",
           "#19d3f3",
           "#FF6692",
           "#B6E880",
           "#FF97FF",
           "#FECB52"
          ],
          "font": {
           "color": "#2a3f5f"
          },
          "geo": {
           "bgcolor": "white",
           "lakecolor": "white",
           "landcolor": "#E5ECF6",
           "showlakes": true,
           "showland": true,
           "subunitcolor": "white"
          },
          "hoverlabel": {
           "align": "left"
          },
          "hovermode": "closest",
          "mapbox": {
           "style": "light"
          },
          "paper_bgcolor": "white",
          "plot_bgcolor": "#E5ECF6",
          "polar": {
           "angularaxis": {
            "gridcolor": "white",
            "linecolor": "white",
            "ticks": ""
           },
           "bgcolor": "#E5ECF6",
           "radialaxis": {
            "gridcolor": "white",
            "linecolor": "white",
            "ticks": ""
           }
          },
          "scene": {
           "xaxis": {
            "backgroundcolor": "#E5ECF6",
            "gridcolor": "white",
            "gridwidth": 2,
            "linecolor": "white",
            "showbackground": true,
            "ticks": "",
            "zerolinecolor": "white"
           },
           "yaxis": {
            "backgroundcolor": "#E5ECF6",
            "gridcolor": "white",
            "gridwidth": 2,
            "linecolor": "white",
            "showbackground": true,
            "ticks": "",
            "zerolinecolor": "white"
           },
           "zaxis": {
            "backgroundcolor": "#E5ECF6",
            "gridcolor": "white",
            "gridwidth": 2,
            "linecolor": "white",
            "showbackground": true,
            "ticks": "",
            "zerolinecolor": "white"
           }
          },
          "shapedefaults": {
           "line": {
            "color": "#2a3f5f"
           }
          },
          "ternary": {
           "aaxis": {
            "gridcolor": "white",
            "linecolor": "white",
            "ticks": ""
           },
           "baxis": {
            "gridcolor": "white",
            "linecolor": "white",
            "ticks": ""
           },
           "bgcolor": "#E5ECF6",
           "caxis": {
            "gridcolor": "white",
            "linecolor": "white",
            "ticks": ""
           }
          },
          "title": {
           "x": 0.05
          },
          "xaxis": {
           "automargin": true,
           "gridcolor": "white",
           "linecolor": "white",
           "ticks": "",
           "title": {
            "standoff": 15
           },
           "zerolinecolor": "white",
           "zerolinewidth": 2
          },
          "yaxis": {
           "automargin": true,
           "gridcolor": "white",
           "linecolor": "white",
           "ticks": "",
           "title": {
            "standoff": 15
           },
           "zerolinecolor": "white",
           "zerolinewidth": 2
          }
         }
        },
        "title": {
         "text": "All Horror movies release in 2021"
        },
        "xaxis": {
         "anchor": "y",
         "domain": [
          0,
          1
         ],
         "title": {
          "text": "Name"
         }
        },
        "yaxis": {
         "anchor": "x",
         "domain": [
          0,
          1
         ],
         "title": {
          "text": "Rating"
         }
        }
       }
      },
      "text/html": [
       "<div>                            <div id=\"3fbd5fbf-0aaf-4f73-a5fe-be21dfd854f3\" class=\"plotly-graph-div\" style=\"height:525px; width:100%;\"></div>            <script type=\"text/javascript\">                require([\"plotly\"], function(Plotly) {                    window.PLOTLYENV=window.PLOTLYENV || {};                                    if (document.getElementById(\"3fbd5fbf-0aaf-4f73-a5fe-be21dfd854f3\")) {                    Plotly.newPlot(                        \"3fbd5fbf-0aaf-4f73-a5fe-be21dfd854f3\",                        [{\"customdata\":[[\"William Brent Bell\"],[\"David Koepp\"]],\"hovertemplate\":\"Genre=Horror<br>Name=%{x}<br>Rating=%{marker.size}<br>Director=%{customdata[0]}<extra></extra>\",\"legendgroup\":\"Horror\",\"marker\":{\"color\":\"#636efa\",\"size\":[59.0,69.0],\"sizemode\":\"area\",\"sizeref\":0.0276,\"symbol\":\"circle\"},\"mode\":\"markers\",\"name\":\"Horror\",\"orientation\":\"v\",\"showlegend\":true,\"type\":\"scatter\",\"x\":[\"Separation\",\"Torcidos\"],\"xaxis\":\"x\",\"y\":[59.0,69.0],\"yaxis\":\"y\"},{\"customdata\":[[\"Neill Blomkamp\"],[\"Kevin Williamson\"]],\"hovertemplate\":\"Genre=Horror,Thriller<br>Name=%{x}<br>Rating=%{marker.size}<br>Director=%{customdata[0]}<extra></extra>\",\"legendgroup\":\"Horror,Thriller\",\"marker\":{\"color\":\"#EF553B\",\"size\":[49.0,63.0],\"sizemode\":\"area\",\"sizeref\":0.0276,\"symbol\":\"circle\"},\"mode\":\"markers\",\"name\":\"Horror,Thriller\",\"orientation\":\"v\",\"showlegend\":true,\"type\":\"scatter\",\"x\":[\"Demonic\",\"Jeepers Creepers: Reborn\"],\"xaxis\":\"x\",\"y\":[49.0,63.0],\"yaxis\":\"y\"},{\"customdata\":[[\"Peter Winther\"]],\"hovertemplate\":\"Genre=Horror,Crime,Drama,Thriller<br>Name=%{x}<br>Rating=%{marker.size}<br>Director=%{customdata[0]}<extra></extra>\",\"legendgroup\":\"Horror,Crime,Drama,Thriller\",\"marker\":{\"color\":\"#00cc96\",\"size\":[66.0],\"sizemode\":\"area\",\"sizeref\":0.0276,\"symbol\":\"circle\"},\"mode\":\"markers\",\"name\":\"Horror,Crime,Drama,Thriller\",\"orientation\":\"v\",\"showlegend\":true,\"type\":\"scatter\",\"x\":[\"Aftermath\"],\"xaxis\":\"x\",\"y\":[66.0],\"yaxis\":\"y\"}],                        {\"legend\":{\"itemsizing\":\"constant\",\"title\":{\"text\":\"Genre\"},\"tracegroupgap\":0},\"template\":{\"data\":{\"bar\":[{\"error_x\":{\"color\":\"#2a3f5f\"},\"error_y\":{\"color\":\"#2a3f5f\"},\"marker\":{\"line\":{\"color\":\"#E5ECF6\",\"width\":0.5},\"pattern\":{\"fillmode\":\"overlay\",\"size\":10,\"solidity\":0.2}},\"type\":\"bar\"}],\"barpolar\":[{\"marker\":{\"line\":{\"color\":\"#E5ECF6\",\"width\":0.5},\"pattern\":{\"fillmode\":\"overlay\",\"size\":10,\"solidity\":0.2}},\"type\":\"barpolar\"}],\"carpet\":[{\"aaxis\":{\"endlinecolor\":\"#2a3f5f\",\"gridcolor\":\"white\",\"linecolor\":\"white\",\"minorgridcolor\":\"white\",\"startlinecolor\":\"#2a3f5f\"},\"baxis\":{\"endlinecolor\":\"#2a3f5f\",\"gridcolor\":\"white\",\"linecolor\":\"white\",\"minorgridcolor\":\"white\",\"startlinecolor\":\"#2a3f5f\"},\"type\":\"carpet\"}],\"choropleth\":[{\"colorbar\":{\"outlinewidth\":0,\"ticks\":\"\"},\"type\":\"choropleth\"}],\"contour\":[{\"colorbar\":{\"outlinewidth\":0,\"ticks\":\"\"},\"colorscale\":[[0.0,\"#0d0887\"],[0.1111111111111111,\"#46039f\"],[0.2222222222222222,\"#7201a8\"],[0.3333333333333333,\"#9c179e\"],[0.4444444444444444,\"#bd3786\"],[0.5555555555555556,\"#d8576b\"],[0.6666666666666666,\"#ed7953\"],[0.7777777777777778,\"#fb9f3a\"],[0.8888888888888888,\"#fdca26\"],[1.0,\"#f0f921\"]],\"type\":\"contour\"}],\"contourcarpet\":[{\"colorbar\":{\"outlinewidth\":0,\"ticks\":\"\"},\"type\":\"contourcarpet\"}],\"heatmap\":[{\"colorbar\":{\"outlinewidth\":0,\"ticks\":\"\"},\"colorscale\":[[0.0,\"#0d0887\"],[0.1111111111111111,\"#46039f\"],[0.2222222222222222,\"#7201a8\"],[0.3333333333333333,\"#9c179e\"],[0.4444444444444444,\"#bd3786\"],[0.5555555555555556,\"#d8576b\"],[0.6666666666666666,\"#ed7953\"],[0.7777777777777778,\"#fb9f3a\"],[0.8888888888888888,\"#fdca26\"],[1.0,\"#f0f921\"]],\"type\":\"heatmap\"}],\"heatmapgl\":[{\"colorbar\":{\"outlinewidth\":0,\"ticks\":\"\"},\"colorscale\":[[0.0,\"#0d0887\"],[0.1111111111111111,\"#46039f\"],[0.2222222222222222,\"#7201a8\"],[0.3333333333333333,\"#9c179e\"],[0.4444444444444444,\"#bd3786\"],[0.5555555555555556,\"#d8576b\"],[0.6666666666666666,\"#ed7953\"],[0.7777777777777778,\"#fb9f3a\"],[0.8888888888888888,\"#fdca26\"],[1.0,\"#f0f921\"]],\"type\":\"heatmapgl\"}],\"histogram\":[{\"marker\":{\"pattern\":{\"fillmode\":\"overlay\",\"size\":10,\"solidity\":0.2}},\"type\":\"histogram\"}],\"histogram2d\":[{\"colorbar\":{\"outlinewidth\":0,\"ticks\":\"\"},\"colorscale\":[[0.0,\"#0d0887\"],[0.1111111111111111,\"#46039f\"],[0.2222222222222222,\"#7201a8\"],[0.3333333333333333,\"#9c179e\"],[0.4444444444444444,\"#bd3786\"],[0.5555555555555556,\"#d8576b\"],[0.6666666666666666,\"#ed7953\"],[0.7777777777777778,\"#fb9f3a\"],[0.8888888888888888,\"#fdca26\"],[1.0,\"#f0f921\"]],\"type\":\"histogram2d\"}],\"histogram2dcontour\":[{\"colorbar\":{\"outlinewidth\":0,\"ticks\":\"\"},\"colorscale\":[[0.0,\"#0d0887\"],[0.1111111111111111,\"#46039f\"],[0.2222222222222222,\"#7201a8\"],[0.3333333333333333,\"#9c179e\"],[0.4444444444444444,\"#bd3786\"],[0.5555555555555556,\"#d8576b\"],[0.6666666666666666,\"#ed7953\"],[0.7777777777777778,\"#fb9f3a\"],[0.8888888888888888,\"#fdca26\"],[1.0,\"#f0f921\"]],\"type\":\"histogram2dcontour\"}],\"mesh3d\":[{\"colorbar\":{\"outlinewidth\":0,\"ticks\":\"\"},\"type\":\"mesh3d\"}],\"parcoords\":[{\"line\":{\"colorbar\":{\"outlinewidth\":0,\"ticks\":\"\"}},\"type\":\"parcoords\"}],\"pie\":[{\"automargin\":true,\"type\":\"pie\"}],\"scatter\":[{\"marker\":{\"colorbar\":{\"outlinewidth\":0,\"ticks\":\"\"}},\"type\":\"scatter\"}],\"scatter3d\":[{\"line\":{\"colorbar\":{\"outlinewidth\":0,\"ticks\":\"\"}},\"marker\":{\"colorbar\":{\"outlinewidth\":0,\"ticks\":\"\"}},\"type\":\"scatter3d\"}],\"scattercarpet\":[{\"marker\":{\"colorbar\":{\"outlinewidth\":0,\"ticks\":\"\"}},\"type\":\"scattercarpet\"}],\"scattergeo\":[{\"marker\":{\"colorbar\":{\"outlinewidth\":0,\"ticks\":\"\"}},\"type\":\"scattergeo\"}],\"scattergl\":[{\"marker\":{\"colorbar\":{\"outlinewidth\":0,\"ticks\":\"\"}},\"type\":\"scattergl\"}],\"scattermapbox\":[{\"marker\":{\"colorbar\":{\"outlinewidth\":0,\"ticks\":\"\"}},\"type\":\"scattermapbox\"}],\"scatterpolar\":[{\"marker\":{\"colorbar\":{\"outlinewidth\":0,\"ticks\":\"\"}},\"type\":\"scatterpolar\"}],\"scatterpolargl\":[{\"marker\":{\"colorbar\":{\"outlinewidth\":0,\"ticks\":\"\"}},\"type\":\"scatterpolargl\"}],\"scatterternary\":[{\"marker\":{\"colorbar\":{\"outlinewidth\":0,\"ticks\":\"\"}},\"type\":\"scatterternary\"}],\"surface\":[{\"colorbar\":{\"outlinewidth\":0,\"ticks\":\"\"},\"colorscale\":[[0.0,\"#0d0887\"],[0.1111111111111111,\"#46039f\"],[0.2222222222222222,\"#7201a8\"],[0.3333333333333333,\"#9c179e\"],[0.4444444444444444,\"#bd3786\"],[0.5555555555555556,\"#d8576b\"],[0.6666666666666666,\"#ed7953\"],[0.7777777777777778,\"#fb9f3a\"],[0.8888888888888888,\"#fdca26\"],[1.0,\"#f0f921\"]],\"type\":\"surface\"}],\"table\":[{\"cells\":{\"fill\":{\"color\":\"#EBF0F8\"},\"line\":{\"color\":\"white\"}},\"header\":{\"fill\":{\"color\":\"#C8D4E3\"},\"line\":{\"color\":\"white\"}},\"type\":\"table\"}]},\"layout\":{\"annotationdefaults\":{\"arrowcolor\":\"#2a3f5f\",\"arrowhead\":0,\"arrowwidth\":1},\"autotypenumbers\":\"strict\",\"coloraxis\":{\"colorbar\":{\"outlinewidth\":0,\"ticks\":\"\"}},\"colorscale\":{\"diverging\":[[0,\"#8e0152\"],[0.1,\"#c51b7d\"],[0.2,\"#de77ae\"],[0.3,\"#f1b6da\"],[0.4,\"#fde0ef\"],[0.5,\"#f7f7f7\"],[0.6,\"#e6f5d0\"],[0.7,\"#b8e186\"],[0.8,\"#7fbc41\"],[0.9,\"#4d9221\"],[1,\"#276419\"]],\"sequential\":[[0.0,\"#0d0887\"],[0.1111111111111111,\"#46039f\"],[0.2222222222222222,\"#7201a8\"],[0.3333333333333333,\"#9c179e\"],[0.4444444444444444,\"#bd3786\"],[0.5555555555555556,\"#d8576b\"],[0.6666666666666666,\"#ed7953\"],[0.7777777777777778,\"#fb9f3a\"],[0.8888888888888888,\"#fdca26\"],[1.0,\"#f0f921\"]],\"sequentialminus\":[[0.0,\"#0d0887\"],[0.1111111111111111,\"#46039f\"],[0.2222222222222222,\"#7201a8\"],[0.3333333333333333,\"#9c179e\"],[0.4444444444444444,\"#bd3786\"],[0.5555555555555556,\"#d8576b\"],[0.6666666666666666,\"#ed7953\"],[0.7777777777777778,\"#fb9f3a\"],[0.8888888888888888,\"#fdca26\"],[1.0,\"#f0f921\"]]},\"colorway\":[\"#636efa\",\"#EF553B\",\"#00cc96\",\"#ab63fa\",\"#FFA15A\",\"#19d3f3\",\"#FF6692\",\"#B6E880\",\"#FF97FF\",\"#FECB52\"],\"font\":{\"color\":\"#2a3f5f\"},\"geo\":{\"bgcolor\":\"white\",\"lakecolor\":\"white\",\"landcolor\":\"#E5ECF6\",\"showlakes\":true,\"showland\":true,\"subunitcolor\":\"white\"},\"hoverlabel\":{\"align\":\"left\"},\"hovermode\":\"closest\",\"mapbox\":{\"style\":\"light\"},\"paper_bgcolor\":\"white\",\"plot_bgcolor\":\"#E5ECF6\",\"polar\":{\"angularaxis\":{\"gridcolor\":\"white\",\"linecolor\":\"white\",\"ticks\":\"\"},\"bgcolor\":\"#E5ECF6\",\"radialaxis\":{\"gridcolor\":\"white\",\"linecolor\":\"white\",\"ticks\":\"\"}},\"scene\":{\"xaxis\":{\"backgroundcolor\":\"#E5ECF6\",\"gridcolor\":\"white\",\"gridwidth\":2,\"linecolor\":\"white\",\"showbackground\":true,\"ticks\":\"\",\"zerolinecolor\":\"white\"},\"yaxis\":{\"backgroundcolor\":\"#E5ECF6\",\"gridcolor\":\"white\",\"gridwidth\":2,\"linecolor\":\"white\",\"showbackground\":true,\"ticks\":\"\",\"zerolinecolor\":\"white\"},\"zaxis\":{\"backgroundcolor\":\"#E5ECF6\",\"gridcolor\":\"white\",\"gridwidth\":2,\"linecolor\":\"white\",\"showbackground\":true,\"ticks\":\"\",\"zerolinecolor\":\"white\"}},\"shapedefaults\":{\"line\":{\"color\":\"#2a3f5f\"}},\"ternary\":{\"aaxis\":{\"gridcolor\":\"white\",\"linecolor\":\"white\",\"ticks\":\"\"},\"baxis\":{\"gridcolor\":\"white\",\"linecolor\":\"white\",\"ticks\":\"\"},\"bgcolor\":\"#E5ECF6\",\"caxis\":{\"gridcolor\":\"white\",\"linecolor\":\"white\",\"ticks\":\"\"}},\"title\":{\"x\":0.05},\"xaxis\":{\"automargin\":true,\"gridcolor\":\"white\",\"linecolor\":\"white\",\"ticks\":\"\",\"title\":{\"standoff\":15},\"zerolinecolor\":\"white\",\"zerolinewidth\":2},\"yaxis\":{\"automargin\":true,\"gridcolor\":\"white\",\"linecolor\":\"white\",\"ticks\":\"\",\"title\":{\"standoff\":15},\"zerolinecolor\":\"white\",\"zerolinewidth\":2}}},\"title\":{\"text\":\"All Horror movies release in 2021\"},\"xaxis\":{\"anchor\":\"y\",\"domain\":[0.0,1.0],\"title\":{\"text\":\"Name\"}},\"yaxis\":{\"anchor\":\"x\",\"domain\":[0.0,1.0],\"title\":{\"text\":\"Rating\"}}},                        {\"responsive\": true}                    ).then(function(){\n",
       "                            \n",
       "var gd = document.getElementById('3fbd5fbf-0aaf-4f73-a5fe-be21dfd854f3');\n",
       "var x = new MutationObserver(function (mutations, observer) {{\n",
       "        var display = window.getComputedStyle(gd).display;\n",
       "        if (!display || display === 'none') {{\n",
       "            console.log([gd, 'removed!']);\n",
       "            Plotly.purge(gd);\n",
       "            observer.disconnect();\n",
       "        }}\n",
       "}});\n",
       "\n",
       "// Listen for the removal of the full notebook cells\n",
       "var notebookContainer = gd.closest('#notebook-container');\n",
       "if (notebookContainer) {{\n",
       "    x.observe(notebookContainer, {childList: true});\n",
       "}}\n",
       "\n",
       "// Listen for the clearing of the current output cell\n",
       "var outputEl = gd.closest('.output');\n",
       "if (outputEl) {{\n",
       "    x.observe(outputEl, {childList: true});\n",
       "}}\n",
       "\n",
       "                        })                };                });            </script>        </div>"
      ]
     },
     "metadata": {},
     "output_type": "display_data"
    }
   ],
   "source": [
    "fig = px.scatter(horror_2021, x=\"Name\", y=\"Rating\",\n",
    "      size=\"Rating\", color=\"Genre\", size_max=50,hover_data=['Director'],title='All Horror movies release in 2021')\n",
    "fig.show()"
   ]
  },
  {
   "cell_type": "markdown",
   "id": "5824e058",
   "metadata": {},
   "source": [
    "# All Horror movies release in 2020 "
   ]
  },
  {
   "cell_type": "code",
   "execution_count": 185,
   "id": "105718d7",
   "metadata": {},
   "outputs": [
    {
     "data": {
      "text/html": [
       "<div>\n",
       "<style scoped>\n",
       "    .dataframe tbody tr th:only-of-type {\n",
       "        vertical-align: middle;\n",
       "    }\n",
       "\n",
       "    .dataframe tbody tr th {\n",
       "        vertical-align: top;\n",
       "    }\n",
       "\n",
       "    .dataframe thead th {\n",
       "        text-align: right;\n",
       "    }\n",
       "</style>\n",
       "<table border=\"1\" class=\"dataframe\">\n",
       "  <thead>\n",
       "    <tr style=\"text-align: right;\">\n",
       "      <th></th>\n",
       "      <th>Name</th>\n",
       "      <th>Rating</th>\n",
       "      <th>Genre</th>\n",
       "      <th>Release date</th>\n",
       "      <th>Runtime</th>\n",
       "      <th>Director</th>\n",
       "      <th>Budget ($)</th>\n",
       "      <th>Revenue ($)</th>\n",
       "      <th>Url</th>\n",
       "      <th>Release year</th>\n",
       "      <th>Release month</th>\n",
       "    </tr>\n",
       "  </thead>\n",
       "  <tbody>\n",
       "    <tr>\n",
       "      <th>20</th>\n",
       "      <td>The Craft: Legacy</td>\n",
       "      <td>64.0</td>\n",
       "      <td>Horror,Drama,Fantasy</td>\n",
       "      <td>2020-10-28</td>\n",
       "      <td>1h 34m</td>\n",
       "      <td>Zoe Lister-Jones</td>\n",
       "      <td>NaN</td>\n",
       "      <td>NaN</td>\n",
       "      <td>https://www.themoviedb.org//movie/590995</td>\n",
       "      <td>2020</td>\n",
       "      <td>10</td>\n",
       "    </tr>\n",
       "    <tr>\n",
       "      <th>64</th>\n",
       "      <td>The Amityville Harvest</td>\n",
       "      <td>74.0</td>\n",
       "      <td>Horror</td>\n",
       "      <td>2020-10-20</td>\n",
       "      <td>1h 38m</td>\n",
       "      <td>Thomas J. Churchill</td>\n",
       "      <td>NaN</td>\n",
       "      <td>NaN</td>\n",
       "      <td>https://www.themoviedb.org//movie/732472</td>\n",
       "      <td>2020</td>\n",
       "      <td>10</td>\n",
       "    </tr>\n",
       "    <tr>\n",
       "      <th>80</th>\n",
       "      <td>Books of Blood</td>\n",
       "      <td>67.0</td>\n",
       "      <td>Horror,Science Fiction</td>\n",
       "      <td>2020-10-07</td>\n",
       "      <td>1h 47m</td>\n",
       "      <td>Brannon Braga</td>\n",
       "      <td>NaN</td>\n",
       "      <td>NaN</td>\n",
       "      <td>https://www.themoviedb.org//movie/715123</td>\n",
       "      <td>2020</td>\n",
       "      <td>10</td>\n",
       "    </tr>\n",
       "    <tr>\n",
       "      <th>92</th>\n",
       "      <td>Be Careful What You Wish For</td>\n",
       "      <td>67.0</td>\n",
       "      <td>Horror</td>\n",
       "      <td>2020-04-24</td>\n",
       "      <td>1h 31m</td>\n",
       "      <td>Agustín Oso Tapia</td>\n",
       "      <td>NaN</td>\n",
       "      <td>NaN</td>\n",
       "      <td>https://www.themoviedb.org//movie/681429</td>\n",
       "      <td>2020</td>\n",
       "      <td>4</td>\n",
       "    </tr>\n",
       "    <tr>\n",
       "      <th>125</th>\n",
       "      <td>Originless</td>\n",
       "      <td>56.0</td>\n",
       "      <td>Thriller,Horror</td>\n",
       "      <td>2020-10-25</td>\n",
       "      <td>1h 33m</td>\n",
       "      <td>Rigoberto Castañeda</td>\n",
       "      <td>NaN</td>\n",
       "      <td>NaN</td>\n",
       "      <td>https://www.themoviedb.org//movie/554585</td>\n",
       "      <td>2020</td>\n",
       "      <td>10</td>\n",
       "    </tr>\n",
       "  </tbody>\n",
       "</table>\n",
       "</div>"
      ],
      "text/plain": [
       "                             Name  Rating                   Genre  \\\n",
       "20              The Craft: Legacy    64.0    Horror,Drama,Fantasy   \n",
       "64         The Amityville Harvest    74.0                  Horror   \n",
       "80                 Books of Blood    67.0  Horror,Science Fiction   \n",
       "92   Be Careful What You Wish For    67.0                  Horror   \n",
       "125                    Originless    56.0         Thriller,Horror   \n",
       "\n",
       "    Release date Runtime             Director Budget ($) Revenue ($)   \\\n",
       "20    2020-10-28  1h 34m     Zoe Lister-Jones        NaN          NaN   \n",
       "64    2020-10-20  1h 38m  Thomas J. Churchill        NaN          NaN   \n",
       "80    2020-10-07  1h 47m        Brannon Braga        NaN          NaN   \n",
       "92    2020-04-24  1h 31m    Agustín Oso Tapia        NaN          NaN   \n",
       "125   2020-10-25  1h 33m  Rigoberto Castañeda        NaN          NaN   \n",
       "\n",
       "                                          Url  Release year  Release month  \n",
       "20   https://www.themoviedb.org//movie/590995          2020             10  \n",
       "64   https://www.themoviedb.org//movie/732472          2020             10  \n",
       "80   https://www.themoviedb.org//movie/715123          2020             10  \n",
       "92   https://www.themoviedb.org//movie/681429          2020              4  \n",
       "125  https://www.themoviedb.org//movie/554585          2020             10  "
      ]
     },
     "execution_count": 185,
     "metadata": {},
     "output_type": "execute_result"
    }
   ],
   "source": [
    "horror_2020 = movies_df[(movies_df['Genre'].str.contains('Horror')) & (movies_df['Release year']==2020)]\n",
    "horror_2020"
   ]
  },
  {
   "cell_type": "code",
   "execution_count": 267,
   "id": "4ddcd5ba",
   "metadata": {},
   "outputs": [
    {
     "data": {
      "application/vnd.plotly.v1+json": {
       "config": {
        "plotlyServerURL": "https://plot.ly"
       },
       "data": [
        {
         "customdata": [
          [
           "Zoe Lister-Jones"
          ]
         ],
         "hovertemplate": "Genre=Horror,Drama,Fantasy<br>Name=%{x}<br>Rating=%{marker.size}<br>Director=%{customdata[0]}<extra></extra>",
         "legendgroup": "Horror,Drama,Fantasy",
         "marker": {
          "color": "#636efa",
          "size": [
           64
          ],
          "sizemode": "area",
          "sizeref": 0.0296,
          "symbol": "circle"
         },
         "mode": "markers",
         "name": "Horror,Drama,Fantasy",
         "orientation": "v",
         "showlegend": true,
         "type": "scatter",
         "x": [
          "The Craft: Legacy"
         ],
         "xaxis": "x",
         "y": [
          64
         ],
         "yaxis": "y"
        },
        {
         "customdata": [
          [
           "Thomas J. Churchill"
          ],
          [
           "Agustín Oso Tapia"
          ]
         ],
         "hovertemplate": "Genre=Horror<br>Name=%{x}<br>Rating=%{marker.size}<br>Director=%{customdata[0]}<extra></extra>",
         "legendgroup": "Horror",
         "marker": {
          "color": "#EF553B",
          "size": [
           74,
           67
          ],
          "sizemode": "area",
          "sizeref": 0.0296,
          "symbol": "circle"
         },
         "mode": "markers",
         "name": "Horror",
         "orientation": "v",
         "showlegend": true,
         "type": "scatter",
         "x": [
          "The Amityville Harvest",
          "Be Careful What You Wish For"
         ],
         "xaxis": "x",
         "y": [
          74,
          67
         ],
         "yaxis": "y"
        },
        {
         "customdata": [
          [
           "Brannon Braga"
          ]
         ],
         "hovertemplate": "Genre=Horror,Science Fiction<br>Name=%{x}<br>Rating=%{marker.size}<br>Director=%{customdata[0]}<extra></extra>",
         "legendgroup": "Horror,Science Fiction",
         "marker": {
          "color": "#00cc96",
          "size": [
           67
          ],
          "sizemode": "area",
          "sizeref": 0.0296,
          "symbol": "circle"
         },
         "mode": "markers",
         "name": "Horror,Science Fiction",
         "orientation": "v",
         "showlegend": true,
         "type": "scatter",
         "x": [
          "Books of Blood"
         ],
         "xaxis": "x",
         "y": [
          67
         ],
         "yaxis": "y"
        },
        {
         "customdata": [
          [
           "Rigoberto Castañeda"
          ]
         ],
         "hovertemplate": "Genre=Thriller,Horror<br>Name=%{x}<br>Rating=%{marker.size}<br>Director=%{customdata[0]}<extra></extra>",
         "legendgroup": "Thriller,Horror",
         "marker": {
          "color": "#ab63fa",
          "size": [
           56
          ],
          "sizemode": "area",
          "sizeref": 0.0296,
          "symbol": "circle"
         },
         "mode": "markers",
         "name": "Thriller,Horror",
         "orientation": "v",
         "showlegend": true,
         "type": "scatter",
         "x": [
          "Originless"
         ],
         "xaxis": "x",
         "y": [
          56
         ],
         "yaxis": "y"
        }
       ],
       "layout": {
        "legend": {
         "itemsizing": "constant",
         "title": {
          "text": "Genre"
         },
         "tracegroupgap": 0
        },
        "template": {
         "data": {
          "bar": [
           {
            "error_x": {
             "color": "#2a3f5f"
            },
            "error_y": {
             "color": "#2a3f5f"
            },
            "marker": {
             "line": {
              "color": "#E5ECF6",
              "width": 0.5
             },
             "pattern": {
              "fillmode": "overlay",
              "size": 10,
              "solidity": 0.2
             }
            },
            "type": "bar"
           }
          ],
          "barpolar": [
           {
            "marker": {
             "line": {
              "color": "#E5ECF6",
              "width": 0.5
             },
             "pattern": {
              "fillmode": "overlay",
              "size": 10,
              "solidity": 0.2
             }
            },
            "type": "barpolar"
           }
          ],
          "carpet": [
           {
            "aaxis": {
             "endlinecolor": "#2a3f5f",
             "gridcolor": "white",
             "linecolor": "white",
             "minorgridcolor": "white",
             "startlinecolor": "#2a3f5f"
            },
            "baxis": {
             "endlinecolor": "#2a3f5f",
             "gridcolor": "white",
             "linecolor": "white",
             "minorgridcolor": "white",
             "startlinecolor": "#2a3f5f"
            },
            "type": "carpet"
           }
          ],
          "choropleth": [
           {
            "colorbar": {
             "outlinewidth": 0,
             "ticks": ""
            },
            "type": "choropleth"
           }
          ],
          "contour": [
           {
            "colorbar": {
             "outlinewidth": 0,
             "ticks": ""
            },
            "colorscale": [
             [
              0,
              "#0d0887"
             ],
             [
              0.1111111111111111,
              "#46039f"
             ],
             [
              0.2222222222222222,
              "#7201a8"
             ],
             [
              0.3333333333333333,
              "#9c179e"
             ],
             [
              0.4444444444444444,
              "#bd3786"
             ],
             [
              0.5555555555555556,
              "#d8576b"
             ],
             [
              0.6666666666666666,
              "#ed7953"
             ],
             [
              0.7777777777777778,
              "#fb9f3a"
             ],
             [
              0.8888888888888888,
              "#fdca26"
             ],
             [
              1,
              "#f0f921"
             ]
            ],
            "type": "contour"
           }
          ],
          "contourcarpet": [
           {
            "colorbar": {
             "outlinewidth": 0,
             "ticks": ""
            },
            "type": "contourcarpet"
           }
          ],
          "heatmap": [
           {
            "colorbar": {
             "outlinewidth": 0,
             "ticks": ""
            },
            "colorscale": [
             [
              0,
              "#0d0887"
             ],
             [
              0.1111111111111111,
              "#46039f"
             ],
             [
              0.2222222222222222,
              "#7201a8"
             ],
             [
              0.3333333333333333,
              "#9c179e"
             ],
             [
              0.4444444444444444,
              "#bd3786"
             ],
             [
              0.5555555555555556,
              "#d8576b"
             ],
             [
              0.6666666666666666,
              "#ed7953"
             ],
             [
              0.7777777777777778,
              "#fb9f3a"
             ],
             [
              0.8888888888888888,
              "#fdca26"
             ],
             [
              1,
              "#f0f921"
             ]
            ],
            "type": "heatmap"
           }
          ],
          "heatmapgl": [
           {
            "colorbar": {
             "outlinewidth": 0,
             "ticks": ""
            },
            "colorscale": [
             [
              0,
              "#0d0887"
             ],
             [
              0.1111111111111111,
              "#46039f"
             ],
             [
              0.2222222222222222,
              "#7201a8"
             ],
             [
              0.3333333333333333,
              "#9c179e"
             ],
             [
              0.4444444444444444,
              "#bd3786"
             ],
             [
              0.5555555555555556,
              "#d8576b"
             ],
             [
              0.6666666666666666,
              "#ed7953"
             ],
             [
              0.7777777777777778,
              "#fb9f3a"
             ],
             [
              0.8888888888888888,
              "#fdca26"
             ],
             [
              1,
              "#f0f921"
             ]
            ],
            "type": "heatmapgl"
           }
          ],
          "histogram": [
           {
            "marker": {
             "pattern": {
              "fillmode": "overlay",
              "size": 10,
              "solidity": 0.2
             }
            },
            "type": "histogram"
           }
          ],
          "histogram2d": [
           {
            "colorbar": {
             "outlinewidth": 0,
             "ticks": ""
            },
            "colorscale": [
             [
              0,
              "#0d0887"
             ],
             [
              0.1111111111111111,
              "#46039f"
             ],
             [
              0.2222222222222222,
              "#7201a8"
             ],
             [
              0.3333333333333333,
              "#9c179e"
             ],
             [
              0.4444444444444444,
              "#bd3786"
             ],
             [
              0.5555555555555556,
              "#d8576b"
             ],
             [
              0.6666666666666666,
              "#ed7953"
             ],
             [
              0.7777777777777778,
              "#fb9f3a"
             ],
             [
              0.8888888888888888,
              "#fdca26"
             ],
             [
              1,
              "#f0f921"
             ]
            ],
            "type": "histogram2d"
           }
          ],
          "histogram2dcontour": [
           {
            "colorbar": {
             "outlinewidth": 0,
             "ticks": ""
            },
            "colorscale": [
             [
              0,
              "#0d0887"
             ],
             [
              0.1111111111111111,
              "#46039f"
             ],
             [
              0.2222222222222222,
              "#7201a8"
             ],
             [
              0.3333333333333333,
              "#9c179e"
             ],
             [
              0.4444444444444444,
              "#bd3786"
             ],
             [
              0.5555555555555556,
              "#d8576b"
             ],
             [
              0.6666666666666666,
              "#ed7953"
             ],
             [
              0.7777777777777778,
              "#fb9f3a"
             ],
             [
              0.8888888888888888,
              "#fdca26"
             ],
             [
              1,
              "#f0f921"
             ]
            ],
            "type": "histogram2dcontour"
           }
          ],
          "mesh3d": [
           {
            "colorbar": {
             "outlinewidth": 0,
             "ticks": ""
            },
            "type": "mesh3d"
           }
          ],
          "parcoords": [
           {
            "line": {
             "colorbar": {
              "outlinewidth": 0,
              "ticks": ""
             }
            },
            "type": "parcoords"
           }
          ],
          "pie": [
           {
            "automargin": true,
            "type": "pie"
           }
          ],
          "scatter": [
           {
            "marker": {
             "colorbar": {
              "outlinewidth": 0,
              "ticks": ""
             }
            },
            "type": "scatter"
           }
          ],
          "scatter3d": [
           {
            "line": {
             "colorbar": {
              "outlinewidth": 0,
              "ticks": ""
             }
            },
            "marker": {
             "colorbar": {
              "outlinewidth": 0,
              "ticks": ""
             }
            },
            "type": "scatter3d"
           }
          ],
          "scattercarpet": [
           {
            "marker": {
             "colorbar": {
              "outlinewidth": 0,
              "ticks": ""
             }
            },
            "type": "scattercarpet"
           }
          ],
          "scattergeo": [
           {
            "marker": {
             "colorbar": {
              "outlinewidth": 0,
              "ticks": ""
             }
            },
            "type": "scattergeo"
           }
          ],
          "scattergl": [
           {
            "marker": {
             "colorbar": {
              "outlinewidth": 0,
              "ticks": ""
             }
            },
            "type": "scattergl"
           }
          ],
          "scattermapbox": [
           {
            "marker": {
             "colorbar": {
              "outlinewidth": 0,
              "ticks": ""
             }
            },
            "type": "scattermapbox"
           }
          ],
          "scatterpolar": [
           {
            "marker": {
             "colorbar": {
              "outlinewidth": 0,
              "ticks": ""
             }
            },
            "type": "scatterpolar"
           }
          ],
          "scatterpolargl": [
           {
            "marker": {
             "colorbar": {
              "outlinewidth": 0,
              "ticks": ""
             }
            },
            "type": "scatterpolargl"
           }
          ],
          "scatterternary": [
           {
            "marker": {
             "colorbar": {
              "outlinewidth": 0,
              "ticks": ""
             }
            },
            "type": "scatterternary"
           }
          ],
          "surface": [
           {
            "colorbar": {
             "outlinewidth": 0,
             "ticks": ""
            },
            "colorscale": [
             [
              0,
              "#0d0887"
             ],
             [
              0.1111111111111111,
              "#46039f"
             ],
             [
              0.2222222222222222,
              "#7201a8"
             ],
             [
              0.3333333333333333,
              "#9c179e"
             ],
             [
              0.4444444444444444,
              "#bd3786"
             ],
             [
              0.5555555555555556,
              "#d8576b"
             ],
             [
              0.6666666666666666,
              "#ed7953"
             ],
             [
              0.7777777777777778,
              "#fb9f3a"
             ],
             [
              0.8888888888888888,
              "#fdca26"
             ],
             [
              1,
              "#f0f921"
             ]
            ],
            "type": "surface"
           }
          ],
          "table": [
           {
            "cells": {
             "fill": {
              "color": "#EBF0F8"
             },
             "line": {
              "color": "white"
             }
            },
            "header": {
             "fill": {
              "color": "#C8D4E3"
             },
             "line": {
              "color": "white"
             }
            },
            "type": "table"
           }
          ]
         },
         "layout": {
          "annotationdefaults": {
           "arrowcolor": "#2a3f5f",
           "arrowhead": 0,
           "arrowwidth": 1
          },
          "autotypenumbers": "strict",
          "coloraxis": {
           "colorbar": {
            "outlinewidth": 0,
            "ticks": ""
           }
          },
          "colorscale": {
           "diverging": [
            [
             0,
             "#8e0152"
            ],
            [
             0.1,
             "#c51b7d"
            ],
            [
             0.2,
             "#de77ae"
            ],
            [
             0.3,
             "#f1b6da"
            ],
            [
             0.4,
             "#fde0ef"
            ],
            [
             0.5,
             "#f7f7f7"
            ],
            [
             0.6,
             "#e6f5d0"
            ],
            [
             0.7,
             "#b8e186"
            ],
            [
             0.8,
             "#7fbc41"
            ],
            [
             0.9,
             "#4d9221"
            ],
            [
             1,
             "#276419"
            ]
           ],
           "sequential": [
            [
             0,
             "#0d0887"
            ],
            [
             0.1111111111111111,
             "#46039f"
            ],
            [
             0.2222222222222222,
             "#7201a8"
            ],
            [
             0.3333333333333333,
             "#9c179e"
            ],
            [
             0.4444444444444444,
             "#bd3786"
            ],
            [
             0.5555555555555556,
             "#d8576b"
            ],
            [
             0.6666666666666666,
             "#ed7953"
            ],
            [
             0.7777777777777778,
             "#fb9f3a"
            ],
            [
             0.8888888888888888,
             "#fdca26"
            ],
            [
             1,
             "#f0f921"
            ]
           ],
           "sequentialminus": [
            [
             0,
             "#0d0887"
            ],
            [
             0.1111111111111111,
             "#46039f"
            ],
            [
             0.2222222222222222,
             "#7201a8"
            ],
            [
             0.3333333333333333,
             "#9c179e"
            ],
            [
             0.4444444444444444,
             "#bd3786"
            ],
            [
             0.5555555555555556,
             "#d8576b"
            ],
            [
             0.6666666666666666,
             "#ed7953"
            ],
            [
             0.7777777777777778,
             "#fb9f3a"
            ],
            [
             0.8888888888888888,
             "#fdca26"
            ],
            [
             1,
             "#f0f921"
            ]
           ]
          },
          "colorway": [
           "#636efa",
           "#EF553B",
           "#00cc96",
           "#ab63fa",
           "#FFA15A",
           "#19d3f3",
           "#FF6692",
           "#B6E880",
           "#FF97FF",
           "#FECB52"
          ],
          "font": {
           "color": "#2a3f5f"
          },
          "geo": {
           "bgcolor": "white",
           "lakecolor": "white",
           "landcolor": "#E5ECF6",
           "showlakes": true,
           "showland": true,
           "subunitcolor": "white"
          },
          "hoverlabel": {
           "align": "left"
          },
          "hovermode": "closest",
          "mapbox": {
           "style": "light"
          },
          "paper_bgcolor": "white",
          "plot_bgcolor": "#E5ECF6",
          "polar": {
           "angularaxis": {
            "gridcolor": "white",
            "linecolor": "white",
            "ticks": ""
           },
           "bgcolor": "#E5ECF6",
           "radialaxis": {
            "gridcolor": "white",
            "linecolor": "white",
            "ticks": ""
           }
          },
          "scene": {
           "xaxis": {
            "backgroundcolor": "#E5ECF6",
            "gridcolor": "white",
            "gridwidth": 2,
            "linecolor": "white",
            "showbackground": true,
            "ticks": "",
            "zerolinecolor": "white"
           },
           "yaxis": {
            "backgroundcolor": "#E5ECF6",
            "gridcolor": "white",
            "gridwidth": 2,
            "linecolor": "white",
            "showbackground": true,
            "ticks": "",
            "zerolinecolor": "white"
           },
           "zaxis": {
            "backgroundcolor": "#E5ECF6",
            "gridcolor": "white",
            "gridwidth": 2,
            "linecolor": "white",
            "showbackground": true,
            "ticks": "",
            "zerolinecolor": "white"
           }
          },
          "shapedefaults": {
           "line": {
            "color": "#2a3f5f"
           }
          },
          "ternary": {
           "aaxis": {
            "gridcolor": "white",
            "linecolor": "white",
            "ticks": ""
           },
           "baxis": {
            "gridcolor": "white",
            "linecolor": "white",
            "ticks": ""
           },
           "bgcolor": "#E5ECF6",
           "caxis": {
            "gridcolor": "white",
            "linecolor": "white",
            "ticks": ""
           }
          },
          "title": {
           "x": 0.05
          },
          "xaxis": {
           "automargin": true,
           "gridcolor": "white",
           "linecolor": "white",
           "ticks": "",
           "title": {
            "standoff": 15
           },
           "zerolinecolor": "white",
           "zerolinewidth": 2
          },
          "yaxis": {
           "automargin": true,
           "gridcolor": "white",
           "linecolor": "white",
           "ticks": "",
           "title": {
            "standoff": 15
           },
           "zerolinecolor": "white",
           "zerolinewidth": 2
          }
         }
        },
        "title": {
         "text": "All Horror movies release in 2020"
        },
        "xaxis": {
         "anchor": "y",
         "domain": [
          0,
          1
         ],
         "title": {
          "text": "Name"
         }
        },
        "yaxis": {
         "anchor": "x",
         "domain": [
          0,
          1
         ],
         "title": {
          "text": "Rating"
         }
        }
       }
      },
      "text/html": [
       "<div>                            <div id=\"68e4b72d-c5b3-4a6e-a454-3d366e1321a1\" class=\"plotly-graph-div\" style=\"height:525px; width:100%;\"></div>            <script type=\"text/javascript\">                require([\"plotly\"], function(Plotly) {                    window.PLOTLYENV=window.PLOTLYENV || {};                                    if (document.getElementById(\"68e4b72d-c5b3-4a6e-a454-3d366e1321a1\")) {                    Plotly.newPlot(                        \"68e4b72d-c5b3-4a6e-a454-3d366e1321a1\",                        [{\"customdata\":[[\"Zoe Lister-Jones\"]],\"hovertemplate\":\"Genre=Horror,Drama,Fantasy<br>Name=%{x}<br>Rating=%{marker.size}<br>Director=%{customdata[0]}<extra></extra>\",\"legendgroup\":\"Horror,Drama,Fantasy\",\"marker\":{\"color\":\"#636efa\",\"size\":[64.0],\"sizemode\":\"area\",\"sizeref\":0.0296,\"symbol\":\"circle\"},\"mode\":\"markers\",\"name\":\"Horror,Drama,Fantasy\",\"orientation\":\"v\",\"showlegend\":true,\"type\":\"scatter\",\"x\":[\"The Craft: Legacy\"],\"xaxis\":\"x\",\"y\":[64.0],\"yaxis\":\"y\"},{\"customdata\":[[\"Thomas J. Churchill\"],[\"Agust\\u00edn Oso Tapia\"]],\"hovertemplate\":\"Genre=Horror<br>Name=%{x}<br>Rating=%{marker.size}<br>Director=%{customdata[0]}<extra></extra>\",\"legendgroup\":\"Horror\",\"marker\":{\"color\":\"#EF553B\",\"size\":[74.0,67.0],\"sizemode\":\"area\",\"sizeref\":0.0296,\"symbol\":\"circle\"},\"mode\":\"markers\",\"name\":\"Horror\",\"orientation\":\"v\",\"showlegend\":true,\"type\":\"scatter\",\"x\":[\"The Amityville Harvest\",\"Be Careful What You Wish For\"],\"xaxis\":\"x\",\"y\":[74.0,67.0],\"yaxis\":\"y\"},{\"customdata\":[[\"Brannon Braga\"]],\"hovertemplate\":\"Genre=Horror,Science Fiction<br>Name=%{x}<br>Rating=%{marker.size}<br>Director=%{customdata[0]}<extra></extra>\",\"legendgroup\":\"Horror,Science Fiction\",\"marker\":{\"color\":\"#00cc96\",\"size\":[67.0],\"sizemode\":\"area\",\"sizeref\":0.0296,\"symbol\":\"circle\"},\"mode\":\"markers\",\"name\":\"Horror,Science Fiction\",\"orientation\":\"v\",\"showlegend\":true,\"type\":\"scatter\",\"x\":[\"Books of Blood\"],\"xaxis\":\"x\",\"y\":[67.0],\"yaxis\":\"y\"},{\"customdata\":[[\"Rigoberto Casta\\u00f1eda\"]],\"hovertemplate\":\"Genre=Thriller,Horror<br>Name=%{x}<br>Rating=%{marker.size}<br>Director=%{customdata[0]}<extra></extra>\",\"legendgroup\":\"Thriller,Horror\",\"marker\":{\"color\":\"#ab63fa\",\"size\":[56.0],\"sizemode\":\"area\",\"sizeref\":0.0296,\"symbol\":\"circle\"},\"mode\":\"markers\",\"name\":\"Thriller,Horror\",\"orientation\":\"v\",\"showlegend\":true,\"type\":\"scatter\",\"x\":[\"Originless\"],\"xaxis\":\"x\",\"y\":[56.0],\"yaxis\":\"y\"}],                        {\"legend\":{\"itemsizing\":\"constant\",\"title\":{\"text\":\"Genre\"},\"tracegroupgap\":0},\"template\":{\"data\":{\"bar\":[{\"error_x\":{\"color\":\"#2a3f5f\"},\"error_y\":{\"color\":\"#2a3f5f\"},\"marker\":{\"line\":{\"color\":\"#E5ECF6\",\"width\":0.5},\"pattern\":{\"fillmode\":\"overlay\",\"size\":10,\"solidity\":0.2}},\"type\":\"bar\"}],\"barpolar\":[{\"marker\":{\"line\":{\"color\":\"#E5ECF6\",\"width\":0.5},\"pattern\":{\"fillmode\":\"overlay\",\"size\":10,\"solidity\":0.2}},\"type\":\"barpolar\"}],\"carpet\":[{\"aaxis\":{\"endlinecolor\":\"#2a3f5f\",\"gridcolor\":\"white\",\"linecolor\":\"white\",\"minorgridcolor\":\"white\",\"startlinecolor\":\"#2a3f5f\"},\"baxis\":{\"endlinecolor\":\"#2a3f5f\",\"gridcolor\":\"white\",\"linecolor\":\"white\",\"minorgridcolor\":\"white\",\"startlinecolor\":\"#2a3f5f\"},\"type\":\"carpet\"}],\"choropleth\":[{\"colorbar\":{\"outlinewidth\":0,\"ticks\":\"\"},\"type\":\"choropleth\"}],\"contour\":[{\"colorbar\":{\"outlinewidth\":0,\"ticks\":\"\"},\"colorscale\":[[0.0,\"#0d0887\"],[0.1111111111111111,\"#46039f\"],[0.2222222222222222,\"#7201a8\"],[0.3333333333333333,\"#9c179e\"],[0.4444444444444444,\"#bd3786\"],[0.5555555555555556,\"#d8576b\"],[0.6666666666666666,\"#ed7953\"],[0.7777777777777778,\"#fb9f3a\"],[0.8888888888888888,\"#fdca26\"],[1.0,\"#f0f921\"]],\"type\":\"contour\"}],\"contourcarpet\":[{\"colorbar\":{\"outlinewidth\":0,\"ticks\":\"\"},\"type\":\"contourcarpet\"}],\"heatmap\":[{\"colorbar\":{\"outlinewidth\":0,\"ticks\":\"\"},\"colorscale\":[[0.0,\"#0d0887\"],[0.1111111111111111,\"#46039f\"],[0.2222222222222222,\"#7201a8\"],[0.3333333333333333,\"#9c179e\"],[0.4444444444444444,\"#bd3786\"],[0.5555555555555556,\"#d8576b\"],[0.6666666666666666,\"#ed7953\"],[0.7777777777777778,\"#fb9f3a\"],[0.8888888888888888,\"#fdca26\"],[1.0,\"#f0f921\"]],\"type\":\"heatmap\"}],\"heatmapgl\":[{\"colorbar\":{\"outlinewidth\":0,\"ticks\":\"\"},\"colorscale\":[[0.0,\"#0d0887\"],[0.1111111111111111,\"#46039f\"],[0.2222222222222222,\"#7201a8\"],[0.3333333333333333,\"#9c179e\"],[0.4444444444444444,\"#bd3786\"],[0.5555555555555556,\"#d8576b\"],[0.6666666666666666,\"#ed7953\"],[0.7777777777777778,\"#fb9f3a\"],[0.8888888888888888,\"#fdca26\"],[1.0,\"#f0f921\"]],\"type\":\"heatmapgl\"}],\"histogram\":[{\"marker\":{\"pattern\":{\"fillmode\":\"overlay\",\"size\":10,\"solidity\":0.2}},\"type\":\"histogram\"}],\"histogram2d\":[{\"colorbar\":{\"outlinewidth\":0,\"ticks\":\"\"},\"colorscale\":[[0.0,\"#0d0887\"],[0.1111111111111111,\"#46039f\"],[0.2222222222222222,\"#7201a8\"],[0.3333333333333333,\"#9c179e\"],[0.4444444444444444,\"#bd3786\"],[0.5555555555555556,\"#d8576b\"],[0.6666666666666666,\"#ed7953\"],[0.7777777777777778,\"#fb9f3a\"],[0.8888888888888888,\"#fdca26\"],[1.0,\"#f0f921\"]],\"type\":\"histogram2d\"}],\"histogram2dcontour\":[{\"colorbar\":{\"outlinewidth\":0,\"ticks\":\"\"},\"colorscale\":[[0.0,\"#0d0887\"],[0.1111111111111111,\"#46039f\"],[0.2222222222222222,\"#7201a8\"],[0.3333333333333333,\"#9c179e\"],[0.4444444444444444,\"#bd3786\"],[0.5555555555555556,\"#d8576b\"],[0.6666666666666666,\"#ed7953\"],[0.7777777777777778,\"#fb9f3a\"],[0.8888888888888888,\"#fdca26\"],[1.0,\"#f0f921\"]],\"type\":\"histogram2dcontour\"}],\"mesh3d\":[{\"colorbar\":{\"outlinewidth\":0,\"ticks\":\"\"},\"type\":\"mesh3d\"}],\"parcoords\":[{\"line\":{\"colorbar\":{\"outlinewidth\":0,\"ticks\":\"\"}},\"type\":\"parcoords\"}],\"pie\":[{\"automargin\":true,\"type\":\"pie\"}],\"scatter\":[{\"marker\":{\"colorbar\":{\"outlinewidth\":0,\"ticks\":\"\"}},\"type\":\"scatter\"}],\"scatter3d\":[{\"line\":{\"colorbar\":{\"outlinewidth\":0,\"ticks\":\"\"}},\"marker\":{\"colorbar\":{\"outlinewidth\":0,\"ticks\":\"\"}},\"type\":\"scatter3d\"}],\"scattercarpet\":[{\"marker\":{\"colorbar\":{\"outlinewidth\":0,\"ticks\":\"\"}},\"type\":\"scattercarpet\"}],\"scattergeo\":[{\"marker\":{\"colorbar\":{\"outlinewidth\":0,\"ticks\":\"\"}},\"type\":\"scattergeo\"}],\"scattergl\":[{\"marker\":{\"colorbar\":{\"outlinewidth\":0,\"ticks\":\"\"}},\"type\":\"scattergl\"}],\"scattermapbox\":[{\"marker\":{\"colorbar\":{\"outlinewidth\":0,\"ticks\":\"\"}},\"type\":\"scattermapbox\"}],\"scatterpolar\":[{\"marker\":{\"colorbar\":{\"outlinewidth\":0,\"ticks\":\"\"}},\"type\":\"scatterpolar\"}],\"scatterpolargl\":[{\"marker\":{\"colorbar\":{\"outlinewidth\":0,\"ticks\":\"\"}},\"type\":\"scatterpolargl\"}],\"scatterternary\":[{\"marker\":{\"colorbar\":{\"outlinewidth\":0,\"ticks\":\"\"}},\"type\":\"scatterternary\"}],\"surface\":[{\"colorbar\":{\"outlinewidth\":0,\"ticks\":\"\"},\"colorscale\":[[0.0,\"#0d0887\"],[0.1111111111111111,\"#46039f\"],[0.2222222222222222,\"#7201a8\"],[0.3333333333333333,\"#9c179e\"],[0.4444444444444444,\"#bd3786\"],[0.5555555555555556,\"#d8576b\"],[0.6666666666666666,\"#ed7953\"],[0.7777777777777778,\"#fb9f3a\"],[0.8888888888888888,\"#fdca26\"],[1.0,\"#f0f921\"]],\"type\":\"surface\"}],\"table\":[{\"cells\":{\"fill\":{\"color\":\"#EBF0F8\"},\"line\":{\"color\":\"white\"}},\"header\":{\"fill\":{\"color\":\"#C8D4E3\"},\"line\":{\"color\":\"white\"}},\"type\":\"table\"}]},\"layout\":{\"annotationdefaults\":{\"arrowcolor\":\"#2a3f5f\",\"arrowhead\":0,\"arrowwidth\":1},\"autotypenumbers\":\"strict\",\"coloraxis\":{\"colorbar\":{\"outlinewidth\":0,\"ticks\":\"\"}},\"colorscale\":{\"diverging\":[[0,\"#8e0152\"],[0.1,\"#c51b7d\"],[0.2,\"#de77ae\"],[0.3,\"#f1b6da\"],[0.4,\"#fde0ef\"],[0.5,\"#f7f7f7\"],[0.6,\"#e6f5d0\"],[0.7,\"#b8e186\"],[0.8,\"#7fbc41\"],[0.9,\"#4d9221\"],[1,\"#276419\"]],\"sequential\":[[0.0,\"#0d0887\"],[0.1111111111111111,\"#46039f\"],[0.2222222222222222,\"#7201a8\"],[0.3333333333333333,\"#9c179e\"],[0.4444444444444444,\"#bd3786\"],[0.5555555555555556,\"#d8576b\"],[0.6666666666666666,\"#ed7953\"],[0.7777777777777778,\"#fb9f3a\"],[0.8888888888888888,\"#fdca26\"],[1.0,\"#f0f921\"]],\"sequentialminus\":[[0.0,\"#0d0887\"],[0.1111111111111111,\"#46039f\"],[0.2222222222222222,\"#7201a8\"],[0.3333333333333333,\"#9c179e\"],[0.4444444444444444,\"#bd3786\"],[0.5555555555555556,\"#d8576b\"],[0.6666666666666666,\"#ed7953\"],[0.7777777777777778,\"#fb9f3a\"],[0.8888888888888888,\"#fdca26\"],[1.0,\"#f0f921\"]]},\"colorway\":[\"#636efa\",\"#EF553B\",\"#00cc96\",\"#ab63fa\",\"#FFA15A\",\"#19d3f3\",\"#FF6692\",\"#B6E880\",\"#FF97FF\",\"#FECB52\"],\"font\":{\"color\":\"#2a3f5f\"},\"geo\":{\"bgcolor\":\"white\",\"lakecolor\":\"white\",\"landcolor\":\"#E5ECF6\",\"showlakes\":true,\"showland\":true,\"subunitcolor\":\"white\"},\"hoverlabel\":{\"align\":\"left\"},\"hovermode\":\"closest\",\"mapbox\":{\"style\":\"light\"},\"paper_bgcolor\":\"white\",\"plot_bgcolor\":\"#E5ECF6\",\"polar\":{\"angularaxis\":{\"gridcolor\":\"white\",\"linecolor\":\"white\",\"ticks\":\"\"},\"bgcolor\":\"#E5ECF6\",\"radialaxis\":{\"gridcolor\":\"white\",\"linecolor\":\"white\",\"ticks\":\"\"}},\"scene\":{\"xaxis\":{\"backgroundcolor\":\"#E5ECF6\",\"gridcolor\":\"white\",\"gridwidth\":2,\"linecolor\":\"white\",\"showbackground\":true,\"ticks\":\"\",\"zerolinecolor\":\"white\"},\"yaxis\":{\"backgroundcolor\":\"#E5ECF6\",\"gridcolor\":\"white\",\"gridwidth\":2,\"linecolor\":\"white\",\"showbackground\":true,\"ticks\":\"\",\"zerolinecolor\":\"white\"},\"zaxis\":{\"backgroundcolor\":\"#E5ECF6\",\"gridcolor\":\"white\",\"gridwidth\":2,\"linecolor\":\"white\",\"showbackground\":true,\"ticks\":\"\",\"zerolinecolor\":\"white\"}},\"shapedefaults\":{\"line\":{\"color\":\"#2a3f5f\"}},\"ternary\":{\"aaxis\":{\"gridcolor\":\"white\",\"linecolor\":\"white\",\"ticks\":\"\"},\"baxis\":{\"gridcolor\":\"white\",\"linecolor\":\"white\",\"ticks\":\"\"},\"bgcolor\":\"#E5ECF6\",\"caxis\":{\"gridcolor\":\"white\",\"linecolor\":\"white\",\"ticks\":\"\"}},\"title\":{\"x\":0.05},\"xaxis\":{\"automargin\":true,\"gridcolor\":\"white\",\"linecolor\":\"white\",\"ticks\":\"\",\"title\":{\"standoff\":15},\"zerolinecolor\":\"white\",\"zerolinewidth\":2},\"yaxis\":{\"automargin\":true,\"gridcolor\":\"white\",\"linecolor\":\"white\",\"ticks\":\"\",\"title\":{\"standoff\":15},\"zerolinecolor\":\"white\",\"zerolinewidth\":2}}},\"title\":{\"text\":\"All Horror movies release in 2020\"},\"xaxis\":{\"anchor\":\"y\",\"domain\":[0.0,1.0],\"title\":{\"text\":\"Name\"}},\"yaxis\":{\"anchor\":\"x\",\"domain\":[0.0,1.0],\"title\":{\"text\":\"Rating\"}}},                        {\"responsive\": true}                    ).then(function(){\n",
       "                            \n",
       "var gd = document.getElementById('68e4b72d-c5b3-4a6e-a454-3d366e1321a1');\n",
       "var x = new MutationObserver(function (mutations, observer) {{\n",
       "        var display = window.getComputedStyle(gd).display;\n",
       "        if (!display || display === 'none') {{\n",
       "            console.log([gd, 'removed!']);\n",
       "            Plotly.purge(gd);\n",
       "            observer.disconnect();\n",
       "        }}\n",
       "}});\n",
       "\n",
       "// Listen for the removal of the full notebook cells\n",
       "var notebookContainer = gd.closest('#notebook-container');\n",
       "if (notebookContainer) {{\n",
       "    x.observe(notebookContainer, {childList: true});\n",
       "}}\n",
       "\n",
       "// Listen for the clearing of the current output cell\n",
       "var outputEl = gd.closest('.output');\n",
       "if (outputEl) {{\n",
       "    x.observe(outputEl, {childList: true});\n",
       "}}\n",
       "\n",
       "                        })                };                });            </script>        </div>"
      ]
     },
     "metadata": {},
     "output_type": "display_data"
    }
   ],
   "source": [
    "fig = px.scatter(horror_2020, x=\"Name\", y=\"Rating\",\n",
    "      size=\"Rating\", color=\"Genre\", size_max=50,hover_data=['Director'],title='All Horror movies release in 2020')\n",
    "fig.show()"
   ]
  },
  {
   "cell_type": "markdown",
   "id": "aa2fdade",
   "metadata": {},
   "source": [
    "# All Horror movies release in last 5 years"
   ]
  },
  {
   "cell_type": "code",
   "execution_count": 248,
   "id": "34b00123",
   "metadata": {},
   "outputs": [
    {
     "data": {
      "text/html": [
       "<div>\n",
       "<style scoped>\n",
       "    .dataframe tbody tr th:only-of-type {\n",
       "        vertical-align: middle;\n",
       "    }\n",
       "\n",
       "    .dataframe tbody tr th {\n",
       "        vertical-align: top;\n",
       "    }\n",
       "\n",
       "    .dataframe thead th {\n",
       "        text-align: right;\n",
       "    }\n",
       "</style>\n",
       "<table border=\"1\" class=\"dataframe\">\n",
       "  <thead>\n",
       "    <tr style=\"text-align: right;\">\n",
       "      <th></th>\n",
       "      <th>Name</th>\n",
       "      <th>Rating</th>\n",
       "      <th>Genre</th>\n",
       "      <th>Release date</th>\n",
       "      <th>Runtime</th>\n",
       "      <th>Director</th>\n",
       "      <th>Budget ($)</th>\n",
       "      <th>Revenue ($)</th>\n",
       "      <th>Url</th>\n",
       "      <th>Release year</th>\n",
       "      <th>Release month</th>\n",
       "    </tr>\n",
       "  </thead>\n",
       "  <tbody>\n",
       "    <tr>\n",
       "      <th>3</th>\n",
       "      <td>Separation</td>\n",
       "      <td>59.0</td>\n",
       "      <td>Horror</td>\n",
       "      <td>2021-04-30</td>\n",
       "      <td>1h 47m</td>\n",
       "      <td>William Brent Bell</td>\n",
       "      <td>NaN</td>\n",
       "      <td>NaN</td>\n",
       "      <td>https://www.themoviedb.org//movie/760195</td>\n",
       "      <td>2021</td>\n",
       "      <td>4</td>\n",
       "    </tr>\n",
       "    <tr>\n",
       "      <th>4</th>\n",
       "      <td>Demonic</td>\n",
       "      <td>49.0</td>\n",
       "      <td>Horror,Thriller</td>\n",
       "      <td>2021-08-20</td>\n",
       "      <td>1h 44m</td>\n",
       "      <td>Neill Blomkamp</td>\n",
       "      <td>NaN</td>\n",
       "      <td>NaN</td>\n",
       "      <td>https://www.themoviedb.org//movie/774021</td>\n",
       "      <td>2021</td>\n",
       "      <td>8</td>\n",
       "    </tr>\n",
       "    <tr>\n",
       "      <th>20</th>\n",
       "      <td>The Craft: Legacy</td>\n",
       "      <td>64.0</td>\n",
       "      <td>Horror,Drama,Fantasy</td>\n",
       "      <td>2020-10-28</td>\n",
       "      <td>1h 34m</td>\n",
       "      <td>Zoe Lister-Jones</td>\n",
       "      <td>NaN</td>\n",
       "      <td>NaN</td>\n",
       "      <td>https://www.themoviedb.org//movie/590995</td>\n",
       "      <td>2020</td>\n",
       "      <td>10</td>\n",
       "    </tr>\n",
       "    <tr>\n",
       "      <th>44</th>\n",
       "      <td>Aftermath</td>\n",
       "      <td>66.0</td>\n",
       "      <td>Horror,Crime,Drama,Thriller</td>\n",
       "      <td>2021-08-04</td>\n",
       "      <td>1h 54m</td>\n",
       "      <td>Peter Winther</td>\n",
       "      <td>NaN</td>\n",
       "      <td>NaN</td>\n",
       "      <td>https://www.themoviedb.org//movie/763149</td>\n",
       "      <td>2021</td>\n",
       "      <td>8</td>\n",
       "    </tr>\n",
       "    <tr>\n",
       "      <th>53</th>\n",
       "      <td>Annabelle: Creation</td>\n",
       "      <td>66.0</td>\n",
       "      <td>Horror,Mystery,Thriller</td>\n",
       "      <td>2017-08-15</td>\n",
       "      <td>1h 49m</td>\n",
       "      <td>Gary Dauberman</td>\n",
       "      <td>$15,000,000.00</td>\n",
       "      <td>$306,515,884.00</td>\n",
       "      <td>https://www.themoviedb.org//movie/396422</td>\n",
       "      <td>2017</td>\n",
       "      <td>8</td>\n",
       "    </tr>\n",
       "    <tr>\n",
       "      <th>64</th>\n",
       "      <td>The Amityville Harvest</td>\n",
       "      <td>74.0</td>\n",
       "      <td>Horror</td>\n",
       "      <td>2020-10-20</td>\n",
       "      <td>1h 38m</td>\n",
       "      <td>Thomas J. Churchill</td>\n",
       "      <td>NaN</td>\n",
       "      <td>NaN</td>\n",
       "      <td>https://www.themoviedb.org//movie/732472</td>\n",
       "      <td>2020</td>\n",
       "      <td>10</td>\n",
       "    </tr>\n",
       "    <tr>\n",
       "      <th>70</th>\n",
       "      <td>Mermaid Down</td>\n",
       "      <td>67.0</td>\n",
       "      <td>Horror,Fantasy,Mystery,Thriller</td>\n",
       "      <td>2019-10-15</td>\n",
       "      <td>1h 31m</td>\n",
       "      <td>Jeffrey Grellman</td>\n",
       "      <td>NaN</td>\n",
       "      <td>NaN</td>\n",
       "      <td>https://www.themoviedb.org//movie/504631</td>\n",
       "      <td>2019</td>\n",
       "      <td>10</td>\n",
       "    </tr>\n",
       "    <tr>\n",
       "      <th>76</th>\n",
       "      <td>Hereditary</td>\n",
       "      <td>72.0</td>\n",
       "      <td>Horror,Mystery,Thriller</td>\n",
       "      <td>2018-06-21</td>\n",
       "      <td>2h 7m</td>\n",
       "      <td>Ari Aster</td>\n",
       "      <td>$10,000,000.00</td>\n",
       "      <td>$80,239,658.00</td>\n",
       "      <td>https://www.themoviedb.org//movie/493922</td>\n",
       "      <td>2018</td>\n",
       "      <td>6</td>\n",
       "    </tr>\n",
       "    <tr>\n",
       "      <th>80</th>\n",
       "      <td>Books of Blood</td>\n",
       "      <td>67.0</td>\n",
       "      <td>Horror,Science Fiction</td>\n",
       "      <td>2020-10-07</td>\n",
       "      <td>1h 47m</td>\n",
       "      <td>Brannon Braga</td>\n",
       "      <td>NaN</td>\n",
       "      <td>NaN</td>\n",
       "      <td>https://www.themoviedb.org//movie/715123</td>\n",
       "      <td>2020</td>\n",
       "      <td>10</td>\n",
       "    </tr>\n",
       "    <tr>\n",
       "      <th>82</th>\n",
       "      <td>Death Note</td>\n",
       "      <td>42.0</td>\n",
       "      <td>Fantasy,Thriller,Crime,Drama,Horror</td>\n",
       "      <td>2017-08-25</td>\n",
       "      <td>1h 41m</td>\n",
       "      <td>Adam Wingard</td>\n",
       "      <td>$40,000,000.00</td>\n",
       "      <td>NaN</td>\n",
       "      <td>https://www.themoviedb.org//movie/351460</td>\n",
       "      <td>2017</td>\n",
       "      <td>8</td>\n",
       "    </tr>\n",
       "    <tr>\n",
       "      <th>92</th>\n",
       "      <td>Be Careful What You Wish For</td>\n",
       "      <td>67.0</td>\n",
       "      <td>Horror</td>\n",
       "      <td>2020-04-24</td>\n",
       "      <td>1h 31m</td>\n",
       "      <td>Agustín Oso Tapia</td>\n",
       "      <td>NaN</td>\n",
       "      <td>NaN</td>\n",
       "      <td>https://www.themoviedb.org//movie/681429</td>\n",
       "      <td>2020</td>\n",
       "      <td>4</td>\n",
       "    </tr>\n",
       "    <tr>\n",
       "      <th>109</th>\n",
       "      <td>Jeepers Creepers: Reborn</td>\n",
       "      <td>63.0</td>\n",
       "      <td>Horror,Thriller</td>\n",
       "      <td>2021-12-23</td>\n",
       "      <td>1h 51m</td>\n",
       "      <td>Kevin Williamson</td>\n",
       "      <td>$40,000,000.00</td>\n",
       "      <td>$97,231,420.00</td>\n",
       "      <td>https://www.themoviedb.org//movie/717728</td>\n",
       "      <td>2021</td>\n",
       "      <td>12</td>\n",
       "    </tr>\n",
       "    <tr>\n",
       "      <th>114</th>\n",
       "      <td>Happy Death Day</td>\n",
       "      <td>66.0</td>\n",
       "      <td>Horror,Mystery,Comedy</td>\n",
       "      <td>2017-10-13</td>\n",
       "      <td>1h 37m</td>\n",
       "      <td>Christopher Landon</td>\n",
       "      <td>$4,800,000.00</td>\n",
       "      <td>$122,637,878.00</td>\n",
       "      <td>https://www.themoviedb.org//movie/440021</td>\n",
       "      <td>2017</td>\n",
       "      <td>10</td>\n",
       "    </tr>\n",
       "    <tr>\n",
       "      <th>116</th>\n",
       "      <td>Torcidos</td>\n",
       "      <td>69.0</td>\n",
       "      <td>Horror</td>\n",
       "      <td>2021-08-27</td>\n",
       "      <td>1h 50m</td>\n",
       "      <td>David Koepp</td>\n",
       "      <td>$80,000,000.00</td>\n",
       "      <td>$457,731,198.00</td>\n",
       "      <td>https://www.themoviedb.org//movie/866343</td>\n",
       "      <td>2021</td>\n",
       "      <td>8</td>\n",
       "    </tr>\n",
       "    <tr>\n",
       "      <th>121</th>\n",
       "      <td>The Autopsy of Jane Doe</td>\n",
       "      <td>67.0</td>\n",
       "      <td>Horror,Mystery</td>\n",
       "      <td>2017-01-13</td>\n",
       "      <td>1h 26m</td>\n",
       "      <td>André Øvredal</td>\n",
       "      <td>NaN</td>\n",
       "      <td>$5,972,942.00</td>\n",
       "      <td>https://www.themoviedb.org//movie/397243</td>\n",
       "      <td>2017</td>\n",
       "      <td>1</td>\n",
       "    </tr>\n",
       "    <tr>\n",
       "      <th>125</th>\n",
       "      <td>Originless</td>\n",
       "      <td>56.0</td>\n",
       "      <td>Thriller,Horror</td>\n",
       "      <td>2020-10-25</td>\n",
       "      <td>1h 33m</td>\n",
       "      <td>Rigoberto Castañeda</td>\n",
       "      <td>NaN</td>\n",
       "      <td>NaN</td>\n",
       "      <td>https://www.themoviedb.org//movie/554585</td>\n",
       "      <td>2020</td>\n",
       "      <td>10</td>\n",
       "    </tr>\n",
       "    <tr>\n",
       "      <th>137</th>\n",
       "      <td>Behind the Trees</td>\n",
       "      <td>56.0</td>\n",
       "      <td>Horror,Thriller,Mystery</td>\n",
       "      <td>2019-11-21</td>\n",
       "      <td>1h 38m</td>\n",
       "      <td>Vikram Jayakumar</td>\n",
       "      <td>NaN</td>\n",
       "      <td>NaN</td>\n",
       "      <td>https://www.themoviedb.org//movie/649524</td>\n",
       "      <td>2019</td>\n",
       "      <td>11</td>\n",
       "    </tr>\n",
       "    <tr>\n",
       "      <th>138</th>\n",
       "      <td>Jigsaw</td>\n",
       "      <td>62.0</td>\n",
       "      <td>Horror,Crime,Mystery,Thriller</td>\n",
       "      <td>2017-10-27</td>\n",
       "      <td>1h 32m</td>\n",
       "      <td>Peter Spierig</td>\n",
       "      <td>$10,000,000.00</td>\n",
       "      <td>$102,952,888.00</td>\n",
       "      <td>https://www.themoviedb.org//movie/298250</td>\n",
       "      <td>2017</td>\n",
       "      <td>10</td>\n",
       "    </tr>\n",
       "  </tbody>\n",
       "</table>\n",
       "</div>"
      ],
      "text/plain": [
       "                             Name  Rating  \\\n",
       "3                      Separation    59.0   \n",
       "4                         Demonic    49.0   \n",
       "20              The Craft: Legacy    64.0   \n",
       "44                      Aftermath    66.0   \n",
       "53            Annabelle: Creation    66.0   \n",
       "64         The Amityville Harvest    74.0   \n",
       "70                   Mermaid Down    67.0   \n",
       "76                     Hereditary    72.0   \n",
       "80                 Books of Blood    67.0   \n",
       "82                     Death Note    42.0   \n",
       "92   Be Careful What You Wish For    67.0   \n",
       "109      Jeepers Creepers: Reborn    63.0   \n",
       "114               Happy Death Day    66.0   \n",
       "116                      Torcidos    69.0   \n",
       "121       The Autopsy of Jane Doe    67.0   \n",
       "125                    Originless    56.0   \n",
       "137              Behind the Trees    56.0   \n",
       "138                        Jigsaw    62.0   \n",
       "\n",
       "                                   Genre Release date Runtime  \\\n",
       "3                                 Horror   2021-04-30  1h 47m   \n",
       "4                        Horror,Thriller   2021-08-20  1h 44m   \n",
       "20                  Horror,Drama,Fantasy   2020-10-28  1h 34m   \n",
       "44           Horror,Crime,Drama,Thriller   2021-08-04  1h 54m   \n",
       "53               Horror,Mystery,Thriller   2017-08-15  1h 49m   \n",
       "64                                Horror   2020-10-20  1h 38m   \n",
       "70       Horror,Fantasy,Mystery,Thriller   2019-10-15  1h 31m   \n",
       "76               Horror,Mystery,Thriller   2018-06-21   2h 7m   \n",
       "80                Horror,Science Fiction   2020-10-07  1h 47m   \n",
       "82   Fantasy,Thriller,Crime,Drama,Horror   2017-08-25  1h 41m   \n",
       "92                                Horror   2020-04-24  1h 31m   \n",
       "109                      Horror,Thriller   2021-12-23  1h 51m   \n",
       "114                Horror,Mystery,Comedy   2017-10-13  1h 37m   \n",
       "116                               Horror   2021-08-27  1h 50m   \n",
       "121                       Horror,Mystery   2017-01-13  1h 26m   \n",
       "125                      Thriller,Horror   2020-10-25  1h 33m   \n",
       "137              Horror,Thriller,Mystery   2019-11-21  1h 38m   \n",
       "138        Horror,Crime,Mystery,Thriller   2017-10-27  1h 32m   \n",
       "\n",
       "                Director      Budget ($)     Revenue ($)   \\\n",
       "3     William Brent Bell             NaN              NaN   \n",
       "4         Neill Blomkamp             NaN              NaN   \n",
       "20      Zoe Lister-Jones             NaN              NaN   \n",
       "44         Peter Winther             NaN              NaN   \n",
       "53        Gary Dauberman  $15,000,000.00  $306,515,884.00   \n",
       "64   Thomas J. Churchill             NaN              NaN   \n",
       "70      Jeffrey Grellman             NaN              NaN   \n",
       "76             Ari Aster  $10,000,000.00   $80,239,658.00   \n",
       "80         Brannon Braga             NaN              NaN   \n",
       "82          Adam Wingard  $40,000,000.00              NaN   \n",
       "92     Agustín Oso Tapia             NaN              NaN   \n",
       "109     Kevin Williamson  $40,000,000.00   $97,231,420.00   \n",
       "114   Christopher Landon   $4,800,000.00  $122,637,878.00   \n",
       "116          David Koepp  $80,000,000.00  $457,731,198.00   \n",
       "121        André Øvredal             NaN    $5,972,942.00   \n",
       "125  Rigoberto Castañeda             NaN              NaN   \n",
       "137     Vikram Jayakumar             NaN              NaN   \n",
       "138        Peter Spierig  $10,000,000.00  $102,952,888.00   \n",
       "\n",
       "                                          Url  Release year  Release month  \n",
       "3    https://www.themoviedb.org//movie/760195          2021              4  \n",
       "4    https://www.themoviedb.org//movie/774021          2021              8  \n",
       "20   https://www.themoviedb.org//movie/590995          2020             10  \n",
       "44   https://www.themoviedb.org//movie/763149          2021              8  \n",
       "53   https://www.themoviedb.org//movie/396422          2017              8  \n",
       "64   https://www.themoviedb.org//movie/732472          2020             10  \n",
       "70   https://www.themoviedb.org//movie/504631          2019             10  \n",
       "76   https://www.themoviedb.org//movie/493922          2018              6  \n",
       "80   https://www.themoviedb.org//movie/715123          2020             10  \n",
       "82   https://www.themoviedb.org//movie/351460          2017              8  \n",
       "92   https://www.themoviedb.org//movie/681429          2020              4  \n",
       "109  https://www.themoviedb.org//movie/717728          2021             12  \n",
       "114  https://www.themoviedb.org//movie/440021          2017             10  \n",
       "116  https://www.themoviedb.org//movie/866343          2021              8  \n",
       "121  https://www.themoviedb.org//movie/397243          2017              1  \n",
       "125  https://www.themoviedb.org//movie/554585          2020             10  \n",
       "137  https://www.themoviedb.org//movie/649524          2019             11  \n",
       "138  https://www.themoviedb.org//movie/298250          2017             10  "
      ]
     },
     "execution_count": 248,
     "metadata": {},
     "output_type": "execute_result"
    }
   ],
   "source": [
    "last5year_horrror = movies_df[(movies_df['Genre'].str.contains('Horror')) & (movies_df['Release year']>=2017)]\n",
    "last5year_horrror "
   ]
  },
  {
   "cell_type": "code",
   "execution_count": 254,
   "id": "c3e927f5",
   "metadata": {
    "scrolled": true
   },
   "outputs": [
    {
     "data": {
      "application/vnd.plotly.v1+json": {
       "config": {
        "plotlyServerURL": "https://plot.ly"
       },
       "data": [
        {
         "customdata": [
          [
           "William Brent Bell"
          ],
          [
           "Thomas J. Churchill"
          ],
          [
           "Agustín Oso Tapia"
          ],
          [
           "David Koepp"
          ]
         ],
         "hovertemplate": "Genre=Horror<br>Name=%{x}<br>Rating=%{marker.size}<br>Director=%{customdata[0]}<extra></extra>",
         "legendgroup": "Horror",
         "marker": {
          "color": "#636efa",
          "size": [
           59,
           74,
           67,
           69
          ],
          "sizemode": "area",
          "sizeref": 0.0296,
          "symbol": "circle"
         },
         "mode": "markers",
         "name": "Horror",
         "orientation": "v",
         "showlegend": true,
         "type": "scatter",
         "x": [
          "Separation",
          "The Amityville Harvest",
          "Be Careful What You Wish For",
          "Torcidos"
         ],
         "xaxis": "x",
         "y": [
          59,
          74,
          67,
          69
         ],
         "yaxis": "y"
        },
        {
         "customdata": [
          [
           "Neill Blomkamp"
          ],
          [
           "Kevin Williamson"
          ]
         ],
         "hovertemplate": "Genre=Horror,Thriller<br>Name=%{x}<br>Rating=%{marker.size}<br>Director=%{customdata[0]}<extra></extra>",
         "legendgroup": "Horror,Thriller",
         "marker": {
          "color": "#EF553B",
          "size": [
           49,
           63
          ],
          "sizemode": "area",
          "sizeref": 0.0296,
          "symbol": "circle"
         },
         "mode": "markers",
         "name": "Horror,Thriller",
         "orientation": "v",
         "showlegend": true,
         "type": "scatter",
         "x": [
          "Demonic",
          "Jeepers Creepers: Reborn"
         ],
         "xaxis": "x",
         "y": [
          49,
          63
         ],
         "yaxis": "y"
        },
        {
         "customdata": [
          [
           "Zoe Lister-Jones"
          ]
         ],
         "hovertemplate": "Genre=Horror,Drama,Fantasy<br>Name=%{x}<br>Rating=%{marker.size}<br>Director=%{customdata[0]}<extra></extra>",
         "legendgroup": "Horror,Drama,Fantasy",
         "marker": {
          "color": "#00cc96",
          "size": [
           64
          ],
          "sizemode": "area",
          "sizeref": 0.0296,
          "symbol": "circle"
         },
         "mode": "markers",
         "name": "Horror,Drama,Fantasy",
         "orientation": "v",
         "showlegend": true,
         "type": "scatter",
         "x": [
          "The Craft: Legacy"
         ],
         "xaxis": "x",
         "y": [
          64
         ],
         "yaxis": "y"
        },
        {
         "customdata": [
          [
           "Peter Winther"
          ]
         ],
         "hovertemplate": "Genre=Horror,Crime,Drama,Thriller<br>Name=%{x}<br>Rating=%{marker.size}<br>Director=%{customdata[0]}<extra></extra>",
         "legendgroup": "Horror,Crime,Drama,Thriller",
         "marker": {
          "color": "#ab63fa",
          "size": [
           66
          ],
          "sizemode": "area",
          "sizeref": 0.0296,
          "symbol": "circle"
         },
         "mode": "markers",
         "name": "Horror,Crime,Drama,Thriller",
         "orientation": "v",
         "showlegend": true,
         "type": "scatter",
         "x": [
          "Aftermath"
         ],
         "xaxis": "x",
         "y": [
          66
         ],
         "yaxis": "y"
        },
        {
         "customdata": [
          [
           "Gary Dauberman"
          ],
          [
           "Ari Aster"
          ]
         ],
         "hovertemplate": "Genre=Horror,Mystery,Thriller<br>Name=%{x}<br>Rating=%{marker.size}<br>Director=%{customdata[0]}<extra></extra>",
         "legendgroup": "Horror,Mystery,Thriller",
         "marker": {
          "color": "#FFA15A",
          "size": [
           66,
           72
          ],
          "sizemode": "area",
          "sizeref": 0.0296,
          "symbol": "circle"
         },
         "mode": "markers",
         "name": "Horror,Mystery,Thriller",
         "orientation": "v",
         "showlegend": true,
         "type": "scatter",
         "x": [
          "Annabelle: Creation",
          "Hereditary"
         ],
         "xaxis": "x",
         "y": [
          66,
          72
         ],
         "yaxis": "y"
        },
        {
         "customdata": [
          [
           "Jeffrey Grellman"
          ]
         ],
         "hovertemplate": "Genre=Horror,Fantasy,Mystery,Thriller<br>Name=%{x}<br>Rating=%{marker.size}<br>Director=%{customdata[0]}<extra></extra>",
         "legendgroup": "Horror,Fantasy,Mystery,Thriller",
         "marker": {
          "color": "#19d3f3",
          "size": [
           67
          ],
          "sizemode": "area",
          "sizeref": 0.0296,
          "symbol": "circle"
         },
         "mode": "markers",
         "name": "Horror,Fantasy,Mystery,Thriller",
         "orientation": "v",
         "showlegend": true,
         "type": "scatter",
         "x": [
          "Mermaid Down"
         ],
         "xaxis": "x",
         "y": [
          67
         ],
         "yaxis": "y"
        },
        {
         "customdata": [
          [
           "Brannon Braga"
          ]
         ],
         "hovertemplate": "Genre=Horror,Science Fiction<br>Name=%{x}<br>Rating=%{marker.size}<br>Director=%{customdata[0]}<extra></extra>",
         "legendgroup": "Horror,Science Fiction",
         "marker": {
          "color": "#FF6692",
          "size": [
           67
          ],
          "sizemode": "area",
          "sizeref": 0.0296,
          "symbol": "circle"
         },
         "mode": "markers",
         "name": "Horror,Science Fiction",
         "orientation": "v",
         "showlegend": true,
         "type": "scatter",
         "x": [
          "Books of Blood"
         ],
         "xaxis": "x",
         "y": [
          67
         ],
         "yaxis": "y"
        },
        {
         "customdata": [
          [
           "Adam Wingard"
          ]
         ],
         "hovertemplate": "Genre=Fantasy,Thriller,Crime,Drama,Horror<br>Name=%{x}<br>Rating=%{marker.size}<br>Director=%{customdata[0]}<extra></extra>",
         "legendgroup": "Fantasy,Thriller,Crime,Drama,Horror",
         "marker": {
          "color": "#B6E880",
          "size": [
           42
          ],
          "sizemode": "area",
          "sizeref": 0.0296,
          "symbol": "circle"
         },
         "mode": "markers",
         "name": "Fantasy,Thriller,Crime,Drama,Horror",
         "orientation": "v",
         "showlegend": true,
         "type": "scatter",
         "x": [
          "Death Note"
         ],
         "xaxis": "x",
         "y": [
          42
         ],
         "yaxis": "y"
        },
        {
         "customdata": [
          [
           "Christopher Landon"
          ]
         ],
         "hovertemplate": "Genre=Horror,Mystery,Comedy<br>Name=%{x}<br>Rating=%{marker.size}<br>Director=%{customdata[0]}<extra></extra>",
         "legendgroup": "Horror,Mystery,Comedy",
         "marker": {
          "color": "#FF97FF",
          "size": [
           66
          ],
          "sizemode": "area",
          "sizeref": 0.0296,
          "symbol": "circle"
         },
         "mode": "markers",
         "name": "Horror,Mystery,Comedy",
         "orientation": "v",
         "showlegend": true,
         "type": "scatter",
         "x": [
          "Happy Death Day"
         ],
         "xaxis": "x",
         "y": [
          66
         ],
         "yaxis": "y"
        },
        {
         "customdata": [
          [
           "André Øvredal"
          ]
         ],
         "hovertemplate": "Genre=Horror,Mystery<br>Name=%{x}<br>Rating=%{marker.size}<br>Director=%{customdata[0]}<extra></extra>",
         "legendgroup": "Horror,Mystery",
         "marker": {
          "color": "#FECB52",
          "size": [
           67
          ],
          "sizemode": "area",
          "sizeref": 0.0296,
          "symbol": "circle"
         },
         "mode": "markers",
         "name": "Horror,Mystery",
         "orientation": "v",
         "showlegend": true,
         "type": "scatter",
         "x": [
          "The Autopsy of Jane Doe"
         ],
         "xaxis": "x",
         "y": [
          67
         ],
         "yaxis": "y"
        },
        {
         "customdata": [
          [
           "Rigoberto Castañeda"
          ]
         ],
         "hovertemplate": "Genre=Thriller,Horror<br>Name=%{x}<br>Rating=%{marker.size}<br>Director=%{customdata[0]}<extra></extra>",
         "legendgroup": "Thriller,Horror",
         "marker": {
          "color": "#636efa",
          "size": [
           56
          ],
          "sizemode": "area",
          "sizeref": 0.0296,
          "symbol": "circle"
         },
         "mode": "markers",
         "name": "Thriller,Horror",
         "orientation": "v",
         "showlegend": true,
         "type": "scatter",
         "x": [
          "Originless"
         ],
         "xaxis": "x",
         "y": [
          56
         ],
         "yaxis": "y"
        },
        {
         "customdata": [
          [
           "Vikram Jayakumar"
          ]
         ],
         "hovertemplate": "Genre=Horror,Thriller,Mystery<br>Name=%{x}<br>Rating=%{marker.size}<br>Director=%{customdata[0]}<extra></extra>",
         "legendgroup": "Horror,Thriller,Mystery",
         "marker": {
          "color": "#EF553B",
          "size": [
           56
          ],
          "sizemode": "area",
          "sizeref": 0.0296,
          "symbol": "circle"
         },
         "mode": "markers",
         "name": "Horror,Thriller,Mystery",
         "orientation": "v",
         "showlegend": true,
         "type": "scatter",
         "x": [
          "Behind the Trees"
         ],
         "xaxis": "x",
         "y": [
          56
         ],
         "yaxis": "y"
        },
        {
         "customdata": [
          [
           "Peter Spierig"
          ]
         ],
         "hovertemplate": "Genre=Horror,Crime,Mystery,Thriller<br>Name=%{x}<br>Rating=%{marker.size}<br>Director=%{customdata[0]}<extra></extra>",
         "legendgroup": "Horror,Crime,Mystery,Thriller",
         "marker": {
          "color": "#00cc96",
          "size": [
           62
          ],
          "sizemode": "area",
          "sizeref": 0.0296,
          "symbol": "circle"
         },
         "mode": "markers",
         "name": "Horror,Crime,Mystery,Thriller",
         "orientation": "v",
         "showlegend": true,
         "type": "scatter",
         "x": [
          "Jigsaw"
         ],
         "xaxis": "x",
         "y": [
          62
         ],
         "yaxis": "y"
        }
       ],
       "layout": {
        "legend": {
         "itemsizing": "constant",
         "title": {
          "text": "Genre"
         },
         "tracegroupgap": 0
        },
        "template": {
         "data": {
          "bar": [
           {
            "error_x": {
             "color": "#2a3f5f"
            },
            "error_y": {
             "color": "#2a3f5f"
            },
            "marker": {
             "line": {
              "color": "#E5ECF6",
              "width": 0.5
             },
             "pattern": {
              "fillmode": "overlay",
              "size": 10,
              "solidity": 0.2
             }
            },
            "type": "bar"
           }
          ],
          "barpolar": [
           {
            "marker": {
             "line": {
              "color": "#E5ECF6",
              "width": 0.5
             },
             "pattern": {
              "fillmode": "overlay",
              "size": 10,
              "solidity": 0.2
             }
            },
            "type": "barpolar"
           }
          ],
          "carpet": [
           {
            "aaxis": {
             "endlinecolor": "#2a3f5f",
             "gridcolor": "white",
             "linecolor": "white",
             "minorgridcolor": "white",
             "startlinecolor": "#2a3f5f"
            },
            "baxis": {
             "endlinecolor": "#2a3f5f",
             "gridcolor": "white",
             "linecolor": "white",
             "minorgridcolor": "white",
             "startlinecolor": "#2a3f5f"
            },
            "type": "carpet"
           }
          ],
          "choropleth": [
           {
            "colorbar": {
             "outlinewidth": 0,
             "ticks": ""
            },
            "type": "choropleth"
           }
          ],
          "contour": [
           {
            "colorbar": {
             "outlinewidth": 0,
             "ticks": ""
            },
            "colorscale": [
             [
              0,
              "#0d0887"
             ],
             [
              0.1111111111111111,
              "#46039f"
             ],
             [
              0.2222222222222222,
              "#7201a8"
             ],
             [
              0.3333333333333333,
              "#9c179e"
             ],
             [
              0.4444444444444444,
              "#bd3786"
             ],
             [
              0.5555555555555556,
              "#d8576b"
             ],
             [
              0.6666666666666666,
              "#ed7953"
             ],
             [
              0.7777777777777778,
              "#fb9f3a"
             ],
             [
              0.8888888888888888,
              "#fdca26"
             ],
             [
              1,
              "#f0f921"
             ]
            ],
            "type": "contour"
           }
          ],
          "contourcarpet": [
           {
            "colorbar": {
             "outlinewidth": 0,
             "ticks": ""
            },
            "type": "contourcarpet"
           }
          ],
          "heatmap": [
           {
            "colorbar": {
             "outlinewidth": 0,
             "ticks": ""
            },
            "colorscale": [
             [
              0,
              "#0d0887"
             ],
             [
              0.1111111111111111,
              "#46039f"
             ],
             [
              0.2222222222222222,
              "#7201a8"
             ],
             [
              0.3333333333333333,
              "#9c179e"
             ],
             [
              0.4444444444444444,
              "#bd3786"
             ],
             [
              0.5555555555555556,
              "#d8576b"
             ],
             [
              0.6666666666666666,
              "#ed7953"
             ],
             [
              0.7777777777777778,
              "#fb9f3a"
             ],
             [
              0.8888888888888888,
              "#fdca26"
             ],
             [
              1,
              "#f0f921"
             ]
            ],
            "type": "heatmap"
           }
          ],
          "heatmapgl": [
           {
            "colorbar": {
             "outlinewidth": 0,
             "ticks": ""
            },
            "colorscale": [
             [
              0,
              "#0d0887"
             ],
             [
              0.1111111111111111,
              "#46039f"
             ],
             [
              0.2222222222222222,
              "#7201a8"
             ],
             [
              0.3333333333333333,
              "#9c179e"
             ],
             [
              0.4444444444444444,
              "#bd3786"
             ],
             [
              0.5555555555555556,
              "#d8576b"
             ],
             [
              0.6666666666666666,
              "#ed7953"
             ],
             [
              0.7777777777777778,
              "#fb9f3a"
             ],
             [
              0.8888888888888888,
              "#fdca26"
             ],
             [
              1,
              "#f0f921"
             ]
            ],
            "type": "heatmapgl"
           }
          ],
          "histogram": [
           {
            "marker": {
             "pattern": {
              "fillmode": "overlay",
              "size": 10,
              "solidity": 0.2
             }
            },
            "type": "histogram"
           }
          ],
          "histogram2d": [
           {
            "colorbar": {
             "outlinewidth": 0,
             "ticks": ""
            },
            "colorscale": [
             [
              0,
              "#0d0887"
             ],
             [
              0.1111111111111111,
              "#46039f"
             ],
             [
              0.2222222222222222,
              "#7201a8"
             ],
             [
              0.3333333333333333,
              "#9c179e"
             ],
             [
              0.4444444444444444,
              "#bd3786"
             ],
             [
              0.5555555555555556,
              "#d8576b"
             ],
             [
              0.6666666666666666,
              "#ed7953"
             ],
             [
              0.7777777777777778,
              "#fb9f3a"
             ],
             [
              0.8888888888888888,
              "#fdca26"
             ],
             [
              1,
              "#f0f921"
             ]
            ],
            "type": "histogram2d"
           }
          ],
          "histogram2dcontour": [
           {
            "colorbar": {
             "outlinewidth": 0,
             "ticks": ""
            },
            "colorscale": [
             [
              0,
              "#0d0887"
             ],
             [
              0.1111111111111111,
              "#46039f"
             ],
             [
              0.2222222222222222,
              "#7201a8"
             ],
             [
              0.3333333333333333,
              "#9c179e"
             ],
             [
              0.4444444444444444,
              "#bd3786"
             ],
             [
              0.5555555555555556,
              "#d8576b"
             ],
             [
              0.6666666666666666,
              "#ed7953"
             ],
             [
              0.7777777777777778,
              "#fb9f3a"
             ],
             [
              0.8888888888888888,
              "#fdca26"
             ],
             [
              1,
              "#f0f921"
             ]
            ],
            "type": "histogram2dcontour"
           }
          ],
          "mesh3d": [
           {
            "colorbar": {
             "outlinewidth": 0,
             "ticks": ""
            },
            "type": "mesh3d"
           }
          ],
          "parcoords": [
           {
            "line": {
             "colorbar": {
              "outlinewidth": 0,
              "ticks": ""
             }
            },
            "type": "parcoords"
           }
          ],
          "pie": [
           {
            "automargin": true,
            "type": "pie"
           }
          ],
          "scatter": [
           {
            "marker": {
             "colorbar": {
              "outlinewidth": 0,
              "ticks": ""
             }
            },
            "type": "scatter"
           }
          ],
          "scatter3d": [
           {
            "line": {
             "colorbar": {
              "outlinewidth": 0,
              "ticks": ""
             }
            },
            "marker": {
             "colorbar": {
              "outlinewidth": 0,
              "ticks": ""
             }
            },
            "type": "scatter3d"
           }
          ],
          "scattercarpet": [
           {
            "marker": {
             "colorbar": {
              "outlinewidth": 0,
              "ticks": ""
             }
            },
            "type": "scattercarpet"
           }
          ],
          "scattergeo": [
           {
            "marker": {
             "colorbar": {
              "outlinewidth": 0,
              "ticks": ""
             }
            },
            "type": "scattergeo"
           }
          ],
          "scattergl": [
           {
            "marker": {
             "colorbar": {
              "outlinewidth": 0,
              "ticks": ""
             }
            },
            "type": "scattergl"
           }
          ],
          "scattermapbox": [
           {
            "marker": {
             "colorbar": {
              "outlinewidth": 0,
              "ticks": ""
             }
            },
            "type": "scattermapbox"
           }
          ],
          "scatterpolar": [
           {
            "marker": {
             "colorbar": {
              "outlinewidth": 0,
              "ticks": ""
             }
            },
            "type": "scatterpolar"
           }
          ],
          "scatterpolargl": [
           {
            "marker": {
             "colorbar": {
              "outlinewidth": 0,
              "ticks": ""
             }
            },
            "type": "scatterpolargl"
           }
          ],
          "scatterternary": [
           {
            "marker": {
             "colorbar": {
              "outlinewidth": 0,
              "ticks": ""
             }
            },
            "type": "scatterternary"
           }
          ],
          "surface": [
           {
            "colorbar": {
             "outlinewidth": 0,
             "ticks": ""
            },
            "colorscale": [
             [
              0,
              "#0d0887"
             ],
             [
              0.1111111111111111,
              "#46039f"
             ],
             [
              0.2222222222222222,
              "#7201a8"
             ],
             [
              0.3333333333333333,
              "#9c179e"
             ],
             [
              0.4444444444444444,
              "#bd3786"
             ],
             [
              0.5555555555555556,
              "#d8576b"
             ],
             [
              0.6666666666666666,
              "#ed7953"
             ],
             [
              0.7777777777777778,
              "#fb9f3a"
             ],
             [
              0.8888888888888888,
              "#fdca26"
             ],
             [
              1,
              "#f0f921"
             ]
            ],
            "type": "surface"
           }
          ],
          "table": [
           {
            "cells": {
             "fill": {
              "color": "#EBF0F8"
             },
             "line": {
              "color": "white"
             }
            },
            "header": {
             "fill": {
              "color": "#C8D4E3"
             },
             "line": {
              "color": "white"
             }
            },
            "type": "table"
           }
          ]
         },
         "layout": {
          "annotationdefaults": {
           "arrowcolor": "#2a3f5f",
           "arrowhead": 0,
           "arrowwidth": 1
          },
          "autotypenumbers": "strict",
          "coloraxis": {
           "colorbar": {
            "outlinewidth": 0,
            "ticks": ""
           }
          },
          "colorscale": {
           "diverging": [
            [
             0,
             "#8e0152"
            ],
            [
             0.1,
             "#c51b7d"
            ],
            [
             0.2,
             "#de77ae"
            ],
            [
             0.3,
             "#f1b6da"
            ],
            [
             0.4,
             "#fde0ef"
            ],
            [
             0.5,
             "#f7f7f7"
            ],
            [
             0.6,
             "#e6f5d0"
            ],
            [
             0.7,
             "#b8e186"
            ],
            [
             0.8,
             "#7fbc41"
            ],
            [
             0.9,
             "#4d9221"
            ],
            [
             1,
             "#276419"
            ]
           ],
           "sequential": [
            [
             0,
             "#0d0887"
            ],
            [
             0.1111111111111111,
             "#46039f"
            ],
            [
             0.2222222222222222,
             "#7201a8"
            ],
            [
             0.3333333333333333,
             "#9c179e"
            ],
            [
             0.4444444444444444,
             "#bd3786"
            ],
            [
             0.5555555555555556,
             "#d8576b"
            ],
            [
             0.6666666666666666,
             "#ed7953"
            ],
            [
             0.7777777777777778,
             "#fb9f3a"
            ],
            [
             0.8888888888888888,
             "#fdca26"
            ],
            [
             1,
             "#f0f921"
            ]
           ],
           "sequentialminus": [
            [
             0,
             "#0d0887"
            ],
            [
             0.1111111111111111,
             "#46039f"
            ],
            [
             0.2222222222222222,
             "#7201a8"
            ],
            [
             0.3333333333333333,
             "#9c179e"
            ],
            [
             0.4444444444444444,
             "#bd3786"
            ],
            [
             0.5555555555555556,
             "#d8576b"
            ],
            [
             0.6666666666666666,
             "#ed7953"
            ],
            [
             0.7777777777777778,
             "#fb9f3a"
            ],
            [
             0.8888888888888888,
             "#fdca26"
            ],
            [
             1,
             "#f0f921"
            ]
           ]
          },
          "colorway": [
           "#636efa",
           "#EF553B",
           "#00cc96",
           "#ab63fa",
           "#FFA15A",
           "#19d3f3",
           "#FF6692",
           "#B6E880",
           "#FF97FF",
           "#FECB52"
          ],
          "font": {
           "color": "#2a3f5f"
          },
          "geo": {
           "bgcolor": "white",
           "lakecolor": "white",
           "landcolor": "#E5ECF6",
           "showlakes": true,
           "showland": true,
           "subunitcolor": "white"
          },
          "hoverlabel": {
           "align": "left"
          },
          "hovermode": "closest",
          "mapbox": {
           "style": "light"
          },
          "paper_bgcolor": "white",
          "plot_bgcolor": "#E5ECF6",
          "polar": {
           "angularaxis": {
            "gridcolor": "white",
            "linecolor": "white",
            "ticks": ""
           },
           "bgcolor": "#E5ECF6",
           "radialaxis": {
            "gridcolor": "white",
            "linecolor": "white",
            "ticks": ""
           }
          },
          "scene": {
           "xaxis": {
            "backgroundcolor": "#E5ECF6",
            "gridcolor": "white",
            "gridwidth": 2,
            "linecolor": "white",
            "showbackground": true,
            "ticks": "",
            "zerolinecolor": "white"
           },
           "yaxis": {
            "backgroundcolor": "#E5ECF6",
            "gridcolor": "white",
            "gridwidth": 2,
            "linecolor": "white",
            "showbackground": true,
            "ticks": "",
            "zerolinecolor": "white"
           },
           "zaxis": {
            "backgroundcolor": "#E5ECF6",
            "gridcolor": "white",
            "gridwidth": 2,
            "linecolor": "white",
            "showbackground": true,
            "ticks": "",
            "zerolinecolor": "white"
           }
          },
          "shapedefaults": {
           "line": {
            "color": "#2a3f5f"
           }
          },
          "ternary": {
           "aaxis": {
            "gridcolor": "white",
            "linecolor": "white",
            "ticks": ""
           },
           "baxis": {
            "gridcolor": "white",
            "linecolor": "white",
            "ticks": ""
           },
           "bgcolor": "#E5ECF6",
           "caxis": {
            "gridcolor": "white",
            "linecolor": "white",
            "ticks": ""
           }
          },
          "title": {
           "x": 0.05
          },
          "xaxis": {
           "automargin": true,
           "gridcolor": "white",
           "linecolor": "white",
           "ticks": "",
           "title": {
            "standoff": 15
           },
           "zerolinecolor": "white",
           "zerolinewidth": 2
          },
          "yaxis": {
           "automargin": true,
           "gridcolor": "white",
           "linecolor": "white",
           "ticks": "",
           "title": {
            "standoff": 15
           },
           "zerolinecolor": "white",
           "zerolinewidth": 2
          }
         }
        },
        "title": {
         "text": "All Horror movies release in last 5 years"
        },
        "xaxis": {
         "anchor": "y",
         "domain": [
          0,
          1
         ],
         "title": {
          "text": "Name"
         }
        },
        "yaxis": {
         "anchor": "x",
         "domain": [
          0,
          1
         ],
         "title": {
          "text": "Rating"
         }
        }
       }
      },
      "text/html": [
       "<div>                            <div id=\"90aec68c-b8b0-4422-afe0-2166395efcb9\" class=\"plotly-graph-div\" style=\"height:525px; width:100%;\"></div>            <script type=\"text/javascript\">                require([\"plotly\"], function(Plotly) {                    window.PLOTLYENV=window.PLOTLYENV || {};                                    if (document.getElementById(\"90aec68c-b8b0-4422-afe0-2166395efcb9\")) {                    Plotly.newPlot(                        \"90aec68c-b8b0-4422-afe0-2166395efcb9\",                        [{\"customdata\":[[\"William Brent Bell\"],[\"Thomas J. Churchill\"],[\"Agust\\u00edn Oso Tapia\"],[\"David Koepp\"]],\"hovertemplate\":\"Genre=Horror<br>Name=%{x}<br>Rating=%{marker.size}<br>Director=%{customdata[0]}<extra></extra>\",\"legendgroup\":\"Horror\",\"marker\":{\"color\":\"#636efa\",\"size\":[59.0,74.0,67.0,69.0],\"sizemode\":\"area\",\"sizeref\":0.0296,\"symbol\":\"circle\"},\"mode\":\"markers\",\"name\":\"Horror\",\"orientation\":\"v\",\"showlegend\":true,\"type\":\"scatter\",\"x\":[\"Separation\",\"The Amityville Harvest\",\"Be Careful What You Wish For\",\"Torcidos\"],\"xaxis\":\"x\",\"y\":[59.0,74.0,67.0,69.0],\"yaxis\":\"y\"},{\"customdata\":[[\"Neill Blomkamp\"],[\"Kevin Williamson\"]],\"hovertemplate\":\"Genre=Horror,Thriller<br>Name=%{x}<br>Rating=%{marker.size}<br>Director=%{customdata[0]}<extra></extra>\",\"legendgroup\":\"Horror,Thriller\",\"marker\":{\"color\":\"#EF553B\",\"size\":[49.0,63.0],\"sizemode\":\"area\",\"sizeref\":0.0296,\"symbol\":\"circle\"},\"mode\":\"markers\",\"name\":\"Horror,Thriller\",\"orientation\":\"v\",\"showlegend\":true,\"type\":\"scatter\",\"x\":[\"Demonic\",\"Jeepers Creepers: Reborn\"],\"xaxis\":\"x\",\"y\":[49.0,63.0],\"yaxis\":\"y\"},{\"customdata\":[[\"Zoe Lister-Jones\"]],\"hovertemplate\":\"Genre=Horror,Drama,Fantasy<br>Name=%{x}<br>Rating=%{marker.size}<br>Director=%{customdata[0]}<extra></extra>\",\"legendgroup\":\"Horror,Drama,Fantasy\",\"marker\":{\"color\":\"#00cc96\",\"size\":[64.0],\"sizemode\":\"area\",\"sizeref\":0.0296,\"symbol\":\"circle\"},\"mode\":\"markers\",\"name\":\"Horror,Drama,Fantasy\",\"orientation\":\"v\",\"showlegend\":true,\"type\":\"scatter\",\"x\":[\"The Craft: Legacy\"],\"xaxis\":\"x\",\"y\":[64.0],\"yaxis\":\"y\"},{\"customdata\":[[\"Peter Winther\"]],\"hovertemplate\":\"Genre=Horror,Crime,Drama,Thriller<br>Name=%{x}<br>Rating=%{marker.size}<br>Director=%{customdata[0]}<extra></extra>\",\"legendgroup\":\"Horror,Crime,Drama,Thriller\",\"marker\":{\"color\":\"#ab63fa\",\"size\":[66.0],\"sizemode\":\"area\",\"sizeref\":0.0296,\"symbol\":\"circle\"},\"mode\":\"markers\",\"name\":\"Horror,Crime,Drama,Thriller\",\"orientation\":\"v\",\"showlegend\":true,\"type\":\"scatter\",\"x\":[\"Aftermath\"],\"xaxis\":\"x\",\"y\":[66.0],\"yaxis\":\"y\"},{\"customdata\":[[\"Gary Dauberman\"],[\"Ari Aster\"]],\"hovertemplate\":\"Genre=Horror,Mystery,Thriller<br>Name=%{x}<br>Rating=%{marker.size}<br>Director=%{customdata[0]}<extra></extra>\",\"legendgroup\":\"Horror,Mystery,Thriller\",\"marker\":{\"color\":\"#FFA15A\",\"size\":[66.0,72.0],\"sizemode\":\"area\",\"sizeref\":0.0296,\"symbol\":\"circle\"},\"mode\":\"markers\",\"name\":\"Horror,Mystery,Thriller\",\"orientation\":\"v\",\"showlegend\":true,\"type\":\"scatter\",\"x\":[\"Annabelle: Creation\",\"Hereditary\"],\"xaxis\":\"x\",\"y\":[66.0,72.0],\"yaxis\":\"y\"},{\"customdata\":[[\"Jeffrey Grellman\"]],\"hovertemplate\":\"Genre=Horror,Fantasy,Mystery,Thriller<br>Name=%{x}<br>Rating=%{marker.size}<br>Director=%{customdata[0]}<extra></extra>\",\"legendgroup\":\"Horror,Fantasy,Mystery,Thriller\",\"marker\":{\"color\":\"#19d3f3\",\"size\":[67.0],\"sizemode\":\"area\",\"sizeref\":0.0296,\"symbol\":\"circle\"},\"mode\":\"markers\",\"name\":\"Horror,Fantasy,Mystery,Thriller\",\"orientation\":\"v\",\"showlegend\":true,\"type\":\"scatter\",\"x\":[\"Mermaid Down\"],\"xaxis\":\"x\",\"y\":[67.0],\"yaxis\":\"y\"},{\"customdata\":[[\"Brannon Braga\"]],\"hovertemplate\":\"Genre=Horror,Science Fiction<br>Name=%{x}<br>Rating=%{marker.size}<br>Director=%{customdata[0]}<extra></extra>\",\"legendgroup\":\"Horror,Science Fiction\",\"marker\":{\"color\":\"#FF6692\",\"size\":[67.0],\"sizemode\":\"area\",\"sizeref\":0.0296,\"symbol\":\"circle\"},\"mode\":\"markers\",\"name\":\"Horror,Science Fiction\",\"orientation\":\"v\",\"showlegend\":true,\"type\":\"scatter\",\"x\":[\"Books of Blood\"],\"xaxis\":\"x\",\"y\":[67.0],\"yaxis\":\"y\"},{\"customdata\":[[\"Adam Wingard\"]],\"hovertemplate\":\"Genre=Fantasy,Thriller,Crime,Drama,Horror<br>Name=%{x}<br>Rating=%{marker.size}<br>Director=%{customdata[0]}<extra></extra>\",\"legendgroup\":\"Fantasy,Thriller,Crime,Drama,Horror\",\"marker\":{\"color\":\"#B6E880\",\"size\":[42.0],\"sizemode\":\"area\",\"sizeref\":0.0296,\"symbol\":\"circle\"},\"mode\":\"markers\",\"name\":\"Fantasy,Thriller,Crime,Drama,Horror\",\"orientation\":\"v\",\"showlegend\":true,\"type\":\"scatter\",\"x\":[\"Death Note\"],\"xaxis\":\"x\",\"y\":[42.0],\"yaxis\":\"y\"},{\"customdata\":[[\"Christopher Landon\"]],\"hovertemplate\":\"Genre=Horror,Mystery,Comedy<br>Name=%{x}<br>Rating=%{marker.size}<br>Director=%{customdata[0]}<extra></extra>\",\"legendgroup\":\"Horror,Mystery,Comedy\",\"marker\":{\"color\":\"#FF97FF\",\"size\":[66.0],\"sizemode\":\"area\",\"sizeref\":0.0296,\"symbol\":\"circle\"},\"mode\":\"markers\",\"name\":\"Horror,Mystery,Comedy\",\"orientation\":\"v\",\"showlegend\":true,\"type\":\"scatter\",\"x\":[\"Happy Death Day\"],\"xaxis\":\"x\",\"y\":[66.0],\"yaxis\":\"y\"},{\"customdata\":[[\"Andr\\u00e9 \\u00d8vredal\"]],\"hovertemplate\":\"Genre=Horror,Mystery<br>Name=%{x}<br>Rating=%{marker.size}<br>Director=%{customdata[0]}<extra></extra>\",\"legendgroup\":\"Horror,Mystery\",\"marker\":{\"color\":\"#FECB52\",\"size\":[67.0],\"sizemode\":\"area\",\"sizeref\":0.0296,\"symbol\":\"circle\"},\"mode\":\"markers\",\"name\":\"Horror,Mystery\",\"orientation\":\"v\",\"showlegend\":true,\"type\":\"scatter\",\"x\":[\"The Autopsy of Jane Doe\"],\"xaxis\":\"x\",\"y\":[67.0],\"yaxis\":\"y\"},{\"customdata\":[[\"Rigoberto Casta\\u00f1eda\"]],\"hovertemplate\":\"Genre=Thriller,Horror<br>Name=%{x}<br>Rating=%{marker.size}<br>Director=%{customdata[0]}<extra></extra>\",\"legendgroup\":\"Thriller,Horror\",\"marker\":{\"color\":\"#636efa\",\"size\":[56.0],\"sizemode\":\"area\",\"sizeref\":0.0296,\"symbol\":\"circle\"},\"mode\":\"markers\",\"name\":\"Thriller,Horror\",\"orientation\":\"v\",\"showlegend\":true,\"type\":\"scatter\",\"x\":[\"Originless\"],\"xaxis\":\"x\",\"y\":[56.0],\"yaxis\":\"y\"},{\"customdata\":[[\"Vikram Jayakumar\"]],\"hovertemplate\":\"Genre=Horror,Thriller,Mystery<br>Name=%{x}<br>Rating=%{marker.size}<br>Director=%{customdata[0]}<extra></extra>\",\"legendgroup\":\"Horror,Thriller,Mystery\",\"marker\":{\"color\":\"#EF553B\",\"size\":[56.0],\"sizemode\":\"area\",\"sizeref\":0.0296,\"symbol\":\"circle\"},\"mode\":\"markers\",\"name\":\"Horror,Thriller,Mystery\",\"orientation\":\"v\",\"showlegend\":true,\"type\":\"scatter\",\"x\":[\"Behind the Trees\"],\"xaxis\":\"x\",\"y\":[56.0],\"yaxis\":\"y\"},{\"customdata\":[[\"Peter Spierig\"]],\"hovertemplate\":\"Genre=Horror,Crime,Mystery,Thriller<br>Name=%{x}<br>Rating=%{marker.size}<br>Director=%{customdata[0]}<extra></extra>\",\"legendgroup\":\"Horror,Crime,Mystery,Thriller\",\"marker\":{\"color\":\"#00cc96\",\"size\":[62.0],\"sizemode\":\"area\",\"sizeref\":0.0296,\"symbol\":\"circle\"},\"mode\":\"markers\",\"name\":\"Horror,Crime,Mystery,Thriller\",\"orientation\":\"v\",\"showlegend\":true,\"type\":\"scatter\",\"x\":[\"Jigsaw\"],\"xaxis\":\"x\",\"y\":[62.0],\"yaxis\":\"y\"}],                        {\"legend\":{\"itemsizing\":\"constant\",\"title\":{\"text\":\"Genre\"},\"tracegroupgap\":0},\"template\":{\"data\":{\"bar\":[{\"error_x\":{\"color\":\"#2a3f5f\"},\"error_y\":{\"color\":\"#2a3f5f\"},\"marker\":{\"line\":{\"color\":\"#E5ECF6\",\"width\":0.5},\"pattern\":{\"fillmode\":\"overlay\",\"size\":10,\"solidity\":0.2}},\"type\":\"bar\"}],\"barpolar\":[{\"marker\":{\"line\":{\"color\":\"#E5ECF6\",\"width\":0.5},\"pattern\":{\"fillmode\":\"overlay\",\"size\":10,\"solidity\":0.2}},\"type\":\"barpolar\"}],\"carpet\":[{\"aaxis\":{\"endlinecolor\":\"#2a3f5f\",\"gridcolor\":\"white\",\"linecolor\":\"white\",\"minorgridcolor\":\"white\",\"startlinecolor\":\"#2a3f5f\"},\"baxis\":{\"endlinecolor\":\"#2a3f5f\",\"gridcolor\":\"white\",\"linecolor\":\"white\",\"minorgridcolor\":\"white\",\"startlinecolor\":\"#2a3f5f\"},\"type\":\"carpet\"}],\"choropleth\":[{\"colorbar\":{\"outlinewidth\":0,\"ticks\":\"\"},\"type\":\"choropleth\"}],\"contour\":[{\"colorbar\":{\"outlinewidth\":0,\"ticks\":\"\"},\"colorscale\":[[0.0,\"#0d0887\"],[0.1111111111111111,\"#46039f\"],[0.2222222222222222,\"#7201a8\"],[0.3333333333333333,\"#9c179e\"],[0.4444444444444444,\"#bd3786\"],[0.5555555555555556,\"#d8576b\"],[0.6666666666666666,\"#ed7953\"],[0.7777777777777778,\"#fb9f3a\"],[0.8888888888888888,\"#fdca26\"],[1.0,\"#f0f921\"]],\"type\":\"contour\"}],\"contourcarpet\":[{\"colorbar\":{\"outlinewidth\":0,\"ticks\":\"\"},\"type\":\"contourcarpet\"}],\"heatmap\":[{\"colorbar\":{\"outlinewidth\":0,\"ticks\":\"\"},\"colorscale\":[[0.0,\"#0d0887\"],[0.1111111111111111,\"#46039f\"],[0.2222222222222222,\"#7201a8\"],[0.3333333333333333,\"#9c179e\"],[0.4444444444444444,\"#bd3786\"],[0.5555555555555556,\"#d8576b\"],[0.6666666666666666,\"#ed7953\"],[0.7777777777777778,\"#fb9f3a\"],[0.8888888888888888,\"#fdca26\"],[1.0,\"#f0f921\"]],\"type\":\"heatmap\"}],\"heatmapgl\":[{\"colorbar\":{\"outlinewidth\":0,\"ticks\":\"\"},\"colorscale\":[[0.0,\"#0d0887\"],[0.1111111111111111,\"#46039f\"],[0.2222222222222222,\"#7201a8\"],[0.3333333333333333,\"#9c179e\"],[0.4444444444444444,\"#bd3786\"],[0.5555555555555556,\"#d8576b\"],[0.6666666666666666,\"#ed7953\"],[0.7777777777777778,\"#fb9f3a\"],[0.8888888888888888,\"#fdca26\"],[1.0,\"#f0f921\"]],\"type\":\"heatmapgl\"}],\"histogram\":[{\"marker\":{\"pattern\":{\"fillmode\":\"overlay\",\"size\":10,\"solidity\":0.2}},\"type\":\"histogram\"}],\"histogram2d\":[{\"colorbar\":{\"outlinewidth\":0,\"ticks\":\"\"},\"colorscale\":[[0.0,\"#0d0887\"],[0.1111111111111111,\"#46039f\"],[0.2222222222222222,\"#7201a8\"],[0.3333333333333333,\"#9c179e\"],[0.4444444444444444,\"#bd3786\"],[0.5555555555555556,\"#d8576b\"],[0.6666666666666666,\"#ed7953\"],[0.7777777777777778,\"#fb9f3a\"],[0.8888888888888888,\"#fdca26\"],[1.0,\"#f0f921\"]],\"type\":\"histogram2d\"}],\"histogram2dcontour\":[{\"colorbar\":{\"outlinewidth\":0,\"ticks\":\"\"},\"colorscale\":[[0.0,\"#0d0887\"],[0.1111111111111111,\"#46039f\"],[0.2222222222222222,\"#7201a8\"],[0.3333333333333333,\"#9c179e\"],[0.4444444444444444,\"#bd3786\"],[0.5555555555555556,\"#d8576b\"],[0.6666666666666666,\"#ed7953\"],[0.7777777777777778,\"#fb9f3a\"],[0.8888888888888888,\"#fdca26\"],[1.0,\"#f0f921\"]],\"type\":\"histogram2dcontour\"}],\"mesh3d\":[{\"colorbar\":{\"outlinewidth\":0,\"ticks\":\"\"},\"type\":\"mesh3d\"}],\"parcoords\":[{\"line\":{\"colorbar\":{\"outlinewidth\":0,\"ticks\":\"\"}},\"type\":\"parcoords\"}],\"pie\":[{\"automargin\":true,\"type\":\"pie\"}],\"scatter\":[{\"marker\":{\"colorbar\":{\"outlinewidth\":0,\"ticks\":\"\"}},\"type\":\"scatter\"}],\"scatter3d\":[{\"line\":{\"colorbar\":{\"outlinewidth\":0,\"ticks\":\"\"}},\"marker\":{\"colorbar\":{\"outlinewidth\":0,\"ticks\":\"\"}},\"type\":\"scatter3d\"}],\"scattercarpet\":[{\"marker\":{\"colorbar\":{\"outlinewidth\":0,\"ticks\":\"\"}},\"type\":\"scattercarpet\"}],\"scattergeo\":[{\"marker\":{\"colorbar\":{\"outlinewidth\":0,\"ticks\":\"\"}},\"type\":\"scattergeo\"}],\"scattergl\":[{\"marker\":{\"colorbar\":{\"outlinewidth\":0,\"ticks\":\"\"}},\"type\":\"scattergl\"}],\"scattermapbox\":[{\"marker\":{\"colorbar\":{\"outlinewidth\":0,\"ticks\":\"\"}},\"type\":\"scattermapbox\"}],\"scatterpolar\":[{\"marker\":{\"colorbar\":{\"outlinewidth\":0,\"ticks\":\"\"}},\"type\":\"scatterpolar\"}],\"scatterpolargl\":[{\"marker\":{\"colorbar\":{\"outlinewidth\":0,\"ticks\":\"\"}},\"type\":\"scatterpolargl\"}],\"scatterternary\":[{\"marker\":{\"colorbar\":{\"outlinewidth\":0,\"ticks\":\"\"}},\"type\":\"scatterternary\"}],\"surface\":[{\"colorbar\":{\"outlinewidth\":0,\"ticks\":\"\"},\"colorscale\":[[0.0,\"#0d0887\"],[0.1111111111111111,\"#46039f\"],[0.2222222222222222,\"#7201a8\"],[0.3333333333333333,\"#9c179e\"],[0.4444444444444444,\"#bd3786\"],[0.5555555555555556,\"#d8576b\"],[0.6666666666666666,\"#ed7953\"],[0.7777777777777778,\"#fb9f3a\"],[0.8888888888888888,\"#fdca26\"],[1.0,\"#f0f921\"]],\"type\":\"surface\"}],\"table\":[{\"cells\":{\"fill\":{\"color\":\"#EBF0F8\"},\"line\":{\"color\":\"white\"}},\"header\":{\"fill\":{\"color\":\"#C8D4E3\"},\"line\":{\"color\":\"white\"}},\"type\":\"table\"}]},\"layout\":{\"annotationdefaults\":{\"arrowcolor\":\"#2a3f5f\",\"arrowhead\":0,\"arrowwidth\":1},\"autotypenumbers\":\"strict\",\"coloraxis\":{\"colorbar\":{\"outlinewidth\":0,\"ticks\":\"\"}},\"colorscale\":{\"diverging\":[[0,\"#8e0152\"],[0.1,\"#c51b7d\"],[0.2,\"#de77ae\"],[0.3,\"#f1b6da\"],[0.4,\"#fde0ef\"],[0.5,\"#f7f7f7\"],[0.6,\"#e6f5d0\"],[0.7,\"#b8e186\"],[0.8,\"#7fbc41\"],[0.9,\"#4d9221\"],[1,\"#276419\"]],\"sequential\":[[0.0,\"#0d0887\"],[0.1111111111111111,\"#46039f\"],[0.2222222222222222,\"#7201a8\"],[0.3333333333333333,\"#9c179e\"],[0.4444444444444444,\"#bd3786\"],[0.5555555555555556,\"#d8576b\"],[0.6666666666666666,\"#ed7953\"],[0.7777777777777778,\"#fb9f3a\"],[0.8888888888888888,\"#fdca26\"],[1.0,\"#f0f921\"]],\"sequentialminus\":[[0.0,\"#0d0887\"],[0.1111111111111111,\"#46039f\"],[0.2222222222222222,\"#7201a8\"],[0.3333333333333333,\"#9c179e\"],[0.4444444444444444,\"#bd3786\"],[0.5555555555555556,\"#d8576b\"],[0.6666666666666666,\"#ed7953\"],[0.7777777777777778,\"#fb9f3a\"],[0.8888888888888888,\"#fdca26\"],[1.0,\"#f0f921\"]]},\"colorway\":[\"#636efa\",\"#EF553B\",\"#00cc96\",\"#ab63fa\",\"#FFA15A\",\"#19d3f3\",\"#FF6692\",\"#B6E880\",\"#FF97FF\",\"#FECB52\"],\"font\":{\"color\":\"#2a3f5f\"},\"geo\":{\"bgcolor\":\"white\",\"lakecolor\":\"white\",\"landcolor\":\"#E5ECF6\",\"showlakes\":true,\"showland\":true,\"subunitcolor\":\"white\"},\"hoverlabel\":{\"align\":\"left\"},\"hovermode\":\"closest\",\"mapbox\":{\"style\":\"light\"},\"paper_bgcolor\":\"white\",\"plot_bgcolor\":\"#E5ECF6\",\"polar\":{\"angularaxis\":{\"gridcolor\":\"white\",\"linecolor\":\"white\",\"ticks\":\"\"},\"bgcolor\":\"#E5ECF6\",\"radialaxis\":{\"gridcolor\":\"white\",\"linecolor\":\"white\",\"ticks\":\"\"}},\"scene\":{\"xaxis\":{\"backgroundcolor\":\"#E5ECF6\",\"gridcolor\":\"white\",\"gridwidth\":2,\"linecolor\":\"white\",\"showbackground\":true,\"ticks\":\"\",\"zerolinecolor\":\"white\"},\"yaxis\":{\"backgroundcolor\":\"#E5ECF6\",\"gridcolor\":\"white\",\"gridwidth\":2,\"linecolor\":\"white\",\"showbackground\":true,\"ticks\":\"\",\"zerolinecolor\":\"white\"},\"zaxis\":{\"backgroundcolor\":\"#E5ECF6\",\"gridcolor\":\"white\",\"gridwidth\":2,\"linecolor\":\"white\",\"showbackground\":true,\"ticks\":\"\",\"zerolinecolor\":\"white\"}},\"shapedefaults\":{\"line\":{\"color\":\"#2a3f5f\"}},\"ternary\":{\"aaxis\":{\"gridcolor\":\"white\",\"linecolor\":\"white\",\"ticks\":\"\"},\"baxis\":{\"gridcolor\":\"white\",\"linecolor\":\"white\",\"ticks\":\"\"},\"bgcolor\":\"#E5ECF6\",\"caxis\":{\"gridcolor\":\"white\",\"linecolor\":\"white\",\"ticks\":\"\"}},\"title\":{\"x\":0.05},\"xaxis\":{\"automargin\":true,\"gridcolor\":\"white\",\"linecolor\":\"white\",\"ticks\":\"\",\"title\":{\"standoff\":15},\"zerolinecolor\":\"white\",\"zerolinewidth\":2},\"yaxis\":{\"automargin\":true,\"gridcolor\":\"white\",\"linecolor\":\"white\",\"ticks\":\"\",\"title\":{\"standoff\":15},\"zerolinecolor\":\"white\",\"zerolinewidth\":2}}},\"title\":{\"text\":\"All Horror movies release in last 5 years\"},\"xaxis\":{\"anchor\":\"y\",\"domain\":[0.0,1.0],\"title\":{\"text\":\"Name\"}},\"yaxis\":{\"anchor\":\"x\",\"domain\":[0.0,1.0],\"title\":{\"text\":\"Rating\"}}},                        {\"responsive\": true}                    ).then(function(){\n",
       "                            \n",
       "var gd = document.getElementById('90aec68c-b8b0-4422-afe0-2166395efcb9');\n",
       "var x = new MutationObserver(function (mutations, observer) {{\n",
       "        var display = window.getComputedStyle(gd).display;\n",
       "        if (!display || display === 'none') {{\n",
       "            console.log([gd, 'removed!']);\n",
       "            Plotly.purge(gd);\n",
       "            observer.disconnect();\n",
       "        }}\n",
       "}});\n",
       "\n",
       "// Listen for the removal of the full notebook cells\n",
       "var notebookContainer = gd.closest('#notebook-container');\n",
       "if (notebookContainer) {{\n",
       "    x.observe(notebookContainer, {childList: true});\n",
       "}}\n",
       "\n",
       "// Listen for the clearing of the current output cell\n",
       "var outputEl = gd.closest('.output');\n",
       "if (outputEl) {{\n",
       "    x.observe(outputEl, {childList: true});\n",
       "}}\n",
       "\n",
       "                        })                };                });            </script>        </div>"
      ]
     },
     "metadata": {},
     "output_type": "display_data"
    }
   ],
   "source": [
    "fig = px.scatter(last5year_horrror , x=\"Name\", y=\"Rating\",\n",
    "      size=\"Rating\", color=\"Genre\", size_max=50,hover_data=['Director'],title='All Horror movies release in last 5 years')\n",
    "fig.show()\n"
   ]
  },
  {
   "cell_type": "markdown",
   "id": "16da2216",
   "metadata": {},
   "source": [
    "# Action,Comedy Genre Movies of All times"
   ]
  },
  {
   "cell_type": "code",
   "execution_count": 259,
   "id": "ca23fcba",
   "metadata": {
    "scrolled": true
   },
   "outputs": [
    {
     "data": {
      "text/html": [
       "<div>\n",
       "<style scoped>\n",
       "    .dataframe tbody tr th:only-of-type {\n",
       "        vertical-align: middle;\n",
       "    }\n",
       "\n",
       "    .dataframe tbody tr th {\n",
       "        vertical-align: top;\n",
       "    }\n",
       "\n",
       "    .dataframe thead th {\n",
       "        text-align: right;\n",
       "    }\n",
       "</style>\n",
       "<table border=\"1\" class=\"dataframe\">\n",
       "  <thead>\n",
       "    <tr style=\"text-align: right;\">\n",
       "      <th></th>\n",
       "      <th>Name</th>\n",
       "      <th>Rating</th>\n",
       "      <th>Genre</th>\n",
       "      <th>Release date</th>\n",
       "      <th>Runtime</th>\n",
       "      <th>Director</th>\n",
       "      <th>Budget ($)</th>\n",
       "      <th>Revenue ($)</th>\n",
       "      <th>Url</th>\n",
       "      <th>Release year</th>\n",
       "      <th>Release month</th>\n",
       "    </tr>\n",
       "  </thead>\n",
       "  <tbody>\n",
       "    <tr>\n",
       "      <th>2</th>\n",
       "      <td>Jungle Cruise</td>\n",
       "      <td>77.0</td>\n",
       "      <td>Adventure,Fantasy,Comedy,Action</td>\n",
       "      <td>2021-09-24</td>\n",
       "      <td>2h 7m</td>\n",
       "      <td>Jaume Collet-Serra</td>\n",
       "      <td>$200,000,000.00</td>\n",
       "      <td>$213,644,366.00</td>\n",
       "      <td>https://www.themoviedb.org//movie/451048</td>\n",
       "      <td>2021</td>\n",
       "      <td>9</td>\n",
       "    </tr>\n",
       "    <tr>\n",
       "      <th>22</th>\n",
       "      <td>Pixels</td>\n",
       "      <td>57.0</td>\n",
       "      <td>Action,Comedy,Science Fiction</td>\n",
       "      <td>2015-08-07</td>\n",
       "      <td>1h 45m</td>\n",
       "      <td>Chris Columbus</td>\n",
       "      <td>$88,000,000.00</td>\n",
       "      <td>$243,637,091.00</td>\n",
       "      <td>https://www.themoviedb.org//movie/257344</td>\n",
       "      <td>2015</td>\n",
       "      <td>8</td>\n",
       "    </tr>\n",
       "    <tr>\n",
       "      <th>39</th>\n",
       "      <td>The A-Team</td>\n",
       "      <td>64.0</td>\n",
       "      <td>Thriller,Action,Adventure,Comedy,Crime</td>\n",
       "      <td>2010-06-11</td>\n",
       "      <td>1h 57m</td>\n",
       "      <td>Joe Carnahan</td>\n",
       "      <td>$110,000,000.00</td>\n",
       "      <td>$177,238,796.00</td>\n",
       "      <td>https://www.themoviedb.org//movie/34544</td>\n",
       "      <td>2010</td>\n",
       "      <td>6</td>\n",
       "    </tr>\n",
       "    <tr>\n",
       "      <th>43</th>\n",
       "      <td>Trinity Seven 2: Heaven's Library &amp; Crimson Lord</td>\n",
       "      <td>78.0</td>\n",
       "      <td>Animation,Action,Fantasy,Comedy</td>\n",
       "      <td>2019-03-29</td>\n",
       "      <td>1h 1m</td>\n",
       "      <td>Hiroshi Nishikiori</td>\n",
       "      <td>NaN</td>\n",
       "      <td>NaN</td>\n",
       "      <td>https://www.themoviedb.org//movie/570269</td>\n",
       "      <td>2019</td>\n",
       "      <td>3</td>\n",
       "    </tr>\n",
       "    <tr>\n",
       "      <th>51</th>\n",
       "      <td>Tropic Thunder</td>\n",
       "      <td>66.0</td>\n",
       "      <td>Action,Comedy,Adventure,War</td>\n",
       "      <td>2008-08-13</td>\n",
       "      <td>1h 47m</td>\n",
       "      <td>Ben Stiller</td>\n",
       "      <td>$92,000,000.00</td>\n",
       "      <td>$195,702,811.00</td>\n",
       "      <td>https://www.themoviedb.org//movie/7446</td>\n",
       "      <td>2008</td>\n",
       "      <td>8</td>\n",
       "    </tr>\n",
       "    <tr>\n",
       "      <th>52</th>\n",
       "      <td>Now You See Me 2</td>\n",
       "      <td>68.0</td>\n",
       "      <td>Thriller,Action,Comedy</td>\n",
       "      <td>2016-06-10</td>\n",
       "      <td>2h 9m</td>\n",
       "      <td>Ed Solomon</td>\n",
       "      <td>$90,000,000.00</td>\n",
       "      <td>$334,901,337.00</td>\n",
       "      <td>https://www.themoviedb.org//movie/291805</td>\n",
       "      <td>2016</td>\n",
       "      <td>6</td>\n",
       "    </tr>\n",
       "    <tr>\n",
       "      <th>55</th>\n",
       "      <td>The Heat</td>\n",
       "      <td>66.0</td>\n",
       "      <td>Action,Comedy,Crime</td>\n",
       "      <td>2013-06-28</td>\n",
       "      <td>1h 57m</td>\n",
       "      <td>Paul Feig</td>\n",
       "      <td>$43,000,000.00</td>\n",
       "      <td>$158,674,180.00</td>\n",
       "      <td>https://www.themoviedb.org//movie/136795</td>\n",
       "      <td>2013</td>\n",
       "      <td>6</td>\n",
       "    </tr>\n",
       "    <tr>\n",
       "      <th>68</th>\n",
       "      <td>RED 2</td>\n",
       "      <td>65.0</td>\n",
       "      <td>Action,Comedy,Crime,Thriller</td>\n",
       "      <td>2013-07-18</td>\n",
       "      <td>1h 56m</td>\n",
       "      <td>Dean Parisot</td>\n",
       "      <td>$84,000,000.00</td>\n",
       "      <td>$148,100,000.00</td>\n",
       "      <td>https://www.themoviedb.org//movie/146216</td>\n",
       "      <td>2013</td>\n",
       "      <td>7</td>\n",
       "    </tr>\n",
       "    <tr>\n",
       "      <th>120</th>\n",
       "      <td>Men in Black</td>\n",
       "      <td>72.0</td>\n",
       "      <td>Action,Adventure,Comedy,Science Fiction</td>\n",
       "      <td>1997-07-02</td>\n",
       "      <td>1h 38m</td>\n",
       "      <td>Barry Sonnenfeld</td>\n",
       "      <td>$90,000,000.00</td>\n",
       "      <td>$589,390,539.00</td>\n",
       "      <td>https://www.themoviedb.org//movie/607</td>\n",
       "      <td>1997</td>\n",
       "      <td>7</td>\n",
       "    </tr>\n",
       "    <tr>\n",
       "      <th>149</th>\n",
       "      <td>Cats &amp; Dogs: The Revenge of Kitty Galore</td>\n",
       "      <td>52.0</td>\n",
       "      <td>Comedy,Family,Action,Fantasy,Adventure,Mystery</td>\n",
       "      <td>2010-07-30</td>\n",
       "      <td>1h 22m</td>\n",
       "      <td>Brad Peyton</td>\n",
       "      <td>$85,000,000.00</td>\n",
       "      <td>$112,483,764.00</td>\n",
       "      <td>https://www.themoviedb.org//movie/39691</td>\n",
       "      <td>2010</td>\n",
       "      <td>7</td>\n",
       "    </tr>\n",
       "  </tbody>\n",
       "</table>\n",
       "</div>"
      ],
      "text/plain": [
       "                                                 Name  Rating  \\\n",
       "2                                       Jungle Cruise    77.0   \n",
       "22                                             Pixels    57.0   \n",
       "39                                         The A-Team    64.0   \n",
       "43   Trinity Seven 2: Heaven's Library & Crimson Lord    78.0   \n",
       "51                                     Tropic Thunder    66.0   \n",
       "52                                   Now You See Me 2    68.0   \n",
       "55                                           The Heat    66.0   \n",
       "68                                              RED 2    65.0   \n",
       "120                                      Men in Black    72.0   \n",
       "149          Cats & Dogs: The Revenge of Kitty Galore    52.0   \n",
       "\n",
       "                                              Genre Release date Runtime  \\\n",
       "2                   Adventure,Fantasy,Comedy,Action   2021-09-24   2h 7m   \n",
       "22                    Action,Comedy,Science Fiction   2015-08-07  1h 45m   \n",
       "39           Thriller,Action,Adventure,Comedy,Crime   2010-06-11  1h 57m   \n",
       "43                  Animation,Action,Fantasy,Comedy   2019-03-29   1h 1m   \n",
       "51                      Action,Comedy,Adventure,War   2008-08-13  1h 47m   \n",
       "52                           Thriller,Action,Comedy   2016-06-10   2h 9m   \n",
       "55                              Action,Comedy,Crime   2013-06-28  1h 57m   \n",
       "68                     Action,Comedy,Crime,Thriller   2013-07-18  1h 56m   \n",
       "120         Action,Adventure,Comedy,Science Fiction   1997-07-02  1h 38m   \n",
       "149  Comedy,Family,Action,Fantasy,Adventure,Mystery   2010-07-30  1h 22m   \n",
       "\n",
       "               Director       Budget ($)     Revenue ($)   \\\n",
       "2    Jaume Collet-Serra  $200,000,000.00  $213,644,366.00   \n",
       "22       Chris Columbus   $88,000,000.00  $243,637,091.00   \n",
       "39         Joe Carnahan  $110,000,000.00  $177,238,796.00   \n",
       "43   Hiroshi Nishikiori              NaN              NaN   \n",
       "51          Ben Stiller   $92,000,000.00  $195,702,811.00   \n",
       "52           Ed Solomon   $90,000,000.00  $334,901,337.00   \n",
       "55            Paul Feig   $43,000,000.00  $158,674,180.00   \n",
       "68         Dean Parisot   $84,000,000.00  $148,100,000.00   \n",
       "120    Barry Sonnenfeld   $90,000,000.00  $589,390,539.00   \n",
       "149         Brad Peyton   $85,000,000.00  $112,483,764.00   \n",
       "\n",
       "                                          Url  Release year  Release month  \n",
       "2    https://www.themoviedb.org//movie/451048          2021              9  \n",
       "22   https://www.themoviedb.org//movie/257344          2015              8  \n",
       "39    https://www.themoviedb.org//movie/34544          2010              6  \n",
       "43   https://www.themoviedb.org//movie/570269          2019              3  \n",
       "51     https://www.themoviedb.org//movie/7446          2008              8  \n",
       "52   https://www.themoviedb.org//movie/291805          2016              6  \n",
       "55   https://www.themoviedb.org//movie/136795          2013              6  \n",
       "68   https://www.themoviedb.org//movie/146216          2013              7  \n",
       "120     https://www.themoviedb.org//movie/607          1997              7  \n",
       "149   https://www.themoviedb.org//movie/39691          2010              7  "
      ]
     },
     "execution_count": 259,
     "metadata": {},
     "output_type": "execute_result"
    }
   ],
   "source": [
    "all_action_comedy = movies_df[(movies_df['Genre'].str.contains('Action')) & (movies_df['Genre'].str.contains('Comedy'))]\n",
    "all_action_comedy"
   ]
  },
  {
   "cell_type": "code",
   "execution_count": 269,
   "id": "d5aff7b5",
   "metadata": {},
   "outputs": [
    {
     "data": {
      "application/vnd.plotly.v1+json": {
       "config": {
        "plotlyServerURL": "https://plot.ly"
       },
       "data": [
        {
         "alignmentgroup": "True",
         "hovertemplate": "Genre=Adventure,Fantasy,Comedy,Action<br>Release month=9<br>Name=%{x}<br>Rating=%{y}<extra></extra>",
         "legendgroup": "Adventure,Fantasy,Comedy,Action, 9",
         "marker": {
          "color": "#636efa",
          "pattern": {
           "shape": "|"
          }
         },
         "name": "Adventure,Fantasy,Comedy,Action, 9",
         "offsetgroup": "Adventure,Fantasy,Comedy,Action, 9",
         "orientation": "v",
         "showlegend": true,
         "textposition": "auto",
         "type": "bar",
         "x": [
          "Jungle Cruise"
         ],
         "xaxis": "x",
         "y": [
          77
         ],
         "yaxis": "y"
        },
        {
         "alignmentgroup": "True",
         "hovertemplate": "Genre=Action,Comedy,Science Fiction<br>Release month=8<br>Name=%{x}<br>Rating=%{y}<extra></extra>",
         "legendgroup": "Action,Comedy,Science Fiction, 8",
         "marker": {
          "color": "#EF553B",
          "pattern": {
           "shape": "."
          }
         },
         "name": "Action,Comedy,Science Fiction, 8",
         "offsetgroup": "Action,Comedy,Science Fiction, 8",
         "orientation": "v",
         "showlegend": true,
         "textposition": "auto",
         "type": "bar",
         "x": [
          "Pixels"
         ],
         "xaxis": "x",
         "y": [
          57
         ],
         "yaxis": "y"
        },
        {
         "alignmentgroup": "True",
         "hovertemplate": "Genre=Thriller,Action,Adventure,Comedy,Crime<br>Release month=6<br>Name=%{x}<br>Rating=%{y}<extra></extra>",
         "legendgroup": "Thriller,Action,Adventure,Comedy,Crime, 6",
         "marker": {
          "color": "#00cc96",
          "pattern": {
           "shape": "x"
          }
         },
         "name": "Thriller,Action,Adventure,Comedy,Crime, 6",
         "offsetgroup": "Thriller,Action,Adventure,Comedy,Crime, 6",
         "orientation": "v",
         "showlegend": true,
         "textposition": "auto",
         "type": "bar",
         "x": [
          "The A-Team"
         ],
         "xaxis": "x",
         "y": [
          64
         ],
         "yaxis": "y"
        },
        {
         "alignmentgroup": "True",
         "hovertemplate": "Genre=Animation,Action,Fantasy,Comedy<br>Release month=3<br>Name=%{x}<br>Rating=%{y}<extra></extra>",
         "legendgroup": "Animation,Action,Fantasy,Comedy, 3",
         "marker": {
          "color": "#ab63fa",
          "pattern": {
           "shape": "|"
          }
         },
         "name": "Animation,Action,Fantasy,Comedy, 3",
         "offsetgroup": "Animation,Action,Fantasy,Comedy, 3",
         "orientation": "v",
         "showlegend": true,
         "textposition": "auto",
         "type": "bar",
         "x": [
          "Trinity Seven 2: Heaven's Library & Crimson Lord"
         ],
         "xaxis": "x",
         "y": [
          78
         ],
         "yaxis": "y"
        },
        {
         "alignmentgroup": "True",
         "hovertemplate": "Genre=Action,Comedy,Adventure,War<br>Release month=8<br>Name=%{x}<br>Rating=%{y}<extra></extra>",
         "legendgroup": "Action,Comedy,Adventure,War, 8",
         "marker": {
          "color": "#FFA15A",
          "pattern": {
           "shape": "."
          }
         },
         "name": "Action,Comedy,Adventure,War, 8",
         "offsetgroup": "Action,Comedy,Adventure,War, 8",
         "orientation": "v",
         "showlegend": true,
         "textposition": "auto",
         "type": "bar",
         "x": [
          "Tropic Thunder"
         ],
         "xaxis": "x",
         "y": [
          66
         ],
         "yaxis": "y"
        },
        {
         "alignmentgroup": "True",
         "hovertemplate": "Genre=Thriller,Action,Comedy<br>Release month=6<br>Name=%{x}<br>Rating=%{y}<extra></extra>",
         "legendgroup": "Thriller,Action,Comedy, 6",
         "marker": {
          "color": "#19d3f3",
          "pattern": {
           "shape": "x"
          }
         },
         "name": "Thriller,Action,Comedy, 6",
         "offsetgroup": "Thriller,Action,Comedy, 6",
         "orientation": "v",
         "showlegend": true,
         "textposition": "auto",
         "type": "bar",
         "x": [
          "Now You See Me 2"
         ],
         "xaxis": "x",
         "y": [
          68
         ],
         "yaxis": "y"
        },
        {
         "alignmentgroup": "True",
         "hovertemplate": "Genre=Action,Comedy,Crime<br>Release month=6<br>Name=%{x}<br>Rating=%{y}<extra></extra>",
         "legendgroup": "Action,Comedy,Crime, 6",
         "marker": {
          "color": "#FF6692",
          "pattern": {
           "shape": "x"
          }
         },
         "name": "Action,Comedy,Crime, 6",
         "offsetgroup": "Action,Comedy,Crime, 6",
         "orientation": "v",
         "showlegend": true,
         "textposition": "auto",
         "type": "bar",
         "x": [
          "The Heat"
         ],
         "xaxis": "x",
         "y": [
          66
         ],
         "yaxis": "y"
        },
        {
         "alignmentgroup": "True",
         "hovertemplate": "Genre=Action,Comedy,Crime,Thriller<br>Release month=7<br>Name=%{x}<br>Rating=%{y}<extra></extra>",
         "legendgroup": "Action,Comedy,Crime,Thriller, 7",
         "marker": {
          "color": "#B6E880",
          "pattern": {
           "shape": "."
          }
         },
         "name": "Action,Comedy,Crime,Thriller, 7",
         "offsetgroup": "Action,Comedy,Crime,Thriller, 7",
         "orientation": "v",
         "showlegend": true,
         "textposition": "auto",
         "type": "bar",
         "x": [
          "RED 2"
         ],
         "xaxis": "x",
         "y": [
          65
         ],
         "yaxis": "y"
        },
        {
         "alignmentgroup": "True",
         "hovertemplate": "Genre=Action,Adventure,Comedy,Science Fiction<br>Release month=7<br>Name=%{x}<br>Rating=%{y}<extra></extra>",
         "legendgroup": "Action,Adventure,Comedy,Science Fiction, 7",
         "marker": {
          "color": "#FF97FF",
          "pattern": {
           "shape": "."
          }
         },
         "name": "Action,Adventure,Comedy,Science Fiction, 7",
         "offsetgroup": "Action,Adventure,Comedy,Science Fiction, 7",
         "orientation": "v",
         "showlegend": true,
         "textposition": "auto",
         "type": "bar",
         "x": [
          "Men in Black"
         ],
         "xaxis": "x",
         "y": [
          72
         ],
         "yaxis": "y"
        },
        {
         "alignmentgroup": "True",
         "hovertemplate": "Genre=Comedy,Family,Action,Fantasy,Adventure,Mystery<br>Release month=7<br>Name=%{x}<br>Rating=%{y}<extra></extra>",
         "legendgroup": "Comedy,Family,Action,Fantasy,Adventure,Mystery, 7",
         "marker": {
          "color": "#FECB52",
          "pattern": {
           "shape": "."
          }
         },
         "name": "Comedy,Family,Action,Fantasy,Adventure,Mystery, 7",
         "offsetgroup": "Comedy,Family,Action,Fantasy,Adventure,Mystery, 7",
         "orientation": "v",
         "showlegend": true,
         "textposition": "auto",
         "type": "bar",
         "x": [
          "Cats & Dogs: The Revenge of Kitty Galore"
         ],
         "xaxis": "x",
         "y": [
          52
         ],
         "yaxis": "y"
        }
       ],
       "layout": {
        "barmode": "relative",
        "legend": {
         "title": {
          "text": "Genre, Release month"
         },
         "tracegroupgap": 0
        },
        "margin": {
         "t": 60
        },
        "template": {
         "data": {
          "bar": [
           {
            "error_x": {
             "color": "#2a3f5f"
            },
            "error_y": {
             "color": "#2a3f5f"
            },
            "marker": {
             "line": {
              "color": "#E5ECF6",
              "width": 0.5
             },
             "pattern": {
              "fillmode": "overlay",
              "size": 10,
              "solidity": 0.2
             }
            },
            "type": "bar"
           }
          ],
          "barpolar": [
           {
            "marker": {
             "line": {
              "color": "#E5ECF6",
              "width": 0.5
             },
             "pattern": {
              "fillmode": "overlay",
              "size": 10,
              "solidity": 0.2
             }
            },
            "type": "barpolar"
           }
          ],
          "carpet": [
           {
            "aaxis": {
             "endlinecolor": "#2a3f5f",
             "gridcolor": "white",
             "linecolor": "white",
             "minorgridcolor": "white",
             "startlinecolor": "#2a3f5f"
            },
            "baxis": {
             "endlinecolor": "#2a3f5f",
             "gridcolor": "white",
             "linecolor": "white",
             "minorgridcolor": "white",
             "startlinecolor": "#2a3f5f"
            },
            "type": "carpet"
           }
          ],
          "choropleth": [
           {
            "colorbar": {
             "outlinewidth": 0,
             "ticks": ""
            },
            "type": "choropleth"
           }
          ],
          "contour": [
           {
            "colorbar": {
             "outlinewidth": 0,
             "ticks": ""
            },
            "colorscale": [
             [
              0,
              "#0d0887"
             ],
             [
              0.1111111111111111,
              "#46039f"
             ],
             [
              0.2222222222222222,
              "#7201a8"
             ],
             [
              0.3333333333333333,
              "#9c179e"
             ],
             [
              0.4444444444444444,
              "#bd3786"
             ],
             [
              0.5555555555555556,
              "#d8576b"
             ],
             [
              0.6666666666666666,
              "#ed7953"
             ],
             [
              0.7777777777777778,
              "#fb9f3a"
             ],
             [
              0.8888888888888888,
              "#fdca26"
             ],
             [
              1,
              "#f0f921"
             ]
            ],
            "type": "contour"
           }
          ],
          "contourcarpet": [
           {
            "colorbar": {
             "outlinewidth": 0,
             "ticks": ""
            },
            "type": "contourcarpet"
           }
          ],
          "heatmap": [
           {
            "colorbar": {
             "outlinewidth": 0,
             "ticks": ""
            },
            "colorscale": [
             [
              0,
              "#0d0887"
             ],
             [
              0.1111111111111111,
              "#46039f"
             ],
             [
              0.2222222222222222,
              "#7201a8"
             ],
             [
              0.3333333333333333,
              "#9c179e"
             ],
             [
              0.4444444444444444,
              "#bd3786"
             ],
             [
              0.5555555555555556,
              "#d8576b"
             ],
             [
              0.6666666666666666,
              "#ed7953"
             ],
             [
              0.7777777777777778,
              "#fb9f3a"
             ],
             [
              0.8888888888888888,
              "#fdca26"
             ],
             [
              1,
              "#f0f921"
             ]
            ],
            "type": "heatmap"
           }
          ],
          "heatmapgl": [
           {
            "colorbar": {
             "outlinewidth": 0,
             "ticks": ""
            },
            "colorscale": [
             [
              0,
              "#0d0887"
             ],
             [
              0.1111111111111111,
              "#46039f"
             ],
             [
              0.2222222222222222,
              "#7201a8"
             ],
             [
              0.3333333333333333,
              "#9c179e"
             ],
             [
              0.4444444444444444,
              "#bd3786"
             ],
             [
              0.5555555555555556,
              "#d8576b"
             ],
             [
              0.6666666666666666,
              "#ed7953"
             ],
             [
              0.7777777777777778,
              "#fb9f3a"
             ],
             [
              0.8888888888888888,
              "#fdca26"
             ],
             [
              1,
              "#f0f921"
             ]
            ],
            "type": "heatmapgl"
           }
          ],
          "histogram": [
           {
            "marker": {
             "pattern": {
              "fillmode": "overlay",
              "size": 10,
              "solidity": 0.2
             }
            },
            "type": "histogram"
           }
          ],
          "histogram2d": [
           {
            "colorbar": {
             "outlinewidth": 0,
             "ticks": ""
            },
            "colorscale": [
             [
              0,
              "#0d0887"
             ],
             [
              0.1111111111111111,
              "#46039f"
             ],
             [
              0.2222222222222222,
              "#7201a8"
             ],
             [
              0.3333333333333333,
              "#9c179e"
             ],
             [
              0.4444444444444444,
              "#bd3786"
             ],
             [
              0.5555555555555556,
              "#d8576b"
             ],
             [
              0.6666666666666666,
              "#ed7953"
             ],
             [
              0.7777777777777778,
              "#fb9f3a"
             ],
             [
              0.8888888888888888,
              "#fdca26"
             ],
             [
              1,
              "#f0f921"
             ]
            ],
            "type": "histogram2d"
           }
          ],
          "histogram2dcontour": [
           {
            "colorbar": {
             "outlinewidth": 0,
             "ticks": ""
            },
            "colorscale": [
             [
              0,
              "#0d0887"
             ],
             [
              0.1111111111111111,
              "#46039f"
             ],
             [
              0.2222222222222222,
              "#7201a8"
             ],
             [
              0.3333333333333333,
              "#9c179e"
             ],
             [
              0.4444444444444444,
              "#bd3786"
             ],
             [
              0.5555555555555556,
              "#d8576b"
             ],
             [
              0.6666666666666666,
              "#ed7953"
             ],
             [
              0.7777777777777778,
              "#fb9f3a"
             ],
             [
              0.8888888888888888,
              "#fdca26"
             ],
             [
              1,
              "#f0f921"
             ]
            ],
            "type": "histogram2dcontour"
           }
          ],
          "mesh3d": [
           {
            "colorbar": {
             "outlinewidth": 0,
             "ticks": ""
            },
            "type": "mesh3d"
           }
          ],
          "parcoords": [
           {
            "line": {
             "colorbar": {
              "outlinewidth": 0,
              "ticks": ""
             }
            },
            "type": "parcoords"
           }
          ],
          "pie": [
           {
            "automargin": true,
            "type": "pie"
           }
          ],
          "scatter": [
           {
            "marker": {
             "colorbar": {
              "outlinewidth": 0,
              "ticks": ""
             }
            },
            "type": "scatter"
           }
          ],
          "scatter3d": [
           {
            "line": {
             "colorbar": {
              "outlinewidth": 0,
              "ticks": ""
             }
            },
            "marker": {
             "colorbar": {
              "outlinewidth": 0,
              "ticks": ""
             }
            },
            "type": "scatter3d"
           }
          ],
          "scattercarpet": [
           {
            "marker": {
             "colorbar": {
              "outlinewidth": 0,
              "ticks": ""
             }
            },
            "type": "scattercarpet"
           }
          ],
          "scattergeo": [
           {
            "marker": {
             "colorbar": {
              "outlinewidth": 0,
              "ticks": ""
             }
            },
            "type": "scattergeo"
           }
          ],
          "scattergl": [
           {
            "marker": {
             "colorbar": {
              "outlinewidth": 0,
              "ticks": ""
             }
            },
            "type": "scattergl"
           }
          ],
          "scattermapbox": [
           {
            "marker": {
             "colorbar": {
              "outlinewidth": 0,
              "ticks": ""
             }
            },
            "type": "scattermapbox"
           }
          ],
          "scatterpolar": [
           {
            "marker": {
             "colorbar": {
              "outlinewidth": 0,
              "ticks": ""
             }
            },
            "type": "scatterpolar"
           }
          ],
          "scatterpolargl": [
           {
            "marker": {
             "colorbar": {
              "outlinewidth": 0,
              "ticks": ""
             }
            },
            "type": "scatterpolargl"
           }
          ],
          "scatterternary": [
           {
            "marker": {
             "colorbar": {
              "outlinewidth": 0,
              "ticks": ""
             }
            },
            "type": "scatterternary"
           }
          ],
          "surface": [
           {
            "colorbar": {
             "outlinewidth": 0,
             "ticks": ""
            },
            "colorscale": [
             [
              0,
              "#0d0887"
             ],
             [
              0.1111111111111111,
              "#46039f"
             ],
             [
              0.2222222222222222,
              "#7201a8"
             ],
             [
              0.3333333333333333,
              "#9c179e"
             ],
             [
              0.4444444444444444,
              "#bd3786"
             ],
             [
              0.5555555555555556,
              "#d8576b"
             ],
             [
              0.6666666666666666,
              "#ed7953"
             ],
             [
              0.7777777777777778,
              "#fb9f3a"
             ],
             [
              0.8888888888888888,
              "#fdca26"
             ],
             [
              1,
              "#f0f921"
             ]
            ],
            "type": "surface"
           }
          ],
          "table": [
           {
            "cells": {
             "fill": {
              "color": "#EBF0F8"
             },
             "line": {
              "color": "white"
             }
            },
            "header": {
             "fill": {
              "color": "#C8D4E3"
             },
             "line": {
              "color": "white"
             }
            },
            "type": "table"
           }
          ]
         },
         "layout": {
          "annotationdefaults": {
           "arrowcolor": "#2a3f5f",
           "arrowhead": 0,
           "arrowwidth": 1
          },
          "autotypenumbers": "strict",
          "coloraxis": {
           "colorbar": {
            "outlinewidth": 0,
            "ticks": ""
           }
          },
          "colorscale": {
           "diverging": [
            [
             0,
             "#8e0152"
            ],
            [
             0.1,
             "#c51b7d"
            ],
            [
             0.2,
             "#de77ae"
            ],
            [
             0.3,
             "#f1b6da"
            ],
            [
             0.4,
             "#fde0ef"
            ],
            [
             0.5,
             "#f7f7f7"
            ],
            [
             0.6,
             "#e6f5d0"
            ],
            [
             0.7,
             "#b8e186"
            ],
            [
             0.8,
             "#7fbc41"
            ],
            [
             0.9,
             "#4d9221"
            ],
            [
             1,
             "#276419"
            ]
           ],
           "sequential": [
            [
             0,
             "#0d0887"
            ],
            [
             0.1111111111111111,
             "#46039f"
            ],
            [
             0.2222222222222222,
             "#7201a8"
            ],
            [
             0.3333333333333333,
             "#9c179e"
            ],
            [
             0.4444444444444444,
             "#bd3786"
            ],
            [
             0.5555555555555556,
             "#d8576b"
            ],
            [
             0.6666666666666666,
             "#ed7953"
            ],
            [
             0.7777777777777778,
             "#fb9f3a"
            ],
            [
             0.8888888888888888,
             "#fdca26"
            ],
            [
             1,
             "#f0f921"
            ]
           ],
           "sequentialminus": [
            [
             0,
             "#0d0887"
            ],
            [
             0.1111111111111111,
             "#46039f"
            ],
            [
             0.2222222222222222,
             "#7201a8"
            ],
            [
             0.3333333333333333,
             "#9c179e"
            ],
            [
             0.4444444444444444,
             "#bd3786"
            ],
            [
             0.5555555555555556,
             "#d8576b"
            ],
            [
             0.6666666666666666,
             "#ed7953"
            ],
            [
             0.7777777777777778,
             "#fb9f3a"
            ],
            [
             0.8888888888888888,
             "#fdca26"
            ],
            [
             1,
             "#f0f921"
            ]
           ]
          },
          "colorway": [
           "#636efa",
           "#EF553B",
           "#00cc96",
           "#ab63fa",
           "#FFA15A",
           "#19d3f3",
           "#FF6692",
           "#B6E880",
           "#FF97FF",
           "#FECB52"
          ],
          "font": {
           "color": "#2a3f5f"
          },
          "geo": {
           "bgcolor": "white",
           "lakecolor": "white",
           "landcolor": "#E5ECF6",
           "showlakes": true,
           "showland": true,
           "subunitcolor": "white"
          },
          "hoverlabel": {
           "align": "left"
          },
          "hovermode": "closest",
          "mapbox": {
           "style": "light"
          },
          "paper_bgcolor": "white",
          "plot_bgcolor": "#E5ECF6",
          "polar": {
           "angularaxis": {
            "gridcolor": "white",
            "linecolor": "white",
            "ticks": ""
           },
           "bgcolor": "#E5ECF6",
           "radialaxis": {
            "gridcolor": "white",
            "linecolor": "white",
            "ticks": ""
           }
          },
          "scene": {
           "xaxis": {
            "backgroundcolor": "#E5ECF6",
            "gridcolor": "white",
            "gridwidth": 2,
            "linecolor": "white",
            "showbackground": true,
            "ticks": "",
            "zerolinecolor": "white"
           },
           "yaxis": {
            "backgroundcolor": "#E5ECF6",
            "gridcolor": "white",
            "gridwidth": 2,
            "linecolor": "white",
            "showbackground": true,
            "ticks": "",
            "zerolinecolor": "white"
           },
           "zaxis": {
            "backgroundcolor": "#E5ECF6",
            "gridcolor": "white",
            "gridwidth": 2,
            "linecolor": "white",
            "showbackground": true,
            "ticks": "",
            "zerolinecolor": "white"
           }
          },
          "shapedefaults": {
           "line": {
            "color": "#2a3f5f"
           }
          },
          "ternary": {
           "aaxis": {
            "gridcolor": "white",
            "linecolor": "white",
            "ticks": ""
           },
           "baxis": {
            "gridcolor": "white",
            "linecolor": "white",
            "ticks": ""
           },
           "bgcolor": "#E5ECF6",
           "caxis": {
            "gridcolor": "white",
            "linecolor": "white",
            "ticks": ""
           }
          },
          "title": {
           "x": 0.05
          },
          "xaxis": {
           "automargin": true,
           "gridcolor": "white",
           "linecolor": "white",
           "ticks": "",
           "title": {
            "standoff": 15
           },
           "zerolinecolor": "white",
           "zerolinewidth": 2
          },
          "yaxis": {
           "automargin": true,
           "gridcolor": "white",
           "linecolor": "white",
           "ticks": "",
           "title": {
            "standoff": 15
           },
           "zerolinecolor": "white",
           "zerolinewidth": 2
          }
         }
        },
        "xaxis": {
         "anchor": "y",
         "domain": [
          0,
          1
         ],
         "title": {
          "text": "Name"
         }
        },
        "yaxis": {
         "anchor": "x",
         "domain": [
          0,
          1
         ],
         "title": {
          "text": "Rating"
         }
        }
       }
      },
      "text/html": [
       "<div>                            <div id=\"e3097d2e-e8f1-43f4-8687-936fea94822b\" class=\"plotly-graph-div\" style=\"height:525px; width:100%;\"></div>            <script type=\"text/javascript\">                require([\"plotly\"], function(Plotly) {                    window.PLOTLYENV=window.PLOTLYENV || {};                                    if (document.getElementById(\"e3097d2e-e8f1-43f4-8687-936fea94822b\")) {                    Plotly.newPlot(                        \"e3097d2e-e8f1-43f4-8687-936fea94822b\",                        [{\"alignmentgroup\":\"True\",\"hovertemplate\":\"Genre=Adventure,Fantasy,Comedy,Action<br>Release month=9<br>Name=%{x}<br>Rating=%{y}<extra></extra>\",\"legendgroup\":\"Adventure,Fantasy,Comedy,Action, 9\",\"marker\":{\"color\":\"#636efa\",\"pattern\":{\"shape\":\"|\"}},\"name\":\"Adventure,Fantasy,Comedy,Action, 9\",\"offsetgroup\":\"Adventure,Fantasy,Comedy,Action, 9\",\"orientation\":\"v\",\"showlegend\":true,\"textposition\":\"auto\",\"type\":\"bar\",\"x\":[\"Jungle Cruise\"],\"xaxis\":\"x\",\"y\":[77.0],\"yaxis\":\"y\"},{\"alignmentgroup\":\"True\",\"hovertemplate\":\"Genre=Action,Comedy,Science Fiction<br>Release month=8<br>Name=%{x}<br>Rating=%{y}<extra></extra>\",\"legendgroup\":\"Action,Comedy,Science Fiction, 8\",\"marker\":{\"color\":\"#EF553B\",\"pattern\":{\"shape\":\".\"}},\"name\":\"Action,Comedy,Science Fiction, 8\",\"offsetgroup\":\"Action,Comedy,Science Fiction, 8\",\"orientation\":\"v\",\"showlegend\":true,\"textposition\":\"auto\",\"type\":\"bar\",\"x\":[\"Pixels\"],\"xaxis\":\"x\",\"y\":[57.0],\"yaxis\":\"y\"},{\"alignmentgroup\":\"True\",\"hovertemplate\":\"Genre=Thriller,Action,Adventure,Comedy,Crime<br>Release month=6<br>Name=%{x}<br>Rating=%{y}<extra></extra>\",\"legendgroup\":\"Thriller,Action,Adventure,Comedy,Crime, 6\",\"marker\":{\"color\":\"#00cc96\",\"pattern\":{\"shape\":\"x\"}},\"name\":\"Thriller,Action,Adventure,Comedy,Crime, 6\",\"offsetgroup\":\"Thriller,Action,Adventure,Comedy,Crime, 6\",\"orientation\":\"v\",\"showlegend\":true,\"textposition\":\"auto\",\"type\":\"bar\",\"x\":[\"The A-Team\"],\"xaxis\":\"x\",\"y\":[64.0],\"yaxis\":\"y\"},{\"alignmentgroup\":\"True\",\"hovertemplate\":\"Genre=Animation,Action,Fantasy,Comedy<br>Release month=3<br>Name=%{x}<br>Rating=%{y}<extra></extra>\",\"legendgroup\":\"Animation,Action,Fantasy,Comedy, 3\",\"marker\":{\"color\":\"#ab63fa\",\"pattern\":{\"shape\":\"|\"}},\"name\":\"Animation,Action,Fantasy,Comedy, 3\",\"offsetgroup\":\"Animation,Action,Fantasy,Comedy, 3\",\"orientation\":\"v\",\"showlegend\":true,\"textposition\":\"auto\",\"type\":\"bar\",\"x\":[\"Trinity Seven 2: Heaven's Library & Crimson Lord\"],\"xaxis\":\"x\",\"y\":[78.0],\"yaxis\":\"y\"},{\"alignmentgroup\":\"True\",\"hovertemplate\":\"Genre=Action,Comedy,Adventure,War<br>Release month=8<br>Name=%{x}<br>Rating=%{y}<extra></extra>\",\"legendgroup\":\"Action,Comedy,Adventure,War, 8\",\"marker\":{\"color\":\"#FFA15A\",\"pattern\":{\"shape\":\".\"}},\"name\":\"Action,Comedy,Adventure,War, 8\",\"offsetgroup\":\"Action,Comedy,Adventure,War, 8\",\"orientation\":\"v\",\"showlegend\":true,\"textposition\":\"auto\",\"type\":\"bar\",\"x\":[\"Tropic Thunder\"],\"xaxis\":\"x\",\"y\":[66.0],\"yaxis\":\"y\"},{\"alignmentgroup\":\"True\",\"hovertemplate\":\"Genre=Thriller,Action,Comedy<br>Release month=6<br>Name=%{x}<br>Rating=%{y}<extra></extra>\",\"legendgroup\":\"Thriller,Action,Comedy, 6\",\"marker\":{\"color\":\"#19d3f3\",\"pattern\":{\"shape\":\"x\"}},\"name\":\"Thriller,Action,Comedy, 6\",\"offsetgroup\":\"Thriller,Action,Comedy, 6\",\"orientation\":\"v\",\"showlegend\":true,\"textposition\":\"auto\",\"type\":\"bar\",\"x\":[\"Now You See Me 2\"],\"xaxis\":\"x\",\"y\":[68.0],\"yaxis\":\"y\"},{\"alignmentgroup\":\"True\",\"hovertemplate\":\"Genre=Action,Comedy,Crime<br>Release month=6<br>Name=%{x}<br>Rating=%{y}<extra></extra>\",\"legendgroup\":\"Action,Comedy,Crime, 6\",\"marker\":{\"color\":\"#FF6692\",\"pattern\":{\"shape\":\"x\"}},\"name\":\"Action,Comedy,Crime, 6\",\"offsetgroup\":\"Action,Comedy,Crime, 6\",\"orientation\":\"v\",\"showlegend\":true,\"textposition\":\"auto\",\"type\":\"bar\",\"x\":[\"The Heat\"],\"xaxis\":\"x\",\"y\":[66.0],\"yaxis\":\"y\"},{\"alignmentgroup\":\"True\",\"hovertemplate\":\"Genre=Action,Comedy,Crime,Thriller<br>Release month=7<br>Name=%{x}<br>Rating=%{y}<extra></extra>\",\"legendgroup\":\"Action,Comedy,Crime,Thriller, 7\",\"marker\":{\"color\":\"#B6E880\",\"pattern\":{\"shape\":\".\"}},\"name\":\"Action,Comedy,Crime,Thriller, 7\",\"offsetgroup\":\"Action,Comedy,Crime,Thriller, 7\",\"orientation\":\"v\",\"showlegend\":true,\"textposition\":\"auto\",\"type\":\"bar\",\"x\":[\"RED 2\"],\"xaxis\":\"x\",\"y\":[65.0],\"yaxis\":\"y\"},{\"alignmentgroup\":\"True\",\"hovertemplate\":\"Genre=Action,Adventure,Comedy,Science Fiction<br>Release month=7<br>Name=%{x}<br>Rating=%{y}<extra></extra>\",\"legendgroup\":\"Action,Adventure,Comedy,Science Fiction, 7\",\"marker\":{\"color\":\"#FF97FF\",\"pattern\":{\"shape\":\".\"}},\"name\":\"Action,Adventure,Comedy,Science Fiction, 7\",\"offsetgroup\":\"Action,Adventure,Comedy,Science Fiction, 7\",\"orientation\":\"v\",\"showlegend\":true,\"textposition\":\"auto\",\"type\":\"bar\",\"x\":[\"Men in Black\"],\"xaxis\":\"x\",\"y\":[72.0],\"yaxis\":\"y\"},{\"alignmentgroup\":\"True\",\"hovertemplate\":\"Genre=Comedy,Family,Action,Fantasy,Adventure,Mystery<br>Release month=7<br>Name=%{x}<br>Rating=%{y}<extra></extra>\",\"legendgroup\":\"Comedy,Family,Action,Fantasy,Adventure,Mystery, 7\",\"marker\":{\"color\":\"#FECB52\",\"pattern\":{\"shape\":\".\"}},\"name\":\"Comedy,Family,Action,Fantasy,Adventure,Mystery, 7\",\"offsetgroup\":\"Comedy,Family,Action,Fantasy,Adventure,Mystery, 7\",\"orientation\":\"v\",\"showlegend\":true,\"textposition\":\"auto\",\"type\":\"bar\",\"x\":[\"Cats & Dogs: The Revenge of Kitty Galore\"],\"xaxis\":\"x\",\"y\":[52.0],\"yaxis\":\"y\"}],                        {\"barmode\":\"relative\",\"legend\":{\"title\":{\"text\":\"Genre, Release month\"},\"tracegroupgap\":0},\"margin\":{\"t\":60},\"template\":{\"data\":{\"bar\":[{\"error_x\":{\"color\":\"#2a3f5f\"},\"error_y\":{\"color\":\"#2a3f5f\"},\"marker\":{\"line\":{\"color\":\"#E5ECF6\",\"width\":0.5},\"pattern\":{\"fillmode\":\"overlay\",\"size\":10,\"solidity\":0.2}},\"type\":\"bar\"}],\"barpolar\":[{\"marker\":{\"line\":{\"color\":\"#E5ECF6\",\"width\":0.5},\"pattern\":{\"fillmode\":\"overlay\",\"size\":10,\"solidity\":0.2}},\"type\":\"barpolar\"}],\"carpet\":[{\"aaxis\":{\"endlinecolor\":\"#2a3f5f\",\"gridcolor\":\"white\",\"linecolor\":\"white\",\"minorgridcolor\":\"white\",\"startlinecolor\":\"#2a3f5f\"},\"baxis\":{\"endlinecolor\":\"#2a3f5f\",\"gridcolor\":\"white\",\"linecolor\":\"white\",\"minorgridcolor\":\"white\",\"startlinecolor\":\"#2a3f5f\"},\"type\":\"carpet\"}],\"choropleth\":[{\"colorbar\":{\"outlinewidth\":0,\"ticks\":\"\"},\"type\":\"choropleth\"}],\"contour\":[{\"colorbar\":{\"outlinewidth\":0,\"ticks\":\"\"},\"colorscale\":[[0.0,\"#0d0887\"],[0.1111111111111111,\"#46039f\"],[0.2222222222222222,\"#7201a8\"],[0.3333333333333333,\"#9c179e\"],[0.4444444444444444,\"#bd3786\"],[0.5555555555555556,\"#d8576b\"],[0.6666666666666666,\"#ed7953\"],[0.7777777777777778,\"#fb9f3a\"],[0.8888888888888888,\"#fdca26\"],[1.0,\"#f0f921\"]],\"type\":\"contour\"}],\"contourcarpet\":[{\"colorbar\":{\"outlinewidth\":0,\"ticks\":\"\"},\"type\":\"contourcarpet\"}],\"heatmap\":[{\"colorbar\":{\"outlinewidth\":0,\"ticks\":\"\"},\"colorscale\":[[0.0,\"#0d0887\"],[0.1111111111111111,\"#46039f\"],[0.2222222222222222,\"#7201a8\"],[0.3333333333333333,\"#9c179e\"],[0.4444444444444444,\"#bd3786\"],[0.5555555555555556,\"#d8576b\"],[0.6666666666666666,\"#ed7953\"],[0.7777777777777778,\"#fb9f3a\"],[0.8888888888888888,\"#fdca26\"],[1.0,\"#f0f921\"]],\"type\":\"heatmap\"}],\"heatmapgl\":[{\"colorbar\":{\"outlinewidth\":0,\"ticks\":\"\"},\"colorscale\":[[0.0,\"#0d0887\"],[0.1111111111111111,\"#46039f\"],[0.2222222222222222,\"#7201a8\"],[0.3333333333333333,\"#9c179e\"],[0.4444444444444444,\"#bd3786\"],[0.5555555555555556,\"#d8576b\"],[0.6666666666666666,\"#ed7953\"],[0.7777777777777778,\"#fb9f3a\"],[0.8888888888888888,\"#fdca26\"],[1.0,\"#f0f921\"]],\"type\":\"heatmapgl\"}],\"histogram\":[{\"marker\":{\"pattern\":{\"fillmode\":\"overlay\",\"size\":10,\"solidity\":0.2}},\"type\":\"histogram\"}],\"histogram2d\":[{\"colorbar\":{\"outlinewidth\":0,\"ticks\":\"\"},\"colorscale\":[[0.0,\"#0d0887\"],[0.1111111111111111,\"#46039f\"],[0.2222222222222222,\"#7201a8\"],[0.3333333333333333,\"#9c179e\"],[0.4444444444444444,\"#bd3786\"],[0.5555555555555556,\"#d8576b\"],[0.6666666666666666,\"#ed7953\"],[0.7777777777777778,\"#fb9f3a\"],[0.8888888888888888,\"#fdca26\"],[1.0,\"#f0f921\"]],\"type\":\"histogram2d\"}],\"histogram2dcontour\":[{\"colorbar\":{\"outlinewidth\":0,\"ticks\":\"\"},\"colorscale\":[[0.0,\"#0d0887\"],[0.1111111111111111,\"#46039f\"],[0.2222222222222222,\"#7201a8\"],[0.3333333333333333,\"#9c179e\"],[0.4444444444444444,\"#bd3786\"],[0.5555555555555556,\"#d8576b\"],[0.6666666666666666,\"#ed7953\"],[0.7777777777777778,\"#fb9f3a\"],[0.8888888888888888,\"#fdca26\"],[1.0,\"#f0f921\"]],\"type\":\"histogram2dcontour\"}],\"mesh3d\":[{\"colorbar\":{\"outlinewidth\":0,\"ticks\":\"\"},\"type\":\"mesh3d\"}],\"parcoords\":[{\"line\":{\"colorbar\":{\"outlinewidth\":0,\"ticks\":\"\"}},\"type\":\"parcoords\"}],\"pie\":[{\"automargin\":true,\"type\":\"pie\"}],\"scatter\":[{\"marker\":{\"colorbar\":{\"outlinewidth\":0,\"ticks\":\"\"}},\"type\":\"scatter\"}],\"scatter3d\":[{\"line\":{\"colorbar\":{\"outlinewidth\":0,\"ticks\":\"\"}},\"marker\":{\"colorbar\":{\"outlinewidth\":0,\"ticks\":\"\"}},\"type\":\"scatter3d\"}],\"scattercarpet\":[{\"marker\":{\"colorbar\":{\"outlinewidth\":0,\"ticks\":\"\"}},\"type\":\"scattercarpet\"}],\"scattergeo\":[{\"marker\":{\"colorbar\":{\"outlinewidth\":0,\"ticks\":\"\"}},\"type\":\"scattergeo\"}],\"scattergl\":[{\"marker\":{\"colorbar\":{\"outlinewidth\":0,\"ticks\":\"\"}},\"type\":\"scattergl\"}],\"scattermapbox\":[{\"marker\":{\"colorbar\":{\"outlinewidth\":0,\"ticks\":\"\"}},\"type\":\"scattermapbox\"}],\"scatterpolar\":[{\"marker\":{\"colorbar\":{\"outlinewidth\":0,\"ticks\":\"\"}},\"type\":\"scatterpolar\"}],\"scatterpolargl\":[{\"marker\":{\"colorbar\":{\"outlinewidth\":0,\"ticks\":\"\"}},\"type\":\"scatterpolargl\"}],\"scatterternary\":[{\"marker\":{\"colorbar\":{\"outlinewidth\":0,\"ticks\":\"\"}},\"type\":\"scatterternary\"}],\"surface\":[{\"colorbar\":{\"outlinewidth\":0,\"ticks\":\"\"},\"colorscale\":[[0.0,\"#0d0887\"],[0.1111111111111111,\"#46039f\"],[0.2222222222222222,\"#7201a8\"],[0.3333333333333333,\"#9c179e\"],[0.4444444444444444,\"#bd3786\"],[0.5555555555555556,\"#d8576b\"],[0.6666666666666666,\"#ed7953\"],[0.7777777777777778,\"#fb9f3a\"],[0.8888888888888888,\"#fdca26\"],[1.0,\"#f0f921\"]],\"type\":\"surface\"}],\"table\":[{\"cells\":{\"fill\":{\"color\":\"#EBF0F8\"},\"line\":{\"color\":\"white\"}},\"header\":{\"fill\":{\"color\":\"#C8D4E3\"},\"line\":{\"color\":\"white\"}},\"type\":\"table\"}]},\"layout\":{\"annotationdefaults\":{\"arrowcolor\":\"#2a3f5f\",\"arrowhead\":0,\"arrowwidth\":1},\"autotypenumbers\":\"strict\",\"coloraxis\":{\"colorbar\":{\"outlinewidth\":0,\"ticks\":\"\"}},\"colorscale\":{\"diverging\":[[0,\"#8e0152\"],[0.1,\"#c51b7d\"],[0.2,\"#de77ae\"],[0.3,\"#f1b6da\"],[0.4,\"#fde0ef\"],[0.5,\"#f7f7f7\"],[0.6,\"#e6f5d0\"],[0.7,\"#b8e186\"],[0.8,\"#7fbc41\"],[0.9,\"#4d9221\"],[1,\"#276419\"]],\"sequential\":[[0.0,\"#0d0887\"],[0.1111111111111111,\"#46039f\"],[0.2222222222222222,\"#7201a8\"],[0.3333333333333333,\"#9c179e\"],[0.4444444444444444,\"#bd3786\"],[0.5555555555555556,\"#d8576b\"],[0.6666666666666666,\"#ed7953\"],[0.7777777777777778,\"#fb9f3a\"],[0.8888888888888888,\"#fdca26\"],[1.0,\"#f0f921\"]],\"sequentialminus\":[[0.0,\"#0d0887\"],[0.1111111111111111,\"#46039f\"],[0.2222222222222222,\"#7201a8\"],[0.3333333333333333,\"#9c179e\"],[0.4444444444444444,\"#bd3786\"],[0.5555555555555556,\"#d8576b\"],[0.6666666666666666,\"#ed7953\"],[0.7777777777777778,\"#fb9f3a\"],[0.8888888888888888,\"#fdca26\"],[1.0,\"#f0f921\"]]},\"colorway\":[\"#636efa\",\"#EF553B\",\"#00cc96\",\"#ab63fa\",\"#FFA15A\",\"#19d3f3\",\"#FF6692\",\"#B6E880\",\"#FF97FF\",\"#FECB52\"],\"font\":{\"color\":\"#2a3f5f\"},\"geo\":{\"bgcolor\":\"white\",\"lakecolor\":\"white\",\"landcolor\":\"#E5ECF6\",\"showlakes\":true,\"showland\":true,\"subunitcolor\":\"white\"},\"hoverlabel\":{\"align\":\"left\"},\"hovermode\":\"closest\",\"mapbox\":{\"style\":\"light\"},\"paper_bgcolor\":\"white\",\"plot_bgcolor\":\"#E5ECF6\",\"polar\":{\"angularaxis\":{\"gridcolor\":\"white\",\"linecolor\":\"white\",\"ticks\":\"\"},\"bgcolor\":\"#E5ECF6\",\"radialaxis\":{\"gridcolor\":\"white\",\"linecolor\":\"white\",\"ticks\":\"\"}},\"scene\":{\"xaxis\":{\"backgroundcolor\":\"#E5ECF6\",\"gridcolor\":\"white\",\"gridwidth\":2,\"linecolor\":\"white\",\"showbackground\":true,\"ticks\":\"\",\"zerolinecolor\":\"white\"},\"yaxis\":{\"backgroundcolor\":\"#E5ECF6\",\"gridcolor\":\"white\",\"gridwidth\":2,\"linecolor\":\"white\",\"showbackground\":true,\"ticks\":\"\",\"zerolinecolor\":\"white\"},\"zaxis\":{\"backgroundcolor\":\"#E5ECF6\",\"gridcolor\":\"white\",\"gridwidth\":2,\"linecolor\":\"white\",\"showbackground\":true,\"ticks\":\"\",\"zerolinecolor\":\"white\"}},\"shapedefaults\":{\"line\":{\"color\":\"#2a3f5f\"}},\"ternary\":{\"aaxis\":{\"gridcolor\":\"white\",\"linecolor\":\"white\",\"ticks\":\"\"},\"baxis\":{\"gridcolor\":\"white\",\"linecolor\":\"white\",\"ticks\":\"\"},\"bgcolor\":\"#E5ECF6\",\"caxis\":{\"gridcolor\":\"white\",\"linecolor\":\"white\",\"ticks\":\"\"}},\"title\":{\"x\":0.05},\"xaxis\":{\"automargin\":true,\"gridcolor\":\"white\",\"linecolor\":\"white\",\"ticks\":\"\",\"title\":{\"standoff\":15},\"zerolinecolor\":\"white\",\"zerolinewidth\":2},\"yaxis\":{\"automargin\":true,\"gridcolor\":\"white\",\"linecolor\":\"white\",\"ticks\":\"\",\"title\":{\"standoff\":15},\"zerolinecolor\":\"white\",\"zerolinewidth\":2}}},\"xaxis\":{\"anchor\":\"y\",\"domain\":[0.0,1.0],\"title\":{\"text\":\"Name\"}},\"yaxis\":{\"anchor\":\"x\",\"domain\":[0.0,1.0],\"title\":{\"text\":\"Rating\"}}},                        {\"responsive\": true}                    ).then(function(){\n",
       "                            \n",
       "var gd = document.getElementById('e3097d2e-e8f1-43f4-8687-936fea94822b');\n",
       "var x = new MutationObserver(function (mutations, observer) {{\n",
       "        var display = window.getComputedStyle(gd).display;\n",
       "        if (!display || display === 'none') {{\n",
       "            console.log([gd, 'removed!']);\n",
       "            Plotly.purge(gd);\n",
       "            observer.disconnect();\n",
       "        }}\n",
       "}});\n",
       "\n",
       "// Listen for the removal of the full notebook cells\n",
       "var notebookContainer = gd.closest('#notebook-container');\n",
       "if (notebookContainer) {{\n",
       "    x.observe(notebookContainer, {childList: true});\n",
       "}}\n",
       "\n",
       "// Listen for the clearing of the current output cell\n",
       "var outputEl = gd.closest('.output');\n",
       "if (outputEl) {{\n",
       "    x.observe(outputEl, {childList: true});\n",
       "}}\n",
       "\n",
       "                        })                };                });            </script>        </div>"
      ]
     },
     "metadata": {},
     "output_type": "display_data"
    }
   ],
   "source": [
    "fig = px.bar(all_action_comedy, x=\"Name\", y=\"Rating\", color=\"Genre\",\n",
    "             pattern_shape=\"Release month\", pattern_shape_sequence=[\"|\", \".\", \"x\"])\n",
    "fig.show()"
   ]
  },
  {
   "cell_type": "code",
   "execution_count": 274,
   "id": "7c3b75e0",
   "metadata": {},
   "outputs": [
    {
     "data": {
      "application/vnd.plotly.v1+json": {
       "config": {
        "plotlyServerURL": "https://plot.ly"
       },
       "data": [
        {
         "name": "2021",
         "type": "bar",
         "x": [
          "Action,Adventure,Fantasy",
          "Action,Adventure",
          "Adventure,Fantasy,Comedy,Action",
          "Horror",
          "Horror,Thriller",
          "Animation,Comedy,Mystery,Family,Fantasy",
          "Adventure,Fantasy",
          "Romance,Drama",
          "Animation,Action,Adventure,Fantasy",
          "Thriller,History,Drama",
          "Family,Animation",
          "Comedy",
          "Crime,Thriller,Drama",
          "Action,Adventure,Fantasy",
          "Action,Fantasy,Horror",
          "Animation,Science Fiction,Action",
          "Comedy,Romance",
          "Horror,Thriller",
          "Drama,Comedy,Romance",
          "Animation,Comedy,Family",
          "Horror,Drama,Fantasy",
          "Action,Adventure,Fantasy",
          "Action,Comedy,Science Fiction",
          "Thriller,Action",
          "Horror,Mystery,Thriller",
          "Animation,War,Science Fiction",
          "Animation,Family,Fantasy",
          "Fantasy,Animation,Family",
          "Comedy",
          "Fantasy,Adventure,Action,Family,Romance",
          "Comedy",
          "Thriller",
          "Drama",
          "Animation,Adventure,Family,Comedy",
          "Animation,Family",
          "Comedy,Romance",
          "Drama,Fantasy,Comedy",
          "Animation,Comedy,Fantasy",
          "Family,TV Movie,Animation",
          "Thriller,Action,Adventure,Comedy,Crime",
          "Action,Animation,Fantasy",
          "Romance,Animation,Fantasy",
          "Drama,Romance",
          "Animation,Action,Fantasy,Comedy",
          "Horror,Crime,Drama,Thriller",
          "Action,Crime,Drama,Thriller",
          "Adventure,Family,Fantasy",
          "Documentary",
          "Drama,Romance",
          "Horror,Thriller,Action",
          "Action,Drama,Science Fiction",
          "Action,Comedy,Adventure,War",
          "Thriller,Action,Comedy",
          "Horror,Mystery,Thriller",
          "Action,Adventure,Science Fiction,Thriller",
          "Action,Comedy,Crime",
          "Action,Adventure,Fantasy,TV Movie",
          "Horror,Thriller",
          "Science Fiction,Action,Drama,Thriller",
          "Comedy,Science Fiction",
          "Thriller",
          "Comedy,Drama,Crime,Mystery",
          "Mystery,Thriller,Drama",
          "Action,Science Fiction",
          "Horror",
          "Family,Animation",
          "Fantasy,Comedy,Romance",
          "Animation,Action,Adventure,Fantasy,Science Fiction",
          "Action,Comedy,Crime,Thriller",
          "Comedy",
          "Horror,Fantasy,Mystery,Thriller",
          "Comedy,Family,Animation,Fantasy,Music",
          "Comedy,Romance",
          "Action,Fantasy,Science Fiction",
          "Comedy,Horror",
          "Family,Animation",
          "Horror,Mystery,Thriller",
          "Comedy,Horror,Thriller",
          "Drama,Horror,Mystery,Thriller",
          "Comedy",
          "Horror,Science Fiction",
          "Adventure,Drama,Family",
          "Fantasy,Thriller,Crime,Drama,Horror",
          "Drama",
          "Animation,Comedy,Family",
          "Animation,Family,Adventure,Science Fiction",
          "Adventure,Animation,Comedy,Family,TV Movie,Fantasy,Music",
          "Fantasy,Mystery,Thriller",
          "Horror,Mystery,Science Fiction",
          "Drama,Family,Music,Romance",
          "Animation,Comedy,Fantasy",
          "Comedy,Romance",
          "Horror",
          "Comedy,Drama,Thriller",
          "Horror,Mystery",
          "Science Fiction,Action,Fantasy",
          "Action,Adventure,Fantasy,Drama",
          "Animation,Drama,Romance",
          "Family,TV Movie,Adventure,Comedy,Drama,Fantasy",
          "Action,Crime,Thriller",
          "Horror,Comedy,Fantasy",
          "Animation,Family,Fantasy",
          "Documentary",
          "Comedy,Family,Fantasy,Music",
          "Animation,Comedy,Family,Mystery",
          "Comedy,Fantasy,Horror",
          "Family",
          "Science Fiction,Drama",
          "Horror,Mystery",
          "Horror,Thriller",
          "Thriller",
          "Comedy,Animation,Family",
          "Horror,Drama,Thriller",
          "Thriller",
          "Horror,Mystery,Comedy",
          "Adventure,Action,Thriller",
          "Horror",
          "Action,Adventure,Thriller,Crime",
          "Family,Comedy,Science Fiction,Adventure,Animation",
          "Adventure,Comedy,Family",
          "Action,Adventure,Comedy,Science Fiction",
          "Horror,Mystery",
          "Comedy,Romance",
          "Drama",
          "Animation,Adventure,Comedy",
          "Thriller,Horror",
          "Drama,Thriller",
          "Fantasy,Horror,Action,Thriller",
          "Comedy,Drama,Romance",
          "Drama",
          "Comedy",
          "Documentary",
          "Drama",
          "Action,Thriller,Crime",
          "Thriller,Animation,Action,Crime",
          "Animation,Family",
          "Action,Drama,Thriller",
          "Horror,Thriller,Mystery",
          "Horror,Crime,Mystery,Thriller",
          "Romance,Comedy,Drama,Family,Music",
          "Drama,Mystery,Thriller",
          "Comedy,Horror",
          "Documentary",
          "Horror,Action,Thriller,Crime",
          "Drama,History",
          "Science Fiction,Action,Adventure",
          "Music,Drama,Romance",
          "Horror",
          "Action,Adventure,Science Fiction",
          "Comedy,Family,Action,Fantasy,Adventure,Mystery"
         ],
         "y": [
          79,
          68,
          77,
          59,
          49,
          83,
          77,
          72,
          80,
          72,
          72,
          54,
          82,
          47,
          57,
          72,
          79,
          75,
          70,
          76,
          64,
          66,
          57,
          62,
          73,
          78,
          59,
          71,
          61,
          71,
          78,
          53,
          45,
          77,
          71,
          67,
          62,
          72,
          65,
          64,
          64,
          78,
          79,
          78,
          66,
          81,
          66,
          58,
          75,
          62,
          62,
          66,
          68,
          66,
          65,
          66,
          44,
          63,
          65,
          60,
          53,
          79,
          79,
          68,
          74,
          55,
          59,
          84,
          65,
          65,
          67,
          57,
          70,
          48,
          54,
          66,
          72,
          56,
          62,
          58,
          67,
          73,
          42,
          77,
          69,
          62,
          67,
          70,
          80,
          71,
          78,
          62,
          67,
          74,
          63,
          65,
          45,
          76,
          66,
          67,
          61,
          70,
          69,
          72,
          80,
          59,
          70,
          82,
          63,
          63,
          73,
          52,
          72,
          68,
          66,
          69,
          69,
          61,
          58,
          62,
          72,
          67,
          58,
          74,
          73,
          56,
          58,
          65,
          58,
          61,
          53,
          58,
          82,
          61,
          74,
          67,
          74,
          56,
          62,
          66,
          64,
          59,
          79,
          70,
          69,
          71,
          69,
          52,
          62,
          52
         ]
        },
        {
         "name": "2020",
         "type": "bar",
         "x": [
          "Action,Adventure,Fantasy",
          "Action,Adventure",
          "Adventure,Fantasy,Comedy,Action",
          "Horror",
          "Horror,Thriller",
          "Animation,Comedy,Mystery,Family,Fantasy",
          "Adventure,Fantasy",
          "Romance,Drama",
          "Animation,Action,Adventure,Fantasy",
          "Thriller,History,Drama",
          "Family,Animation",
          "Comedy",
          "Crime,Thriller,Drama",
          "Action,Adventure,Fantasy",
          "Action,Fantasy,Horror",
          "Animation,Science Fiction,Action",
          "Comedy,Romance",
          "Horror,Thriller",
          "Drama,Comedy,Romance",
          "Animation,Comedy,Family",
          "Horror,Drama,Fantasy",
          "Action,Adventure,Fantasy",
          "Action,Comedy,Science Fiction",
          "Thriller,Action",
          "Horror,Mystery,Thriller",
          "Animation,War,Science Fiction",
          "Animation,Family,Fantasy",
          "Fantasy,Animation,Family",
          "Comedy",
          "Fantasy,Adventure,Action,Family,Romance",
          "Comedy",
          "Thriller",
          "Drama",
          "Animation,Adventure,Family,Comedy",
          "Animation,Family",
          "Comedy,Romance",
          "Drama,Fantasy,Comedy",
          "Animation,Comedy,Fantasy",
          "Family,TV Movie,Animation",
          "Thriller,Action,Adventure,Comedy,Crime",
          "Action,Animation,Fantasy",
          "Romance,Animation,Fantasy",
          "Drama,Romance",
          "Animation,Action,Fantasy,Comedy",
          "Horror,Crime,Drama,Thriller",
          "Action,Crime,Drama,Thriller",
          "Adventure,Family,Fantasy",
          "Documentary",
          "Drama,Romance",
          "Horror,Thriller,Action",
          "Action,Drama,Science Fiction",
          "Action,Comedy,Adventure,War",
          "Thriller,Action,Comedy",
          "Horror,Mystery,Thriller",
          "Action,Adventure,Science Fiction,Thriller",
          "Action,Comedy,Crime",
          "Action,Adventure,Fantasy,TV Movie",
          "Horror,Thriller",
          "Science Fiction,Action,Drama,Thriller",
          "Comedy,Science Fiction",
          "Thriller",
          "Comedy,Drama,Crime,Mystery",
          "Mystery,Thriller,Drama",
          "Action,Science Fiction",
          "Horror",
          "Family,Animation",
          "Fantasy,Comedy,Romance",
          "Animation,Action,Adventure,Fantasy,Science Fiction",
          "Action,Comedy,Crime,Thriller",
          "Comedy",
          "Horror,Fantasy,Mystery,Thriller",
          "Comedy,Family,Animation,Fantasy,Music",
          "Comedy,Romance",
          "Action,Fantasy,Science Fiction",
          "Comedy,Horror",
          "Family,Animation",
          "Horror,Mystery,Thriller",
          "Comedy,Horror,Thriller",
          "Drama,Horror,Mystery,Thriller",
          "Comedy",
          "Horror,Science Fiction",
          "Adventure,Drama,Family",
          "Fantasy,Thriller,Crime,Drama,Horror",
          "Drama",
          "Animation,Comedy,Family",
          "Animation,Family,Adventure,Science Fiction",
          "Adventure,Animation,Comedy,Family,TV Movie,Fantasy,Music",
          "Fantasy,Mystery,Thriller",
          "Horror,Mystery,Science Fiction",
          "Drama,Family,Music,Romance",
          "Animation,Comedy,Fantasy",
          "Comedy,Romance",
          "Horror",
          "Comedy,Drama,Thriller",
          "Horror,Mystery",
          "Science Fiction,Action,Fantasy",
          "Action,Adventure,Fantasy,Drama",
          "Animation,Drama,Romance",
          "Family,TV Movie,Adventure,Comedy,Drama,Fantasy",
          "Action,Crime,Thriller",
          "Horror,Comedy,Fantasy",
          "Animation,Family,Fantasy",
          "Documentary",
          "Comedy,Family,Fantasy,Music",
          "Animation,Comedy,Family,Mystery",
          "Comedy,Fantasy,Horror",
          "Family",
          "Science Fiction,Drama",
          "Horror,Mystery",
          "Horror,Thriller",
          "Thriller",
          "Comedy,Animation,Family",
          "Horror,Drama,Thriller",
          "Thriller",
          "Horror,Mystery,Comedy",
          "Adventure,Action,Thriller",
          "Horror",
          "Action,Adventure,Thriller,Crime",
          "Family,Comedy,Science Fiction,Adventure,Animation",
          "Adventure,Comedy,Family",
          "Action,Adventure,Comedy,Science Fiction",
          "Horror,Mystery",
          "Comedy,Romance",
          "Drama",
          "Animation,Adventure,Comedy",
          "Thriller,Horror",
          "Drama,Thriller",
          "Fantasy,Horror,Action,Thriller",
          "Comedy,Drama,Romance",
          "Drama",
          "Comedy",
          "Documentary",
          "Drama",
          "Action,Thriller,Crime",
          "Thriller,Animation,Action,Crime",
          "Animation,Family",
          "Action,Drama,Thriller",
          "Horror,Thriller,Mystery",
          "Horror,Crime,Mystery,Thriller",
          "Romance,Comedy,Drama,Family,Music",
          "Drama,Mystery,Thriller",
          "Comedy,Horror",
          "Documentary",
          "Horror,Action,Thriller,Crime",
          "Drama,History",
          "Science Fiction,Action,Adventure",
          "Music,Drama,Romance",
          "Horror",
          "Action,Adventure,Science Fiction",
          "Comedy,Family,Action,Fantasy,Adventure,Mystery"
         ],
         "y": [
          79,
          68,
          77,
          59,
          49,
          83,
          77,
          72,
          80,
          72,
          72,
          54,
          82,
          47,
          57,
          72,
          79,
          75,
          70,
          76,
          64,
          66,
          57,
          62,
          73,
          78,
          59,
          71,
          61,
          71,
          78,
          53,
          45,
          77,
          71,
          67,
          62,
          72,
          65,
          64,
          64,
          78,
          79,
          78,
          66,
          81,
          66,
          58,
          75,
          62,
          62,
          66,
          68,
          66,
          65,
          66,
          44,
          63,
          65,
          60,
          53,
          79,
          79,
          68,
          74,
          55,
          59,
          84,
          65,
          65,
          67,
          57,
          70,
          48,
          54,
          66,
          72,
          56,
          62,
          58,
          67,
          73,
          42,
          77,
          69,
          62,
          67,
          70,
          80,
          71,
          78,
          62,
          67,
          74,
          63,
          65,
          45,
          76,
          66,
          67,
          61,
          70,
          69,
          72,
          80,
          59,
          70,
          82,
          63,
          63,
          73,
          52,
          72,
          68,
          66,
          69,
          69,
          61,
          58,
          62,
          72,
          67,
          58,
          74,
          73,
          56,
          58,
          65,
          58,
          61,
          53,
          58,
          82,
          61,
          74,
          67,
          74,
          56,
          62,
          66,
          64,
          59,
          79,
          70,
          69,
          71,
          69,
          52,
          62,
          52
         ]
        }
       ],
       "layout": {
        "barmode": "stack",
        "template": {
         "data": {
          "bar": [
           {
            "error_x": {
             "color": "#2a3f5f"
            },
            "error_y": {
             "color": "#2a3f5f"
            },
            "marker": {
             "line": {
              "color": "#E5ECF6",
              "width": 0.5
             },
             "pattern": {
              "fillmode": "overlay",
              "size": 10,
              "solidity": 0.2
             }
            },
            "type": "bar"
           }
          ],
          "barpolar": [
           {
            "marker": {
             "line": {
              "color": "#E5ECF6",
              "width": 0.5
             },
             "pattern": {
              "fillmode": "overlay",
              "size": 10,
              "solidity": 0.2
             }
            },
            "type": "barpolar"
           }
          ],
          "carpet": [
           {
            "aaxis": {
             "endlinecolor": "#2a3f5f",
             "gridcolor": "white",
             "linecolor": "white",
             "minorgridcolor": "white",
             "startlinecolor": "#2a3f5f"
            },
            "baxis": {
             "endlinecolor": "#2a3f5f",
             "gridcolor": "white",
             "linecolor": "white",
             "minorgridcolor": "white",
             "startlinecolor": "#2a3f5f"
            },
            "type": "carpet"
           }
          ],
          "choropleth": [
           {
            "colorbar": {
             "outlinewidth": 0,
             "ticks": ""
            },
            "type": "choropleth"
           }
          ],
          "contour": [
           {
            "colorbar": {
             "outlinewidth": 0,
             "ticks": ""
            },
            "colorscale": [
             [
              0,
              "#0d0887"
             ],
             [
              0.1111111111111111,
              "#46039f"
             ],
             [
              0.2222222222222222,
              "#7201a8"
             ],
             [
              0.3333333333333333,
              "#9c179e"
             ],
             [
              0.4444444444444444,
              "#bd3786"
             ],
             [
              0.5555555555555556,
              "#d8576b"
             ],
             [
              0.6666666666666666,
              "#ed7953"
             ],
             [
              0.7777777777777778,
              "#fb9f3a"
             ],
             [
              0.8888888888888888,
              "#fdca26"
             ],
             [
              1,
              "#f0f921"
             ]
            ],
            "type": "contour"
           }
          ],
          "contourcarpet": [
           {
            "colorbar": {
             "outlinewidth": 0,
             "ticks": ""
            },
            "type": "contourcarpet"
           }
          ],
          "heatmap": [
           {
            "colorbar": {
             "outlinewidth": 0,
             "ticks": ""
            },
            "colorscale": [
             [
              0,
              "#0d0887"
             ],
             [
              0.1111111111111111,
              "#46039f"
             ],
             [
              0.2222222222222222,
              "#7201a8"
             ],
             [
              0.3333333333333333,
              "#9c179e"
             ],
             [
              0.4444444444444444,
              "#bd3786"
             ],
             [
              0.5555555555555556,
              "#d8576b"
             ],
             [
              0.6666666666666666,
              "#ed7953"
             ],
             [
              0.7777777777777778,
              "#fb9f3a"
             ],
             [
              0.8888888888888888,
              "#fdca26"
             ],
             [
              1,
              "#f0f921"
             ]
            ],
            "type": "heatmap"
           }
          ],
          "heatmapgl": [
           {
            "colorbar": {
             "outlinewidth": 0,
             "ticks": ""
            },
            "colorscale": [
             [
              0,
              "#0d0887"
             ],
             [
              0.1111111111111111,
              "#46039f"
             ],
             [
              0.2222222222222222,
              "#7201a8"
             ],
             [
              0.3333333333333333,
              "#9c179e"
             ],
             [
              0.4444444444444444,
              "#bd3786"
             ],
             [
              0.5555555555555556,
              "#d8576b"
             ],
             [
              0.6666666666666666,
              "#ed7953"
             ],
             [
              0.7777777777777778,
              "#fb9f3a"
             ],
             [
              0.8888888888888888,
              "#fdca26"
             ],
             [
              1,
              "#f0f921"
             ]
            ],
            "type": "heatmapgl"
           }
          ],
          "histogram": [
           {
            "marker": {
             "pattern": {
              "fillmode": "overlay",
              "size": 10,
              "solidity": 0.2
             }
            },
            "type": "histogram"
           }
          ],
          "histogram2d": [
           {
            "colorbar": {
             "outlinewidth": 0,
             "ticks": ""
            },
            "colorscale": [
             [
              0,
              "#0d0887"
             ],
             [
              0.1111111111111111,
              "#46039f"
             ],
             [
              0.2222222222222222,
              "#7201a8"
             ],
             [
              0.3333333333333333,
              "#9c179e"
             ],
             [
              0.4444444444444444,
              "#bd3786"
             ],
             [
              0.5555555555555556,
              "#d8576b"
             ],
             [
              0.6666666666666666,
              "#ed7953"
             ],
             [
              0.7777777777777778,
              "#fb9f3a"
             ],
             [
              0.8888888888888888,
              "#fdca26"
             ],
             [
              1,
              "#f0f921"
             ]
            ],
            "type": "histogram2d"
           }
          ],
          "histogram2dcontour": [
           {
            "colorbar": {
             "outlinewidth": 0,
             "ticks": ""
            },
            "colorscale": [
             [
              0,
              "#0d0887"
             ],
             [
              0.1111111111111111,
              "#46039f"
             ],
             [
              0.2222222222222222,
              "#7201a8"
             ],
             [
              0.3333333333333333,
              "#9c179e"
             ],
             [
              0.4444444444444444,
              "#bd3786"
             ],
             [
              0.5555555555555556,
              "#d8576b"
             ],
             [
              0.6666666666666666,
              "#ed7953"
             ],
             [
              0.7777777777777778,
              "#fb9f3a"
             ],
             [
              0.8888888888888888,
              "#fdca26"
             ],
             [
              1,
              "#f0f921"
             ]
            ],
            "type": "histogram2dcontour"
           }
          ],
          "mesh3d": [
           {
            "colorbar": {
             "outlinewidth": 0,
             "ticks": ""
            },
            "type": "mesh3d"
           }
          ],
          "parcoords": [
           {
            "line": {
             "colorbar": {
              "outlinewidth": 0,
              "ticks": ""
             }
            },
            "type": "parcoords"
           }
          ],
          "pie": [
           {
            "automargin": true,
            "type": "pie"
           }
          ],
          "scatter": [
           {
            "marker": {
             "colorbar": {
              "outlinewidth": 0,
              "ticks": ""
             }
            },
            "type": "scatter"
           }
          ],
          "scatter3d": [
           {
            "line": {
             "colorbar": {
              "outlinewidth": 0,
              "ticks": ""
             }
            },
            "marker": {
             "colorbar": {
              "outlinewidth": 0,
              "ticks": ""
             }
            },
            "type": "scatter3d"
           }
          ],
          "scattercarpet": [
           {
            "marker": {
             "colorbar": {
              "outlinewidth": 0,
              "ticks": ""
             }
            },
            "type": "scattercarpet"
           }
          ],
          "scattergeo": [
           {
            "marker": {
             "colorbar": {
              "outlinewidth": 0,
              "ticks": ""
             }
            },
            "type": "scattergeo"
           }
          ],
          "scattergl": [
           {
            "marker": {
             "colorbar": {
              "outlinewidth": 0,
              "ticks": ""
             }
            },
            "type": "scattergl"
           }
          ],
          "scattermapbox": [
           {
            "marker": {
             "colorbar": {
              "outlinewidth": 0,
              "ticks": ""
             }
            },
            "type": "scattermapbox"
           }
          ],
          "scatterpolar": [
           {
            "marker": {
             "colorbar": {
              "outlinewidth": 0,
              "ticks": ""
             }
            },
            "type": "scatterpolar"
           }
          ],
          "scatterpolargl": [
           {
            "marker": {
             "colorbar": {
              "outlinewidth": 0,
              "ticks": ""
             }
            },
            "type": "scatterpolargl"
           }
          ],
          "scatterternary": [
           {
            "marker": {
             "colorbar": {
              "outlinewidth": 0,
              "ticks": ""
             }
            },
            "type": "scatterternary"
           }
          ],
          "surface": [
           {
            "colorbar": {
             "outlinewidth": 0,
             "ticks": ""
            },
            "colorscale": [
             [
              0,
              "#0d0887"
             ],
             [
              0.1111111111111111,
              "#46039f"
             ],
             [
              0.2222222222222222,
              "#7201a8"
             ],
             [
              0.3333333333333333,
              "#9c179e"
             ],
             [
              0.4444444444444444,
              "#bd3786"
             ],
             [
              0.5555555555555556,
              "#d8576b"
             ],
             [
              0.6666666666666666,
              "#ed7953"
             ],
             [
              0.7777777777777778,
              "#fb9f3a"
             ],
             [
              0.8888888888888888,
              "#fdca26"
             ],
             [
              1,
              "#f0f921"
             ]
            ],
            "type": "surface"
           }
          ],
          "table": [
           {
            "cells": {
             "fill": {
              "color": "#EBF0F8"
             },
             "line": {
              "color": "white"
             }
            },
            "header": {
             "fill": {
              "color": "#C8D4E3"
             },
             "line": {
              "color": "white"
             }
            },
            "type": "table"
           }
          ]
         },
         "layout": {
          "annotationdefaults": {
           "arrowcolor": "#2a3f5f",
           "arrowhead": 0,
           "arrowwidth": 1
          },
          "autotypenumbers": "strict",
          "coloraxis": {
           "colorbar": {
            "outlinewidth": 0,
            "ticks": ""
           }
          },
          "colorscale": {
           "diverging": [
            [
             0,
             "#8e0152"
            ],
            [
             0.1,
             "#c51b7d"
            ],
            [
             0.2,
             "#de77ae"
            ],
            [
             0.3,
             "#f1b6da"
            ],
            [
             0.4,
             "#fde0ef"
            ],
            [
             0.5,
             "#f7f7f7"
            ],
            [
             0.6,
             "#e6f5d0"
            ],
            [
             0.7,
             "#b8e186"
            ],
            [
             0.8,
             "#7fbc41"
            ],
            [
             0.9,
             "#4d9221"
            ],
            [
             1,
             "#276419"
            ]
           ],
           "sequential": [
            [
             0,
             "#0d0887"
            ],
            [
             0.1111111111111111,
             "#46039f"
            ],
            [
             0.2222222222222222,
             "#7201a8"
            ],
            [
             0.3333333333333333,
             "#9c179e"
            ],
            [
             0.4444444444444444,
             "#bd3786"
            ],
            [
             0.5555555555555556,
             "#d8576b"
            ],
            [
             0.6666666666666666,
             "#ed7953"
            ],
            [
             0.7777777777777778,
             "#fb9f3a"
            ],
            [
             0.8888888888888888,
             "#fdca26"
            ],
            [
             1,
             "#f0f921"
            ]
           ],
           "sequentialminus": [
            [
             0,
             "#0d0887"
            ],
            [
             0.1111111111111111,
             "#46039f"
            ],
            [
             0.2222222222222222,
             "#7201a8"
            ],
            [
             0.3333333333333333,
             "#9c179e"
            ],
            [
             0.4444444444444444,
             "#bd3786"
            ],
            [
             0.5555555555555556,
             "#d8576b"
            ],
            [
             0.6666666666666666,
             "#ed7953"
            ],
            [
             0.7777777777777778,
             "#fb9f3a"
            ],
            [
             0.8888888888888888,
             "#fdca26"
            ],
            [
             1,
             "#f0f921"
            ]
           ]
          },
          "colorway": [
           "#636efa",
           "#EF553B",
           "#00cc96",
           "#ab63fa",
           "#FFA15A",
           "#19d3f3",
           "#FF6692",
           "#B6E880",
           "#FF97FF",
           "#FECB52"
          ],
          "font": {
           "color": "#2a3f5f"
          },
          "geo": {
           "bgcolor": "white",
           "lakecolor": "white",
           "landcolor": "#E5ECF6",
           "showlakes": true,
           "showland": true,
           "subunitcolor": "white"
          },
          "hoverlabel": {
           "align": "left"
          },
          "hovermode": "closest",
          "mapbox": {
           "style": "light"
          },
          "paper_bgcolor": "white",
          "plot_bgcolor": "#E5ECF6",
          "polar": {
           "angularaxis": {
            "gridcolor": "white",
            "linecolor": "white",
            "ticks": ""
           },
           "bgcolor": "#E5ECF6",
           "radialaxis": {
            "gridcolor": "white",
            "linecolor": "white",
            "ticks": ""
           }
          },
          "scene": {
           "xaxis": {
            "backgroundcolor": "#E5ECF6",
            "gridcolor": "white",
            "gridwidth": 2,
            "linecolor": "white",
            "showbackground": true,
            "ticks": "",
            "zerolinecolor": "white"
           },
           "yaxis": {
            "backgroundcolor": "#E5ECF6",
            "gridcolor": "white",
            "gridwidth": 2,
            "linecolor": "white",
            "showbackground": true,
            "ticks": "",
            "zerolinecolor": "white"
           },
           "zaxis": {
            "backgroundcolor": "#E5ECF6",
            "gridcolor": "white",
            "gridwidth": 2,
            "linecolor": "white",
            "showbackground": true,
            "ticks": "",
            "zerolinecolor": "white"
           }
          },
          "shapedefaults": {
           "line": {
            "color": "#2a3f5f"
           }
          },
          "ternary": {
           "aaxis": {
            "gridcolor": "white",
            "linecolor": "white",
            "ticks": ""
           },
           "baxis": {
            "gridcolor": "white",
            "linecolor": "white",
            "ticks": ""
           },
           "bgcolor": "#E5ECF6",
           "caxis": {
            "gridcolor": "white",
            "linecolor": "white",
            "ticks": ""
           }
          },
          "title": {
           "x": 0.05
          },
          "xaxis": {
           "automargin": true,
           "gridcolor": "white",
           "linecolor": "white",
           "ticks": "",
           "title": {
            "standoff": 15
           },
           "zerolinecolor": "white",
           "zerolinewidth": 2
          },
          "yaxis": {
           "automargin": true,
           "gridcolor": "white",
           "linecolor": "white",
           "ticks": "",
           "title": {
            "standoff": 15
           },
           "zerolinecolor": "white",
           "zerolinewidth": 2
          }
         }
        }
       }
      },
      "text/html": [
       "<div>                            <div id=\"ad4d914e-4159-4ce3-9582-1bc8b25f4402\" class=\"plotly-graph-div\" style=\"height:525px; width:100%;\"></div>            <script type=\"text/javascript\">                require([\"plotly\"], function(Plotly) {                    window.PLOTLYENV=window.PLOTLYENV || {};                                    if (document.getElementById(\"ad4d914e-4159-4ce3-9582-1bc8b25f4402\")) {                    Plotly.newPlot(                        \"ad4d914e-4159-4ce3-9582-1bc8b25f4402\",                        [{\"name\":\"2021\",\"type\":\"bar\",\"x\":[\"Action,Adventure,Fantasy\",\"Action,Adventure\",\"Adventure,Fantasy,Comedy,Action\",\"Horror\",\"Horror,Thriller\",\"Animation,Comedy,Mystery,Family,Fantasy\",\"Adventure,Fantasy\",\"Romance,Drama\",\"Animation,Action,Adventure,Fantasy\",\"Thriller,History,Drama\",\"Family,Animation\",\"Comedy\",\"Crime,Thriller,Drama\",\"Action,Adventure,Fantasy\",\"Action,Fantasy,Horror\",\"Animation,Science Fiction,Action\",\"Comedy,Romance\",\"Horror,Thriller\",\"Drama,Comedy,Romance\",\"Animation,Comedy,Family\",\"Horror,Drama,Fantasy\",\"Action,Adventure,Fantasy\",\"Action,Comedy,Science Fiction\",\"Thriller,Action\",\"Horror,Mystery,Thriller\",\"Animation,War,Science Fiction\",\"Animation,Family,Fantasy\",\"Fantasy,Animation,Family\",\"Comedy\",\"Fantasy,Adventure,Action,Family,Romance\",\"Comedy\",\"Thriller\",\"Drama\",\"Animation,Adventure,Family,Comedy\",\"Animation,Family\",\"Comedy,Romance\",\"Drama,Fantasy,Comedy\",\"Animation,Comedy,Fantasy\",\"Family,TV Movie,Animation\",\"Thriller,Action,Adventure,Comedy,Crime\",\"Action,Animation,Fantasy\",\"Romance,Animation,Fantasy\",\"Drama,Romance\",\"Animation,Action,Fantasy,Comedy\",\"Horror,Crime,Drama,Thriller\",\"Action,Crime,Drama,Thriller\",\"Adventure,Family,Fantasy\",\"Documentary\",\"Drama,Romance\",\"Horror,Thriller,Action\",\"Action,Drama,Science Fiction\",\"Action,Comedy,Adventure,War\",\"Thriller,Action,Comedy\",\"Horror,Mystery,Thriller\",\"Action,Adventure,Science Fiction,Thriller\",\"Action,Comedy,Crime\",\"Action,Adventure,Fantasy,TV Movie\",\"Horror,Thriller\",\"Science Fiction,Action,Drama,Thriller\",\"Comedy,Science Fiction\",\"Thriller\",\"Comedy,Drama,Crime,Mystery\",\"Mystery,Thriller,Drama\",\"Action,Science Fiction\",\"Horror\",\"Family,Animation\",\"Fantasy,Comedy,Romance\",\"Animation,Action,Adventure,Fantasy,Science Fiction\",\"Action,Comedy,Crime,Thriller\",\"Comedy\",\"Horror,Fantasy,Mystery,Thriller\",\"Comedy,Family,Animation,Fantasy,Music\",\"Comedy,Romance\",\"Action,Fantasy,Science Fiction\",\"Comedy,Horror\",\"Family,Animation\",\"Horror,Mystery,Thriller\",\"Comedy,Horror,Thriller\",\"Drama,Horror,Mystery,Thriller\",\"Comedy\",\"Horror,Science Fiction\",\"Adventure,Drama,Family\",\"Fantasy,Thriller,Crime,Drama,Horror\",\"Drama\",\"Animation,Comedy,Family\",\"Animation,Family,Adventure,Science Fiction\",\"Adventure,Animation,Comedy,Family,TV Movie,Fantasy,Music\",\"Fantasy,Mystery,Thriller\",\"Horror,Mystery,Science Fiction\",\"Drama,Family,Music,Romance\",\"Animation,Comedy,Fantasy\",\"Comedy,Romance\",\"Horror\",\"Comedy,Drama,Thriller\",\"Horror,Mystery\",\"Science Fiction,Action,Fantasy\",\"Action,Adventure,Fantasy,Drama\",\"Animation,Drama,Romance\",\"Family,TV Movie,Adventure,Comedy,Drama,Fantasy\",\"Action,Crime,Thriller\",\"Horror,Comedy,Fantasy\",\"Animation,Family,Fantasy\",\"Documentary\",\"Comedy,Family,Fantasy,Music\",\"Animation,Comedy,Family,Mystery\",\"Comedy,Fantasy,Horror\",\"Family\",\"Science Fiction,Drama\",\"Horror,Mystery\",\"Horror,Thriller\",\"Thriller\",\"Comedy,Animation,Family\",\"Horror,Drama,Thriller\",\"Thriller\",\"Horror,Mystery,Comedy\",\"Adventure,Action,Thriller\",\"Horror\",\"Action,Adventure,Thriller,Crime\",\"Family,Comedy,Science Fiction,Adventure,Animation\",\"Adventure,Comedy,Family\",\"Action,Adventure,Comedy,Science Fiction\",\"Horror,Mystery\",\"Comedy,Romance\",\"Drama\",\"Animation,Adventure,Comedy\",\"Thriller,Horror\",\"Drama,Thriller\",\"Fantasy,Horror,Action,Thriller\",\"Comedy,Drama,Romance\",\"Drama\",\"Comedy\",\"Documentary\",\"Drama\",\"Action,Thriller,Crime\",\"Thriller,Animation,Action,Crime\",\"Animation,Family\",\"Action,Drama,Thriller\",\"Horror,Thriller,Mystery\",\"Horror,Crime,Mystery,Thriller\",\"Romance,Comedy,Drama,Family,Music\",\"Drama,Mystery,Thriller\",\"Comedy,Horror\",\"Documentary\",\"Horror,Action,Thriller,Crime\",\"Drama,History\",\"Science Fiction,Action,Adventure\",\"Music,Drama,Romance\",\"Horror\",\"Action,Adventure,Science Fiction\",\"Comedy,Family,Action,Fantasy,Adventure,Mystery\"],\"y\":[79.0,68.0,77.0,59.0,49.0,83.0,77.0,72.0,80.0,72.0,72.0,54.0,82.0,47.0,57.0,72.0,79.0,75.0,70.0,76.0,64.0,66.0,57.0,62.0,73.0,78.0,59.0,71.0,61.0,71.0,78.0,53.0,45.0,77.0,71.0,67.0,62.0,72.0,65.0,64.0,64.0,78.0,79.0,78.0,66.0,81.0,66.0,58.0,75.0,62.0,62.0,66.0,68.0,66.0,65.0,66.0,44.0,63.0,65.0,60.0,53.0,79.0,79.0,68.0,74.0,55.0,59.0,84.0,65.0,65.0,67.0,57.0,70.0,48.0,54.0,66.0,72.0,56.0,62.0,58.0,67.0,73.0,42.0,77.0,69.0,62.0,67.0,70.0,80.0,71.0,78.0,62.0,67.0,74.0,63.0,65.0,45.0,76.0,66.0,67.0,61.0,70.0,69.0,72.0,80.0,59.0,70.0,82.0,63.0,63.0,73.0,52.0,72.0,68.0,66.0,69.0,69.0,61.0,58.0,62.0,72.0,67.0,58.0,74.0,73.0,56.0,58.0,65.0,58.0,61.0,53.0,58.0,82.0,61.0,74.0,67.0,74.0,56.0,62.0,66.0,64.0,59.0,79.0,70.0,69.0,71.0,69.0,52.0,62.0,52.0]},{\"name\":\"2020\",\"type\":\"bar\",\"x\":[\"Action,Adventure,Fantasy\",\"Action,Adventure\",\"Adventure,Fantasy,Comedy,Action\",\"Horror\",\"Horror,Thriller\",\"Animation,Comedy,Mystery,Family,Fantasy\",\"Adventure,Fantasy\",\"Romance,Drama\",\"Animation,Action,Adventure,Fantasy\",\"Thriller,History,Drama\",\"Family,Animation\",\"Comedy\",\"Crime,Thriller,Drama\",\"Action,Adventure,Fantasy\",\"Action,Fantasy,Horror\",\"Animation,Science Fiction,Action\",\"Comedy,Romance\",\"Horror,Thriller\",\"Drama,Comedy,Romance\",\"Animation,Comedy,Family\",\"Horror,Drama,Fantasy\",\"Action,Adventure,Fantasy\",\"Action,Comedy,Science Fiction\",\"Thriller,Action\",\"Horror,Mystery,Thriller\",\"Animation,War,Science Fiction\",\"Animation,Family,Fantasy\",\"Fantasy,Animation,Family\",\"Comedy\",\"Fantasy,Adventure,Action,Family,Romance\",\"Comedy\",\"Thriller\",\"Drama\",\"Animation,Adventure,Family,Comedy\",\"Animation,Family\",\"Comedy,Romance\",\"Drama,Fantasy,Comedy\",\"Animation,Comedy,Fantasy\",\"Family,TV Movie,Animation\",\"Thriller,Action,Adventure,Comedy,Crime\",\"Action,Animation,Fantasy\",\"Romance,Animation,Fantasy\",\"Drama,Romance\",\"Animation,Action,Fantasy,Comedy\",\"Horror,Crime,Drama,Thriller\",\"Action,Crime,Drama,Thriller\",\"Adventure,Family,Fantasy\",\"Documentary\",\"Drama,Romance\",\"Horror,Thriller,Action\",\"Action,Drama,Science Fiction\",\"Action,Comedy,Adventure,War\",\"Thriller,Action,Comedy\",\"Horror,Mystery,Thriller\",\"Action,Adventure,Science Fiction,Thriller\",\"Action,Comedy,Crime\",\"Action,Adventure,Fantasy,TV Movie\",\"Horror,Thriller\",\"Science Fiction,Action,Drama,Thriller\",\"Comedy,Science Fiction\",\"Thriller\",\"Comedy,Drama,Crime,Mystery\",\"Mystery,Thriller,Drama\",\"Action,Science Fiction\",\"Horror\",\"Family,Animation\",\"Fantasy,Comedy,Romance\",\"Animation,Action,Adventure,Fantasy,Science Fiction\",\"Action,Comedy,Crime,Thriller\",\"Comedy\",\"Horror,Fantasy,Mystery,Thriller\",\"Comedy,Family,Animation,Fantasy,Music\",\"Comedy,Romance\",\"Action,Fantasy,Science Fiction\",\"Comedy,Horror\",\"Family,Animation\",\"Horror,Mystery,Thriller\",\"Comedy,Horror,Thriller\",\"Drama,Horror,Mystery,Thriller\",\"Comedy\",\"Horror,Science Fiction\",\"Adventure,Drama,Family\",\"Fantasy,Thriller,Crime,Drama,Horror\",\"Drama\",\"Animation,Comedy,Family\",\"Animation,Family,Adventure,Science Fiction\",\"Adventure,Animation,Comedy,Family,TV Movie,Fantasy,Music\",\"Fantasy,Mystery,Thriller\",\"Horror,Mystery,Science Fiction\",\"Drama,Family,Music,Romance\",\"Animation,Comedy,Fantasy\",\"Comedy,Romance\",\"Horror\",\"Comedy,Drama,Thriller\",\"Horror,Mystery\",\"Science Fiction,Action,Fantasy\",\"Action,Adventure,Fantasy,Drama\",\"Animation,Drama,Romance\",\"Family,TV Movie,Adventure,Comedy,Drama,Fantasy\",\"Action,Crime,Thriller\",\"Horror,Comedy,Fantasy\",\"Animation,Family,Fantasy\",\"Documentary\",\"Comedy,Family,Fantasy,Music\",\"Animation,Comedy,Family,Mystery\",\"Comedy,Fantasy,Horror\",\"Family\",\"Science Fiction,Drama\",\"Horror,Mystery\",\"Horror,Thriller\",\"Thriller\",\"Comedy,Animation,Family\",\"Horror,Drama,Thriller\",\"Thriller\",\"Horror,Mystery,Comedy\",\"Adventure,Action,Thriller\",\"Horror\",\"Action,Adventure,Thriller,Crime\",\"Family,Comedy,Science Fiction,Adventure,Animation\",\"Adventure,Comedy,Family\",\"Action,Adventure,Comedy,Science Fiction\",\"Horror,Mystery\",\"Comedy,Romance\",\"Drama\",\"Animation,Adventure,Comedy\",\"Thriller,Horror\",\"Drama,Thriller\",\"Fantasy,Horror,Action,Thriller\",\"Comedy,Drama,Romance\",\"Drama\",\"Comedy\",\"Documentary\",\"Drama\",\"Action,Thriller,Crime\",\"Thriller,Animation,Action,Crime\",\"Animation,Family\",\"Action,Drama,Thriller\",\"Horror,Thriller,Mystery\",\"Horror,Crime,Mystery,Thriller\",\"Romance,Comedy,Drama,Family,Music\",\"Drama,Mystery,Thriller\",\"Comedy,Horror\",\"Documentary\",\"Horror,Action,Thriller,Crime\",\"Drama,History\",\"Science Fiction,Action,Adventure\",\"Music,Drama,Romance\",\"Horror\",\"Action,Adventure,Science Fiction\",\"Comedy,Family,Action,Fantasy,Adventure,Mystery\"],\"y\":[79.0,68.0,77.0,59.0,49.0,83.0,77.0,72.0,80.0,72.0,72.0,54.0,82.0,47.0,57.0,72.0,79.0,75.0,70.0,76.0,64.0,66.0,57.0,62.0,73.0,78.0,59.0,71.0,61.0,71.0,78.0,53.0,45.0,77.0,71.0,67.0,62.0,72.0,65.0,64.0,64.0,78.0,79.0,78.0,66.0,81.0,66.0,58.0,75.0,62.0,62.0,66.0,68.0,66.0,65.0,66.0,44.0,63.0,65.0,60.0,53.0,79.0,79.0,68.0,74.0,55.0,59.0,84.0,65.0,65.0,67.0,57.0,70.0,48.0,54.0,66.0,72.0,56.0,62.0,58.0,67.0,73.0,42.0,77.0,69.0,62.0,67.0,70.0,80.0,71.0,78.0,62.0,67.0,74.0,63.0,65.0,45.0,76.0,66.0,67.0,61.0,70.0,69.0,72.0,80.0,59.0,70.0,82.0,63.0,63.0,73.0,52.0,72.0,68.0,66.0,69.0,69.0,61.0,58.0,62.0,72.0,67.0,58.0,74.0,73.0,56.0,58.0,65.0,58.0,61.0,53.0,58.0,82.0,61.0,74.0,67.0,74.0,56.0,62.0,66.0,64.0,59.0,79.0,70.0,69.0,71.0,69.0,52.0,62.0,52.0]}],                        {\"barmode\":\"stack\",\"template\":{\"data\":{\"bar\":[{\"error_x\":{\"color\":\"#2a3f5f\"},\"error_y\":{\"color\":\"#2a3f5f\"},\"marker\":{\"line\":{\"color\":\"#E5ECF6\",\"width\":0.5},\"pattern\":{\"fillmode\":\"overlay\",\"size\":10,\"solidity\":0.2}},\"type\":\"bar\"}],\"barpolar\":[{\"marker\":{\"line\":{\"color\":\"#E5ECF6\",\"width\":0.5},\"pattern\":{\"fillmode\":\"overlay\",\"size\":10,\"solidity\":0.2}},\"type\":\"barpolar\"}],\"carpet\":[{\"aaxis\":{\"endlinecolor\":\"#2a3f5f\",\"gridcolor\":\"white\",\"linecolor\":\"white\",\"minorgridcolor\":\"white\",\"startlinecolor\":\"#2a3f5f\"},\"baxis\":{\"endlinecolor\":\"#2a3f5f\",\"gridcolor\":\"white\",\"linecolor\":\"white\",\"minorgridcolor\":\"white\",\"startlinecolor\":\"#2a3f5f\"},\"type\":\"carpet\"}],\"choropleth\":[{\"colorbar\":{\"outlinewidth\":0,\"ticks\":\"\"},\"type\":\"choropleth\"}],\"contour\":[{\"colorbar\":{\"outlinewidth\":0,\"ticks\":\"\"},\"colorscale\":[[0.0,\"#0d0887\"],[0.1111111111111111,\"#46039f\"],[0.2222222222222222,\"#7201a8\"],[0.3333333333333333,\"#9c179e\"],[0.4444444444444444,\"#bd3786\"],[0.5555555555555556,\"#d8576b\"],[0.6666666666666666,\"#ed7953\"],[0.7777777777777778,\"#fb9f3a\"],[0.8888888888888888,\"#fdca26\"],[1.0,\"#f0f921\"]],\"type\":\"contour\"}],\"contourcarpet\":[{\"colorbar\":{\"outlinewidth\":0,\"ticks\":\"\"},\"type\":\"contourcarpet\"}],\"heatmap\":[{\"colorbar\":{\"outlinewidth\":0,\"ticks\":\"\"},\"colorscale\":[[0.0,\"#0d0887\"],[0.1111111111111111,\"#46039f\"],[0.2222222222222222,\"#7201a8\"],[0.3333333333333333,\"#9c179e\"],[0.4444444444444444,\"#bd3786\"],[0.5555555555555556,\"#d8576b\"],[0.6666666666666666,\"#ed7953\"],[0.7777777777777778,\"#fb9f3a\"],[0.8888888888888888,\"#fdca26\"],[1.0,\"#f0f921\"]],\"type\":\"heatmap\"}],\"heatmapgl\":[{\"colorbar\":{\"outlinewidth\":0,\"ticks\":\"\"},\"colorscale\":[[0.0,\"#0d0887\"],[0.1111111111111111,\"#46039f\"],[0.2222222222222222,\"#7201a8\"],[0.3333333333333333,\"#9c179e\"],[0.4444444444444444,\"#bd3786\"],[0.5555555555555556,\"#d8576b\"],[0.6666666666666666,\"#ed7953\"],[0.7777777777777778,\"#fb9f3a\"],[0.8888888888888888,\"#fdca26\"],[1.0,\"#f0f921\"]],\"type\":\"heatmapgl\"}],\"histogram\":[{\"marker\":{\"pattern\":{\"fillmode\":\"overlay\",\"size\":10,\"solidity\":0.2}},\"type\":\"histogram\"}],\"histogram2d\":[{\"colorbar\":{\"outlinewidth\":0,\"ticks\":\"\"},\"colorscale\":[[0.0,\"#0d0887\"],[0.1111111111111111,\"#46039f\"],[0.2222222222222222,\"#7201a8\"],[0.3333333333333333,\"#9c179e\"],[0.4444444444444444,\"#bd3786\"],[0.5555555555555556,\"#d8576b\"],[0.6666666666666666,\"#ed7953\"],[0.7777777777777778,\"#fb9f3a\"],[0.8888888888888888,\"#fdca26\"],[1.0,\"#f0f921\"]],\"type\":\"histogram2d\"}],\"histogram2dcontour\":[{\"colorbar\":{\"outlinewidth\":0,\"ticks\":\"\"},\"colorscale\":[[0.0,\"#0d0887\"],[0.1111111111111111,\"#46039f\"],[0.2222222222222222,\"#7201a8\"],[0.3333333333333333,\"#9c179e\"],[0.4444444444444444,\"#bd3786\"],[0.5555555555555556,\"#d8576b\"],[0.6666666666666666,\"#ed7953\"],[0.7777777777777778,\"#fb9f3a\"],[0.8888888888888888,\"#fdca26\"],[1.0,\"#f0f921\"]],\"type\":\"histogram2dcontour\"}],\"mesh3d\":[{\"colorbar\":{\"outlinewidth\":0,\"ticks\":\"\"},\"type\":\"mesh3d\"}],\"parcoords\":[{\"line\":{\"colorbar\":{\"outlinewidth\":0,\"ticks\":\"\"}},\"type\":\"parcoords\"}],\"pie\":[{\"automargin\":true,\"type\":\"pie\"}],\"scatter\":[{\"marker\":{\"colorbar\":{\"outlinewidth\":0,\"ticks\":\"\"}},\"type\":\"scatter\"}],\"scatter3d\":[{\"line\":{\"colorbar\":{\"outlinewidth\":0,\"ticks\":\"\"}},\"marker\":{\"colorbar\":{\"outlinewidth\":0,\"ticks\":\"\"}},\"type\":\"scatter3d\"}],\"scattercarpet\":[{\"marker\":{\"colorbar\":{\"outlinewidth\":0,\"ticks\":\"\"}},\"type\":\"scattercarpet\"}],\"scattergeo\":[{\"marker\":{\"colorbar\":{\"outlinewidth\":0,\"ticks\":\"\"}},\"type\":\"scattergeo\"}],\"scattergl\":[{\"marker\":{\"colorbar\":{\"outlinewidth\":0,\"ticks\":\"\"}},\"type\":\"scattergl\"}],\"scattermapbox\":[{\"marker\":{\"colorbar\":{\"outlinewidth\":0,\"ticks\":\"\"}},\"type\":\"scattermapbox\"}],\"scatterpolar\":[{\"marker\":{\"colorbar\":{\"outlinewidth\":0,\"ticks\":\"\"}},\"type\":\"scatterpolar\"}],\"scatterpolargl\":[{\"marker\":{\"colorbar\":{\"outlinewidth\":0,\"ticks\":\"\"}},\"type\":\"scatterpolargl\"}],\"scatterternary\":[{\"marker\":{\"colorbar\":{\"outlinewidth\":0,\"ticks\":\"\"}},\"type\":\"scatterternary\"}],\"surface\":[{\"colorbar\":{\"outlinewidth\":0,\"ticks\":\"\"},\"colorscale\":[[0.0,\"#0d0887\"],[0.1111111111111111,\"#46039f\"],[0.2222222222222222,\"#7201a8\"],[0.3333333333333333,\"#9c179e\"],[0.4444444444444444,\"#bd3786\"],[0.5555555555555556,\"#d8576b\"],[0.6666666666666666,\"#ed7953\"],[0.7777777777777778,\"#fb9f3a\"],[0.8888888888888888,\"#fdca26\"],[1.0,\"#f0f921\"]],\"type\":\"surface\"}],\"table\":[{\"cells\":{\"fill\":{\"color\":\"#EBF0F8\"},\"line\":{\"color\":\"white\"}},\"header\":{\"fill\":{\"color\":\"#C8D4E3\"},\"line\":{\"color\":\"white\"}},\"type\":\"table\"}]},\"layout\":{\"annotationdefaults\":{\"arrowcolor\":\"#2a3f5f\",\"arrowhead\":0,\"arrowwidth\":1},\"autotypenumbers\":\"strict\",\"coloraxis\":{\"colorbar\":{\"outlinewidth\":0,\"ticks\":\"\"}},\"colorscale\":{\"diverging\":[[0,\"#8e0152\"],[0.1,\"#c51b7d\"],[0.2,\"#de77ae\"],[0.3,\"#f1b6da\"],[0.4,\"#fde0ef\"],[0.5,\"#f7f7f7\"],[0.6,\"#e6f5d0\"],[0.7,\"#b8e186\"],[0.8,\"#7fbc41\"],[0.9,\"#4d9221\"],[1,\"#276419\"]],\"sequential\":[[0.0,\"#0d0887\"],[0.1111111111111111,\"#46039f\"],[0.2222222222222222,\"#7201a8\"],[0.3333333333333333,\"#9c179e\"],[0.4444444444444444,\"#bd3786\"],[0.5555555555555556,\"#d8576b\"],[0.6666666666666666,\"#ed7953\"],[0.7777777777777778,\"#fb9f3a\"],[0.8888888888888888,\"#fdca26\"],[1.0,\"#f0f921\"]],\"sequentialminus\":[[0.0,\"#0d0887\"],[0.1111111111111111,\"#46039f\"],[0.2222222222222222,\"#7201a8\"],[0.3333333333333333,\"#9c179e\"],[0.4444444444444444,\"#bd3786\"],[0.5555555555555556,\"#d8576b\"],[0.6666666666666666,\"#ed7953\"],[0.7777777777777778,\"#fb9f3a\"],[0.8888888888888888,\"#fdca26\"],[1.0,\"#f0f921\"]]},\"colorway\":[\"#636efa\",\"#EF553B\",\"#00cc96\",\"#ab63fa\",\"#FFA15A\",\"#19d3f3\",\"#FF6692\",\"#B6E880\",\"#FF97FF\",\"#FECB52\"],\"font\":{\"color\":\"#2a3f5f\"},\"geo\":{\"bgcolor\":\"white\",\"lakecolor\":\"white\",\"landcolor\":\"#E5ECF6\",\"showlakes\":true,\"showland\":true,\"subunitcolor\":\"white\"},\"hoverlabel\":{\"align\":\"left\"},\"hovermode\":\"closest\",\"mapbox\":{\"style\":\"light\"},\"paper_bgcolor\":\"white\",\"plot_bgcolor\":\"#E5ECF6\",\"polar\":{\"angularaxis\":{\"gridcolor\":\"white\",\"linecolor\":\"white\",\"ticks\":\"\"},\"bgcolor\":\"#E5ECF6\",\"radialaxis\":{\"gridcolor\":\"white\",\"linecolor\":\"white\",\"ticks\":\"\"}},\"scene\":{\"xaxis\":{\"backgroundcolor\":\"#E5ECF6\",\"gridcolor\":\"white\",\"gridwidth\":2,\"linecolor\":\"white\",\"showbackground\":true,\"ticks\":\"\",\"zerolinecolor\":\"white\"},\"yaxis\":{\"backgroundcolor\":\"#E5ECF6\",\"gridcolor\":\"white\",\"gridwidth\":2,\"linecolor\":\"white\",\"showbackground\":true,\"ticks\":\"\",\"zerolinecolor\":\"white\"},\"zaxis\":{\"backgroundcolor\":\"#E5ECF6\",\"gridcolor\":\"white\",\"gridwidth\":2,\"linecolor\":\"white\",\"showbackground\":true,\"ticks\":\"\",\"zerolinecolor\":\"white\"}},\"shapedefaults\":{\"line\":{\"color\":\"#2a3f5f\"}},\"ternary\":{\"aaxis\":{\"gridcolor\":\"white\",\"linecolor\":\"white\",\"ticks\":\"\"},\"baxis\":{\"gridcolor\":\"white\",\"linecolor\":\"white\",\"ticks\":\"\"},\"bgcolor\":\"#E5ECF6\",\"caxis\":{\"gridcolor\":\"white\",\"linecolor\":\"white\",\"ticks\":\"\"}},\"title\":{\"x\":0.05},\"xaxis\":{\"automargin\":true,\"gridcolor\":\"white\",\"linecolor\":\"white\",\"ticks\":\"\",\"title\":{\"standoff\":15},\"zerolinecolor\":\"white\",\"zerolinewidth\":2},\"yaxis\":{\"automargin\":true,\"gridcolor\":\"white\",\"linecolor\":\"white\",\"ticks\":\"\",\"title\":{\"standoff\":15},\"zerolinecolor\":\"white\",\"zerolinewidth\":2}}}},                        {\"responsive\": true}                    ).then(function(){\n",
       "                            \n",
       "var gd = document.getElementById('ad4d914e-4159-4ce3-9582-1bc8b25f4402');\n",
       "var x = new MutationObserver(function (mutations, observer) {{\n",
       "        var display = window.getComputedStyle(gd).display;\n",
       "        if (!display || display === 'none') {{\n",
       "            console.log([gd, 'removed!']);\n",
       "            Plotly.purge(gd);\n",
       "            observer.disconnect();\n",
       "        }}\n",
       "}});\n",
       "\n",
       "// Listen for the removal of the full notebook cells\n",
       "var notebookContainer = gd.closest('#notebook-container');\n",
       "if (notebookContainer) {{\n",
       "    x.observe(notebookContainer, {childList: true});\n",
       "}}\n",
       "\n",
       "// Listen for the clearing of the current output cell\n",
       "var outputEl = gd.closest('.output');\n",
       "if (outputEl) {{\n",
       "    x.observe(outputEl, {childList: true});\n",
       "}}\n",
       "\n",
       "                        })                };                });            </script>        </div>"
      ]
     },
     "metadata": {},
     "output_type": "display_data"
    }
   ],
   "source": [
    "fig = go.Figure(data=[\n",
    "    go.Bar(name='2021', x=movies_df.Genre, y=movies_df.Rating),\n",
    "    go.Bar(name='2020', x=movies_df.Genre, y=movies_df.Rating)\n",
    "])\n",
    "# Change the bar mode\n",
    "fig.update_layout(barmode='stack')\n",
    "fig.show()"
   ]
  },
  {
   "cell_type": "code",
   "execution_count": 292,
   "id": "00f30cbb",
   "metadata": {},
   "outputs": [
    {
     "data": {
      "text/html": [
       "<div>\n",
       "<style scoped>\n",
       "    .dataframe tbody tr th:only-of-type {\n",
       "        vertical-align: middle;\n",
       "    }\n",
       "\n",
       "    .dataframe tbody tr th {\n",
       "        vertical-align: top;\n",
       "    }\n",
       "\n",
       "    .dataframe thead th {\n",
       "        text-align: right;\n",
       "    }\n",
       "</style>\n",
       "<table border=\"1\" class=\"dataframe\">\n",
       "  <thead>\n",
       "    <tr style=\"text-align: right;\">\n",
       "      <th></th>\n",
       "      <th>Name</th>\n",
       "      <th>Rating</th>\n",
       "      <th>Genre</th>\n",
       "      <th>Release date</th>\n",
       "      <th>Runtime</th>\n",
       "      <th>Director</th>\n",
       "      <th>Budget ($)</th>\n",
       "      <th>Revenue ($)</th>\n",
       "      <th>Url</th>\n",
       "    </tr>\n",
       "  </thead>\n",
       "  <tbody>\n",
       "    <tr>\n",
       "      <th>0</th>\n",
       "      <td>Shang-Chi and the Legend of the Ten Rings</td>\n",
       "      <td>79.0</td>\n",
       "      <td>Action,Adventure,Fantasy</td>\n",
       "      <td>09/03/2021 (IN)</td>\n",
       "      <td>2h 12m</td>\n",
       "      <td>Destin Daniel Cretton</td>\n",
       "      <td>150,000,000.00</td>\n",
       "      <td>430,238,384.00</td>\n",
       "      <td>https://www.themoviedb.org//movie/566525</td>\n",
       "    </tr>\n",
       "    <tr>\n",
       "      <th>1</th>\n",
       "      <td>Snake Eyes: G.I. Joe Origins</td>\n",
       "      <td>68.0</td>\n",
       "      <td>Action,Adventure</td>\n",
       "      <td>07/23/2021 (US)</td>\n",
       "      <td>2h 1m</td>\n",
       "      <td>Evan Spiliotopoulos</td>\n",
       "      <td>88,000,000.00</td>\n",
       "      <td>36,964,325.00</td>\n",
       "      <td>https://www.themoviedb.org//movie/568620</td>\n",
       "    </tr>\n",
       "    <tr>\n",
       "      <th>2</th>\n",
       "      <td>Jungle Cruise</td>\n",
       "      <td>77.0</td>\n",
       "      <td>Adventure,Fantasy,Comedy,Action</td>\n",
       "      <td>09/24/2021 (IN)</td>\n",
       "      <td>2h 7m</td>\n",
       "      <td>Jaume Collet-Serra</td>\n",
       "      <td>200,000,000.00</td>\n",
       "      <td>213,644,366.00</td>\n",
       "      <td>https://www.themoviedb.org//movie/451048</td>\n",
       "    </tr>\n",
       "    <tr>\n",
       "      <th>3</th>\n",
       "      <td>Separation</td>\n",
       "      <td>59.0</td>\n",
       "      <td>Horror</td>\n",
       "      <td>04/30/2021 (US)</td>\n",
       "      <td>1h 47m</td>\n",
       "      <td>William Brent Bell</td>\n",
       "      <td>-</td>\n",
       "      <td>-</td>\n",
       "      <td>https://www.themoviedb.org//movie/760195</td>\n",
       "    </tr>\n",
       "    <tr>\n",
       "      <th>4</th>\n",
       "      <td>Demonic</td>\n",
       "      <td>49.0</td>\n",
       "      <td>Horror,Thriller</td>\n",
       "      <td>08/20/2021 (US)</td>\n",
       "      <td>1h 44m</td>\n",
       "      <td>Neill Blomkamp</td>\n",
       "      <td>-</td>\n",
       "      <td>-</td>\n",
       "      <td>https://www.themoviedb.org//movie/774021</td>\n",
       "    </tr>\n",
       "    <tr>\n",
       "      <th>...</th>\n",
       "      <td>...</td>\n",
       "      <td>...</td>\n",
       "      <td>...</td>\n",
       "      <td>...</td>\n",
       "      <td>...</td>\n",
       "      <td>...</td>\n",
       "      <td>...</td>\n",
       "      <td>...</td>\n",
       "      <td>...</td>\n",
       "    </tr>\n",
       "    <tr>\n",
       "      <th>145</th>\n",
       "      <td>Superman</td>\n",
       "      <td>71.0</td>\n",
       "      <td>Science Fiction,Action,Adventure</td>\n",
       "      <td>12/14/1978 (US)</td>\n",
       "      <td>2h 23m</td>\n",
       "      <td>Mario Puzo</td>\n",
       "      <td>55,000,000.00</td>\n",
       "      <td>300,218,018.00</td>\n",
       "      <td>https://www.themoviedb.org//movie/1924</td>\n",
       "    </tr>\n",
       "    <tr>\n",
       "      <th>146</th>\n",
       "      <td>Step Up Revolution</td>\n",
       "      <td>69.0</td>\n",
       "      <td>Music,Drama,Romance</td>\n",
       "      <td>07/27/2012 (US)</td>\n",
       "      <td>1h 39m</td>\n",
       "      <td>Scott Speer</td>\n",
       "      <td>33,000,000.00</td>\n",
       "      <td>140,470,746.00</td>\n",
       "      <td>https://www.themoviedb.org//movie/85446</td>\n",
       "    </tr>\n",
       "    <tr>\n",
       "      <th>147</th>\n",
       "      <td>[REC]³ Genesis</td>\n",
       "      <td>52.0</td>\n",
       "      <td>Horror</td>\n",
       "      <td>09/07/2012 (US)</td>\n",
       "      <td>1h 20m</td>\n",
       "      <td>Paco Plaza</td>\n",
       "      <td>Language</td>\n",
       "      <td>6,400,000.00</td>\n",
       "      <td>https://www.themoviedb.org//movie/80280</td>\n",
       "    </tr>\n",
       "    <tr>\n",
       "      <th>148</th>\n",
       "      <td>Mad Max Beyond Thunderdome</td>\n",
       "      <td>62.0</td>\n",
       "      <td>Action,Adventure,Science Fiction</td>\n",
       "      <td>07/08/1985 (US)</td>\n",
       "      <td>1h 47m</td>\n",
       "      <td>George Miller</td>\n",
       "      <td>10,000,000.00</td>\n",
       "      <td>36,230,219.00</td>\n",
       "      <td>https://www.themoviedb.org//movie/9355</td>\n",
       "    </tr>\n",
       "    <tr>\n",
       "      <th>149</th>\n",
       "      <td>Cats &amp; Dogs: The Revenge of Kitty Galore</td>\n",
       "      <td>52.0</td>\n",
       "      <td>Comedy,Family,Action,Fantasy,Adventure,Mystery</td>\n",
       "      <td>07/30/2010 (US)</td>\n",
       "      <td>1h 22m</td>\n",
       "      <td>Brad Peyton</td>\n",
       "      <td>85,000,000.00</td>\n",
       "      <td>112,483,764.00</td>\n",
       "      <td>https://www.themoviedb.org//movie/39691</td>\n",
       "    </tr>\n",
       "  </tbody>\n",
       "</table>\n",
       "<p>150 rows × 9 columns</p>\n",
       "</div>"
      ],
      "text/plain": [
       "                                          Name  Rating  \\\n",
       "0    Shang-Chi and the Legend of the Ten Rings    79.0   \n",
       "1                 Snake Eyes: G.I. Joe Origins    68.0   \n",
       "2                                Jungle Cruise    77.0   \n",
       "3                                   Separation    59.0   \n",
       "4                                      Demonic    49.0   \n",
       "..                                         ...     ...   \n",
       "145                                   Superman    71.0   \n",
       "146                         Step Up Revolution    69.0   \n",
       "147                             [REC]³ Genesis    52.0   \n",
       "148                 Mad Max Beyond Thunderdome    62.0   \n",
       "149   Cats & Dogs: The Revenge of Kitty Galore    52.0   \n",
       "\n",
       "                                              Genre     Release date Runtime  \\\n",
       "0                          Action,Adventure,Fantasy  09/03/2021 (IN)  2h 12m   \n",
       "1                                  Action,Adventure  07/23/2021 (US)   2h 1m   \n",
       "2                   Adventure,Fantasy,Comedy,Action  09/24/2021 (IN)   2h 7m   \n",
       "3                                            Horror  04/30/2021 (US)  1h 47m   \n",
       "4                                   Horror,Thriller  08/20/2021 (US)  1h 44m   \n",
       "..                                              ...              ...     ...   \n",
       "145                Science Fiction,Action,Adventure  12/14/1978 (US)  2h 23m   \n",
       "146                             Music,Drama,Romance  07/27/2012 (US)  1h 39m   \n",
       "147                                          Horror  09/07/2012 (US)  1h 20m   \n",
       "148                Action,Adventure,Science Fiction  07/08/1985 (US)  1h 47m   \n",
       "149  Comedy,Family,Action,Fantasy,Adventure,Mystery  07/30/2010 (US)  1h 22m   \n",
       "\n",
       "                  Director      Budget ($)    Revenue ($)   \\\n",
       "0    Destin Daniel Cretton  150,000,000.00  430,238,384.00   \n",
       "1      Evan Spiliotopoulos   88,000,000.00   36,964,325.00   \n",
       "2       Jaume Collet-Serra  200,000,000.00  213,644,366.00   \n",
       "3       William Brent Bell               -               -   \n",
       "4           Neill Blomkamp               -               -   \n",
       "..                     ...             ...             ...   \n",
       "145             Mario Puzo   55,000,000.00  300,218,018.00   \n",
       "146            Scott Speer   33,000,000.00  140,470,746.00   \n",
       "147             Paco Plaza        Language    6,400,000.00   \n",
       "148          George Miller   10,000,000.00   36,230,219.00   \n",
       "149            Brad Peyton   85,000,000.00  112,483,764.00   \n",
       "\n",
       "                                          Url  \n",
       "0    https://www.themoviedb.org//movie/566525  \n",
       "1    https://www.themoviedb.org//movie/568620  \n",
       "2    https://www.themoviedb.org//movie/451048  \n",
       "3    https://www.themoviedb.org//movie/760195  \n",
       "4    https://www.themoviedb.org//movie/774021  \n",
       "..                                        ...  \n",
       "145    https://www.themoviedb.org//movie/1924  \n",
       "146   https://www.themoviedb.org//movie/85446  \n",
       "147   https://www.themoviedb.org//movie/80280  \n",
       "148    https://www.themoviedb.org//movie/9355  \n",
       "149   https://www.themoviedb.org//movie/39691  \n",
       "\n",
       "[150 rows x 9 columns]"
      ]
     },
     "execution_count": 292,
     "metadata": {},
     "output_type": "execute_result"
    }
   ],
   "source": [
    "movie_df_copy = movies_df\n",
    "movie_df_copy['Budget ($)'] = movie_df_copy['Budget ($)'].str.replace('$','')\n",
    "movie_df_copy['Revenue ($) '] = movie_df_copy['Revenue ($) '].str.replace('$','')\n",
    "movie_df_copy"
   ]
  },
  {
   "cell_type": "code",
   "execution_count": null,
   "id": "469e048a",
   "metadata": {},
   "outputs": [],
   "source": []
  }
 ],
 "metadata": {
  "kernelspec": {
   "display_name": "Python 3 (ipykernel)",
   "language": "python",
   "name": "python3"
  },
  "language_info": {
   "codemirror_mode": {
    "name": "ipython",
    "version": 3
   },
   "file_extension": ".py",
   "mimetype": "text/x-python",
   "name": "python",
   "nbconvert_exporter": "python",
   "pygments_lexer": "ipython3",
   "version": "3.7.0"
  }
 },
 "nbformat": 4,
 "nbformat_minor": 5
}
